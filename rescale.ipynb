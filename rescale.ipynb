{
 "cells": [
  {
   "cell_type": "code",
   "execution_count": 1,
   "metadata": {},
   "outputs": [],
   "source": [
    "import os\n",
    "import torch\n",
    "import numpy as np\n",
    "import matplotlib.pyplot as plt\n",
    "%matplotlib inline\n",
    "import h5py\n",
    "from tqdm.notebook import tqdm\n",
    "import torchcde\n",
    "from scipy.signal import find_peaks\n",
    "import MulensModel as mm\n",
    "import corner\n",
    "\n",
    "torch.random.manual_seed(42)\n",
    "np.random.seed(42)\n",
    "plt.rcParams[\"font.family\"] = \"serif\"\n",
    "plt.rcParams['mathtext.fontset'] = 'cm'\n",
    "plt.rcParams['mathtext.rm'] = 'serif'"
   ]
  },
  {
   "cell_type": "code",
   "execution_count": 2,
   "metadata": {},
   "outputs": [
    {
     "name": "stdout",
     "output_type": "stream",
     "text": [
      "Shape of Y:  torch.Size([99677, 6])\n",
      "normalized X mean: -1.1799484138211669\n",
      "X std: 1.0505892613255765\n"
     ]
    }
   ],
   "source": [
    "with h5py.File('/work/hmzhao/irregular-lc/KMT-test.h5', mode='r') as dataset_file:\n",
    "    Y = torch.tensor(dataset_file['Y'][...])\n",
    "    X = torch.tensor(dataset_file['X'][...])\n",
    "\n",
    "# filter nan\n",
    "nanind = torch.where(~torch.isnan(X[:, 0, 1]))[0]\n",
    "Y = Y[nanind]\n",
    "X = X[nanind]\n",
    "nanind = torch.where(Y[:, 2]>0)[0]\n",
    "Y = Y[nanind]\n",
    "X = X[nanind]\n",
    "nanind = torch.where(Y[:, 2]<1)[0]\n",
    "Y = Y[nanind]\n",
    "X = X[nanind]\n",
    "\n",
    "Y[:, 3:6] = torch.log10(Y[:, 3:6])\n",
    "Y[:, -1] = torch.log10(Y[:, -1])\n",
    "Y[:, 6] = Y[:, 6] / 180\n",
    "Y = Y[:, 2:]\n",
    "print('Shape of Y: ', Y.shape)\n",
    "\n",
    "X[:, :, 1] = (X[:, :, 1] - 14.5 - 2.5 * Y[:, [-1]]) / 0.2\n",
    "print(f'normalized X mean: {torch.mean(X[:, :, 1])}\\nX std: {torch.mean(torch.std(X[:, :, 1], axis=0))}')\n",
    "\n",
    "X = X[:, :, :2]\n",
    "    \n",
    "# CDE interpolation with log_sig\n",
    "depth = 3; window_length = 5\n",
    "logsig = torchcde.logsig_windows(X, depth, window_length=window_length)\n",
    "coeffs = torchcde.hermite_cubic_coefficients_with_backward_differences(logsig)"
   ]
  },
  {
   "cell_type": "code",
   "execution_count": 3,
   "metadata": {},
   "outputs": [
    {
     "data": {
      "text/plain": [
       "CDE_MDN(\n",
       "  (cde_func): CDEFunc(\n",
       "    (linear1): Linear(in_features=32, out_features=1024, bias=True)\n",
       "    (relu1): PReLU(num_parameters=1)\n",
       "    (resblocks): Sequential(\n",
       "      (0): ResBlock(\n",
       "        (linear1): Linear(in_features=1024, out_features=1024, bias=True)\n",
       "        (nonlinear1): PReLU(num_parameters=1)\n",
       "        (linear2): Linear(in_features=1024, out_features=1024, bias=True)\n",
       "      )\n",
       "      (1): ResBlock(\n",
       "        (linear1): Linear(in_features=1024, out_features=1024, bias=True)\n",
       "        (nonlinear1): PReLU(num_parameters=1)\n",
       "        (linear2): Linear(in_features=1024, out_features=1024, bias=True)\n",
       "      )\n",
       "      (2): ResBlock(\n",
       "        (linear1): Linear(in_features=1024, out_features=1024, bias=True)\n",
       "        (nonlinear1): PReLU(num_parameters=1)\n",
       "        (linear2): Linear(in_features=1024, out_features=1024, bias=True)\n",
       "      )\n",
       "    )\n",
       "    (relu2): PReLU(num_parameters=1)\n",
       "    (linear2): Linear(in_features=1024, out_features=160, bias=True)\n",
       "    (tanh): Tanh()\n",
       "    (linear3): Linear(in_features=160, out_features=160, bias=True)\n",
       "  )\n",
       "  (initial): Sequential(\n",
       "    (0): Sequential(\n",
       "      (0): Linear(in_features=5, out_features=1024, bias=True)\n",
       "      (1): ReLU()\n",
       "      (2): Linear(in_features=1024, out_features=1024, bias=True)\n",
       "    )\n",
       "    (1): ResBlock(\n",
       "      (linear1): Linear(in_features=1024, out_features=1024, bias=True)\n",
       "      (nonlinear1): ReLU()\n",
       "      (linear2): Linear(in_features=1024, out_features=1024, bias=True)\n",
       "    )\n",
       "    (2): ResBlock(\n",
       "      (linear1): Linear(in_features=1024, out_features=1024, bias=True)\n",
       "      (nonlinear1): ReLU()\n",
       "      (linear2): Linear(in_features=1024, out_features=1024, bias=True)\n",
       "    )\n",
       "    (3): ResBlock(\n",
       "      (linear1): Linear(in_features=1024, out_features=1024, bias=True)\n",
       "      (nonlinear1): ReLU()\n",
       "      (linear2): Linear(in_features=1024, out_features=1024, bias=True)\n",
       "    )\n",
       "    (4): Sequential(\n",
       "      (0): Linear(in_features=1024, out_features=1024, bias=True)\n",
       "      (1): ReLU()\n",
       "      (2): Linear(in_features=1024, out_features=32, bias=True)\n",
       "    )\n",
       "  )\n",
       "  (readout): Sequential(\n",
       "    (0): Sequential(\n",
       "      (0): Linear(in_features=32, out_features=1024, bias=True)\n",
       "      (1): ReLU()\n",
       "      (2): Linear(in_features=1024, out_features=1024, bias=True)\n",
       "    )\n",
       "    (1): ResBlock(\n",
       "      (linear1): Linear(in_features=1024, out_features=1024, bias=True)\n",
       "      (nonlinear1): ReLU()\n",
       "      (linear2): Linear(in_features=1024, out_features=1024, bias=True)\n",
       "    )\n",
       "    (2): ResBlock(\n",
       "      (linear1): Linear(in_features=1024, out_features=1024, bias=True)\n",
       "      (nonlinear1): ReLU()\n",
       "      (linear2): Linear(in_features=1024, out_features=1024, bias=True)\n",
       "    )\n",
       "    (3): ResBlock(\n",
       "      (linear1): Linear(in_features=1024, out_features=1024, bias=True)\n",
       "      (nonlinear1): ReLU()\n",
       "      (linear2): Linear(in_features=1024, out_features=1024, bias=True)\n",
       "    )\n",
       "    (4): Linear(in_features=1024, out_features=1024, bias=True)\n",
       "  )\n",
       "  (mdn): MixtureDensityNetwork(\n",
       "    (pi_network): CategoricalNetwork(\n",
       "      (network): Sequential(\n",
       "        (0): Linear(in_features=1024, out_features=1024, bias=True)\n",
       "        (1): ELU(alpha=1.0)\n",
       "        (2): Linear(in_features=1024, out_features=12, bias=True)\n",
       "      )\n",
       "    )\n",
       "    (normal_network): MixtureDiagNormalNetwork(\n",
       "      (network): Sequential(\n",
       "        (0): Linear(in_features=1024, out_features=1024, bias=True)\n",
       "        (1): ELU(alpha=1.0)\n",
       "        (2): Linear(in_features=1024, out_features=144, bias=True)\n",
       "      )\n",
       "    )\n",
       "  )\n",
       ")"
      ]
     },
     "execution_count": 3,
     "metadata": {},
     "output_type": "execute_result"
    }
   ],
   "source": [
    "from model.cde_mdn import CDE_MDN\n",
    "\n",
    "device = torch.device(\"cuda:7\" if torch.cuda.is_available() else \"cpu\")\n",
    "\n",
    "checkpt = torch.load('/work/hmzhao/experiments/cde_mdn/experiment_3.ckpt', map_location='cpu')\n",
    "ckpt_args = checkpt['args']\n",
    "state_dict = checkpt['state_dict']\n",
    "\n",
    "output_dim = Y.shape[-1]\n",
    "input_dim = logsig.shape[-1]\n",
    "latent_dim = ckpt_args.latents\n",
    "\n",
    "model = CDE_MDN(input_dim, latent_dim, output_dim).to(device)\n",
    "model_dict = model.state_dict()\n",
    "\n",
    "# 1. filter out unnecessary keys\n",
    "state_dict = {k: v for k, v in state_dict.items() if k in model_dict}\n",
    "# 2. overwrite entries in the existing state dict\n",
    "model_dict.update(state_dict) \n",
    "# 3. load the new state dict\n",
    "model.load_state_dict(state_dict)\n",
    "model.to(device)"
   ]
  },
  {
   "cell_type": "code",
   "execution_count": 4,
   "metadata": {},
   "outputs": [],
   "source": [
    "def inference(model, total_size, batch_size, coeffs):\n",
    "    num = total_size\n",
    "    batchsize = batch_size\n",
    "    n_gaussian = model.n_gaussian\n",
    "    pis = torch.zeros((num, n_gaussian))\n",
    "    locs = torch.zeros((num, n_gaussian, output_dim))\n",
    "    scales = torch.zeros((num, n_gaussian, output_dim))\n",
    "    model.eval()\n",
    "    with torch.no_grad():\n",
    "        for i in tqdm(range(int(np.ceil(num / batchsize)))):\n",
    "            batch = coeffs[i*batchsize:min(i*batchsize+batchsize, num)].float().to(device)\n",
    "            pi, normal = model(batch)\n",
    "            pis[i*batchsize:min(i*batchsize+batchsize, num)] = pi.probs.detach().cpu()\n",
    "            locs[i*batchsize:min(i*batchsize+batchsize, num)] = normal.loc.detach().cpu()\n",
    "            scales[i*batchsize:min(i*batchsize+batchsize, num)] = normal.scale.detach().cpu()\n",
    "    return pis, locs, scales\n",
    "\n",
    "def get_loglik(pi, loc, scale, x, margin_dim, exp=False):\n",
    "    shape = x.shape\n",
    "    loc = loc[..., margin_dim]\n",
    "    scale = scale[..., margin_dim]\n",
    "    normal = torch.distributions.Normal(loc, scale)\n",
    "    x = x.reshape(-1, loc.shape[0], 1).tile(1, loc.shape[-1])\n",
    "    loglik = normal.log_prob(x).reshape(*shape[:-1], -1)\n",
    "    loglik = torch.logsumexp(torch.log(pi) + loglik, dim=-1)\n",
    "    if exp:\n",
    "        return torch.exp(loglik)\n",
    "    return loglik\n",
    "\n",
    "def get_peak_pred(pis, locs, scales, n_step=1000, verbose=False):\n",
    "    num = len(pis); output_dim = locs.shape[-1]\n",
    "    pred_global = torch.zeros((num, output_dim))\n",
    "    pred_global_loglik = torch.zeros((num, output_dim))\n",
    "    pred_close = torch.zeros((num, output_dim))\n",
    "    pred_close_loglik = torch.zeros((num, output_dim))\n",
    "    grid = [torch.linspace(0, 1, n_step),\n",
    "            torch.linspace(-4, -2, n_step),\n",
    "            torch.linspace(-4, 0, n_step),\n",
    "            torch.linspace(-0.6, 0.6, n_step),\n",
    "            torch.linspace(0, 2, n_step),\n",
    "            torch.linspace(-1, 0, n_step)]\n",
    "    for dim in tqdm(range(output_dim)):\n",
    "        param_list = grid[dim].reshape(-1, 1, 1).tile(1, num, 1) \n",
    "        loglik = get_loglik(pis, locs, scales, param_list, margin_dim=dim, exp=False).transpose(1, 0)\n",
    "        for i in tqdm(range(num)):\n",
    "            peaks = find_peaks(loglik[i])[0]\n",
    "            if len(peaks) == 0:\n",
    "                pred_global[i, dim] = grid[dim][torch.argmax(loglik[i])]\n",
    "                pred_close[i, dim] = grid[dim][torch.argmax(loglik[i])]\n",
    "                pred_global_loglik[i, dim] = torch.max(loglik[i])\n",
    "                pred_close_loglik[i, dim] = torch.max(loglik[i])\n",
    "                if verbose:\n",
    "                    print('no peak found, use maximum instead')\n",
    "                    plt.plot(grid[dim], loglik[i])\n",
    "                    plt.vlines(Y[i, dim], 0, 10, color='red')\n",
    "                    plt.vlines(grid[dim][torch.argmax(loglik[i])], 0, 10, color='blue')\n",
    "                    print(Y[i, dim])\n",
    "                    plt.show()\n",
    "            else:\n",
    "                order = torch.argsort(loglik[i, peaks], descending=True)\n",
    "                global_peak = grid[dim][peaks[order[0]]]\n",
    "                close_peak = grid[dim][peaks][torch.argmin((grid[dim][peaks] - Y[i, dim])**2)]\n",
    "                pred_global[i, dim] = global_peak\n",
    "                pred_close[i, dim] = close_peak\n",
    "                pred_global_loglik[i, dim] = loglik[i][peaks[order[0]]]\n",
    "                pred_close_loglik[i, dim] = loglik[i][peaks][torch.argmin((grid[dim][peaks] - Y[i, dim])**2)]\n",
    "    return pred_global, pred_global_loglik, pred_close, pred_close_loglik\n",
    "\n",
    "def simulate_lc(t_0, t_E, u_0, lgrho, lgq, lgs, alpha_180, lgfs, relative_uncertainty=0, n_points=1000, orig=False):\n",
    "    fs = 10**lgfs\n",
    "    parameters = {\n",
    "            't_0': t_0,\n",
    "            't_E': t_E,\n",
    "            'u_0': u_0,\n",
    "            'rho': 10**lgrho, \n",
    "            'q': 10**lgq, \n",
    "            's': 10**lgs, \n",
    "            'alpha': alpha_180*180,\n",
    "        }\n",
    "    modelmm = mm.Model(parameters, coords=None)\n",
    "    times = modelmm.set_times(t_start=parameters['t_0']-2*parameters['t_E'], t_stop=parameters['t_0']+2*parameters['t_E'], n_epochs=n_points)\n",
    "    modelmm.set_magnification_methods([parameters['t_0']-2*parameters['t_E'], 'VBBL', parameters['t_0']+2*parameters['t_E']])\n",
    "    magnification = modelmm.get_magnification(times)\n",
    "    flux = 1000 * (magnification + (1-fs)/fs)\n",
    "    flux *= 1 + relative_uncertainty * np.random.randn(len(flux))\n",
    "    if orig:\n",
    "        mag = (22 - 2.5 * np.log10(flux) - 14.5 - 2.5*np.log10(fs))\n",
    "    else:\n",
    "        mag = (22 - 2.5 * np.log10(flux) - 14.5 - 2.5*np.log10(fs)) / 0.2\n",
    "    lc = np.stack([times, mag], axis=-1)\n",
    "    return lc"
   ]
  },
  {
   "cell_type": "code",
   "execution_count": 6,
   "metadata": {},
   "outputs": [],
   "source": [
    "size = 4096"
   ]
  },
  {
   "cell_type": "code",
   "execution_count": 7,
   "metadata": {},
   "outputs": [
    {
     "data": {
      "application/vnd.jupyter.widget-view+json": {
       "model_id": "39c86e5f6db843b89caf938e57ec0105",
       "version_major": 2,
       "version_minor": 0
      },
      "text/plain": [
       "  0%|          | 0/1 [00:00<?, ?it/s]"
      ]
     },
     "metadata": {},
     "output_type": "display_data"
    }
   ],
   "source": [
    "pis, locs, scales = inference(model, size, 4096, coeffs)"
   ]
  },
  {
   "cell_type": "code",
   "execution_count": 8,
   "metadata": {},
   "outputs": [
    {
     "data": {
      "application/vnd.jupyter.widget-view+json": {
       "model_id": "8b2eacec03f14b25bfb910c79d1d8d0e",
       "version_major": 2,
       "version_minor": 0
      },
      "text/plain": [
       "  0%|          | 0/6 [00:00<?, ?it/s]"
      ]
     },
     "metadata": {},
     "output_type": "display_data"
    },
    {
     "data": {
      "application/vnd.jupyter.widget-view+json": {
       "model_id": "9800c88d5fb042efb4e3df0c0fb52ed1",
       "version_major": 2,
       "version_minor": 0
      },
      "text/plain": [
       "  0%|          | 0/4096 [00:00<?, ?it/s]"
      ]
     },
     "metadata": {},
     "output_type": "display_data"
    },
    {
     "data": {
      "application/vnd.jupyter.widget-view+json": {
       "model_id": "b190003c9afb48109ae53685115f41ea",
       "version_major": 2,
       "version_minor": 0
      },
      "text/plain": [
       "  0%|          | 0/4096 [00:00<?, ?it/s]"
      ]
     },
     "metadata": {},
     "output_type": "display_data"
    },
    {
     "data": {
      "application/vnd.jupyter.widget-view+json": {
       "model_id": "1deea2101c2f4b10b6b8f0566f7b6822",
       "version_major": 2,
       "version_minor": 0
      },
      "text/plain": [
       "  0%|          | 0/4096 [00:00<?, ?it/s]"
      ]
     },
     "metadata": {},
     "output_type": "display_data"
    },
    {
     "data": {
      "application/vnd.jupyter.widget-view+json": {
       "model_id": "e836bacf62b345d4a29d6356c311833a",
       "version_major": 2,
       "version_minor": 0
      },
      "text/plain": [
       "  0%|          | 0/4096 [00:00<?, ?it/s]"
      ]
     },
     "metadata": {},
     "output_type": "display_data"
    },
    {
     "data": {
      "application/vnd.jupyter.widget-view+json": {
       "model_id": "ad0a253c766a41958cfc1062d0464145",
       "version_major": 2,
       "version_minor": 0
      },
      "text/plain": [
       "  0%|          | 0/4096 [00:00<?, ?it/s]"
      ]
     },
     "metadata": {},
     "output_type": "display_data"
    },
    {
     "data": {
      "application/vnd.jupyter.widget-view+json": {
       "model_id": "affeaefa08ce41a09c4ff2b8e3436fab",
       "version_major": 2,
       "version_minor": 0
      },
      "text/plain": [
       "  0%|          | 0/4096 [00:00<?, ?it/s]"
      ]
     },
     "metadata": {},
     "output_type": "display_data"
    }
   ],
   "source": [
    "pred = get_peak_pred(pis, locs, scales)"
   ]
  },
  {
   "cell_type": "code",
   "execution_count": 9,
   "metadata": {},
   "outputs": [
    {
     "data": {
      "application/vnd.jupyter.widget-view+json": {
       "model_id": "130a2eeeb6ca4c16b49ac1b28939f0ef",
       "version_major": 2,
       "version_minor": 0
      },
      "text/plain": [
       "  0%|          | 0/4096 [00:00<?, ?it/s]"
      ]
     },
     "metadata": {},
     "output_type": "display_data"
    }
   ],
   "source": [
    "dchi2s = np.zeros((size, ))\n",
    "dparams = np.zeros((size, output_dim))\n",
    "dparams = Y[:size] - pred[2][:size]\n",
    "for i in tqdm(range(size)):\n",
    "    lc_true = simulate_lc(0, 1, *Y[i].tolist(), orig=True)\n",
    "    lc_pred = simulate_lc(0, 1, *pred[2][i].tolist(), orig=True)\n",
    "    dchi2 = np.mean((lc_true - lc_pred)**2)\n",
    "    dchi2s[i] = dchi2"
   ]
  },
  {
   "cell_type": "code",
   "execution_count": 17,
   "metadata": {},
   "outputs": [
    {
     "data": {
      "image/png": "[encoded data removed]",
      "text/plain": [
       "<Figure size 432x288 with 1 Axes>"
      ]
     },
     "metadata": {
      "needs_background": "light"
     },
     "output_type": "display_data"
    }
   ],
   "source": [
    "# plt.scatter(dparams[:, 2], dchi2s, label='dlgq-dchi2')\n",
    "# plt.scatter(dparams[:, 3], dchi2s, label='dlgs-dchi2')\n",
    "# plt.scatter(dparams[:, 5], dchi2s, label='dlgfs-dchi2')\n",
    "plt.scatter(dparams[:, 0], dchi2s, label='du0-dchi2')\n",
    "plt.legend()\n",
    "plt.show()"
   ]
  },
  {
   "cell_type": "code",
   "execution_count": null,
   "metadata": {},
   "outputs": [],
   "source": []
  }
 ],
 "metadata": {
  "interpreter": {
   "hash": "274e8ed069bc503cc01fa1aa16068ccb03180744fbf761618fb0dbde6179c71c"
  },
  "kernelspec": {
   "display_name": "Python 3.9.7 ('ode-rnn')",
   "language": "python",
   "name": "python3"
  },
  "language_info": {
   "codemirror_mode": {
    "name": "ipython",
    "version": 3
   },
   "file_extension": ".py",
   "mimetype": "text/x-python",
   "name": "python",
   "nbconvert_exporter": "python",
   "pygments_lexer": "ipython3",
   "version": "3.9.7"
  },
  "orig_nbformat": 4
 },
 "nbformat": 4,
 "nbformat_minor": 2
}
