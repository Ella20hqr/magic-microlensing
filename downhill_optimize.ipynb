{
 "cells": [
  {
   "cell_type": "code",
   "execution_count": 1,
   "metadata": {},
   "outputs": [],
   "source": [
    "import numpy as np\n",
    "import matplotlib.pyplot as plt\n",
    "import pandas\n",
    "import VBBinaryLensing\n",
    "from scipy.optimize import minimize, fmin\n",
    "\n",
    "import os\n",
    "import torch\n",
    "import h5py\n",
    "from tqdm.notebook import tqdm\n",
    "import torchcde\n",
    "from scipy.signal import find_peaks\n",
    "import MulensModel as mm\n",
    "import corner\n",
    "from model.utils import inference, get_loglik, get_peak_pred, plot_params, simulate_lc\n",
    "from matplotlib.offsetbox import AnchoredText\n",
    "\n",
    "torch.random.manual_seed(42)\n",
    "np.random.seed(42)\n",
    "plt.rcParams[\"font.family\"] = \"serif\"\n",
    "plt.rcParams['mathtext.fontset'] = 'cm'\n",
    "plt.rcParams['mathtext.rm'] = 'serif'"
   ]
  },
  {
   "cell_type": "code",
   "execution_count": 2,
   "metadata": {},
   "outputs": [
    {
     "name": "stdout",
     "output_type": "stream",
     "text": [
      "Shape of Y:  torch.Size([100000, 5])\n",
      "normalized X mean: -1.1743464469848672\n",
      "X std: 1.046597228312195\n"
     ]
    }
   ],
   "source": [
    "with h5py.File('/work/hmzhao/irregular-lc/KMT-fixrho-test.h5', mode='r') as dataset_file:\n",
    "    Y = torch.tensor(dataset_file['Y'][...])\n",
    "    X = torch.tensor(dataset_file['X'][...])\n",
    "\n",
    "# filter nan\n",
    "nanind = torch.where(~torch.isnan(X[:, 0, 1]))[0]\n",
    "Y = Y[nanind]\n",
    "X = X[nanind]\n",
    "nanind = torch.where(Y[:, 2]>0)[0]\n",
    "Y = Y[nanind]\n",
    "X = X[nanind]\n",
    "nanind = torch.where(Y[:, 2]<1)[0]\n",
    "Y = Y[nanind]\n",
    "X = X[nanind]\n",
    "\n",
    "Y[:, 3:6] = torch.log10(Y[:, 3:6])\n",
    "Y[:, -1] = torch.log10(Y[:, -1])\n",
    "Y[:, 6] = Y[:, 6] / 180\n",
    "# Y = Y[:, 2:]\n",
    "Y = Y[:, [2, 4, 5, 6, 7]]\n",
    "print('Shape of Y: ', Y.shape)\n",
    "\n",
    "X[:, :, 1] = (X[:, :, 1] - 14.5 - 2.5 * Y[:, [-1]]) / 0.2\n",
    "print(f'normalized X mean: {torch.mean(X[:, :, 1])}\\nX std: {torch.mean(torch.std(X[:, :, 1], axis=0))}')\n",
    "\n",
    "X = X[:, :, :2]\n",
    "    \n",
    "# CDE interpolation with log_sig\n",
    "depth = 3; window_length = 5\n",
    "logsig = torchcde.logsig_windows(X, depth, window_length=window_length)\n",
    "coeffs = torchcde.hermite_cubic_coefficients_with_backward_differences(logsig)"
   ]
  },
  {
   "cell_type": "code",
   "execution_count": 3,
   "metadata": {},
   "outputs": [
    {
     "data": {
      "text/plain": [
       "CDE_MDN(\n",
       "  (cde_func): CDEFunc(\n",
       "    (linear1): Linear(in_features=32, out_features=1024, bias=True)\n",
       "    (relu1): PReLU(num_parameters=1)\n",
       "    (resblocks): Sequential(\n",
       "      (0): ResBlock(\n",
       "        (linear1): Linear(in_features=1024, out_features=1024, bias=True)\n",
       "        (nonlinear1): PReLU(num_parameters=1)\n",
       "        (linear2): Linear(in_features=1024, out_features=1024, bias=True)\n",
       "      )\n",
       "      (1): ResBlock(\n",
       "        (linear1): Linear(in_features=1024, out_features=1024, bias=True)\n",
       "        (nonlinear1): PReLU(num_parameters=1)\n",
       "        (linear2): Linear(in_features=1024, out_features=1024, bias=True)\n",
       "      )\n",
       "      (2): ResBlock(\n",
       "        (linear1): Linear(in_features=1024, out_features=1024, bias=True)\n",
       "        (nonlinear1): PReLU(num_parameters=1)\n",
       "        (linear2): Linear(in_features=1024, out_features=1024, bias=True)\n",
       "      )\n",
       "    )\n",
       "    (relu2): PReLU(num_parameters=1)\n",
       "    (linear2): Linear(in_features=1024, out_features=160, bias=True)\n",
       "    (tanh): Tanh()\n",
       "    (linear3): Linear(in_features=160, out_features=160, bias=True)\n",
       "  )\n",
       "  (initial): Sequential(\n",
       "    (0): Sequential(\n",
       "      (0): Linear(in_features=5, out_features=1024, bias=True)\n",
       "      (1): ReLU()\n",
       "      (2): Linear(in_features=1024, out_features=1024, bias=True)\n",
       "    )\n",
       "    (1): ResBlock(\n",
       "      (linear1): Linear(in_features=1024, out_features=1024, bias=True)\n",
       "      (nonlinear1): ReLU()\n",
       "      (linear2): Linear(in_features=1024, out_features=1024, bias=True)\n",
       "    )\n",
       "    (2): ResBlock(\n",
       "      (linear1): Linear(in_features=1024, out_features=1024, bias=True)\n",
       "      (nonlinear1): ReLU()\n",
       "      (linear2): Linear(in_features=1024, out_features=1024, bias=True)\n",
       "    )\n",
       "    (3): ResBlock(\n",
       "      (linear1): Linear(in_features=1024, out_features=1024, bias=True)\n",
       "      (nonlinear1): ReLU()\n",
       "      (linear2): Linear(in_features=1024, out_features=1024, bias=True)\n",
       "    )\n",
       "    (4): Sequential(\n",
       "      (0): Linear(in_features=1024, out_features=1024, bias=True)\n",
       "      (1): ReLU()\n",
       "      (2): Linear(in_features=1024, out_features=32, bias=True)\n",
       "    )\n",
       "  )\n",
       "  (readout): Sequential(\n",
       "    (0): Sequential(\n",
       "      (0): Linear(in_features=32, out_features=1024, bias=True)\n",
       "      (1): ReLU()\n",
       "      (2): Linear(in_features=1024, out_features=1024, bias=True)\n",
       "    )\n",
       "    (1): ResBlock(\n",
       "      (linear1): Linear(in_features=1024, out_features=1024, bias=True)\n",
       "      (nonlinear1): ReLU()\n",
       "      (linear2): Linear(in_features=1024, out_features=1024, bias=True)\n",
       "    )\n",
       "    (2): ResBlock(\n",
       "      (linear1): Linear(in_features=1024, out_features=1024, bias=True)\n",
       "      (nonlinear1): ReLU()\n",
       "      (linear2): Linear(in_features=1024, out_features=1024, bias=True)\n",
       "    )\n",
       "    (3): ResBlock(\n",
       "      (linear1): Linear(in_features=1024, out_features=1024, bias=True)\n",
       "      (nonlinear1): ReLU()\n",
       "      (linear2): Linear(in_features=1024, out_features=1024, bias=True)\n",
       "    )\n",
       "    (4): Linear(in_features=1024, out_features=1024, bias=True)\n",
       "  )\n",
       "  (mdn): MixtureDensityNetwork(\n",
       "    (pi_network): CategoricalNetwork(\n",
       "      (network): Sequential(\n",
       "        (0): Linear(in_features=1024, out_features=1024, bias=True)\n",
       "        (1): ELU(alpha=1.0)\n",
       "        (2): Linear(in_features=1024, out_features=12, bias=True)\n",
       "      )\n",
       "    )\n",
       "    (normal_network): MixtureDiagNormalNetwork(\n",
       "      (network): Sequential(\n",
       "        (0): Linear(in_features=1024, out_features=1024, bias=True)\n",
       "        (1): ELU(alpha=1.0)\n",
       "        (2): Linear(in_features=1024, out_features=120, bias=True)\n",
       "      )\n",
       "    )\n",
       "  )\n",
       ")"
      ]
     },
     "execution_count": 3,
     "metadata": {},
     "output_type": "execute_result"
    }
   ],
   "source": [
    "from model.cde_mdn import CDE_MDN\n",
    "\n",
    "device = torch.device(\"cuda:2\" if torch.cuda.is_available() else \"cpu\")\n",
    "\n",
    "checkpt = torch.load('/work/hmzhao/experiments/cde_mdn/experiment_l32nG12diag.ckpt', map_location='cpu')\n",
    "ckpt_args = checkpt['args']\n",
    "state_dict = checkpt['state_dict']\n",
    "\n",
    "output_dim = Y.shape[-1]\n",
    "input_dim = logsig.shape[-1]\n",
    "latent_dim = ckpt_args.latents\n",
    "\n",
    "model = CDE_MDN(input_dim, latent_dim, output_dim).to(device)\n",
    "# model = CDE_MDN(input_dim, latent_dim, output_dim, 32).to(device)\n",
    "model_dict = model.state_dict()\n",
    "\n",
    "# 1. filter out unnecessary keys\n",
    "state_dict = {k: v for k, v in state_dict.items() if k in model_dict}\n",
    "# 2. overwrite entries in the existing state dict\n",
    "model_dict.update(state_dict) \n",
    "# 3. load the new state dict\n",
    "model.load_state_dict(state_dict)\n",
    "model.to(device)"
   ]
  },
  {
   "cell_type": "code",
   "execution_count": 4,
   "metadata": {},
   "outputs": [],
   "source": [
    "size = 4096 * 4"
   ]
  },
  {
   "cell_type": "code",
   "execution_count": 5,
   "metadata": {},
   "outputs": [
    {
     "data": {
      "application/vnd.jupyter.widget-view+json": {
       "model_id": "ee4d78b3e7bb45de938071eef1ad447c",
       "version_major": 2,
       "version_minor": 0
      },
      "text/plain": [
       "  0%|          | 0/4 [00:00<?, ?it/s]"
      ]
     },
     "metadata": {},
     "output_type": "display_data"
    }
   ],
   "source": [
    "pis, locs, scales = inference(model, size, min(4096, size), coeffs, device, full_cov=False)"
   ]
  },
  {
   "cell_type": "code",
   "execution_count": 6,
   "metadata": {},
   "outputs": [
    {
     "data": {
      "application/vnd.jupyter.widget-view+json": {
       "model_id": "12a047e45fc642bcb846550ff341faa4",
       "version_major": 2,
       "version_minor": 0
      },
      "text/plain": [
       "  0%|          | 0/5 [00:00<?, ?it/s]"
      ]
     },
     "metadata": {},
     "output_type": "display_data"
    },
    {
     "data": {
      "application/vnd.jupyter.widget-view+json": {
       "model_id": "701c48ddf96a4ea693fe945d70afdc7c",
       "version_major": 2,
       "version_minor": 0
      },
      "text/plain": [
       "  0%|          | 0/16384 [00:00<?, ?it/s]"
      ]
     },
     "metadata": {},
     "output_type": "display_data"
    },
    {
     "data": {
      "application/vnd.jupyter.widget-view+json": {
       "model_id": "8893951368934bc88340dc52450a718b",
       "version_major": 2,
       "version_minor": 0
      },
      "text/plain": [
       "  0%|          | 0/16384 [00:00<?, ?it/s]"
      ]
     },
     "metadata": {},
     "output_type": "display_data"
    },
    {
     "data": {
      "application/vnd.jupyter.widget-view+json": {
       "model_id": "2313ecd6976c4eb59f694be4b65fd175",
       "version_major": 2,
       "version_minor": 0
      },
      "text/plain": [
       "  0%|          | 0/16384 [00:00<?, ?it/s]"
      ]
     },
     "metadata": {},
     "output_type": "display_data"
    },
    {
     "data": {
      "application/vnd.jupyter.widget-view+json": {
       "model_id": "ca4a54c9a10a43e49b6f76dcc62d5d51",
       "version_major": 2,
       "version_minor": 0
      },
      "text/plain": [
       "  0%|          | 0/16384 [00:00<?, ?it/s]"
      ]
     },
     "metadata": {},
     "output_type": "display_data"
    },
    {
     "data": {
      "application/vnd.jupyter.widget-view+json": {
       "model_id": "25f3893839d04e4b9a06437903e73526",
       "version_major": 2,
       "version_minor": 0
      },
      "text/plain": [
       "  0%|          | 0/16384 [00:00<?, ?it/s]"
      ]
     },
     "metadata": {},
     "output_type": "display_data"
    }
   ],
   "source": [
    "pred_global, pred_global_loglik, pred_close, pred_close_loglik = get_peak_pred(pis, locs, scales, Y, n_step=1000)"
   ]
  },
  {
   "cell_type": "code",
   "execution_count": 7,
   "metadata": {},
   "outputs": [],
   "source": [
    "def prepare_lc_mdn(X, pis, locs):\n",
    "    mag = X[:, :, 1] / 5 + 18\n",
    "    flux = 10 ** (0.4 * (18 - mag))\n",
    "    merr = torch.ones_like(mag) * 0.033\n",
    "    ferr = merr*flux*np.log(10)/2.5\n",
    "    # times, mag, flux, ferr\n",
    "    lc = torch.stack([X[:, :, 0], mag, flux, ferr], dim=-1)\n",
    "    first_indices = torch.arange(len(pis))[:, None]\n",
    "    order = torch.argsort(pis, dim=-1, descending=True)\n",
    "    pis = pis[first_indices, order]\n",
    "    locs = locs[first_indices, order]\n",
    "    return lc.numpy(), pis.numpy(), locs.numpy()"
   ]
  },
  {
   "cell_type": "code",
   "execution_count": 8,
   "metadata": {},
   "outputs": [],
   "source": [
    "lc, pis_sort, locs_sort = prepare_lc_mdn(X[:size], pis, locs)"
   ]
  },
  {
   "cell_type": "code",
   "execution_count": 9,
   "metadata": {},
   "outputs": [],
   "source": [
    "def get_fsfb(amp, flux, ferr):\n",
    "    sig2 = ferr**2\n",
    "    wght = flux/sig2\n",
    "    d = np.ones(2)\n",
    "    d[0] = np.sum(wght*amp)\n",
    "    d[1] = np.sum(wght)\n",
    "    b = np.zeros((2,2))\n",
    "    b[0,0] = np.sum(amp**2/sig2)\n",
    "    b[0,1] = np.sum(amp/sig2)\n",
    "    b[1,0] = b[0,1]\n",
    "    b[1,1] = np.sum(1./sig2)\n",
    "    c = np.linalg.inv(b)\n",
    "    fs = np.sum(c[0]*d)\n",
    "    fb = np.sum(c[1]*d)\n",
    "    fserr = np.sqrt(c[0,0])\n",
    "    fberr = np.sqrt(c[1,1])\n",
    "    fmod = fs*amp+fb\n",
    "    chi2 = np.sum((flux-fmod)**2/sig2)\n",
    "    return chi2,fs,fb,fserr,fberr\n",
    "\n",
    "def compute_model_lc(time_array, fitting_parameters, VBBL):\n",
    "    u0, lgq, lgs, ad180 = fitting_parameters\n",
    "    q, s = 10**lgq, 10**lgs\n",
    "    alpha = ad180 * np.pi # convert to radian\n",
    "    t0, te, rho = 0, 1, 1e-3\n",
    "    tau = (time_array-t0)/te\n",
    "    xs = tau*np.cos(alpha) - u0*np.sin(alpha)\n",
    "    ys = tau*np.sin(alpha) + u0*np.cos(alpha)\n",
    "    magnifications = np.array([VBBL.BinaryMag2(s, q, xs[i], ys[i], rho) for i in range(len(xs))])\n",
    "    return magnifications"
   ]
  },
  {
   "cell_type": "code",
   "execution_count": 55,
   "metadata": {},
   "outputs": [],
   "source": [
    "def perform_optimization(time, flux, ferr, para_initial, verbose=True):\n",
    "    VBBL = VBBinaryLensing.VBBinaryLensing()\n",
    "    \n",
    "    def compute_chisq(fitting_parameters, time, flux, ferr, VBBL, return_model=False):\n",
    "        magnifications = compute_model_lc(time, fitting_parameters, VBBL)\n",
    "        chi2, fs, fb, fserr, fberr = get_fsfb(magnifications, flux, ferr)\n",
    "        if return_model:\n",
    "            return chi2, fs, fb\n",
    "        return chi2\n",
    "\n",
    "    para_best, chi2_min, iter, funcalls, warnflag, allevcs = fmin(compute_chisq, para_initial, args=(time, flux, ferr, VBBL), full_output=True, retall=True, maxiter=1000, maxfun=5000, disp=verbose)\n",
    "\n",
    "    chi2_min, fs, fb = compute_chisq(para_initial, time, flux, ferr, VBBL, return_model=True)\n",
    "    if verbose:\n",
    "        print('initial chisq: ', chi2_min)\n",
    "    chi2_min, fs, fb = compute_chisq(para_best, time, flux, ferr, VBBL, return_model=True)\n",
    "    if verbose:\n",
    "        print('best chisq & (fs, fb): ', chi2_min, fs, fb)\n",
    "    time_model = np.arange(-2, 2, 0.001)\n",
    "#    magnifications = compute_model_lc(time_model, para_initial, VBBL)\n",
    "    magnifications = compute_model_lc(time_model, para_best, VBBL)\n",
    "    mag_model = 18 - 2.5*np.log10(magnifications*fs + fb)\n",
    "    model = np.vstack((time_model, mag_model))\n",
    "    return para_best, chi2_min, model, warnflag"
   ]
  },
  {
   "cell_type": "code",
   "execution_count": 56,
   "metadata": {},
   "outputs": [
    {
     "data": {
      "text/plain": [
       "tensor([14833, 10317,  5253,  9467,  5467, 11009,  1422,  5647, 12368,   202])"
      ]
     },
     "execution_count": 56,
     "metadata": {},
     "output_type": "execute_result"
    }
   ],
   "source": [
    "((Y[:size] - pred_close)**2).sum(-1).sort()[1][:10]"
   ]
  },
  {
   "cell_type": "code",
   "execution_count": 68,
   "metadata": {},
   "outputs": [
    {
     "data": {
      "application/vnd.jupyter.widget-view+json": {
       "model_id": "cdec78236c4d4dc18b0baacaf75ae44a",
       "version_major": 2,
       "version_minor": 0
      },
      "text/plain": [
       "  0%|          | 0/4 [00:00<?, ?it/s]"
      ]
     },
     "metadata": {},
     "output_type": "display_data"
    },
    {
     "name": "stdout",
     "output_type": "stream",
     "text": [
      "[ 0.3453861  -0.40389404  0.02385784  1.176665  ]\n",
      "Optimization terminated successfully.\n",
      "         Current function value: 1499.003296\n",
      "         Iterations: 459\n",
      "         Function evaluations: 760\n",
      "initial chisq:  6689.404960632666\n",
      "best chisq & (fs, fb):  1499.0032959980058 0.1429554257700647 0.8624599903426731\n",
      "[ 0.40099734 -0.2054676   0.030143    1.2177844 ]\n",
      "Warning: Maximum number of iterations has been exceeded.\n",
      "initial chisq:  3903.769638237237\n",
      "best chisq & (fs, fb):  1549.2393411690396 0.14174342170867815 0.8643196613369586\n",
      "[ 0.35342592 -0.1152314   0.08022258  0.8035152 ]\n",
      "Optimization terminated successfully.\n",
      "         Current function value: 5008.711893\n",
      "         Iterations: 444\n",
      "         Function evaluations: 761\n",
      "initial chisq:  6401.0890093135895\n",
      "best chisq & (fs, fb):  5008.711893390995 0.09714412629193836 0.9458344880504272\n",
      "[ 0.23256204 -0.29303876  0.06384044  0.8048123 ]\n",
      "Optimization terminated successfully.\n",
      "         Current function value: 4126.792880\n",
      "         Iterations: 287\n",
      "         Function evaluations: 511\n",
      "initial chisq:  5710.76844515668\n",
      "best chisq & (fs, fb):  4126.7928803072755 0.06865751929262642 0.9705891216632909\n",
      "     weight        u0       lgq       lgs     a/180      lgfs     chi2_min  \\\n",
      "0  0.423211  0.345386 -0.403894  0.023858  1.176665 -0.758747  1499.003296   \n",
      "1  0.214735  0.400997 -0.205468  0.030143  1.217784 -0.716233  1549.239341   \n",
      "2  0.196685  0.353426 -0.115231  0.080223  0.803515 -0.705945  5008.711893   \n",
      "3  0.051100  0.232562 -0.293039  0.063840  0.804812 -0.800307  4126.792880   \n",
      "\n",
      "   fmin_flag   u0_best  lgq_best  lgs_best  alpha/180_best  \n",
      "0        0.0  0.319682 -0.590147  0.011793        1.179608  \n",
      "1        2.0  0.317006 -0.617469  0.011599        1.178535  \n",
      "2        0.0  0.355146 -0.070772  0.088762        0.797525  \n",
      "3        0.0  0.211450 -0.343122  0.070550        0.806615  \n"
     ]
    },
    {
     "data": {
      "image/png": "[encoded data removed]",
      "text/plain": [
       "<Figure size 432x288 with 1 Axes>"
      ]
     },
     "metadata": {
      "needs_background": "light"
     },
     "output_type": "display_data"
    }
   ],
   "source": [
    "verbose = True\n",
    "\n",
    "i = 0\n",
    "best_parameters = []\n",
    "for index in tqdm(range(4)):\n",
    "    para_initial = locs_sort[i, index, :-1]\n",
    "    if verbose:\n",
    "        print(para_initial)\n",
    "    para_best, chi2_min, model, warnflag = perform_optimization(lc[i, :, 0], lc[i, :, 2], lc[i, :, 3], para_initial, verbose=verbose)\n",
    "    best_parameters.append(np.hstack((chi2_min, warnflag, para_best)))\n",
    "    plt.plot(model[0], model[1], label=r'$\\pi$=%.2f, $\\chi^2$=%.1f'%(pis_sort[i, index], chi2_min))\n",
    "\n",
    "def compute_chisq(fitting_parameters, time, flux, ferr, VBBL, return_model=False):\n",
    "    magnifications = compute_model_lc(time, fitting_parameters, VBBL)\n",
    "    chi2, fs, fb, fserr, fberr = get_fsfb(magnifications, flux, ferr)\n",
    "    if return_model:\n",
    "        return chi2, fs, fb\n",
    "    return chi2\n",
    "\n",
    "chi2_min, fs, fb = compute_chisq(Y[i, :-1].numpy(), lc[i, :, 0], lc[i, :, 2], lc[i, :, 3], VBBinaryLensing.VBBinaryLensing(), return_model=True)\n",
    "time_model = np.arange(-2, 2, 0.001)\n",
    "magnifications = compute_model_lc(time_model, Y[i, :-1].numpy(), VBBinaryLensing.VBBinaryLensing())\n",
    "mag_model = 18 - 2.5*np.log10(magnifications*fs + fb)\n",
    "model = np.vstack((time_model, mag_model))\n",
    "best_parameters.append(np.hstack((chi2_min, warnflag, para_best)))\n",
    "plt.plot(model[0], model[1], label=r'truth, $\\chi^2$=%.1f' % (chi2_min), color='black', linestyle='--')\n",
    "\n",
    "chi2_min, fs, fb = compute_chisq(pred_close[i, :-1].numpy(), lc[i, :, 0], lc[i, :, 2], lc[i, :, 3], VBBinaryLensing.VBBinaryLensing(), return_model=True)\n",
    "time_model = np.arange(-2, 2, 0.001)\n",
    "magnifications = compute_model_lc(time_model, pred_close[i, :-1].numpy(), VBBinaryLensing.VBBinaryLensing())\n",
    "mag_model = 18 - 2.5*np.log10(magnifications*fs + fb)\n",
    "model = np.vstack((time_model, mag_model))\n",
    "best_parameters.append(np.hstack((chi2_min, warnflag, para_best)))\n",
    "plt.plot(model[0], model[1], label=r'close, $\\chi^2$=%.1f' % (chi2_min), color='red', linestyle='--')\n",
    "\n",
    "chi2_min, fs, fb = compute_chisq(pred_global[i, :-1].numpy(), lc[i, :, 0], lc[i, :, 2], lc[i, :, 3], VBBinaryLensing.VBBinaryLensing(), return_model=True)\n",
    "time_model = np.arange(-2, 2, 0.001)\n",
    "magnifications = compute_model_lc(time_model, pred_global[i, :-1].numpy(), VBBinaryLensing.VBBinaryLensing())\n",
    "mag_model = 18 - 2.5*np.log10(magnifications*fs + fb)\n",
    "model = np.vstack((time_model, mag_model))\n",
    "best_parameters.append(np.hstack((chi2_min, warnflag, para_best)))\n",
    "plt.plot(model[0], model[1], label=r'global, $\\chi^2$=%.1f' % (chi2_min), color='blue', linestyle='--')\n",
    "\n",
    "best_parameters = np.array(best_parameters)\n",
    "mdn_add = pandas.DataFrame(best_parameters, columns=('chi2_min', 'fmin_flag', 'u0_best', 'lgq_best', 'lgs_best', 'alpha/180_best'))\n",
    "mdn = pandas.DataFrame(np.vstack((pis_sort[i], locs_sort[i].T)).T, columns=('weight', 'u0', 'lgq', 'lgs', 'a/180', 'lgfs'))\n",
    "mdn = mdn.join(mdn_add, how='outer')\n",
    "if verbose:\n",
    "    print(mdn[:4])\n",
    "plt.scatter(lc[i, :, 0], lc[i, :, 1], marker='o', alpha=0.3)\n",
    "plt.gca().invert_yaxis()\n",
    "plt.legend(loc=0)\n",
    "plt.xlim(-1, 1)\n",
    "plt.show()"
   ]
  },
  {
   "cell_type": "code",
   "execution_count": 71,
   "metadata": {},
   "outputs": [
    {
     "name": "stdout",
     "output_type": "stream",
     "text": [
      "ground truth:  [ 0.34033019 -0.35541759  0.01886043  1.18859352 -0.81332128]\n",
      "global:  [ 0.37037036 -0.3963964   0.02822824  1.1771772  -0.7287287 ]\n",
      "close:  [ 0.37037036 -0.3963964   0.02822824  1.1771772  -0.7287287 ]\n",
      "     weight   u0_best  lgq_best  lgs_best  alpha/180_best      lgfs\n",
      "0  0.423211  0.319682 -0.590147  0.011793        1.179608 -0.758747\n",
      "1  0.214735  0.317006 -0.617469  0.011599        1.178535 -0.716233\n",
      "2  0.196685  0.355146 -0.070772  0.088762        0.797525 -0.705945\n",
      "3  0.051100  0.211450 -0.343122  0.070550        0.806615 -0.800307\n",
      "4  0.040796  0.211450 -0.343122  0.070550        0.806615 -0.688354\n"
     ]
    }
   ],
   "source": [
    "print('ground truth: ', Y[i].numpy())\n",
    "print('global: ', pred_global[i].numpy())\n",
    "print('close: ', pred_close[i].numpy())\n",
    "print(mdn.loc[:4, ['weight', 'u0_best', 'lgq_best', 'lgs_best', 'alpha/180_best', 'lgfs']])"
   ]
  },
  {
   "cell_type": "code",
   "execution_count": 61,
   "metadata": {},
   "outputs": [],
   "source": [
    "np.savetxt('./lc1.csv', X[i, :, :], delimiter=',')\n",
    "np.savez('./mdn1.npz', pi=pis[i].numpy(), loc=locs[i].numpy(), scale=scales[i].numpy())"
   ]
  },
  {
   "cell_type": "code",
   "execution_count": 75,
   "metadata": {},
   "outputs": [
    {
     "data": {
      "application/vnd.jupyter.widget-view+json": {
       "model_id": "b6113a34825a4310804d20ad615c64ef",
       "version_major": 2,
       "version_minor": 0
      },
      "text/plain": [
       "  0%|          | 0/100 [00:00<?, ?it/s]"
      ]
     },
     "metadata": {},
     "output_type": "display_data"
    }
   ],
   "source": [
    "verbose = False\n",
    "\n",
    "n_gau = 4\n",
    "best_parameters = np.zeros((100, n_gau, 6))\n",
    "\n",
    "for i in tqdm(range(100)):\n",
    "    for index in range(n_gau):\n",
    "        para_initial = locs_sort[i, index, :-1]\n",
    "        if verbose:\n",
    "            print(para_initial)\n",
    "        para_best, chi2_min, model, warnflag = perform_optimization(lc[i, :, 0], lc[i, :, 2], lc[i, :, 3], para_initial, verbose=verbose)\n",
    "        best_parameters[i, index] = np.hstack((chi2_min, warnflag, para_best))"
   ]
  },
  {
   "cell_type": "code",
   "execution_count": 90,
   "metadata": {},
   "outputs": [],
   "source": [
    "order = np.argsort(best_parameters[:, :, 0], axis=-1)\n",
    "best_parameters_sort = best_parameters[np.arange(len(order))[:, None], order]"
   ]
  },
  {
   "cell_type": "code",
   "execution_count": 102,
   "metadata": {},
   "outputs": [
    {
     "data": {
      "image/png": "[encoded data removed]",
      "text/plain": [
       "<Figure size 432x288 with 1 Axes>"
      ]
     },
     "metadata": {
      "needs_background": "light"
     },
     "output_type": "display_data"
    }
   ],
   "source": [
    "plt.hist(best_parameters_sort[:, 0, 0], bins=100)\n",
    "plt.xlim(400, 3000)\n",
    "plt.show()"
   ]
  },
  {
   "cell_type": "code",
   "execution_count": 125,
   "metadata": {},
   "outputs": [
    {
     "data": {
      "text/plain": [
       "0.41"
      ]
     },
     "execution_count": 125,
     "metadata": {},
     "output_type": "execute_result"
    }
   ],
   "source": [
    "np.sum(best_parameters_sort[:, 0, 0] < 500)/100"
   ]
  },
  {
   "cell_type": "code",
   "execution_count": 126,
   "metadata": {},
   "outputs": [],
   "source": [
    "ind = best_parameters_sort[:, 0, 0] < 500"
   ]
  },
  {
   "cell_type": "code",
   "execution_count": 117,
   "metadata": {},
   "outputs": [],
   "source": [
    "pred = best_parameters_sort[:, 0, 2:]"
   ]
  },
  {
   "cell_type": "code",
   "execution_count": 132,
   "metadata": {},
   "outputs": [],
   "source": [
    "def plot_params(num, Y, pred,\n",
    "                title=None, figsize=(16, 8), labelsize=14, alpha=0.1, save=None,\n",
    "                ):\n",
    "    rmse = []\n",
    "\n",
    "    fig = plt.figure(figsize=figsize)\n",
    "    axq = plt.subplot2grid(shape=(2, 4), loc=(0, 0), rowspan=1, colspan=1)\n",
    "    axq.axis('square')\n",
    "    axq.set_xlim(-3, 0)\n",
    "    axq.set_ylim(-3, 0)\n",
    "    axq.set_xlabel(r'true $\\lg q$', fontsize=labelsize)\n",
    "    axq.set_ylabel(r'predicted $\\lg q$', fontsize=labelsize)\n",
    "    axq.scatter(Y[:num, 1], pred[:num, 1], s=3, cmap='Blues', label='global', alpha=alpha, rasterized=True)\n",
    "    axq.plot(np.linspace(-3, 0), np.linspace(-3, 0), color='b', linestyle='dashed')\n",
    "    # axq.legend(loc='lower right')\n",
    "    at = AnchoredText(\n",
    "        \"RMSE=%.4f\" % (np.sqrt(torch.mean((Y[:num, 1] -  pred[:num, 1])**2).detach().cpu().item())), prop=dict(size=12), frameon=False, loc='upper left')\n",
    "    axq.add_artist(at)\n",
    "    \n",
    "    axs = plt.subplot2grid(shape=(2, 4), loc=(0, 1), rowspan=1, colspan=1)\n",
    "    axs.axis('square')\n",
    "    axs.set_xlim(np.log10(0.3), np.log10(3))\n",
    "    axs.set_ylim(np.log10(0.3), np.log10(3))\n",
    "    axs.set_xlabel(r'true $\\lg s$', fontsize=labelsize)\n",
    "    axs.set_ylabel(r'predicted $\\lg s$', fontsize=labelsize)\n",
    "    axs.scatter(Y[:num, 2], pred[:num, 2], s=3, cmap='Blues', label='global', alpha=alpha, rasterized=True)\n",
    "    axs.plot(np.linspace(-0.6, 0.6), np.linspace(-0.6, 0.6), color='b', linestyle='dashed')\n",
    "    # axs.legend(loc='lower right')\n",
    "    at = AnchoredText(\n",
    "        \"RMSE=%.4f\" % (np.sqrt(torch.mean((Y[:num, 2] -  pred[:num, 2])**2).detach().cpu().item())), prop=dict(size=12), frameon=False, loc='upper left')\n",
    "    axs.add_artist(at)\n",
    "\n",
    "    axu = plt.subplot2grid(shape=(2, 4), loc=(0, 2), rowspan=1, colspan=1)\n",
    "    axu.axis('square')\n",
    "    axu.set_xlim(0, 1)\n",
    "    axu.set_ylim(0, 1)\n",
    "    axu.set_xlabel(r'true $u_0$', fontsize=labelsize)\n",
    "    axu.set_ylabel(r'predicted $u_0$', fontsize=labelsize)\n",
    "    axu.scatter(Y[:num, 0], pred[:num, 0], s=3, cmap='Blues', label='global', alpha=alpha, rasterized=True)\n",
    "    \n",
    "    axu.plot(np.linspace(0, 1), np.linspace(0, 1), color='b', linestyle='dashed')\n",
    "    # axu.legend(loc='lower right')\n",
    "    at = AnchoredText(\n",
    "        \"RMSE=%.4f\" % (np.sqrt(torch.mean((Y[:num, 0] -  pred[:num, 0])**2).detach().cpu().item())), prop=dict(size=12), frameon=False, loc='upper left')\n",
    "    axu.add_artist(at)\n",
    "\n",
    "    axa = plt.subplot2grid(shape=(2, 4), loc=(0, 3), rowspan=1, colspan=1)\n",
    "    axa.axis('square')\n",
    "    axa.set_xlim(0, 360)\n",
    "    axa.set_ylim(0, 360)\n",
    "    axa.set_xlabel(r'true $\\alpha$ (deg)', fontsize=labelsize)\n",
    "    axa.set_ylabel(r'predicted $\\alpha$ (deg)', fontsize=labelsize)\n",
    "    axa.scatter(Y[:num, 3]*180, pred[:num, 3]*180, s=3, cmap='Blues', label='global', alpha=alpha, rasterized=True)\n",
    "    axa.plot(np.linspace(0, 360), np.linspace(0, 360), color='b', linestyle='dashed')\n",
    "    # axa.legend(loc='lower right')\n",
    "    at = AnchoredText(\n",
    "        \"RMSE=%.3f\" % np.sqrt((torch.mean((Y[:num, 3] -  pred[:num, 3])**2).detach().cpu().item())*180), prop=dict(size=12), frameon=False, loc='upper left')\n",
    "    axa.add_artist(at)\n",
    "    plt.tight_layout()\n",
    "        \n",
    "    if title != None:\n",
    "        fig.suptitle(title)\n",
    "\n",
    "    if save != None:\n",
    "        plt.savefig(save)\n",
    "    \n",
    "    plt.show()\n",
    "    return rmse"
   ]
  },
  {
   "cell_type": "code",
   "execution_count": 133,
   "metadata": {},
   "outputs": [
    {
     "data": {
      "image/png": "[encoded data removed]",
      "text/plain": [
       "<Figure size 1152x576 with 4 Axes>"
      ]
     },
     "metadata": {
      "needs_background": "light"
     },
     "output_type": "display_data"
    }
   ],
   "source": [
    "rmse = plot_params(num=41, Y=Y[:100][ind], pred=pred[ind], alpha=1)"
   ]
  },
  {
   "cell_type": "code",
   "execution_count": null,
   "metadata": {},
   "outputs": [],
   "source": []
  }
 ],
 "metadata": {
  "interpreter": {
   "hash": "274e8ed069bc503cc01fa1aa16068ccb03180744fbf761618fb0dbde6179c71c"
  },
  "kernelspec": {
   "display_name": "Python 3.9.12 ('ode-rnn')",
   "language": "python",
   "name": "python3"
  },
  "language_info": {
   "codemirror_mode": {
    "name": "ipython",
    "version": 3
   },
   "file_extension": ".py",
   "mimetype": "text/x-python",
   "name": "python",
   "nbconvert_exporter": "python",
   "pygments_lexer": "ipython3",
   "version": "3.9.12"
  },
  "orig_nbformat": 4
 },
 "nbformat": 4,
 "nbformat_minor": 2
}
