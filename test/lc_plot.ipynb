{
 "cells": [
  {
   "cell_type": "code",
   "execution_count": 1,
   "metadata": {},
   "outputs": [],
   "source": [
    "import os, sys\n",
    "sys.path.append(os.path.dirname(os.getcwd()))\n",
    "import os\n",
    "import torch\n",
    "import numpy as np\n",
    "import matplotlib.pyplot as plt\n",
    "%matplotlib inline\n",
    "import h5py\n",
    "from tqdm.notebook import tqdm\n",
    "import torchcde\n",
    "from scipy.signal import find_peaks\n",
    "import MulensModel as mm\n",
    "import corner\n",
    "from model.utils import inference, get_loglik, get_peak_pred, plot_params, simulate_lc, infer_lgfs\n",
    "from matplotlib.offsetbox import AnchoredText\n",
    "\n",
    "torch.random.manual_seed(42)\n",
    "np.random.seed(42)\n",
    "plt.rcParams[\"font.family\"] = \"serif\"\n",
    "plt.rcParams['mathtext.fontset'] = 'cm'\n",
    "plt.rcParams['mathtext.rm'] = 'serif'"
   ]
  },
  {
   "cell_type": "code",
   "execution_count": 2,
   "metadata": {},
   "outputs": [
    {
     "name": "stdout",
     "output_type": "stream",
     "text": [
      "Shape of Y:  torch.Size([100000, 5])\n",
      "normalized X mean: -1.1743464469848672\n",
      "X std: 1.046597228312195\n"
     ]
    }
   ],
   "source": [
    "with h5py.File('/work/hmzhao/irregular-lc/KMT-fixrho-test.h5', mode='r') as dataset_file:\n",
    "    Y = torch.tensor(dataset_file['Y'][...])\n",
    "    X = torch.tensor(dataset_file['X'][...])\n",
    "\n",
    "Y[:, 3:6] = torch.log10(Y[:, 3:6])\n",
    "Y[:, -1] = torch.log10(Y[:, -1])\n",
    "Y[:, 6] = Y[:, 6] / 180\n",
    "# Y = Y[:, 2:]\n",
    "Y = Y[:, [2, 4, 5, 6, 7]]\n",
    "print('Shape of Y: ', Y.shape)\n",
    "\n",
    "X[:, :, 1] = (X[:, :, 1] - 14.5 - 2.5 * Y[:, [-1]]) / 0.2\n",
    "print(f'normalized X mean: {torch.mean(X[:, :, 1])}\\nX std: {torch.mean(torch.std(X[:, :, 1], axis=0))}')\n",
    "\n",
    "X = X[:, :, :2]\n",
    "    \n",
    "# CDE interpolation with log_sig\n",
    "depth = 3; window_length = 5\n",
    "logsig = torchcde.logsig_windows(X, depth, window_length=window_length)\n",
    "coeffs = torchcde.hermite_cubic_coefficients_with_backward_differences(logsig)"
   ]
  },
  {
   "cell_type": "code",
   "execution_count": 3,
   "metadata": {},
   "outputs": [
    {
     "data": {
      "text/plain": [
       "CDE_MDN(\n",
       "  (cde_func): CDEFunc(\n",
       "    (linear1): Linear(in_features=32, out_features=1024, bias=True)\n",
       "    (relu1): PReLU(num_parameters=1)\n",
       "    (resblocks): Sequential(\n",
       "      (0): ResBlock(\n",
       "        (linear1): Linear(in_features=1024, out_features=1024, bias=True)\n",
       "        (nonlinear1): PReLU(num_parameters=1)\n",
       "        (linear2): Linear(in_features=1024, out_features=1024, bias=True)\n",
       "      )\n",
       "      (1): ResBlock(\n",
       "        (linear1): Linear(in_features=1024, out_features=1024, bias=True)\n",
       "        (nonlinear1): PReLU(num_parameters=1)\n",
       "        (linear2): Linear(in_features=1024, out_features=1024, bias=True)\n",
       "      )\n",
       "      (2): ResBlock(\n",
       "        (linear1): Linear(in_features=1024, out_features=1024, bias=True)\n",
       "        (nonlinear1): PReLU(num_parameters=1)\n",
       "        (linear2): Linear(in_features=1024, out_features=1024, bias=True)\n",
       "      )\n",
       "    )\n",
       "    (relu2): PReLU(num_parameters=1)\n",
       "    (linear2): Linear(in_features=1024, out_features=160, bias=True)\n",
       "    (tanh): Tanh()\n",
       "    (linear3): Linear(in_features=160, out_features=160, bias=True)\n",
       "  )\n",
       "  (initial): Sequential(\n",
       "    (0): Sequential(\n",
       "      (0): Linear(in_features=5, out_features=1024, bias=True)\n",
       "      (1): ReLU()\n",
       "      (2): Linear(in_features=1024, out_features=1024, bias=True)\n",
       "    )\n",
       "    (1): ResBlock(\n",
       "      (linear1): Linear(in_features=1024, out_features=1024, bias=True)\n",
       "      (nonlinear1): ReLU()\n",
       "      (linear2): Linear(in_features=1024, out_features=1024, bias=True)\n",
       "    )\n",
       "    (2): ResBlock(\n",
       "      (linear1): Linear(in_features=1024, out_features=1024, bias=True)\n",
       "      (nonlinear1): ReLU()\n",
       "      (linear2): Linear(in_features=1024, out_features=1024, bias=True)\n",
       "    )\n",
       "    (3): ResBlock(\n",
       "      (linear1): Linear(in_features=1024, out_features=1024, bias=True)\n",
       "      (nonlinear1): ReLU()\n",
       "      (linear2): Linear(in_features=1024, out_features=1024, bias=True)\n",
       "    )\n",
       "    (4): Sequential(\n",
       "      (0): Linear(in_features=1024, out_features=1024, bias=True)\n",
       "      (1): ReLU()\n",
       "      (2): Linear(in_features=1024, out_features=32, bias=True)\n",
       "    )\n",
       "  )\n",
       "  (readout): Sequential(\n",
       "    (0): Sequential(\n",
       "      (0): Linear(in_features=32, out_features=1024, bias=True)\n",
       "      (1): ReLU()\n",
       "      (2): Linear(in_features=1024, out_features=1024, bias=True)\n",
       "    )\n",
       "    (1): ResBlock(\n",
       "      (linear1): Linear(in_features=1024, out_features=1024, bias=True)\n",
       "      (nonlinear1): ReLU()\n",
       "      (linear2): Linear(in_features=1024, out_features=1024, bias=True)\n",
       "    )\n",
       "    (2): ResBlock(\n",
       "      (linear1): Linear(in_features=1024, out_features=1024, bias=True)\n",
       "      (nonlinear1): ReLU()\n",
       "      (linear2): Linear(in_features=1024, out_features=1024, bias=True)\n",
       "    )\n",
       "    (3): ResBlock(\n",
       "      (linear1): Linear(in_features=1024, out_features=1024, bias=True)\n",
       "      (nonlinear1): ReLU()\n",
       "      (linear2): Linear(in_features=1024, out_features=1024, bias=True)\n",
       "    )\n",
       "    (4): Linear(in_features=1024, out_features=1024, bias=True)\n",
       "  )\n",
       "  (mdn): MixtureDensityNetwork(\n",
       "    (pi_network): CategoricalNetwork(\n",
       "      (network): Sequential(\n",
       "        (0): Linear(in_features=1024, out_features=1024, bias=True)\n",
       "        (1): ELU(alpha=1.0)\n",
       "        (2): Linear(in_features=1024, out_features=12, bias=True)\n",
       "      )\n",
       "    )\n",
       "    (normal_network): MixtureDiagNormalNetwork(\n",
       "      (network): Sequential(\n",
       "        (0): Linear(in_features=1024, out_features=1024, bias=True)\n",
       "        (1): ELU(alpha=1.0)\n",
       "        (2): Linear(in_features=1024, out_features=120, bias=True)\n",
       "      )\n",
       "    )\n",
       "  )\n",
       ")"
      ]
     },
     "execution_count": 3,
     "metadata": {},
     "output_type": "execute_result"
    }
   ],
   "source": [
    "from model.cde_mdn import CDE_MDN\n",
    "\n",
    "device = torch.device(\"cuda:9\" if torch.cuda.is_available() else \"cpu\")\n",
    "\n",
    "checkpt = torch.load('/work/hmzhao/experiments/cde_mdn/experiment_l32nG12diag.ckpt', map_location='cpu')\n",
    "ckpt_args = checkpt['args']\n",
    "state_dict = checkpt['state_dict']\n",
    "\n",
    "output_dim = Y.shape[-1]\n",
    "input_dim = logsig.shape[-1]\n",
    "latent_dim = ckpt_args.latents\n",
    "\n",
    "model = CDE_MDN(input_dim, latent_dim, output_dim).to(device)\n",
    "# model = CDE_MDN(input_dim, latent_dim, output_dim, 32).to(device)\n",
    "model_dict = model.state_dict()\n",
    "\n",
    "# 1. filter out unnecessary keys\n",
    "state_dict = {k: v for k, v in state_dict.items() if k in model_dict}\n",
    "# 2. overwrite entries in the existing state dict\n",
    "model_dict.update(state_dict) \n",
    "# 3. load the new state dict\n",
    "model.load_state_dict(state_dict)\n",
    "model.to(device)"
   ]
  },
  {
   "cell_type": "code",
   "execution_count": 4,
   "metadata": {},
   "outputs": [],
   "source": [
    "size = 4096 * 4"
   ]
  },
  {
   "cell_type": "code",
   "execution_count": 5,
   "metadata": {},
   "outputs": [
    {
     "data": {
      "application/vnd.jupyter.widget-view+json": {
       "model_id": "c4ebe0bad54843d38288da161cb96401",
       "version_major": 2,
       "version_minor": 0
      },
      "text/plain": [
       "  0%|          | 0/4 [00:00<?, ?it/s]"
      ]
     },
     "metadata": {},
     "output_type": "display_data"
    }
   ],
   "source": [
    "pis, locs, scales = inference(model, size, min(4096, size), coeffs, device, full_cov=False)"
   ]
  },
  {
   "cell_type": "code",
   "execution_count": 6,
   "metadata": {},
   "outputs": [],
   "source": [
    "X_gap = torch.tensor(np.load('/work/hmzhao/X_gap.npy'))"
   ]
  },
  {
   "cell_type": "code",
   "execution_count": 7,
   "metadata": {},
   "outputs": [],
   "source": [
    "# CDE interpolation with log_sig\n",
    "depth = 3; window_length = max(X_gap.shape[1]//100, 1)\n",
    "logsig = torchcde.logsig_windows(X_gap, depth, window_length=window_length)\n",
    "coeffs = torchcde.hermite_cubic_coefficients_with_backward_differences(logsig)"
   ]
  },
  {
   "cell_type": "code",
   "execution_count": 8,
   "metadata": {},
   "outputs": [
    {
     "data": {
      "application/vnd.jupyter.widget-view+json": {
       "model_id": "3d2ed04e16dd469780e1053bdcb22831",
       "version_major": 2,
       "version_minor": 0
      },
      "text/plain": [
       "  0%|          | 0/4 [00:00<?, ?it/s]"
      ]
     },
     "metadata": {},
     "output_type": "display_data"
    }
   ],
   "source": [
    "pis_gap, locs_gap, scales_gap = inference(model, size, 4096, coeffs, device, full_cov=False)"
   ]
  },
  {
   "cell_type": "code",
   "execution_count": 9,
   "metadata": {},
   "outputs": [
    {
     "data": {
      "application/vnd.jupyter.widget-view+json": {
       "model_id": "bcdb16fa2e9f45a398c865829a15c8f2",
       "version_major": 2,
       "version_minor": 0
      },
      "text/plain": [
       "  0%|          | 0/5 [00:00<?, ?it/s]"
      ]
     },
     "metadata": {},
     "output_type": "display_data"
    },
    {
     "data": {
      "application/vnd.jupyter.widget-view+json": {
       "model_id": "a0eac637be544da38b9e93d0c8a1d215",
       "version_major": 2,
       "version_minor": 0
      },
      "text/plain": [
       "  0%|          | 0/16384 [00:00<?, ?it/s]"
      ]
     },
     "metadata": {},
     "output_type": "display_data"
    },
    {
     "data": {
      "application/vnd.jupyter.widget-view+json": {
       "model_id": "8cca8ed74a0540e689a0159f051a1b36",
       "version_major": 2,
       "version_minor": 0
      },
      "text/plain": [
       "  0%|          | 0/16384 [00:00<?, ?it/s]"
      ]
     },
     "metadata": {},
     "output_type": "display_data"
    },
    {
     "data": {
      "application/vnd.jupyter.widget-view+json": {
       "model_id": "fd20fbce26d74651b9d468849692108a",
       "version_major": 2,
       "version_minor": 0
      },
      "text/plain": [
       "  0%|          | 0/16384 [00:00<?, ?it/s]"
      ]
     },
     "metadata": {},
     "output_type": "display_data"
    },
    {
     "data": {
      "application/vnd.jupyter.widget-view+json": {
       "model_id": "093d4f8c263f4e20ae6adae198d1cb9b",
       "version_major": 2,
       "version_minor": 0
      },
      "text/plain": [
       "  0%|          | 0/16384 [00:00<?, ?it/s]"
      ]
     },
     "metadata": {},
     "output_type": "display_data"
    },
    {
     "data": {
      "application/vnd.jupyter.widget-view+json": {
       "model_id": "bb273ec5f8be4ec5a0482ab18333692e",
       "version_major": 2,
       "version_minor": 0
      },
      "text/plain": [
       "  0%|          | 0/16384 [00:00<?, ?it/s]"
      ]
     },
     "metadata": {},
     "output_type": "display_data"
    }
   ],
   "source": [
    "pred_gap = get_peak_pred(pis_gap, locs_gap, scales_gap, Y)"
   ]
  },
  {
   "cell_type": "code",
   "execution_count": 10,
   "metadata": {},
   "outputs": [],
   "source": [
    "def plot_lc(i, X, X_gap, Y, pred_gap, pis, locs, scales):\n",
    "    fig = plt.figure(1, (16, 24))\n",
    "    plt.subplot2grid(shape=(5, 3), loc=(0, 0), rowspan=1, colspan=3)\n",
    "    plt.xlabel(r'$(t - t_0)/t_E$', fontsize=14)\n",
    "    plt.ylabel(r'm - m_base', fontsize=14)\n",
    "    plt.xlim(-2, 2)\n",
    "    gap_times = np.setdiff1d(np.floor(X[i, :, 0]*1e3), np.floor(X_gap[i, :, 0]*1e3))/1e3\n",
    "    plt.axvspan(gap_times.min(), gap_times.max(), color='grey', alpha=0.2)\n",
    "    plt.scatter(X_gap[i, :, 0], X_gap[i, :, 1]*0.2, color='black', marker='o', rasterized=True)\n",
    "    param_true = Y[i].tolist()\n",
    "    param_true.insert(1, -3)\n",
    "    param_pred_gap = pred_gap[2][i].tolist()\n",
    "    param_pred_gap.insert(1, -3)\n",
    "    param_pred_gap_g = pred_gap[0][i].tolist()\n",
    "    param_pred_gap_g.insert(1, -3)\n",
    "    lc_true = simulate_lc(0, 1, *param_true, orig=True)\n",
    "    lc_pred_gap = simulate_lc(0, 1, *param_pred_gap, orig=True)\n",
    "    lc_pred_gap_g = simulate_lc(0, 1, *param_pred_gap_g, orig=True)\n",
    "    plt.plot(lc_true[:, 0], lc_true[:, 1], color='black', linestyle='dashed', label='truth')\n",
    "    plt.plot(lc_pred_gap[:, 0], lc_pred_gap[:, 1], color='red', label='close')\n",
    "    plt.plot(lc_pred_gap_g[:, 0], lc_pred_gap_g[:, 1], color='orange', label='global')\n",
    "    # print('parameters: u0, lgrho, lgq, lgs, alpha, lgfs')\n",
    "    # print('ground truth: ', Y[i].numpy())\n",
    "    # print('pred gap close: ', pred_gap[2][i].numpy())\n",
    "    # print('pred gap global: ', pred_gap[0][i].numpy())\n",
    "    # print(i)\n",
    "    plt.gca().invert_yaxis()\n",
    "    plt.legend()\n",
    "\n",
    "    plt.subplot2grid(shape=(5, 3), loc=(1, 0), rowspan=1, colspan=1)\n",
    "    param_list = [Y[i].tolist(), pred_gap[2][i].tolist(), pred_gap[0][i].tolist()]\n",
    "    traj_color = ['black', 'red', 'orange']\n",
    "    cau_color = ['black', 'red', 'orange']\n",
    "    plt.xlabel('geometry', fontsize=14)\n",
    "    plt.axis('equal')\n",
    "    for j, params in enumerate(param_list):\n",
    "        u_0, lgq, lgs, alpha_180, lgfs = params\n",
    "        lgrho = -3\n",
    "        parameters = {\n",
    "                    't_0': 0,\n",
    "                    't_E': 1,\n",
    "                    'u_0': u_0,\n",
    "                    'rho': 10**lgrho, \n",
    "                    'q': 10**lgq, \n",
    "                    's': 10**lgs, \n",
    "                    'alpha': alpha_180*180,\n",
    "                }\n",
    "        modelmm = mm.Model(parameters, coords=None)\n",
    "        if j == 0:\n",
    "            modelmm.plot_trajectory(t_range=(-2, 2), caustics=False, arrow=False, color=traj_color[j], linestyle='dashed')\n",
    "        else:\n",
    "            modelmm.plot_trajectory(t_range=(-2, 2), caustics=False, arrow=False, color=traj_color[j])\n",
    "        modelmm.plot_caustics(color=cau_color[j], s=1)\n",
    "    \n",
    "    plt.subplot2grid(shape=(5, 3), loc=(1, 1), rowspan=1, colspan=2)\n",
    "    label_list = ['truth', 'close', 'global']\n",
    "    for j, params in enumerate(param_list):\n",
    "        u_0, lgq, lgs, alpha_180, lgfs = params\n",
    "        lgrho = -3\n",
    "        parameters = {\n",
    "                    'type': label_list[j],\n",
    "                    't_0': 0,\n",
    "                    't_E': 1,\n",
    "                    'u_0': u_0,\n",
    "                    'rho': 10**lgrho, \n",
    "                    'q': 10**lgq, \n",
    "                    's': 10**lgs, \n",
    "                    'alpha': alpha_180*180,\n",
    "                }\n",
    "        for k, (key, value) in enumerate(parameters.items()):\n",
    "            if k==0:\n",
    "                plt.text(0.05+j/3, 0.8-k/10, str(value), fontsize=14, color=traj_color[j])\n",
    "            else:\n",
    "                plt.text(0.05+j/3, 0.8-k/10, key+': '+'%.4f'%value, fontsize=14, color=traj_color[j])\n",
    "    plt.savefig(f'/work/hmzhao/lc_examples/lc{i}.jpg')\n",
    "    plt.close()\n",
    "    # plt.show()\n",
    "    n = int(1e4)\n",
    "\n",
    "    pi = pis[i]; loc = locs[i]; scale = scales[i]\n",
    "    pi = torch.tile(pi, (n, 1)); loc = torch.tile(loc, (n, 1, 1)); scale = torch.tile(scale, (n, 1, 1))\n",
    "    normal = torch.distributions.Normal(loc, scale)\n",
    "    pi_dist = torch.distributions.OneHotCategorical(probs=pi)\n",
    "    sample = model.sample(pi_dist, normal).numpy()\n",
    "\n",
    "    truths = Y[i].numpy()\n",
    "    range_p = [(0, 1), (-3, 0), (np.log10(0.3), np.log10(3)), (0, 2), (-1, 0)]\n",
    "    sigma_level = 1-np.exp(-0.5)\n",
    "    corner.corner(sample, labels=[r\"$u_0$\", r\"$\\lg q$\", r\"$\\lg s$\", r\"$\\alpha/180$\", r\"$\\lg f_s$\"],\n",
    "                # quantiles=[0.16, 0.5, 0.84], \n",
    "                smooth=1,\n",
    "                bins=50,\n",
    "                range=range_p,\n",
    "                show_titles=True, title_kwargs={\"fontsize\": 12},\n",
    "                fill_contours=False, color='blue', no_fill_contours=True,\n",
    "                plot_datapoints=False, plot_density=False,\n",
    "                truths=truths, truth_color='black',\n",
    "                # levels=[sigma_level, 0.7],\n",
    "                )\n",
    "    plt.savefig(f'/work/hmzhao/lc_examples/corner{i}.jpg')\n",
    "    plt.close()\n",
    "    # plt.show()"
   ]
  },
  {
   "cell_type": "code",
   "execution_count": 11,
   "metadata": {},
   "outputs": [],
   "source": [
    "mse = torch.mean((pred_gap[2] - Y[:size])**2, dim=-1)"
   ]
  },
  {
   "cell_type": "code",
   "execution_count": 12,
   "metadata": {},
   "outputs": [],
   "source": [
    "sortind = torch.sort(mse)[1]"
   ]
  },
  {
   "cell_type": "code",
   "execution_count": 13,
   "metadata": {},
   "outputs": [
    {
     "data": {
      "application/vnd.jupyter.widget-view+json": {
       "model_id": "73f335082cfa4793b69445fd7a9afdda",
       "version_major": 2,
       "version_minor": 0
      },
      "text/plain": [
       "  0%|          | 0/500 [00:00<?, ?it/s]"
      ]
     },
     "metadata": {},
     "output_type": "display_data"
    },
    {
     "name": "stderr",
     "output_type": "stream",
     "text": [
      "WARNING:root:Too few points to create valid contours\n",
      "WARNING:root:Too few points to create valid contours\n",
      "WARNING:root:Too few points to create valid contours\n",
      "WARNING:root:Too few points to create valid contours\n",
      "WARNING:root:Too few points to create valid contours\n",
      "WARNING:root:Too few points to create valid contours\n",
      "WARNING:root:Too few points to create valid contours\n",
      "WARNING:root:Too few points to create valid contours\n",
      "WARNING:root:Too few points to create valid contours\n",
      "WARNING:root:Too few points to create valid contours\n",
      "WARNING:root:Too few points to create valid contours\n",
      "WARNING:root:Too few points to create valid contours\n",
      "WARNING:root:Too few points to create valid contours\n",
      "WARNING:root:Too few points to create valid contours\n",
      "WARNING:root:Too few points to create valid contours\n",
      "WARNING:root:Too few points to create valid contours\n",
      "WARNING:root:Too few points to create valid contours\n",
      "WARNING:root:Too few points to create valid contours\n",
      "WARNING:root:Too few points to create valid contours\n"
     ]
    }
   ],
   "source": [
    "for i in tqdm(range(500)):\n",
    "    plot_lc(sortind[i], X, X_gap, Y, pred_gap, pis_gap, locs_gap, scales_gap)"
   ]
  },
  {
   "cell_type": "code",
   "execution_count": null,
   "metadata": {},
   "outputs": [],
   "source": []
  }
 ],
 "metadata": {
  "interpreter": {
   "hash": "274e8ed069bc503cc01fa1aa16068ccb03180744fbf761618fb0dbde6179c71c"
  },
  "kernelspec": {
   "display_name": "Python 3.9.7 ('ode-rnn')",
   "language": "python",
   "name": "python3"
  },
  "language_info": {
   "codemirror_mode": {
    "name": "ipython",
    "version": 3
   },
   "file_extension": ".py",
   "mimetype": "text/x-python",
   "name": "python",
   "nbconvert_exporter": "python",
   "pygments_lexer": "ipython3",
   "version": "3.9.12"
  },
  "orig_nbformat": 4
 },
 "nbformat": 4,
 "nbformat_minor": 2
}
