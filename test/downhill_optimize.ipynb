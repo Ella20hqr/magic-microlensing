{
 "cells": [
  {
   "cell_type": "code",
   "execution_count": 11,
   "metadata": {},
   "outputs": [],
   "source": [
    "import os, sys\n",
    "sys.path.append(os.path.dirname(os.getcwd()))\n",
    "import numpy as np\n",
    "import matplotlib.pyplot as plt\n",
    "import pandas\n",
    "import VBBinaryLensing\n",
    "from scipy.optimize import minimize, fmin\n",
    "\n",
    "import os\n",
    "import torch\n",
    "import h5py\n",
    "from tqdm.notebook import tqdm\n",
    "import torchcde\n",
    "from scipy.signal import find_peaks\n",
    "import MulensModel as mm\n",
    "import corner\n",
    "from model.utils import inference, get_loglik, get_peak_pred, plot_params, simulate_lc\n",
    "from matplotlib.offsetbox import AnchoredText\n",
    "\n",
    "torch.random.manual_seed(42)\n",
    "np.random.seed(42)\n",
    "plt.rcParams[\"font.family\"] = \"serif\"\n",
    "plt.rcParams['mathtext.fontset'] = 'cm'\n",
    "plt.rcParams['mathtext.rm'] = 'serif'"
   ]
  },
  {
   "cell_type": "code",
   "execution_count": 12,
   "metadata": {},
   "outputs": [
    {
     "name": "stdout",
     "output_type": "stream",
     "text": [
      "Shape of Y:  torch.Size([100000, 5])\n",
      "normalized X mean: -1.1743464469848672\n",
      "X std: 1.046597228312195\n"
     ]
    }
   ],
   "source": [
    "with h5py.File('/work/hmzhao/irregular-lc/KMT-fixrho-test.h5', mode='r') as dataset_file:\n",
    "    Y = torch.tensor(dataset_file['Y'][...])\n",
    "    X = torch.tensor(dataset_file['X'][...])\n",
    "\n",
    "# filter nan\n",
    "nanind = torch.where(~torch.isnan(X[:, 0, 1]))[0]\n",
    "Y = Y[nanind]\n",
    "X = X[nanind]\n",
    "nanind = torch.where(Y[:, 2]>0)[0]\n",
    "Y = Y[nanind]\n",
    "X = X[nanind]\n",
    "nanind = torch.where(Y[:, 2]<1)[0]\n",
    "Y = Y[nanind]\n",
    "X = X[nanind]\n",
    "\n",
    "Y[:, 3:6] = torch.log10(Y[:, 3:6])\n",
    "Y[:, -1] = torch.log10(Y[:, -1])\n",
    "Y[:, 6] = Y[:, 6] / 180\n",
    "# Y = Y[:, 2:]\n",
    "Y = Y[:, [2, 4, 5, 6, 7]]\n",
    "print('Shape of Y: ', Y.shape)\n",
    "\n",
    "X[:, :, 1] = (X[:, :, 1] - 14.5 - 2.5 * Y[:, [-1]]) / 0.2\n",
    "print(f'normalized X mean: {torch.mean(X[:, :, 1])}\\nX std: {torch.mean(torch.std(X[:, :, 1], axis=0))}')\n",
    "\n",
    "X = X[:, :, :2]\n",
    "    \n",
    "# CDE interpolation with log_sig\n",
    "depth = 3; window_length = 5\n",
    "logsig = torchcde.logsig_windows(X, depth, window_length=window_length)\n",
    "coeffs = torchcde.hermite_cubic_coefficients_with_backward_differences(logsig)"
   ]
  },
  {
   "cell_type": "code",
   "execution_count": 13,
   "metadata": {},
   "outputs": [
    {
     "data": {
      "text/plain": [
       "CDE_MDN(\n",
       "  (cde_func): CDEFunc(\n",
       "    (linear1): Linear(in_features=32, out_features=1024, bias=True)\n",
       "    (relu1): PReLU(num_parameters=1)\n",
       "    (resblocks): Sequential(\n",
       "      (0): ResBlock(\n",
       "        (linear1): Linear(in_features=1024, out_features=1024, bias=True)\n",
       "        (nonlinear1): PReLU(num_parameters=1)\n",
       "        (linear2): Linear(in_features=1024, out_features=1024, bias=True)\n",
       "      )\n",
       "      (1): ResBlock(\n",
       "        (linear1): Linear(in_features=1024, out_features=1024, bias=True)\n",
       "        (nonlinear1): PReLU(num_parameters=1)\n",
       "        (linear2): Linear(in_features=1024, out_features=1024, bias=True)\n",
       "      )\n",
       "      (2): ResBlock(\n",
       "        (linear1): Linear(in_features=1024, out_features=1024, bias=True)\n",
       "        (nonlinear1): PReLU(num_parameters=1)\n",
       "        (linear2): Linear(in_features=1024, out_features=1024, bias=True)\n",
       "      )\n",
       "    )\n",
       "    (relu2): PReLU(num_parameters=1)\n",
       "    (linear2): Linear(in_features=1024, out_features=160, bias=True)\n",
       "    (tanh): Tanh()\n",
       "    (linear3): Linear(in_features=160, out_features=160, bias=True)\n",
       "  )\n",
       "  (initial): Sequential(\n",
       "    (0): Sequential(\n",
       "      (0): Linear(in_features=5, out_features=1024, bias=True)\n",
       "      (1): ReLU()\n",
       "      (2): Linear(in_features=1024, out_features=1024, bias=True)\n",
       "    )\n",
       "    (1): ResBlock(\n",
       "      (linear1): Linear(in_features=1024, out_features=1024, bias=True)\n",
       "      (nonlinear1): ReLU()\n",
       "      (linear2): Linear(in_features=1024, out_features=1024, bias=True)\n",
       "    )\n",
       "    (2): ResBlock(\n",
       "      (linear1): Linear(in_features=1024, out_features=1024, bias=True)\n",
       "      (nonlinear1): ReLU()\n",
       "      (linear2): Linear(in_features=1024, out_features=1024, bias=True)\n",
       "    )\n",
       "    (3): ResBlock(\n",
       "      (linear1): Linear(in_features=1024, out_features=1024, bias=True)\n",
       "      (nonlinear1): ReLU()\n",
       "      (linear2): Linear(in_features=1024, out_features=1024, bias=True)\n",
       "    )\n",
       "    (4): Sequential(\n",
       "      (0): Linear(in_features=1024, out_features=1024, bias=True)\n",
       "      (1): ReLU()\n",
       "      (2): Linear(in_features=1024, out_features=32, bias=True)\n",
       "    )\n",
       "  )\n",
       "  (readout): Sequential(\n",
       "    (0): Sequential(\n",
       "      (0): Linear(in_features=32, out_features=1024, bias=True)\n",
       "      (1): ReLU()\n",
       "      (2): Linear(in_features=1024, out_features=1024, bias=True)\n",
       "    )\n",
       "    (1): ResBlock(\n",
       "      (linear1): Linear(in_features=1024, out_features=1024, bias=True)\n",
       "      (nonlinear1): ReLU()\n",
       "      (linear2): Linear(in_features=1024, out_features=1024, bias=True)\n",
       "    )\n",
       "    (2): ResBlock(\n",
       "      (linear1): Linear(in_features=1024, out_features=1024, bias=True)\n",
       "      (nonlinear1): ReLU()\n",
       "      (linear2): Linear(in_features=1024, out_features=1024, bias=True)\n",
       "    )\n",
       "    (3): ResBlock(\n",
       "      (linear1): Linear(in_features=1024, out_features=1024, bias=True)\n",
       "      (nonlinear1): ReLU()\n",
       "      (linear2): Linear(in_features=1024, out_features=1024, bias=True)\n",
       "    )\n",
       "    (4): Linear(in_features=1024, out_features=1024, bias=True)\n",
       "  )\n",
       "  (mdn): MixtureDensityNetwork(\n",
       "    (pi_network): CategoricalNetwork(\n",
       "      (network): Sequential(\n",
       "        (0): Linear(in_features=1024, out_features=1024, bias=True)\n",
       "        (1): ELU(alpha=1.0)\n",
       "        (2): Linear(in_features=1024, out_features=12, bias=True)\n",
       "      )\n",
       "    )\n",
       "    (normal_network): MixtureDiagNormalNetwork(\n",
       "      (network): Sequential(\n",
       "        (0): Linear(in_features=1024, out_features=1024, bias=True)\n",
       "        (1): ELU(alpha=1.0)\n",
       "        (2): Linear(in_features=1024, out_features=120, bias=True)\n",
       "      )\n",
       "    )\n",
       "  )\n",
       ")"
      ]
     },
     "execution_count": 13,
     "metadata": {},
     "output_type": "execute_result"
    }
   ],
   "source": [
    "from model.cde_mdn import CDE_MDN\n",
    "\n",
    "device = torch.device(\"cuda:2\" if torch.cuda.is_available() else \"cpu\")\n",
    "\n",
    "checkpt = torch.load('/work/hmzhao/experiments/cde_mdn/experiment_l32nG12diag.ckpt', map_location='cpu')\n",
    "ckpt_args = checkpt['args']\n",
    "state_dict = checkpt['state_dict']\n",
    "\n",
    "output_dim = Y.shape[-1]\n",
    "input_dim = logsig.shape[-1]\n",
    "latent_dim = ckpt_args.latents\n",
    "\n",
    "model = CDE_MDN(input_dim, latent_dim, output_dim).to(device)\n",
    "# model = CDE_MDN(input_dim, latent_dim, output_dim, 32).to(device)\n",
    "model_dict = model.state_dict()\n",
    "\n",
    "# 1. filter out unnecessary keys\n",
    "state_dict = {k: v for k, v in state_dict.items() if k in model_dict}\n",
    "# 2. overwrite entries in the existing state dict\n",
    "model_dict.update(state_dict) \n",
    "# 3. load the new state dict\n",
    "model.load_state_dict(state_dict)\n",
    "model.to(device)"
   ]
  },
  {
   "cell_type": "code",
   "execution_count": 14,
   "metadata": {},
   "outputs": [],
   "source": [
    "size = 4096 * 4"
   ]
  },
  {
   "cell_type": "code",
   "execution_count": 15,
   "metadata": {},
   "outputs": [
    {
     "data": {
      "application/vnd.jupyter.widget-view+json": {
       "model_id": "577d6e5924df458c815b34143e36b7f2",
       "version_major": 2,
       "version_minor": 0
      },
      "text/plain": [
       "  0%|          | 0/4 [00:00<?, ?it/s]"
      ]
     },
     "metadata": {},
     "output_type": "display_data"
    }
   ],
   "source": [
    "pis, locs, scales = inference(model, size, min(4096, size), coeffs, device, full_cov=False)"
   ]
  },
  {
   "cell_type": "code",
   "execution_count": 6,
   "metadata": {},
   "outputs": [
    {
     "data": {
      "application/vnd.jupyter.widget-view+json": {
       "model_id": "c25c31f6bc804a48aed26423d4ead6b5",
       "version_major": 2,
       "version_minor": 0
      },
      "text/plain": [
       "  0%|          | 0/5 [00:00<?, ?it/s]"
      ]
     },
     "metadata": {},
     "output_type": "display_data"
    },
    {
     "data": {
      "application/vnd.jupyter.widget-view+json": {
       "model_id": "c61df1e8674a4c64adf5fea849b6bbd2",
       "version_major": 2,
       "version_minor": 0
      },
      "text/plain": [
       "  0%|          | 0/16384 [00:00<?, ?it/s]"
      ]
     },
     "metadata": {},
     "output_type": "display_data"
    },
    {
     "data": {
      "application/vnd.jupyter.widget-view+json": {
       "model_id": "d83cc0eddeb345e0a70b591d07b4fdbe",
       "version_major": 2,
       "version_minor": 0
      },
      "text/plain": [
       "  0%|          | 0/16384 [00:00<?, ?it/s]"
      ]
     },
     "metadata": {},
     "output_type": "display_data"
    },
    {
     "data": {
      "application/vnd.jupyter.widget-view+json": {
       "model_id": "2bb7a58501b545779acb8ab67161fb69",
       "version_major": 2,
       "version_minor": 0
      },
      "text/plain": [
       "  0%|          | 0/16384 [00:00<?, ?it/s]"
      ]
     },
     "metadata": {},
     "output_type": "display_data"
    },
    {
     "data": {
      "application/vnd.jupyter.widget-view+json": {
       "model_id": "13320a83e692408d86610fa73aaac4af",
       "version_major": 2,
       "version_minor": 0
      },
      "text/plain": [
       "  0%|          | 0/16384 [00:00<?, ?it/s]"
      ]
     },
     "metadata": {},
     "output_type": "display_data"
    },
    {
     "data": {
      "application/vnd.jupyter.widget-view+json": {
       "model_id": "508ffd95772d423cb526f561a0697e72",
       "version_major": 2,
       "version_minor": 0
      },
      "text/plain": [
       "  0%|          | 0/16384 [00:00<?, ?it/s]"
      ]
     },
     "metadata": {},
     "output_type": "display_data"
    }
   ],
   "source": [
    "pred_global, pred_global_loglik, pred_close, pred_close_loglik = get_peak_pred(pis, locs, scales, Y, n_step=1000)"
   ]
  },
  {
   "cell_type": "code",
   "execution_count": 16,
   "metadata": {},
   "outputs": [],
   "source": [
    "def prepare_lc_mdn(X, pis, locs):\n",
    "    mag = X[:, :, 1] / 5 + 18\n",
    "    flux = 10 ** (0.4 * (18 - mag))\n",
    "    merr = torch.ones_like(mag) * 0.033\n",
    "    ferr = merr*flux*np.log(10)/2.5\n",
    "    # times, mag, flux, ferr\n",
    "    lc = torch.stack([X[:, :, 0], mag, flux, ferr], dim=-1)\n",
    "    first_indices = torch.arange(len(pis))[:, None]\n",
    "    order = torch.argsort(pis, dim=-1, descending=True)\n",
    "    pis = pis[first_indices, order]\n",
    "    locs = locs[first_indices, order]\n",
    "    return lc.numpy(), pis.numpy(), locs.numpy()"
   ]
  },
  {
   "cell_type": "code",
   "execution_count": 6,
   "metadata": {},
   "outputs": [
    {
     "data": {
      "application/vnd.jupyter.widget-view+json": {
       "model_id": "54fbc2b7c38c4cb6b73c35e8b4364376",
       "version_major": 2,
       "version_minor": 0
      },
      "text/plain": [
       "  0%|          | 0/4 [00:00<?, ?it/s]"
      ]
     },
     "metadata": {},
     "output_type": "display_data"
    }
   ],
   "source": [
    "X_gap = torch.tensor(np.load('/work/hmzhao/X_gap.npy'))\n",
    "\n",
    "# CDE interpolation with log_sig\n",
    "depth = 3; window_length = max(X_gap.shape[1]//100, 1)\n",
    "logsig = torchcde.logsig_windows(X_gap, depth, window_length=window_length)\n",
    "coeffs = torchcde.hermite_cubic_coefficients_with_backward_differences(logsig)\n",
    "\n",
    "pis_gap, locs_gap, scales_gap = inference(model, size, 4096, coeffs, device, full_cov=False)"
   ]
  },
  {
   "cell_type": "code",
   "execution_count": 79,
   "metadata": {},
   "outputs": [
    {
     "data": {
      "application/vnd.jupyter.widget-view+json": {
       "model_id": "a2886478081b48d8ba660746103330b6",
       "version_major": 2,
       "version_minor": 0
      },
      "text/plain": [
       "  0%|          | 0/4 [00:00<?, ?it/s]"
      ]
     },
     "metadata": {},
     "output_type": "display_data"
    },
    {
     "data": {
      "application/vnd.jupyter.widget-view+json": {
       "model_id": "0579460f218f4f19b8bf289561c8ec49",
       "version_major": 2,
       "version_minor": 0
      },
      "text/plain": [
       "  0%|          | 0/4 [00:00<?, ?it/s]"
      ]
     },
     "metadata": {},
     "output_type": "display_data"
    },
    {
     "data": {
      "application/vnd.jupyter.widget-view+json": {
       "model_id": "8d7278f48690472093a48fb524066255",
       "version_major": 2,
       "version_minor": 0
      },
      "text/plain": [
       "  0%|          | 0/4 [00:00<?, ?it/s]"
      ]
     },
     "metadata": {},
     "output_type": "display_data"
    },
    {
     "data": {
      "application/vnd.jupyter.widget-view+json": {
       "model_id": "716ce8551f624830b8ec35cb126302db",
       "version_major": 2,
       "version_minor": 0
      },
      "text/plain": [
       "  0%|          | 0/4 [00:00<?, ?it/s]"
      ]
     },
     "metadata": {},
     "output_type": "display_data"
    },
    {
     "data": {
      "application/vnd.jupyter.widget-view+json": {
       "model_id": "01b98b5b7857403da6560ef108d12d67",
       "version_major": 2,
       "version_minor": 0
      },
      "text/plain": [
       "  0%|          | 0/4 [00:00<?, ?it/s]"
      ]
     },
     "metadata": {},
     "output_type": "display_data"
    }
   ],
   "source": [
    "n_points_list = [400, 300, 200, 100]\n",
    "for i in tqdm(range(len(n_points_list))):\n",
    "    n_points = n_points_list[i]\n",
    "    subsample_ind = torch.argsort(torch.rand_like(X[:, :, 0]), dim=1)[:, :n_points]\n",
    "    X_sub = X[torch.arange(X.shape[0]).unsqueeze(-1), subsample_ind]\n",
    "    order = np.argsort(X_sub[:, :, 0].numpy(), axis=1)\n",
    "    X_sub = X_sub[torch.arange(X_sub.shape[0]).unsqueeze(-1), order]\n",
    "\n",
    "    # CDE interpolation with log_sig\n",
    "    depth = 3; window_length = max(n_points//100, 1)\n",
    "    logsig = torchcde.logsig_windows(X_sub, depth, window_length=window_length)\n",
    "    coeffs = torchcde.hermite_cubic_coefficients_with_backward_differences(logsig)\n",
    "\n",
    "    pis, locs, scales = inference(model, size, 4096, coeffs, device)\n",
    "\n",
    "    lc, pis_sort, locs_sort = prepare_lc_mdn(X_sub[:size], pis, locs)\n",
    "\n",
    "    np.savez(f'/work/hmzhao/opt_input_{n_points}.npz', lc=lc, locs=locs_sort)"
   ]
  },
  {
   "cell_type": "code",
   "execution_count": 7,
   "metadata": {},
   "outputs": [],
   "source": [
    "lc, pis_sort, locs_sort = prepare_lc_mdn(X_gap[:size], pis_gap, locs_gap)"
   ]
  },
  {
   "cell_type": "code",
   "execution_count": 17,
   "metadata": {},
   "outputs": [],
   "source": [
    "lc, pis_sort, locs_sort = prepare_lc_mdn(X[:size], pis, locs)"
   ]
  },
  {
   "cell_type": "code",
   "execution_count": 43,
   "metadata": {},
   "outputs": [],
   "source": [
    "def get_fsfb(amp, flux, ferr):\n",
    "    sig2 = ferr**2\n",
    "    wght = flux/sig2\n",
    "    d = np.ones(2)\n",
    "    d[0] = np.sum(wght*amp)\n",
    "    d[1] = np.sum(wght)\n",
    "    b = np.zeros((2,2))\n",
    "    b[0,0] = np.sum(amp**2/sig2)\n",
    "    b[0,1] = np.sum(amp/sig2)\n",
    "    b[1,0] = b[0,1]\n",
    "    b[1,1] = np.sum(1./sig2)\n",
    "    c = np.linalg.inv(b)\n",
    "    fs = np.sum(c[0]*d)\n",
    "    fb = np.sum(c[1]*d)\n",
    "    fserr = np.sqrt(c[0,0])\n",
    "    fberr = np.sqrt(c[1,1])\n",
    "    fmod = fs*amp+fb\n",
    "    chi2 = np.sum((flux-fmod)**2/sig2)\n",
    "    return chi2,fs,fb,fserr,fberr\n",
    "\n",
    "def compute_model_lc(time_array, fitting_parameters, VBBL):\n",
    "    u0, lgq, lgs, ad180 = fitting_parameters\n",
    "    q, s = 10**lgq, 10**lgs\n",
    "    alpha = ad180 * np.pi # convert to radian\n",
    "    t0, te, rho = 0, 1, 1e-3\n",
    "    tau = (time_array-t0)/te\n",
    "    xs = tau*np.cos(alpha) - u0*np.sin(alpha)\n",
    "    ys = tau*np.sin(alpha) + u0*np.cos(alpha)\n",
    "    magnifications = np.array([VBBL.BinaryMag2(s, q, xs[i], ys[i], rho) for i in range(len(xs))])\n",
    "    return magnifications"
   ]
  },
  {
   "cell_type": "code",
   "execution_count": 44,
   "metadata": {},
   "outputs": [],
   "source": [
    "def perform_optimization(time, flux, ferr, para_initial, verbose=True):\n",
    "    VBBL = VBBinaryLensing.VBBinaryLensing()\n",
    "    \n",
    "    def compute_chisq(fitting_parameters, time, flux, ferr, VBBL, return_model=False, penalty=False):\n",
    "        magnifications = compute_model_lc(time, fitting_parameters, VBBL)\n",
    "        chi2, fs, fb, fserr, fberr = get_fsfb(magnifications, flux, ferr)\n",
    "        if penalty:\n",
    "            if fitting_parameters[0] < 0 or fitting_parameters[0] > 1:\n",
    "                chi2 += 1e6\n",
    "            if fitting_parameters[1] < -3 or fitting_parameters[1] > 0:\n",
    "                chi2 += 1e6\n",
    "            if fitting_parameters[2] < np.log10(0.3) or fitting_parameters[2] > np.log10(3):\n",
    "                chi2 += 1e6\n",
    "            if fitting_parameters[3] < 0 or fitting_parameters[3] > 2:\n",
    "                chi2 += 1e6\n",
    "        if return_model:\n",
    "            return chi2, fs, fb\n",
    "        return chi2\n",
    "\n",
    "    para_best, chi2_min, iter, funcalls, warnflag, allevcs = fmin(compute_chisq, para_initial, args=(time, flux, ferr, VBBL), full_output=True, retall=True, maxiter=1000, maxfun=5000, disp=verbose)\n",
    "\n",
    "    chi2_min, fs, fb = compute_chisq(para_initial, time, flux, ferr, VBBL, return_model=True)\n",
    "    if verbose:\n",
    "        print('initial chisq: ', chi2_min)\n",
    "    chi2_min, fs, fb = compute_chisq(para_best, time, flux, ferr, VBBL, return_model=True)\n",
    "    if verbose:\n",
    "        print('best chisq & (fs, fb): ', chi2_min, fs, fb)\n",
    "    time_model = np.arange(-2, 2, 0.001)\n",
    "#    magnifications = compute_model_lc(time_model, para_initial, VBBL)\n",
    "    magnifications = compute_model_lc(time_model, para_best, VBBL)\n",
    "    mag_model = 18 - 2.5*np.log10(magnifications*fs + fb)\n",
    "    model = np.vstack((time_model, mag_model))\n",
    "    return para_best, chi2_min, model, warnflag"
   ]
  },
  {
   "cell_type": "code",
   "execution_count": 45,
   "metadata": {},
   "outputs": [
    {
     "data": {
      "text/plain": [
       "tensor([14833, 10317,  5253,  9467,  5467, 11009,  1422,  5647, 12368,   202])"
      ]
     },
     "execution_count": 45,
     "metadata": {},
     "output_type": "execute_result"
    }
   ],
   "source": [
    "((Y[:size] - pred_close)**2).sum(-1).sort()[1][:10]"
   ]
  },
  {
   "cell_type": "code",
   "execution_count": 47,
   "metadata": {},
   "outputs": [
    {
     "data": {
      "application/vnd.jupyter.widget-view+json": {
       "model_id": "4281284034eb48d197527a4f57752e21",
       "version_major": 2,
       "version_minor": 0
      },
      "text/plain": [
       "  0%|          | 0/4 [00:00<?, ?it/s]"
      ]
     },
     "metadata": {},
     "output_type": "display_data"
    },
    {
     "name": "stdout",
     "output_type": "stream",
     "text": [
      "[ 0.35691234 -0.3766332   0.01387216  1.1981429 ]\n",
      "Optimization terminated successfully.\n",
      "         Current function value: 472.073087\n",
      "         Iterations: 428\n",
      "         Function evaluations: 719\n",
      "initial chisq:  3928.1995881464004\n",
      "best chisq & (fs, fb):  472.07308702031435 0.1511735136287169 0.8494229202277586\n",
      "[ 0.4049499  -0.17934954  0.03731815  1.2369369 ]\n",
      "Warning: Maximum number of iterations has been exceeded.\n",
      "initial chisq:  5319.842240399615\n",
      "best chisq & (fs, fb):  1716.9045493532235 0.14332514878730196 0.8625563347478629\n",
      "[ 0.3614923  -0.08375024  0.07263725  0.7632561 ]\n",
      "Optimization terminated successfully.\n",
      "         Current function value: 4564.689798\n",
      "         Iterations: 280\n",
      "         Function evaluations: 524\n",
      "initial chisq:  5955.789140511929\n",
      "best chisq & (fs, fb):  4564.689798369844 0.07485538766052602 0.9736873668596733\n",
      "[ 0.23538241 -0.28506428  0.06707858  0.8209482 ]\n",
      "Optimization terminated successfully.\n",
      "         Current function value: 3652.033552\n",
      "         Iterations: 224\n",
      "         Function evaluations: 415\n",
      "initial chisq:  5616.858042585844\n",
      "best chisq & (fs, fb):  3652.0335524855027 0.06813170514587386 0.9717175521130708\n",
      "     weight        u0       lgq       lgs     a/180      lgfs     chi2_min  \\\n",
      "0  0.532400  0.356912 -0.376633  0.013872  1.198143 -0.750547   472.073087   \n",
      "1  0.163172  0.404950 -0.179350  0.037318  1.236937 -0.714529  1716.904549   \n",
      "2  0.131575  0.361492 -0.083750  0.072637  0.763256 -0.701654  4564.689798   \n",
      "3  0.050880  0.235382 -0.285064  0.067079  0.820948 -0.803381  3652.033552   \n",
      "\n",
      "   fmin_flag   u0_best  lgq_best  lgs_best  alpha/180_best  \n",
      "0        0.0  0.341933 -0.371702  0.016616        1.187736  \n",
      "1        2.0  0.303720 -0.747872  0.011223        1.168057  \n",
      "2        0.0  0.298531 -0.090937  0.081392        0.774439  \n",
      "3        0.0  0.208847 -0.334016  0.065540        0.806716  \n"
     ]
    },
    {
     "data": {
      "image/png": "[encoded data removed]",
      "text/plain": [
       "<Figure size 432x288 with 1 Axes>"
      ]
     },
     "metadata": {
      "needs_background": "light"
     },
     "output_type": "display_data"
    }
   ],
   "source": [
    "verbose = True\n",
    "\n",
    "i = 0\n",
    "best_parameters = []\n",
    "for index in tqdm(range(4)):\n",
    "    para_initial = locs_sort[i, index, :-1]\n",
    "    if verbose:\n",
    "        print(para_initial)\n",
    "    para_best, chi2_min, model, warnflag = perform_optimization(lc[i, :, 0], lc[i, :, 2], lc[i, :, 3], para_initial, verbose=verbose)\n",
    "    best_parameters.append(np.hstack((chi2_min, warnflag, para_best)))\n",
    "    plt.plot(model[0], model[1], label=r'$\\pi$=%.2f, $\\chi^2$=%.1f'%(pis_sort[i, index], chi2_min))\n",
    "\n",
    "def compute_chisq(fitting_parameters, time, flux, ferr, VBBL, return_model=False):\n",
    "    magnifications = compute_model_lc(time, fitting_parameters, VBBL)\n",
    "    chi2, fs, fb, fserr, fberr = get_fsfb(magnifications, flux, ferr)\n",
    "    if return_model:\n",
    "        return chi2, fs, fb\n",
    "    return chi2\n",
    "\n",
    "chi2_min, fs, fb = compute_chisq(Y[i, :-1].numpy(), lc[i, :, 0], lc[i, :, 2], lc[i, :, 3], VBBinaryLensing.VBBinaryLensing(), return_model=True)\n",
    "time_model = np.arange(-2, 2, 0.001)\n",
    "magnifications = compute_model_lc(time_model, Y[i, :-1].numpy(), VBBinaryLensing.VBBinaryLensing())\n",
    "mag_model = 18 - 2.5*np.log10(magnifications*fs + fb)\n",
    "model = np.vstack((time_model, mag_model))\n",
    "best_parameters.append(np.hstack((chi2_min, warnflag, para_best)))\n",
    "plt.plot(model[0], model[1], label=r'truth, $\\chi^2$=%.1f' % (chi2_min), color='black', linestyle='--')\n",
    "\n",
    "chi2_min, fs, fb = compute_chisq(pred_close[i, :-1].numpy(), lc[i, :, 0], lc[i, :, 2], lc[i, :, 3], VBBinaryLensing.VBBinaryLensing(), return_model=True)\n",
    "time_model = np.arange(-2, 2, 0.001)\n",
    "magnifications = compute_model_lc(time_model, pred_close[i, :-1].numpy(), VBBinaryLensing.VBBinaryLensing())\n",
    "mag_model = 18 - 2.5*np.log10(magnifications*fs + fb)\n",
    "model = np.vstack((time_model, mag_model))\n",
    "best_parameters.append(np.hstack((chi2_min, warnflag, para_best)))\n",
    "plt.plot(model[0], model[1], label=r'close, $\\chi^2$=%.1f' % (chi2_min), color='red', linestyle='--')\n",
    "\n",
    "chi2_min, fs, fb = compute_chisq(pred_global[i, :-1].numpy(), lc[i, :, 0], lc[i, :, 2], lc[i, :, 3], VBBinaryLensing.VBBinaryLensing(), return_model=True)\n",
    "time_model = np.arange(-2, 2, 0.001)\n",
    "magnifications = compute_model_lc(time_model, pred_global[i, :-1].numpy(), VBBinaryLensing.VBBinaryLensing())\n",
    "mag_model = 18 - 2.5*np.log10(magnifications*fs + fb)\n",
    "model = np.vstack((time_model, mag_model))\n",
    "best_parameters.append(np.hstack((chi2_min, warnflag, para_best)))\n",
    "plt.plot(model[0], model[1], label=r'global, $\\chi^2$=%.1f' % (chi2_min), color='blue', linestyle='--')\n",
    "\n",
    "best_parameters = np.array(best_parameters)\n",
    "mdn_add = pandas.DataFrame(best_parameters, columns=('chi2_min', 'fmin_flag', 'u0_best', 'lgq_best', 'lgs_best', 'alpha/180_best'))\n",
    "mdn = pandas.DataFrame(np.vstack((pis_sort[i], locs_sort[i].T)).T, columns=('weight', 'u0', 'lgq', 'lgs', 'a/180', 'lgfs'))\n",
    "mdn = mdn.join(mdn_add, how='outer')\n",
    "if verbose:\n",
    "    print(mdn[:4])\n",
    "plt.scatter(lc[i, :, 0], lc[i, :, 1], marker='o', alpha=0.3)\n",
    "plt.gca().invert_yaxis()\n",
    "plt.legend(loc=0)\n",
    "# plt.xlim(-1, 1)\n",
    "plt.show()"
   ]
  },
  {
   "cell_type": "code",
   "execution_count": 48,
   "metadata": {},
   "outputs": [
    {
     "name": "stdout",
     "output_type": "stream",
     "text": [
      "ground truth:  [ 0.34033019 -0.35541759  0.01886043  1.18859352 -0.81332128]\n",
      "global:  [ 0.37037036 -0.3963964   0.02822824  1.1771772  -0.7287287 ]\n",
      "close:  [ 0.37037036 -0.3963964   0.02822824  1.1771772  -0.7287287 ]\n",
      "     weight   u0_best  lgq_best  lgs_best  alpha/180_best      lgfs\n",
      "0  0.532400  0.341933 -0.371702  0.016616        1.187736 -0.750547\n",
      "1  0.163172  0.303720 -0.747872  0.011223        1.168057 -0.714529\n",
      "2  0.131575  0.298531 -0.090937  0.081392        0.774439 -0.701654\n",
      "3  0.050880  0.208847 -0.334016  0.065540        0.806716 -0.803381\n",
      "4  0.035235  0.208847 -0.334016  0.065540        0.806716 -0.683718\n"
     ]
    }
   ],
   "source": [
    "print('ground truth: ', Y[i].numpy())\n",
    "print('global: ', pred_global[i].numpy())\n",
    "print('close: ', pred_close[i].numpy())\n",
    "print(mdn.loc[:4, ['weight', 'u0_best', 'lgq_best', 'lgs_best', 'alpha/180_best', 'lgfs']])"
   ]
  },
  {
   "cell_type": "code",
   "execution_count": 61,
   "metadata": {},
   "outputs": [],
   "source": [
    "lc1 = X[i, :, :].numpy()\n",
    "lc1[:, 1] /= 5\n",
    "np.savetxt('./lc1.csv', lc1, delimiter=',')\n",
    "np.savez('./mdn1.npz', pi=pis[i].numpy(), loc=locs[i].numpy(), scale=scales[i].numpy())"
   ]
  },
  {
   "cell_type": "code",
   "execution_count": 50,
   "metadata": {},
   "outputs": [
    {
     "data": {
      "application/vnd.jupyter.widget-view+json": {
       "model_id": "c874179682aa4524b1b9c2cca346a1b6",
       "version_major": 2,
       "version_minor": 0
      },
      "text/plain": [
       "  0%|          | 0/100 [00:00<?, ?it/s]"
      ]
     },
     "metadata": {},
     "output_type": "display_data"
    }
   ],
   "source": [
    "verbose = False\n",
    "\n",
    "n_gau = 4\n",
    "best_parameters = np.zeros((100, n_gau, 6))\n",
    "\n",
    "for i in tqdm(range(100)):\n",
    "    for index in range(n_gau):\n",
    "        para_initial = locs_sort[i, index, :-1]\n",
    "        if verbose:\n",
    "            print(para_initial)\n",
    "        para_best, chi2_min, model, warnflag = perform_optimization(lc[i, :, 0], lc[i, :, 2], lc[i, :, 3], para_initial, verbose=verbose)\n",
    "        best_parameters[i, index] = np.hstack((chi2_min, warnflag, para_best))"
   ]
  },
  {
   "cell_type": "code",
   "execution_count": 18,
   "metadata": {},
   "outputs": [],
   "source": [
    "np.savez('./opt_input_500.npz', lc=lc, locs=locs_sort)"
   ]
  },
  {
   "cell_type": "code",
   "execution_count": null,
   "metadata": {},
   "outputs": [],
   "source": [
    "np.save('/work/hmzhao/best_parameters.npy', best_parameters)"
   ]
  },
  {
   "cell_type": "code",
   "execution_count": 13,
   "metadata": {},
   "outputs": [],
   "source": [
    "best_parameters = np.load('./best_parameters.npy')"
   ]
  },
  {
   "cell_type": "code",
   "execution_count": 51,
   "metadata": {},
   "outputs": [],
   "source": [
    "order = np.argsort(best_parameters[:, :, 0], axis=-1)\n",
    "best_parameters_sort = best_parameters[np.arange(len(order))[:, None], order]"
   ]
  },
  {
   "cell_type": "code",
   "execution_count": 52,
   "metadata": {},
   "outputs": [
    {
     "data": {
      "image/png": "[encoded data removed]",
      "text/plain": [
       "<Figure size 432x288 with 1 Axes>"
      ]
     },
     "metadata": {
      "needs_background": "light"
     },
     "output_type": "display_data"
    }
   ],
   "source": [
    "plt.hist(best_parameters_sort[:, 0, 0], bins=1000, density=True, cumulative=True)\n",
    "plt.xlim(500, 5000)\n",
    "plt.show()"
   ]
  },
  {
   "cell_type": "code",
   "execution_count": 53,
   "metadata": {},
   "outputs": [
    {
     "data": {
      "text/plain": [
       "0.51"
      ]
     },
     "execution_count": 53,
     "metadata": {},
     "output_type": "execute_result"
    }
   ],
   "source": [
    "np.sum(best_parameters_sort[:, 0, 0] < 500)/len(best_parameters_sort)"
   ]
  },
  {
   "cell_type": "code",
   "execution_count": 54,
   "metadata": {},
   "outputs": [],
   "source": [
    "ind = best_parameters_sort[:, 0, 0] < 500"
   ]
  },
  {
   "cell_type": "code",
   "execution_count": 55,
   "metadata": {},
   "outputs": [],
   "source": [
    "pred = best_parameters_sort[:, 0, 2:]"
   ]
  },
  {
   "cell_type": "code",
   "execution_count": 56,
   "metadata": {},
   "outputs": [
    {
     "ename": "ValueError",
     "evalue": "operands could not be broadcast together with shapes (100,4,4) (16384,1,4) ",
     "output_type": "error",
     "traceback": [
      "\u001b[0;31m---------------------------------------------------------------------------\u001b[0m",
      "\u001b[0;31mValueError\u001b[0m                                Traceback (most recent call last)",
      "\u001b[1;32m/home/hmzhao/latent-ode-microlensing/downhill_optimize.ipynb Cell 26'\u001b[0m in \u001b[0;36m<cell line: 1>\u001b[0;34m()\u001b[0m\n\u001b[0;32m----> <a href='vscode-notebook-cell://ssh-remote%2B7b22686f73744e616d65223a224d657469735f446f415f544855227d/home/hmzhao/latent-ode-microlensing/downhill_optimize.ipynb#ch0000023vscode-remote?line=0'>1</a>\u001b[0m order_c \u001b[39m=\u001b[39m np\u001b[39m.\u001b[39margsort(((best_parameters[:, :, \u001b[39m2\u001b[39;49m:] \u001b[39m-\u001b[39;49m Y[:\u001b[39m4096\u001b[39;49m\u001b[39m*\u001b[39;49m\u001b[39m4\u001b[39;49m, \u001b[39mNone\u001b[39;49;00m, :\u001b[39m-\u001b[39;49m\u001b[39m1\u001b[39;49m]\u001b[39m.\u001b[39;49mnumpy())\u001b[39m*\u001b[39m\u001b[39m*\u001b[39m\u001b[39m2\u001b[39m)\u001b[39m.\u001b[39msum(\u001b[39m-\u001b[39m\u001b[39m1\u001b[39m), axis\u001b[39m=\u001b[39m\u001b[39m-\u001b[39m\u001b[39m1\u001b[39m)\n\u001b[1;32m      <a href='vscode-notebook-cell://ssh-remote%2B7b22686f73744e616d65223a224d657469735f446f415f544855227d/home/hmzhao/latent-ode-microlensing/downhill_optimize.ipynb#ch0000023vscode-remote?line=1'>2</a>\u001b[0m best_parameters_sortc \u001b[39m=\u001b[39m best_parameters[np\u001b[39m.\u001b[39marange(\u001b[39mlen\u001b[39m(order))[:, \u001b[39mNone\u001b[39;00m], order_c]\n\u001b[1;32m      <a href='vscode-notebook-cell://ssh-remote%2B7b22686f73744e616d65223a224d657469735f446f415f544855227d/home/hmzhao/latent-ode-microlensing/downhill_optimize.ipynb#ch0000023vscode-remote?line=2'>3</a>\u001b[0m pred_c \u001b[39m=\u001b[39m best_parameters_sortc[:, \u001b[39m0\u001b[39m, \u001b[39m2\u001b[39m:]\n",
      "\u001b[0;31mValueError\u001b[0m: operands could not be broadcast together with shapes (100,4,4) (16384,1,4) "
     ]
    }
   ],
   "source": [
    "order_c = np.argsort(((best_parameters[:, :, 2:] - Y[:4096*4, None, :-1].numpy())**2).sum(-1), axis=-1)\n",
    "best_parameters_sortc = best_parameters[np.arange(len(order))[:, None], order_c]\n",
    "pred_c = best_parameters_sortc[:, 0, 2:]"
   ]
  },
  {
   "cell_type": "code",
   "execution_count": 57,
   "metadata": {},
   "outputs": [],
   "source": [
    "def plot_params(num, Y, pred, chi2,\n",
    "                title=None, figsize=(16, 8), labelsize=14, alpha=0.1, save=None,\n",
    "                ):\n",
    "    rmse = []\n",
    "\n",
    "    ind_chi2 = []\n",
    "    chi2_list = [(0, 500), (500, 1000), (1000, 2000), (2000, np.inf)]\n",
    "    # colors = ['lightgrey', 'darkgrey', 'grey', 'black']\n",
    "    colors = ['black', 'grey', 'darkgrey', 'lightgrey']\n",
    "    for left, right in chi2_list:\n",
    "        ind_chi2.append(np.logical_and(chi2 > left, chi2 < right))\n",
    "\n",
    "    fig = plt.figure(figsize=figsize)\n",
    "    axq = plt.subplot2grid(shape=(2, 4), loc=(0, 0), rowspan=1, colspan=1)\n",
    "    axq.axis('square')\n",
    "    axq.set_xlim(-3, 0)\n",
    "    axq.set_ylim(-3, 0)\n",
    "    axq.set_xlabel(r'true $\\lg q$', fontsize=labelsize)\n",
    "    axq.set_ylabel(r'predicted $\\lg q$', fontsize=labelsize)\n",
    "    for i, ind in enumerate(ind_chi2):\n",
    "        axq.scatter(Y[:num, 1][ind], pred[:num, 1][ind], s=3, label=r'$\\chi2 \\in (%s, %s)$' % (\n",
    "            chi2_list[i][0], chi2_list[i][1]\n",
    "        ), alpha=alpha, rasterized=True, color=colors[i])\n",
    "    axq.plot(np.linspace(-3, 0), np.linspace(-3, 0), color='b', linestyle='dashed')\n",
    "    axq.legend(loc='lower right', prop={'size': 7})\n",
    "    at = AnchoredText(\n",
    "        \"RMSE=%.4f\" % (np.sqrt(torch.mean((Y[:num, 1] -  pred[:num, 1])**2).detach().cpu().item())), prop=dict(size=12), frameon=False, loc='upper left')\n",
    "    axq.add_artist(at)\n",
    "    \n",
    "    axs = plt.subplot2grid(shape=(2, 4), loc=(0, 1), rowspan=1, colspan=1)\n",
    "    axs.axis('square')\n",
    "    axs.set_xlim(np.log10(0.3), np.log10(3))\n",
    "    axs.set_ylim(np.log10(0.3), np.log10(3))\n",
    "    axs.set_xlabel(r'true $\\lg s$', fontsize=labelsize)\n",
    "    axs.set_ylabel(r'predicted $\\lg s$', fontsize=labelsize)\n",
    "    for i, ind in enumerate(ind_chi2):\n",
    "        axs.scatter(Y[:num, 2][ind], pred[:num, 2][ind], s=3, label=r'$\\chi2 \\in (%s, %s)$' % (\n",
    "            chi2_list[i][0], chi2_list[i][1]\n",
    "        ), alpha=alpha, rasterized=True, color=colors[i])\n",
    "    axs.plot(np.linspace(-0.6, 0.6), np.linspace(-0.6, 0.6), color='b', linestyle='dashed')\n",
    "    # axs.legend(loc='lower right')\n",
    "    at = AnchoredText(\n",
    "        \"RMSE=%.4f\" % (np.sqrt(torch.mean((Y[:num, 2] -  pred[:num, 2])**2).detach().cpu().item())), prop=dict(size=12), frameon=False, loc='upper left')\n",
    "    axs.add_artist(at)\n",
    "\n",
    "    axu = plt.subplot2grid(shape=(2, 4), loc=(0, 2), rowspan=1, colspan=1)\n",
    "    axu.axis('square')\n",
    "    axu.set_xlim(0, 1)\n",
    "    axu.set_ylim(0, 1)\n",
    "    axu.set_xlabel(r'true $u_0$', fontsize=labelsize)\n",
    "    axu.set_ylabel(r'predicted $u_0$', fontsize=labelsize)\n",
    "    for i, ind in enumerate(ind_chi2):\n",
    "        axu.scatter(Y[:num, 0][ind], pred[:num, 0][ind], s=3, label=r'$\\chi2 \\in (%s, %s)$' % (\n",
    "            chi2_list[i][0], chi2_list[i][1]\n",
    "        ), alpha=alpha, rasterized=True, color=colors[i])\n",
    "    axu.plot(np.linspace(0, 1), np.linspace(0, 1), color='b', linestyle='dashed')\n",
    "    # axu.legend(loc='lower right')\n",
    "    at = AnchoredText(\n",
    "        \"RMSE=%.4f\" % (np.sqrt(torch.mean((Y[:num, 0] -  pred[:num, 0])**2).detach().cpu().item())), prop=dict(size=12), frameon=False, loc='upper left')\n",
    "    axu.add_artist(at)\n",
    "\n",
    "    axa = plt.subplot2grid(shape=(2, 4), loc=(0, 3), rowspan=1, colspan=1)\n",
    "    axa.axis('square')\n",
    "    axa.set_xlim(0, 360)\n",
    "    axa.set_ylim(0, 360)\n",
    "    axa.set_xlabel(r'true $\\alpha$ (deg)', fontsize=labelsize)\n",
    "    axa.set_ylabel(r'predicted $\\alpha$ (deg)', fontsize=labelsize)\n",
    "    for i, ind in enumerate(ind_chi2):\n",
    "        axa.scatter(Y[:num, 3][ind]*180, pred[:num, 3][ind]*180, s=3, label=r'$\\chi2 \\in (%s, %s)$' % (\n",
    "            chi2_list[i][0], chi2_list[i][1]\n",
    "        ), alpha=alpha, rasterized=True, color=colors[i])\n",
    "    axa.plot(np.linspace(0, 360), np.linspace(0, 360), color='b', linestyle='dashed')\n",
    "    # axa.legend(loc='lower right')\n",
    "    at = AnchoredText(\n",
    "        \"RMSE=%.3f\" % np.sqrt((torch.mean((Y[:num, 3] -  pred[:num, 3])**2).detach().cpu().item())*180), prop=dict(size=12), frameon=False, loc='upper left')\n",
    "    axa.add_artist(at)\n",
    "    plt.tight_layout()\n",
    "        \n",
    "    if title != None:\n",
    "        fig.suptitle(title)\n",
    "\n",
    "    if save != None:\n",
    "        plt.savefig(save)\n",
    "    \n",
    "    plt.show()\n",
    "    return rmse"
   ]
  },
  {
   "cell_type": "code",
   "execution_count": 72,
   "metadata": {},
   "outputs": [],
   "source": [
    "for i in range(len(pred)):\n",
    "    if pred[i, 1] > 0:\n",
    "        pred[i, 1] = -pred[i, 1]\n",
    "        pred[i, 3] = 360 - pred[i, 3]\n",
    "    if pred[i, 3] < 0:\n",
    "        pred[i, 3] = - pred[i, 3]"
   ]
  },
  {
   "cell_type": "code",
   "execution_count": 73,
   "metadata": {},
   "outputs": [
    {
     "data": {
      "image/png": "[encoded data removed]",
      "text/plain": [
       "<Figure size 1152x576 with 4 Axes>"
      ]
     },
     "metadata": {
      "needs_background": "light"
     },
     "output_type": "display_data"
    }
   ],
   "source": [
    "# rmse = plot_params(num=4096*4, Y=Y[:4096*4][:], pred=pred_c[:], chi2=best_parameters_sortc[:, 0, 0], alpha=0.2)\n",
    "rmse = plot_params(num=100, Y=Y[:100][:], pred=pred[:], chi2=best_parameters_sort[:, 0, 0], alpha=1)"
   ]
  },
  {
   "cell_type": "code",
   "execution_count": 64,
   "metadata": {},
   "outputs": [
    {
     "data": {
      "image/png": "[encoded data removed]",
      "text/plain": [
       "<Figure size 432x288 with 1 Axes>"
      ]
     },
     "metadata": {
      "needs_background": "light"
     },
     "output_type": "display_data"
    }
   ],
   "source": [
    "plt.hist(best_parameters_sort[:, 0, 3], bins=1000, density=True, cumulative=True)\n",
    "plt.xlim(-3, 0)\n",
    "plt.show()"
   ]
  },
  {
   "cell_type": "code",
   "execution_count": 38,
   "metadata": {},
   "outputs": [
    {
     "data": {
      "text/plain": [
       "tensor(-1.6246, dtype=torch.float64)"
      ]
     },
     "execution_count": 38,
     "metadata": {},
     "output_type": "execute_result"
    }
   ],
   "source": [
    "Y[:100][:][:, 1][94]"
   ]
  },
  {
   "cell_type": "code",
   "execution_count": 37,
   "metadata": {},
   "outputs": [
    {
     "data": {
      "text/plain": [
       "-2.115770729544508"
      ]
     },
     "execution_count": 37,
     "metadata": {},
     "output_type": "execute_result"
    }
   ],
   "source": [
    "pred[:][:, 1][94]"
   ]
  },
  {
   "cell_type": "code",
   "execution_count": 36,
   "metadata": {},
   "outputs": [
    {
     "data": {
      "text/plain": [
       "array([47, 60, 10, 73, 95,  2, 27, 84, 62, 19, 37, 56, 11, 46, 21, 64, 15,\n",
       "       30, 55, 20, 38, 33, 32, 91, 72, 77, 87,  5, 25,  7, 85, 83,  9, 52,\n",
       "       90, 66, 51, 39, 89, 70,  4, 98, 96, 13, 75, 23,  0, 36, 14, 74, 58,\n",
       "       44, 81, 79,  3, 50, 17,  8, 53, 34, 88, 76, 65, 97, 69, 93,  6, 48,\n",
       "       86, 12, 16, 71, 28, 22, 24, 57, 99, 68, 45, 41, 42, 49, 43, 61, 82,\n",
       "       63, 92, 78, 29, 31, 26, 40, 67, 35, 54, 80, 59, 18,  1, 94])"
      ]
     },
     "execution_count": 36,
     "metadata": {},
     "output_type": "execute_result"
    }
   ],
   "source": [
    "np.argsort((pred[:][:, 2] - Y[:100][:][:, 2].numpy())**2)"
   ]
  },
  {
   "cell_type": "code",
   "execution_count": null,
   "metadata": {},
   "outputs": [],
   "source": []
  }
 ],
 "metadata": {
  "interpreter": {
   "hash": "274e8ed069bc503cc01fa1aa16068ccb03180744fbf761618fb0dbde6179c71c"
  },
  "kernelspec": {
   "display_name": "Python 3.9.12 ('ode-rnn')",
   "language": "python",
   "name": "python3"
  },
  "language_info": {
   "codemirror_mode": {
    "name": "ipython",
    "version": 3
   },
   "file_extension": ".py",
   "mimetype": "text/x-python",
   "name": "python",
   "nbconvert_exporter": "python",
   "pygments_lexer": "ipython3",
   "version": "3.9.12"
  },
  "orig_nbformat": 4
 },
 "nbformat": 4,
 "nbformat_minor": 2
}
