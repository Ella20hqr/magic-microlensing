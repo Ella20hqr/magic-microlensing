{
 "cells": [
  {
   "cell_type": "code",
   "execution_count": 1,
   "id": "f3308ef2",
   "metadata": {},
   "outputs": [],
   "source": [
    "import numpy as np\n",
    "import h5py\n",
    "import matplotlib.pyplot as plt\n",
    "import MulensModel as mm\n",
    "%matplotlib inline"
   ]
  },
  {
   "cell_type": "code",
   "execution_count": 2,
   "id": "ab650baf",
   "metadata": {},
   "outputs": [],
   "source": [
    "with h5py.File('/work/hmzhao/irregular-lc/roman-0-8dof-small.h5') as inp:\n",
    "    X_random = inp['X_random'][...]\n",
    "    X_even = inp['X_even'][...]\n",
    "    Y = inp['Y'][...]"
   ]
  },
  {
   "cell_type": "code",
   "execution_count": 16,
   "id": "13e9a2a7",
   "metadata": {},
   "outputs": [
    {
     "data": {
      "image/png": "[encoded data removed]",
      "text/plain": [
       "<Figure size 432x288 with 1 Axes>"
      ]
     },
     "metadata": {
      "needs_background": "light"
     },
     "output_type": "display_data"
    },
    {
     "name": "stdout",
     "output_type": "stream",
     "text": [
      "[1.87318841e+01 2.80371042e+00 6.47528947e-01 2.87889247e-04\n",
      " 1.40989349e-01 1.73211575e+00 3.25066514e+02 1.36905544e-01]\n",
      "34.31343310735827 -0.8508136954343257\n"
     ]
    }
   ],
   "source": [
    "num = 5\n",
    "plt.plot(X_even[num][:, 0], X_even[num][:, 1], color='red')\n",
    "plt.scatter(X_random[num][:, 0], X_random[num][:, 1])\n",
    "plt.legend(['even', 'random'])\n",
    "plt.show()\n",
    "print(Y[num])\n",
    "# plt.plot(X[num][:, 0], X[num][:, 1])\n",
    "# plt.errorbar(X[num][:, 0], X[num][:, 1], yerr = X[num][:, 2])\n",
    "\n",
    "single = mm.Model({'t_0': Y[num, 0], 'u_0': Y[num, 2], 't_E': Y[num, 1]})\n",
    "data = mm.MulensData([X_random[num, :, 0], X_random[num, :, 1], X_random[num, :, 2]], phot_fmt='flux')\n",
    "event_single = mm.Event([data], single)\n",
    "chi2 = event_single.get_chi2()\n",
    "print(chi2/7200, np.log10(Y[num, 4]))"
   ]
  },
  {
   "cell_type": "code",
   "execution_count": 5,
   "id": "c697d240",
   "metadata": {},
   "outputs": [
    {
     "data": {
      "application/vnd.jupyter.widget-view+json": {
       "model_id": "9101f6bfff7c477ba01de2d5e596b3fc",
       "version_major": 2,
       "version_minor": 0
      },
      "text/plain": [
       "  0%|          | 0/1000 [00:00<?, ?it/s]"
      ]
     },
     "metadata": {},
     "output_type": "display_data"
    }
   ],
   "source": [
    "from tqdm.notebook import tqdm\n",
    "chi2s = []\n",
    "for num in tqdm(range(len(Y))):\n",
    "    single = mm.Model({'t_0': Y[num, 0], 'u_0': Y[num, 2], 't_E': Y[num, 1]})\n",
    "    data = mm.MulensData([X_random[num, :, 0], X_random[num, :, 1], X_random[num, :, 2]], phot_fmt='flux')\n",
    "    event_single = mm.Event([data], single)\n",
    "    chi2 = event_single.get_chi2()\n",
    "    chi2s.append(chi2)"
   ]
  },
  {
   "cell_type": "code",
   "execution_count": 6,
   "id": "0caa159a",
   "metadata": {},
   "outputs": [
    {
     "data": {
      "image/png": "[encoded data removed]",
      "text/plain": [
       "<Figure size 432x288 with 1 Axes>"
      ]
     },
     "metadata": {
      "needs_background": "light"
     },
     "output_type": "display_data"
    }
   ],
   "source": [
    "hist = plt.hist(np.array(chi2s)/7200, bins=300, log=True)\n",
    "plt.show()"
   ]
  },
  {
   "cell_type": "code",
   "execution_count": 7,
   "id": "818dd254",
   "metadata": {},
   "outputs": [
    {
     "data": {
      "text/plain": [
       "1416.034499514153"
      ]
     },
     "execution_count": 7,
     "metadata": {},
     "output_type": "execute_result"
    }
   ],
   "source": [
    "(np.array(chi2s)/7200).max()"
   ]
  },
  {
   "cell_type": "code",
   "execution_count": 10,
   "id": "5c6581c1",
   "metadata": {},
   "outputs": [
    {
     "data": {
      "text/plain": [
       "array([ 9., 67., 92., 91., 71., 58., 46., 33., 39., 30.])"
      ]
     },
     "execution_count": 10,
     "metadata": {},
     "output_type": "execute_result"
    }
   ],
   "source": [
    "hist[0][:10]"
   ]
  },
  {
   "cell_type": "code",
   "execution_count": 9,
   "id": "de41c400",
   "metadata": {},
   "outputs": [
    {
     "data": {
      "text/plain": [
       "array([ 2.59236298,  7.30383676, 12.01531055, 16.72678434, 21.43825813])"
      ]
     },
     "execution_count": 9,
     "metadata": {},
     "output_type": "execute_result"
    }
   ],
   "source": [
    "hist[1][:5]"
   ]
  },
  {
   "cell_type": "code",
   "execution_count": null,
   "id": "3173c08b",
   "metadata": {},
   "outputs": [],
   "source": []
  }
 ],
 "metadata": {
  "interpreter": {
   "hash": "274e8ed069bc503cc01fa1aa16068ccb03180744fbf761618fb0dbde6179c71c"
  },
  "kernelspec": {
   "display_name": "Python 3 (ipykernel)",
   "language": "python",
   "name": "python3"
  },
  "language_info": {
   "codemirror_mode": {
    "name": "ipython",
    "version": 3
   },
   "file_extension": ".py",
   "mimetype": "text/x-python",
   "name": "python",
   "nbconvert_exporter": "python",
   "pygments_lexer": "ipython3",
   "version": "3.9.7"
  }
 },
 "nbformat": 4,
 "nbformat_minor": 5
}
