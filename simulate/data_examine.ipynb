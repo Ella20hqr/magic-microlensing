{
 "cells": [
  {
   "cell_type": "code",
   "execution_count": 1,
   "id": "f3308ef2",
   "metadata": {},
   "outputs": [],
   "source": [
    "import numpy as np\n",
    "import h5py\n",
    "import matplotlib.pyplot as plt\n",
    "import MulensModel as mm\n",
    "%matplotlib inline"
   ]
  },
  {
   "cell_type": "code",
   "execution_count": 6,
   "id": "ab650baf",
   "metadata": {},
   "outputs": [],
   "source": [
    "with h5py.File('/work/hmzhao/irregular-lc/random-even-batch-1.h5') as inp:\n",
    "    X_random = inp['X_random'][...]\n",
    "    X_even = inp['X_even'][...]\n",
    "    Y = inp['Y'][...]"
   ]
  },
  {
   "cell_type": "code",
   "execution_count": 2,
   "id": "a6a07abc",
   "metadata": {},
   "outputs": [],
   "source": [
    "with h5py.File('/work/hmzhao/irregular-lc/KMT-0.h5') as inp:\n",
    "    X = inp['X'][...]\n",
    "    Y = inp['Y'][...]"
   ]
  },
  {
   "cell_type": "code",
   "execution_count": 14,
   "id": "71865571",
   "metadata": {},
   "outputs": [
    {
     "data": {
      "image/png": "[encoded data removed]",
      "text/plain": [
       "<Figure size 432x288 with 1 Axes>"
      ]
     },
     "metadata": {
      "needs_background": "light"
     },
     "output_type": "display_data"
    },
    {
     "name": "stdout",
     "output_type": "stream",
     "text": [
      "[0.00000000e+00 1.00000000e+00 5.72466736e-02 2.05533396e-04\n",
      " 8.57016572e-03 1.06781194e+00 9.39534666e+00 1.00001666e-01]\n",
      "3455.5332973124514 -2.0670107801522324\n"
     ]
    }
   ],
   "source": [
    "num = 83559\n",
    "plt.scatter(X[num][:, 0], X[num][:, 1]-14.5-2.5*np.log10(Y[num, -1]), color='red')\n",
    "plt.show()\n",
    "print(Y[num])\n",
    "single = mm.Model({'t_0': Y[num, 0], 'u_0': Y[num, 2], 't_E': Y[num, 1]})\n",
    "data = mm.MulensData([X[num, :, 0], X[num, :, 1], X[num, :, 2]], phot_fmt='flux')\n",
    "event_single = mm.Event([data], single)\n",
    "chi2 = event_single.get_chi2()\n",
    "print(chi2, np.log10(Y[num, 4]))"
   ]
  },
  {
   "cell_type": "code",
   "execution_count": 11,
   "id": "fd63bbb0",
   "metadata": {},
   "outputs": [
    {
     "data": {
      "application/vnd.jupyter.widget-view+json": {
       "model_id": "7748a0972bcd45e485d877f1b0a5bfa2",
       "version_major": 2,
       "version_minor": 0
      },
      "text/plain": [
       "  0%|          | 0/100000 [00:00<?, ?it/s]"
      ]
     },
     "metadata": {},
     "output_type": "display_data"
    }
   ],
   "source": [
    "from tqdm.notebook import tqdm\n",
    "chi2s = []\n",
    "for num in tqdm(range(len(Y))):\n",
    "    single = mm.Model({'t_0': Y[num, 0], 'u_0': Y[num, 2], 't_E': Y[num, 1]})\n",
    "    data = mm.MulensData([X[num, :, 0], X[num, :, 1], X[num, :, 2]], phot_fmt='flux')\n",
    "    event_single = mm.Event([data], single)\n",
    "    chi2 = event_single.get_chi2()\n",
    "    chi2s.append(chi2)\n",
    "chi2s = np.array(chi2s)"
   ]
  },
  {
   "cell_type": "code",
   "execution_count": 6,
   "id": "5afee51a",
   "metadata": {},
   "outputs": [
    {
     "data": {
      "text/plain": [
       "83559"
      ]
     },
     "execution_count": 6,
     "metadata": {},
     "output_type": "execute_result"
    }
   ],
   "source": [
    "Y[:, -1].argmin()"
   ]
  },
  {
   "cell_type": "code",
   "execution_count": 25,
   "id": "b63efd99",
   "metadata": {},
   "outputs": [
    {
     "data": {
      "image/png": "[encoded data removed]",
      "text/plain": [
       "<Figure size 432x288 with 1 Axes>"
      ]
     },
     "metadata": {
      "needs_background": "light"
     },
     "output_type": "display_data"
    }
   ],
   "source": [
    "hist = plt.hist(np.log10(chi2s), bins=500, log=True)\n",
    "plt.show()"
   ]
  },
  {
   "cell_type": "code",
   "execution_count": 4,
   "id": "1ab9af66",
   "metadata": {},
   "outputs": [
    {
     "ename": "NameError",
     "evalue": "name 'X_even' is not defined",
     "output_type": "error",
     "traceback": [
      "\u001b[0;31m---------------------------------------------------------------------------\u001b[0m",
      "\u001b[0;31mNameError\u001b[0m                                 Traceback (most recent call last)",
      "\u001b[0;32m/tmp/ipykernel_69921/3171797160.py\u001b[0m in \u001b[0;36m<module>\u001b[0;34m\u001b[0m\n\u001b[0;32m----> 1\u001b[0;31m \u001b[0mX_even\u001b[0m \u001b[0;34m=\u001b[0m \u001b[0mnp\u001b[0m\u001b[0;34m.\u001b[0m\u001b[0mdelete\u001b[0m\u001b[0;34m(\u001b[0m\u001b[0mX_even\u001b[0m\u001b[0;34m,\u001b[0m \u001b[0;36m2718\u001b[0m\u001b[0;34m,\u001b[0m \u001b[0;36m0\u001b[0m\u001b[0;34m)\u001b[0m\u001b[0;34m\u001b[0m\u001b[0;34m\u001b[0m\u001b[0m\n\u001b[0m\u001b[1;32m      2\u001b[0m \u001b[0mX_random\u001b[0m \u001b[0;34m=\u001b[0m \u001b[0mnp\u001b[0m\u001b[0;34m.\u001b[0m\u001b[0mdelete\u001b[0m\u001b[0;34m(\u001b[0m\u001b[0mX_random\u001b[0m\u001b[0;34m,\u001b[0m \u001b[0;36m2718\u001b[0m\u001b[0;34m,\u001b[0m \u001b[0;36m0\u001b[0m\u001b[0;34m)\u001b[0m\u001b[0;34m\u001b[0m\u001b[0;34m\u001b[0m\u001b[0m\n\u001b[1;32m      3\u001b[0m \u001b[0mY\u001b[0m \u001b[0;34m=\u001b[0m \u001b[0mnp\u001b[0m\u001b[0;34m.\u001b[0m\u001b[0mdelete\u001b[0m\u001b[0;34m(\u001b[0m\u001b[0mY\u001b[0m\u001b[0;34m,\u001b[0m \u001b[0;36m2718\u001b[0m\u001b[0;34m,\u001b[0m \u001b[0;36m0\u001b[0m\u001b[0;34m)\u001b[0m\u001b[0;34m\u001b[0m\u001b[0;34m\u001b[0m\u001b[0m\n",
      "\u001b[0;31mNameError\u001b[0m: name 'X_even' is not defined"
     ]
    }
   ],
   "source": [
    "X_even = np.delete(X_even, 2718, 0)\n",
    "X_random = np.delete(X_random, 2718, 0)\n",
    "Y = np.delete(Y, 2718, 0)"
   ]
  },
  {
   "cell_type": "code",
   "execution_count": 6,
   "id": "9a7165c3",
   "metadata": {},
   "outputs": [
    {
     "data": {
      "text/plain": [
       "array([0.00000000e+00, 5.00000000e+01, 5.00052731e-01, 8.50489295e-03,\n",
       "       6.85174921e-02, 2.97909059e+00, 2.15215555e+02])"
      ]
     },
     "execution_count": 6,
     "metadata": {},
     "output_type": "execute_result"
    }
   ],
   "source": [
    "Y[0]"
   ]
  },
  {
   "cell_type": "code",
   "execution_count": 4,
   "id": "13e9a2a7",
   "metadata": {},
   "outputs": [
    {
     "data": {
      "image/png": "[encoded data removed]",
      "text/plain": [
       "<Figure size 432x288 with 1 Axes>"
      ]
     },
     "metadata": {
      "needs_background": "light"
     },
     "output_type": "display_data"
    },
    {
     "name": "stdout",
     "output_type": "stream",
     "text": [
      "[0.00000000e+00 5.00000000e+01 5.00052731e-01 8.50489295e-03\n",
      " 6.85174921e-02 2.97909059e+00 2.15215555e+02]\n",
      "0.703359852895534 -1.1641985413060159\n"
     ]
    }
   ],
   "source": [
    "num = 0\n",
    "plt.plot(X_even[num][:, 0], X_even[num][:, 1], color='red')\n",
    "plt.scatter(X_random[num][:, 0], X_random[num][:, 1])\n",
    "plt.legend(['even', 'random'])\n",
    "plt.show()\n",
    "print(Y[num])\n",
    "# plt.plot(X[num][:, 0], X[num][:, 1])\n",
    "# plt.errorbar(X[num][:, 0], X[num][:, 1], yerr = X[num][:, 2])\n",
    "\n",
    "single = mm.Model({'t_0': Y[num, 0], 'u_0': Y[num, 2], 't_E': Y[num, 1]})\n",
    "data = mm.MulensData([X_random[num, :, 0], X_random[num, :, 1], X_random[num, :, 2]], phot_fmt='flux')\n",
    "event_single = mm.Event([data], single)\n",
    "chi2 = event_single.get_chi2()\n",
    "print(chi2/7200, np.log10(Y[num, 4]))"
   ]
  },
  {
   "cell_type": "code",
   "execution_count": 11,
   "id": "d8425236",
   "metadata": {},
   "outputs": [
    {
     "name": "stdout",
     "output_type": "stream",
     "text": [
      "1\n"
     ]
    }
   ],
   "source": [
    "import MulensModel as mm\n",
    "\n",
    "parameters = {\n",
    "        't_0': Y[num, 0].item(),\n",
    "        't_E': Y[num, 1].item(),\n",
    "        'u_0': Y[num, 2].item(),\n",
    "        'rho': Y[num, 3].item(), \n",
    "        'q': Y[num, 4].item(), \n",
    "        's': Y[num, 5].item(), \n",
    "        'alpha': Y[num, 6].item(),\n",
    "    }\n",
    "# fs = Y[num, 7].item()\n",
    "fs = 1\n",
    "print(fs)\n",
    "modelmm = mm.Model(parameters, coords=None)\n",
    "times = modelmm.set_times(t_start=parameters['t_0']-2*parameters['t_E'], t_stop=parameters['t_0']+2*parameters['t_E'], n_epochs=1000)\n",
    "modelmm.set_magnification_methods([parameters['t_0']-2*parameters['t_E'], 'VBBL', parameters['t_0']+2*parameters['t_E']])\n",
    "magnification = modelmm.get_magnification(times)\n",
    "flux = 1000 * (magnification + (1 - (fs)) / (fs))\n",
    "mag = (22 - 2.5 * np.log10(flux))\n",
    "lc = np.stack([times, mag], axis=-1)"
   ]
  },
  {
   "cell_type": "code",
   "execution_count": 17,
   "id": "a21d7a77",
   "metadata": {},
   "outputs": [
    {
     "data": {
      "image/png": "[encoded data removed]",
      "text/plain": [
       "<Figure size 432x288 with 1 Axes>"
      ]
     },
     "metadata": {
      "needs_background": "light"
     },
     "output_type": "display_data"
    },
    {
     "name": "stdout",
     "output_type": "stream",
     "text": [
      "[0.00000000e+00 5.00000000e+01 5.00052731e-01 8.50489295e-03\n",
      " 6.85174921e-02 2.97909059e+00 2.15215555e+02]\n"
     ]
    }
   ],
   "source": [
    "plt.scatter(X_even[num, :, 0], X_even[num, :, 1], label='data', marker='x')\n",
    "plt.scatter(X_random[num, :, 0], X_random[num, :, 1], label='data', marker='+')\n",
    "plt.plot(lc[:, 0], lc[:, 1], label='actual', color='red')\n",
    "plt.legend()\n",
    "plt.show()\n",
    "print(Y[num])"
   ]
  },
  {
   "cell_type": "code",
   "execution_count": 22,
   "id": "c697d240",
   "metadata": {},
   "outputs": [
    {
     "data": {
      "application/vnd.jupyter.widget-view+json": {
       "model_id": "17c38e80f9cb4dae8a1ceb7bcdad5630",
       "version_major": 2,
       "version_minor": 0
      },
      "text/plain": [
       "  0%|          | 0/9999 [00:00<?, ?it/s]"
      ]
     },
     "metadata": {},
     "output_type": "display_data"
    }
   ],
   "source": [
    "from tqdm.notebook import tqdm\n",
    "chi2s = []\n",
    "for num in tqdm(range(len(Y))):\n",
    "    single = mm.Model({'t_0': Y[num, 0], 'u_0': Y[num, 2], 't_E': Y[num, 1]})\n",
    "    data = mm.MulensData([X_random[num, :, 0], X_random[num, :, 1], X_random[num, :, 2]], phot_fmt='flux')\n",
    "    event_single = mm.Event([data], single)\n",
    "    chi2 = event_single.get_chi2()\n",
    "    chi2s.append(chi2)"
   ]
  },
  {
   "cell_type": "code",
   "execution_count": 32,
   "id": "0caa159a",
   "metadata": {},
   "outputs": [
    {
     "data": {
      "image/png": "[encoded data removed]",
      "text/plain": [
       "<Figure size 432x288 with 1 Axes>"
      ]
     },
     "metadata": {
      "needs_background": "light"
     },
     "output_type": "display_data"
    }
   ],
   "source": [
    "hist = plt.hist(np.array(chi2s)/7200, bins=500, log=True)\n",
    "plt.show()"
   ]
  },
  {
   "cell_type": "code",
   "execution_count": 52,
   "id": "818dd254",
   "metadata": {},
   "outputs": [
    {
     "data": {
      "text/plain": [
       "(3056.916196418834, 2054)"
      ]
     },
     "execution_count": 52,
     "metadata": {},
     "output_type": "execute_result"
    }
   ],
   "source": [
    "chi2s_scaled = (np.array(chi2s)/7200)\n",
    "chi2s_scaled.max(), chi2s_scaled.argmin()"
   ]
  },
  {
   "cell_type": "code",
   "execution_count": 39,
   "id": "5c6581c1",
   "metadata": {},
   "outputs": [
    {
     "data": {
      "text/plain": [
       "array([  65.,  990., 1178.,  914.,  717.,  580.,  492.,  422.,  332.,\n",
       "        294.])"
      ]
     },
     "execution_count": 39,
     "metadata": {},
     "output_type": "execute_result"
    }
   ],
   "source": [
    "hist[0][:10]"
   ]
  },
  {
   "cell_type": "code",
   "execution_count": 40,
   "id": "de41c400",
   "metadata": {},
   "outputs": [
    {
     "data": {
      "text/plain": [
       "array([ 1.30075063,  7.41198152, 13.52321241, 19.63444331, 25.7456742 ])"
      ]
     },
     "execution_count": 40,
     "metadata": {},
     "output_type": "execute_result"
    }
   ],
   "source": [
    "hist[1][:5]"
   ]
  },
  {
   "cell_type": "code",
   "execution_count": 51,
   "id": "3173c08b",
   "metadata": {},
   "outputs": [
    {
     "name": "stdout",
     "output_type": "stream",
     "text": [
      "[1.30075063 1.43797483 1.5685558  1.96647588 2.47913432 2.52144555\n",
      " 3.24430018 3.38131445 3.43618686 3.45186053 3.6203067  3.6211056\n",
      " 3.6398955  3.67854056 3.82889494 3.83858377 4.353312   4.38628397\n",
      " 4.44958282 4.54331037 4.66247163 4.83646095 4.86993697 4.96529406\n",
      " 5.01153827 5.03911565 5.04502502 5.08701079 5.31998401 5.46673193\n",
      " 5.54382798 5.56990679 5.64844582 5.66956945 5.87024897 5.90559772\n",
      " 5.9539498  5.96323877 6.16250273 6.17174793 6.21284423 6.22352101\n",
      " 6.26331743 6.30299773 6.3420083  6.42495362 6.45469226 6.52600688\n",
      " 6.60567542 6.7629226  6.91200571 6.97703041 7.01212502 7.0263292\n",
      " 7.07285354 7.19809834 7.2044508  7.22083416 7.22916792 7.23268852\n",
      " 7.2396349  7.33856802 7.36724337 7.39392657 7.40692258 7.42976724\n",
      " 7.44977507 7.46093797 7.50715069 7.52063147 7.53187476 7.53429146\n",
      " 7.56197368 7.59337866 7.60348413 7.60376767 7.60589896 7.64158255\n",
      " 7.65225484 7.70333485 7.70492851 7.71194546 7.74348288 7.7465615\n",
      " 7.78022589 7.80614751 7.88788684 7.92424445 7.92480227 7.92642461\n",
      " 7.92867209 7.93516395 7.93859097 7.96933402 7.97390168 7.97965745\n",
      " 7.99225678 8.0172127  8.01881009 8.08531601]\n"
     ]
    }
   ],
   "source": [
    "chi2s_sort = np.sort(chi2s_scaled)\n",
    "print(chi2s_sort[:100])"
   ]
  },
  {
   "cell_type": "code",
   "execution_count": 58,
   "id": "7fd8fd84",
   "metadata": {},
   "outputs": [
    {
     "data": {
      "image/png": "[encoded data removed]",
      "text/plain": [
       "<Figure size 432x288 with 1 Axes>"
      ]
     },
     "metadata": {
      "needs_background": "light"
     },
     "output_type": "display_data"
    }
   ],
   "source": [
    "hist = plt.hist(np.log10(Y[:, 4]), bins=500,)\n",
    "plt.show()"
   ]
  },
  {
   "cell_type": "code",
   "execution_count": 59,
   "id": "5886fd36",
   "metadata": {},
   "outputs": [
    {
     "data": {
      "text/plain": [
       "9965"
      ]
     },
     "execution_count": 59,
     "metadata": {},
     "output_type": "execute_result"
    }
   ],
   "source": [
    "np.log10(Y[:, 4]).argmin()"
   ]
  },
  {
   "cell_type": "code",
   "execution_count": 61,
   "id": "3944c3ca",
   "metadata": {},
   "outputs": [
    {
     "data": {
      "image/png": "[encoded data removed]",
      "text/plain": [
       "<Figure size 432x288 with 1 Axes>"
      ]
     },
     "metadata": {
      "needs_background": "light"
     },
     "output_type": "display_data"
    }
   ],
   "source": [
    "hist = plt.hist(np.log10(Y[:, 5]), bins=500,)\n",
    "plt.show()"
   ]
  },
  {
   "cell_type": "code",
   "execution_count": null,
   "id": "1692aefc",
   "metadata": {},
   "outputs": [],
   "source": []
  }
 ],
 "metadata": {
  "interpreter": {
   "hash": "274e8ed069bc503cc01fa1aa16068ccb03180744fbf761618fb0dbde6179c71c"
  },
  "kernelspec": {
   "display_name": "Python 3 (ipykernel)",
   "language": "python",
   "name": "python3"
  },
  "language_info": {
   "codemirror_mode": {
    "name": "ipython",
    "version": 3
   },
   "file_extension": ".py",
   "mimetype": "text/x-python",
   "name": "python",
   "nbconvert_exporter": "python",
   "pygments_lexer": "ipython3",
   "version": "3.9.7"
  }
 },
 "nbformat": 4,
 "nbformat_minor": 5
}
