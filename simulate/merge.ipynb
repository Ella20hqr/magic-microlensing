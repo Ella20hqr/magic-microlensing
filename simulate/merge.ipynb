{
 "cells": [
  {
   "cell_type": "code",
   "execution_count": 1,
   "metadata": {},
   "outputs": [],
   "source": [
    "import numpy as np\n",
    "import h5py\n",
    "from tqdm.notebook import tqdm"
   ]
  },
  {
   "cell_type": "code",
   "execution_count": 2,
   "metadata": {},
   "outputs": [
    {
     "data": {
      "application/vnd.jupyter.widget-view+json": {
       "model_id": "0b1a6391eabf4502b85c0408e0fb0597",
       "version_major": 2,
       "version_minor": 0
      },
      "text/plain": [
       "  0%|          | 0/6 [00:00<?, ?it/s]"
      ]
     },
     "metadata": {},
     "output_type": "display_data"
    },
    {
     "name": "stdout",
     "output_type": "stream",
     "text": [
      "dataset 0, length 100000\n",
      "dataset 1, length 100000\n",
      "dataset 2, length 100000\n",
      "dataset 3, length 100000\n",
      "dataset 4, length 100000\n",
      "dataset 5, length 100000\n"
     ]
    }
   ],
   "source": [
    "for dataset in tqdm(range(6)):\n",
    "    X = []\n",
    "    Y = []\n",
    "    for batch in range(20):\n",
    "        filename = f'/work/hmzhao/irregular-lc/KMT-{batch + dataset * 20}-fixrho-mp.h5'\n",
    "        with h5py.File(filename, 'r') as opt:\n",
    "            X.append(opt['X'][...])\n",
    "            Y.append(opt['Y'][...])\n",
    "    X = np.vstack(X)\n",
    "    Y = np.vstack(Y)\n",
    "    tqdm.write(f'dataset {dataset}, length {len(Y)}')\n",
    "    with h5py.File(f'/work/hmzhao/irregular-lc/KMT-{dataset}-fixrho.h5', 'w') as opt:\n",
    "        opt['X'] = X\n",
    "        opt['Y'] = Y"
   ]
  }
 ],
 "metadata": {
  "interpreter": {
   "hash": "916dbcbb3f70747c44a77c7bcd40155683ae19c65e1c03b4aa3499c5328201f1"
  },
  "kernelspec": {
   "display_name": "Python 3.6.8 64-bit",
   "language": "python",
   "name": "python3"
  },
  "language_info": {
   "codemirror_mode": {
    "name": "ipython",
    "version": 3
   },
   "file_extension": ".py",
   "mimetype": "text/x-python",
   "name": "python",
   "nbconvert_exporter": "python",
   "pygments_lexer": "ipython3",
   "version": "3.9.6"
  },
  "orig_nbformat": 4
 },
 "nbformat": 4,
 "nbformat_minor": 2
}
