{
 "cells": [
  {
   "cell_type": "code",
   "execution_count": 1,
   "metadata": {},
   "outputs": [],
   "source": [
    "import numpy as np\n",
    "import MulensModel as mm\n",
    "import matplotlib.pyplot as plt\n",
    "import h5py\n",
    "from tqdm.notebook import tqdm"
   ]
  },
  {
   "cell_type": "code",
   "execution_count": 2,
   "metadata": {},
   "outputs": [],
   "source": [
    "with h5py.File(f'/work/hmzhao/irregular-lc/KMT-fixrho-0.h5', 'r') as opt:\n",
    "    X = opt['X'][...]\n",
    "    Y = opt['Y'][...]\n",
    "X = X[:, :, :2]"
   ]
  },
  {
   "cell_type": "code",
   "execution_count": 3,
   "metadata": {},
   "outputs": [],
   "source": [
    "def add_gap(X, n_chunks=25):\n",
    "    gap_len = X.shape[1] // n_chunks\n",
    "    gap_left = np.random.randint(0, X.shape[1]-gap_len, (len(X),))\n",
    "    X_gap = np.zeros((X.shape[0], X.shape[1]-gap_len, X.shape[2]))\n",
    "    for i in range(len(X)):\n",
    "        left, gap, right = np.split(X[i], [gap_left[i], gap_left[i] + gap_len], axis=0)\n",
    "        lc = np.vstack([left, right])\n",
    "        X_gap[i] = lc\n",
    "    return X_gap\n",
    "\n",
    "def simulate_lc(t_0, t_E, u_0, rho, q, s, alpha, fs, relative_uncertainty=0, n_points=500, times=None,\n",
    "                point_source=False, return_times=False):\n",
    "    time_settings = {\n",
    "            'type': 'random',\n",
    "            'n_epochs': n_points,\n",
    "            't_start': t_0-2*t_E,\n",
    "            't_stop': t_0+2*t_E,\n",
    "        }\n",
    "    if times is None:\n",
    "        raw = np.random.rand(time_settings['n_epochs'])\n",
    "        dt = time_settings['t_stop'] - time_settings['t_start']\n",
    "        times = time_settings['t_start'] + np.sort(raw) * dt\n",
    "    if point_source:\n",
    "        parameters = {\n",
    "            't_0': t_0,\n",
    "            't_E': t_E,\n",
    "            'u_0': u_0,\n",
    "            'q': q, \n",
    "            's': s, \n",
    "            'alpha': alpha,\n",
    "        }\n",
    "    else:\n",
    "        parameters = {\n",
    "            't_0': t_0,\n",
    "            't_E': t_E,\n",
    "            'u_0': u_0,\n",
    "            'rho': rho, \n",
    "            'q': q, \n",
    "            's': s, \n",
    "            'alpha': alpha,\n",
    "        }\n",
    "    modelmm = mm.Model(parameters, coords=None)\n",
    "    # times = modelmm.set_times(t_start=parameters['t_0']-2*parameters['t_E'], t_stop=parameters['t_0']+2*parameters['t_E'], n_epochs=n_points)\n",
    "    if point_source:\n",
    "        modelmm.set_magnification_methods([parameters['t_0']-2*parameters['t_E'], 'point_source', parameters['t_0']+2*parameters['t_E']])\n",
    "    else:\n",
    "        modelmm.set_magnification_methods([parameters['t_0']-2*parameters['t_E'], 'VBBL', parameters['t_0']+2*parameters['t_E']])\n",
    "    magnification = modelmm.get_magnification(times)\n",
    "    flux = 1000 * (magnification + (1-fs)/fs)\n",
    "    flux *= 1 + relative_uncertainty * np.random.randn(len(flux))\n",
    "    mag = (22 - 2.5 * np.log10(flux))\n",
    "    lc = np.stack([times, mag], axis=-1)\n",
    "    if return_times:\n",
    "        return lc, times\n",
    "    return lc"
   ]
  },
  {
   "cell_type": "code",
   "execution_count": 4,
   "metadata": {},
   "outputs": [],
   "source": [
    "X = add_gap(X)"
   ]
  },
  {
   "cell_type": "code",
   "execution_count": 34,
   "metadata": {},
   "outputs": [
    {
     "name": "stdout",
     "output_type": "stream",
     "text": [
      "[0.00000000e+00 1.00000000e+00 1.48898486e-02 3.17315413e-03\n",
      " 1.72476569e-01 7.47236727e-01 1.03581921e+02 8.42693693e-01]\n",
      "15.980926467487762 1091.2970397138704\n"
     ]
    },
    {
     "data": {
      "image/png": "[encoded data removed]",
      "text/plain": [
       "<Figure size 432x288 with 1 Axes>"
      ]
     },
     "metadata": {
      "needs_background": "light"
     },
     "output_type": "display_data"
    }
   ],
   "source": [
    "i = 8\n",
    "relative_uncertainty = 0.03\n",
    "params = Y[i].copy()\n",
    "params[3] = 10.**np.random.uniform(-4, -2)\n",
    "times = X[i, :, 0]\n",
    "data = simulate_lc(*params, relative_uncertainty=relative_uncertainty, times=times)\n",
    "lc = simulate_lc(*params, relative_uncertainty=0, times=times)\n",
    "lc_ps = simulate_lc(*params, relative_uncertainty=0, point_source=True, times=times)\n",
    "plt.scatter(times, data[:, 1])\n",
    "plt.plot(times, lc[:, 1])\n",
    "plt.plot(times, lc_ps[:, 1])\n",
    "print(params)\n",
    "chi2 = np.sum(((data[:, 1] - lc[:, 1]) / (2.5 * np.log(10) * relative_uncertainty))**2)\n",
    "chi2_ps = np.sum(((data[:, 1] - lc_ps[:, 1]) / (2.5 * np.log(10) * relative_uncertainty))**2)\n",
    "print(chi2, chi2_ps)"
   ]
  },
  {
   "cell_type": "code",
   "execution_count": 26,
   "metadata": {},
   "outputs": [
    {
     "data": {
      "application/vnd.jupyter.widget-view+json": {
       "model_id": "64fd48c6fd5b45199247550219059b5a",
       "version_major": 2,
       "version_minor": 0
      },
      "text/plain": [
       "  0%|          | 0/1000 [00:00<?, ?it/s]"
      ]
     },
     "metadata": {},
     "output_type": "display_data"
    }
   ],
   "source": [
    "dchi2 = []\n",
    "Y_rho = np.zeros_like(Y)\n",
    "for i in tqdm(range(len(X)//100)):\n",
    "    params = Y[i].copy()\n",
    "    params[3] = 10.**np.random.uniform(-4, -2)\n",
    "    times = X[i, :, 0]\n",
    "    data = simulate_lc(*params, relative_uncertainty=relative_uncertainty, times=times)\n",
    "    lc = simulate_lc(*params, relative_uncertainty=0, times=times)\n",
    "    lc_ps = simulate_lc(*params, relative_uncertainty=0, point_source=True, times=times)\n",
    "    chi2 = np.sum(((data[:, 1] - lc[:, 1]) / (2.5 * np.log(10) * relative_uncertainty))**2)\n",
    "    chi2_ps = np.sum(((data[:, 1] - lc_ps[:, 1]) / (2.5 * np.log(10) * relative_uncertainty))**2)\n",
    "    dchi2.append(chi2_ps - chi2)\n",
    "    Y_rho[i] = params"
   ]
  },
  {
   "cell_type": "code",
   "execution_count": 36,
   "metadata": {},
   "outputs": [
    {
     "data": {
      "text/plain": [
       "(array([844.,  36.,  31.,  20.,  15.,  11.,  15.,   7.,   3.,   1.,   3.,\n",
       "          9.,   0.,   0.,   2.,   0.,   0.,   0.,   0.,   0.,   0.,   0.,\n",
       "          0.,   0.,   0.,   1.,   0.,   0.,   0.,   0.,   0.,   0.,   0.,\n",
       "          0.,   0.,   0.,   0.,   0.,   0.,   0.,   0.,   0.,   1.,   0.,\n",
       "          0.,   0.,   0.,   0.,   0.,   0.,   0.,   0.,   0.,   0.,   0.,\n",
       "          0.,   0.,   0.,   0.,   0.,   0.,   0.,   0.,   0.,   0.,   0.,\n",
       "          0.,   0.,   0.,   0.,   0.,   0.,   0.,   0.,   0.,   0.,   0.,\n",
       "          0.,   0.,   0.,   0.,   0.,   0.,   0.,   0.,   0.,   0.,   0.,\n",
       "          0.,   0.,   0.,   0.,   0.,   0.,   0.,   0.,   0.,   0.,   0.,\n",
       "          1.]),\n",
       " array([-1.36331266e-01,  1.80079195e+01,  3.61521702e+01,  5.42964210e+01,\n",
       "         7.24406717e+01,  9.05849225e+01,  1.08729173e+02,  1.26873424e+02,\n",
       "         1.45017675e+02,  1.63161925e+02,  1.81306176e+02,  1.99450427e+02,\n",
       "         2.17594678e+02,  2.35738928e+02,  2.53883179e+02,  2.72027430e+02,\n",
       "         2.90171681e+02,  3.08315931e+02,  3.26460182e+02,  3.44604433e+02,\n",
       "         3.62748684e+02,  3.80892934e+02,  3.99037185e+02,  4.17181436e+02,\n",
       "         4.35325687e+02,  4.53469937e+02,  4.71614188e+02,  4.89758439e+02,\n",
       "         5.07902690e+02,  5.26046940e+02,  5.44191191e+02,  5.62335442e+02,\n",
       "         5.80479693e+02,  5.98623943e+02,  6.16768194e+02,  6.34912445e+02,\n",
       "         6.53056696e+02,  6.71200946e+02,  6.89345197e+02,  7.07489448e+02,\n",
       "         7.25633699e+02,  7.43777949e+02,  7.61922200e+02,  7.80066451e+02,\n",
       "         7.98210702e+02,  8.16354952e+02,  8.34499203e+02,  8.52643454e+02,\n",
       "         8.70787705e+02,  8.88931955e+02,  9.07076206e+02,  9.25220457e+02,\n",
       "         9.43364708e+02,  9.61508958e+02,  9.79653209e+02,  9.97797460e+02,\n",
       "         1.01594171e+03,  1.03408596e+03,  1.05223021e+03,  1.07037446e+03,\n",
       "         1.08851871e+03,  1.10666296e+03,  1.12480722e+03,  1.14295147e+03,\n",
       "         1.16109572e+03,  1.17923997e+03,  1.19738422e+03,  1.21552847e+03,\n",
       "         1.23367272e+03,  1.25181697e+03,  1.26996122e+03,  1.28810547e+03,\n",
       "         1.30624972e+03,  1.32439397e+03,  1.34253822e+03,  1.36068247e+03,\n",
       "         1.37882673e+03,  1.39697098e+03,  1.41511523e+03,  1.43325948e+03,\n",
       "         1.45140373e+03,  1.46954798e+03,  1.48769223e+03,  1.50583648e+03,\n",
       "         1.52398073e+03,  1.54212498e+03,  1.56026923e+03,  1.57841348e+03,\n",
       "         1.59655773e+03,  1.61470199e+03,  1.63284624e+03,  1.65099049e+03,\n",
       "         1.66913474e+03,  1.68727899e+03,  1.70542324e+03,  1.72356749e+03,\n",
       "         1.74171174e+03,  1.75985599e+03,  1.77800024e+03,  1.79614449e+03,\n",
       "         1.81428874e+03]),\n",
       " <BarContainer object of 100 artists>)"
      ]
     },
     "execution_count": 36,
     "metadata": {},
     "output_type": "execute_result"
    },
    {
     "data": {
      "image/png": "[encoded data removed]",
      "text/plain": [
       "<Figure size 432x288 with 1 Axes>"
      ]
     },
     "metadata": {
      "needs_background": "light"
     },
     "output_type": "display_data"
    }
   ],
   "source": [
    "plt.hist(dchi2, bins=100)"
   ]
  },
  {
   "cell_type": "code",
   "execution_count": null,
   "metadata": {},
   "outputs": [],
   "source": []
  }
 ],
 "metadata": {
  "interpreter": {
   "hash": "f9f85f796d01129d0dd105a088854619f454435301f6ffec2fea96ecbd9be4ac"
  },
  "kernelspec": {
   "display_name": "Python 3.9.6 64-bit",
   "language": "python",
   "name": "python3"
  },
  "language_info": {
   "codemirror_mode": {
    "name": "ipython",
    "version": 3
   },
   "file_extension": ".py",
   "mimetype": "text/x-python",
   "name": "python",
   "nbconvert_exporter": "python",
   "pygments_lexer": "ipython3",
   "version": "3.9.6"
  },
  "orig_nbformat": 4
 },
 "nbformat": 4,
 "nbformat_minor": 2
}
