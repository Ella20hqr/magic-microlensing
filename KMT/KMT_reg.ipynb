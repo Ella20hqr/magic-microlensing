{
 "cells": [
  {
   "cell_type": "code",
   "execution_count": 1,
   "metadata": {},
   "outputs": [],
   "source": [
    "import os, sys, re\n",
    "import numpy as np\n",
    "import matplotlib.pyplot as plt\n",
    "from tqdm.notebook import tqdm\n",
    "import torch\n",
    "import torchcde\n",
    "import h5py\n",
    "sys.path.append(os.path.dirname(os.getcwd()))"
   ]
  },
  {
   "cell_type": "code",
   "execution_count": 2,
   "metadata": {},
   "outputs": [],
   "source": [
    "eventid_list = np.array([\n",
    "    # Planet/Binary\n",
    "    '0328', '0570', '1196', '1860', '1914', \n",
    "    # Binary/Plan\n",
    "    '0002', '0104', '0143', '0149', '0182',\n",
    "    '0308', '0681', '0724', '1187', '1713',\n",
    "    '2270', '2485', '3199', \n",
    "    # Binary\n",
    "    '0021', '0200', '0209', '0236', '0270',\n",
    "    '0325', '0335', '0342', '0343', '0386',\n",
    "    '0412', '0535', '0561', '0609', '0649',\n",
    "    '0651', '0787', '0819', '0967', '1182',\n",
    "    '1195', '1281', '1291', '1334', '1363',\n",
    "    '1524', '1576', '1679', '1686', '1689',\n",
    "    '1700', '1722', '1850', '1984', '2063',\n",
    "    '2142', '2279', '2286', '2298', '2309',\n",
    "    '2324', '2496', '2596', '2599', '2655',\n",
    "    '2667', '2769', '2840', '2842', '2888',\n",
    "    ])"
   ]
  },
  {
   "cell_type": "code",
   "execution_count": 3,
   "metadata": {},
   "outputs": [],
   "source": [
    "q = torch.tensor([\n",
    "    # Planet/Binary\n",
    "    0.4270, np.nan, 0.2342, np.nan, 0.234,\n",
    "    # Binary/Plan\n",
    "    np.nan, np.nan, 0.0367, 0.0480, np.nan,\n",
    "    np.nan, np.nan, 0.1448, 0.1284, np.nan,\n",
    "    0.1734, 0.4270, np.nan,\n",
    "    # Binary\n",
    "    0.234, 0.356, 0.0722, 0.50, 0.234, \n",
    "    0.169, 0.0461, 0.4062, 0.316, 0.19, \n",
    "    0.594, np.nan, np.nan, 0.3675, 0.2342,\n",
    "    0.945, 0.576, 0.532, np.nan, 0.457,\n",
    "    0.0951, 0.904, 0.3675, 0.3554, 0.721,\n",
    "    0.4962, 0.110, 0.7786, 0.4199, 0.4962,\n",
    "    0.8809, 0.730, 0.7357, 0.152, 0.5766,\n",
    "    0.1492, 0.4270, 0.9607, 0.0858, 0.7555,\n",
    "    np.nan, 0.6700, 0.693, 0.231, 0.55844,\n",
    "    0.4962, 0.081, 0.7405, 0.6700, 0.2015,\n",
    "])"
   ]
  },
  {
   "cell_type": "code",
   "execution_count": 4,
   "metadata": {},
   "outputs": [],
   "source": [
    "s = torch.tensor([\n",
    "    # Planet/Binary\n",
    "    0.3325, np.nan, 0.2084, np.nan, 0.434,\n",
    "    # Binary/Plan\n",
    "    np.nan, np.nan, 0.946, 0.496, np.nan,\n",
    "    np.nan, 1.010, 2.6540, 7.1626, np.nan,\n",
    "    4.799, 6.2676, np.nan,\n",
    "    # Binary\n",
    "    3.674, 0.419, 0.49, 0.61, 6.700,\n",
    "    1.086, 0.8625, 0.5430, 0.530, 1.10,\n",
    "    2.049, np.nan, np.nan, 0.4342, 3.6747,\n",
    "    1.304, 0.648, 1.9781, np.nan, 0.836,\n",
    "    1.6496, 3.007, 1.7635, 0.8117, 2.858,\n",
    "    3.2155, 2.015, 0.3554, 2.3031, 2.4621,\n",
    "    1.5649, 0.596, 1.3634, 0.977, 3.0079,\n",
    "    0.2084, 0.6480, 1.0780, 0.4847, 1.4483,\n",
    "    np.nan, 0.332, 1.010, 0.898, 0.6555,\n",
    "    1.1053, 0.406, 2.3733, 3.4374, 1.2887, \n",
    "])"
   ]
  },
  {
   "cell_type": "code",
   "execution_count": 5,
   "metadata": {},
   "outputs": [
    {
     "name": "stdout",
     "output_type": "stream",
     "text": [
      "26\n"
     ]
    }
   ],
   "source": [
    "targetdir = '/work/hmzhao/KMT_data/'\n",
    "with h5py.File(targetdir + 'processed_data.h5', mode='r') as dataset_file:\n",
    "    X_even = torch.tensor(dataset_file['X'][...]).float()\n",
    "nanind = torch.where(~torch.isnan(q))[0]\n",
    "eventid_list = eventid_list[nanind]\n",
    "q = q[nanind]\n",
    "s = s[nanind]\n",
    "X_even = X_even[nanind]\n",
    "nanind = torch.where(~torch.isnan(s))[0]\n",
    "eventid_list = eventid_list[nanind]\n",
    "q = q[nanind]\n",
    "s = s[nanind]\n",
    "X_even = X_even[nanind]\n",
    "nanind = torch.where(s > 0.3)[0]\n",
    "eventid_list = eventid_list[nanind]\n",
    "q = q[nanind]\n",
    "s = s[nanind]\n",
    "X_even = X_even[nanind]\n",
    "nanind = torch.where(s < 3)[0]\n",
    "eventid_list = eventid_list[nanind]\n",
    "q = q[nanind]\n",
    "s = s[nanind]\n",
    "X_even = X_even[nanind]\n",
    "# nanind = torch.where(torch.max(X_even[:, :, 1], dim=1).values - torch.min(X_even[:, :, 1], dim=1).values > 2)[0]\n",
    "# eventid_list = eventid_list[nanind]\n",
    "# q = q[nanind]\n",
    "# s = s[nanind]\n",
    "# X_even = X_even[nanind]\n",
    "nanind = torch.where(torch.max(X_even[:, :, 0], dim=1).values > 1)[0]\n",
    "eventid_list = eventid_list[nanind]\n",
    "q = q[nanind]\n",
    "s = s[nanind]\n",
    "X_even = X_even[nanind]\n",
    "nanind = torch.where(torch.min(X_even[:, :, 0], dim=1).values < - 1)[0]\n",
    "eventid_list = eventid_list[nanind]\n",
    "q = q[nanind]\n",
    "s = s[nanind]\n",
    "X_even = X_even[nanind]\n",
    "train_coeffs = torchcde.hermite_cubic_coefficients_with_backward_differences(X_even)\n",
    "print(len(train_coeffs))"
   ]
  },
  {
   "cell_type": "code",
   "execution_count": 6,
   "metadata": {},
   "outputs": [
    {
     "data": {
      "image/png": "[encoded data removed]",
      "text/plain": [
       "<Figure size 432x288 with 1 Axes>"
      ]
     },
     "metadata": {
      "needs_background": "light"
     },
     "output_type": "display_data"
    }
   ],
   "source": [
    "plt.hist((torch.max(X_even[:, :, 1], dim=1).values - torch.min(X_even[:, :, 1], dim=1).values).numpy())\n",
    "plt.show()"
   ]
  },
  {
   "cell_type": "code",
   "execution_count": 7,
   "metadata": {},
   "outputs": [
    {
     "data": {
      "text/plain": [
       "CDE_MDN(\n",
       "  (cde_func): CDEFunc(\n",
       "    (linear1): Linear(in_features=32, out_features=1024, bias=True)\n",
       "    (relu1): PReLU(num_parameters=1)\n",
       "    (resblocks): Sequential(\n",
       "      (0): ResBlock(\n",
       "        (linear1): Linear(in_features=1024, out_features=1024, bias=True)\n",
       "        (nonlinear1): PReLU(num_parameters=1)\n",
       "        (linear2): Linear(in_features=1024, out_features=1024, bias=True)\n",
       "      )\n",
       "      (1): ResBlock(\n",
       "        (linear1): Linear(in_features=1024, out_features=1024, bias=True)\n",
       "        (nonlinear1): PReLU(num_parameters=1)\n",
       "        (linear2): Linear(in_features=1024, out_features=1024, bias=True)\n",
       "      )\n",
       "      (2): ResBlock(\n",
       "        (linear1): Linear(in_features=1024, out_features=1024, bias=True)\n",
       "        (nonlinear1): PReLU(num_parameters=1)\n",
       "        (linear2): Linear(in_features=1024, out_features=1024, bias=True)\n",
       "      )\n",
       "    )\n",
       "    (relu2): PReLU(num_parameters=1)\n",
       "    (linear2): Linear(in_features=1024, out_features=160, bias=True)\n",
       "    (tanh): Tanh()\n",
       "    (linear3): Linear(in_features=160, out_features=160, bias=True)\n",
       "  )\n",
       "  (initial): Sequential(\n",
       "    (0): Sequential(\n",
       "      (0): Linear(in_features=5, out_features=1024, bias=True)\n",
       "      (1): ReLU()\n",
       "      (2): Linear(in_features=1024, out_features=1024, bias=True)\n",
       "    )\n",
       "    (1): ResBlock(\n",
       "      (linear1): Linear(in_features=1024, out_features=1024, bias=True)\n",
       "      (nonlinear1): ReLU()\n",
       "      (linear2): Linear(in_features=1024, out_features=1024, bias=True)\n",
       "    )\n",
       "    (2): ResBlock(\n",
       "      (linear1): Linear(in_features=1024, out_features=1024, bias=True)\n",
       "      (nonlinear1): ReLU()\n",
       "      (linear2): Linear(in_features=1024, out_features=1024, bias=True)\n",
       "    )\n",
       "    (3): ResBlock(\n",
       "      (linear1): Linear(in_features=1024, out_features=1024, bias=True)\n",
       "      (nonlinear1): ReLU()\n",
       "      (linear2): Linear(in_features=1024, out_features=1024, bias=True)\n",
       "    )\n",
       "    (4): Sequential(\n",
       "      (0): Linear(in_features=1024, out_features=1024, bias=True)\n",
       "      (1): ReLU()\n",
       "      (2): Linear(in_features=1024, out_features=32, bias=True)\n",
       "    )\n",
       "  )\n",
       "  (readout): Sequential(\n",
       "    (0): Sequential(\n",
       "      (0): Linear(in_features=32, out_features=1024, bias=True)\n",
       "      (1): ReLU()\n",
       "      (2): Linear(in_features=1024, out_features=1024, bias=True)\n",
       "    )\n",
       "    (1): ResBlock(\n",
       "      (linear1): Linear(in_features=1024, out_features=1024, bias=True)\n",
       "      (nonlinear1): ReLU()\n",
       "      (linear2): Linear(in_features=1024, out_features=1024, bias=True)\n",
       "    )\n",
       "    (2): ResBlock(\n",
       "      (linear1): Linear(in_features=1024, out_features=1024, bias=True)\n",
       "      (nonlinear1): ReLU()\n",
       "      (linear2): Linear(in_features=1024, out_features=1024, bias=True)\n",
       "    )\n",
       "    (3): ResBlock(\n",
       "      (linear1): Linear(in_features=1024, out_features=1024, bias=True)\n",
       "      (nonlinear1): ReLU()\n",
       "      (linear2): Linear(in_features=1024, out_features=1024, bias=True)\n",
       "    )\n",
       "    (4): Linear(in_features=1024, out_features=1024, bias=True)\n",
       "  )\n",
       "  (mdn): MixtureDensityNetwork(\n",
       "    (pi_network): CategoricalNetwork(\n",
       "      (network): Sequential(\n",
       "        (0): Linear(in_features=1024, out_features=1024, bias=True)\n",
       "        (1): ELU(alpha=1.0)\n",
       "        (2): Linear(in_features=1024, out_features=12, bias=True)\n",
       "      )\n",
       "    )\n",
       "    (normal_network): MixtureDiagNormalNetwork(\n",
       "      (network): Sequential(\n",
       "        (0): Linear(in_features=1024, out_features=1024, bias=True)\n",
       "        (1): ELU(alpha=1.0)\n",
       "        (2): Linear(in_features=1024, out_features=144, bias=True)\n",
       "      )\n",
       "    )\n",
       "  )\n",
       ")"
      ]
     },
     "execution_count": 7,
     "metadata": {},
     "output_type": "execute_result"
    }
   ],
   "source": [
    "from model.cde_mdn import CDE_MDN\n",
    "\n",
    "device = torch.device(\"cuda:7\" if torch.cuda.is_available() else \"cpu\")\n",
    "\n",
    "checkpt = torch.load('/work/hmzhao/experiments/cde_mdn/experiment_3.ckpt', map_location='cpu')\n",
    "ckpt_args = checkpt['args']\n",
    "state_dict = checkpt['state_dict']\n",
    "\n",
    "output_dim = 6\n",
    "input_dim = X_even.shape[-1]\n",
    "latent_dim = ckpt_args.latents\n",
    "\n",
    "model = CDE_MDN(input_dim, latent_dim, output_dim).to(device)\n",
    "model_dict = model.state_dict()\n",
    "\n",
    "# 1. filter out unnecessary keys\n",
    "state_dict = {k: v for k, v in state_dict.items() if k in model_dict}\n",
    "# 2. overwrite entries in the existing state dict\n",
    "model_dict.update(state_dict) \n",
    "# 3. load the new state dict\n",
    "model.load_state_dict(state_dict)\n",
    "model.to(device)"
   ]
  },
  {
   "cell_type": "code",
   "execution_count": 9,
   "metadata": {},
   "outputs": [
    {
     "data": {
      "application/vnd.jupyter.widget-view+json": {
       "model_id": "5771ac2cbbb2450d82a13897d55c90d9",
       "version_major": 2,
       "version_minor": 0
      },
      "text/plain": [
       "  0%|          | 0/1 [00:00<?, ?it/s]"
      ]
     },
     "metadata": {},
     "output_type": "display_data"
    }
   ],
   "source": [
    "def get_negloglik(pi, normal, y):\n",
    "    normal = torch.distributions.Normal(normal.loc[:, :, [2]], normal.scale[:, :, [2]])\n",
    "    loglik = normal.log_prob(y.unsqueeze(1).expand_as(normal.loc))\n",
    "    loglik = torch.sum(loglik, dim=2)\n",
    "    loss = -torch.logsumexp(torch.log(pi.probs) + loglik, dim=1)\n",
    "    return loss\n",
    "\n",
    "\n",
    "num = len(X_even)\n",
    "batchsize = len(X_even)\n",
    "pred = torch.zeros((num, output_dim))\n",
    "nll = torch.zeros((num,))\n",
    "nll_sample = torch.zeros((num,))\n",
    "model.eval()\n",
    "for i in tqdm(range(num // batchsize)):\n",
    "    torch.cuda.empty_cache()\n",
    "    batch = train_coeffs[i*batchsize:i*batchsize+batchsize].float().to(device)\n",
    "    # pred[i*batchsize:i*batchsize+batchsize] = model(batch).detach().cpu()\n",
    "    pi, normal = model(batch)\n",
    "    pred[i*batchsize:i*batchsize+batchsize] = model.sample(pi, normal).detach().cpu()\n",
    "    nll[i*batchsize:i*batchsize+batchsize] = get_negloglik(pi, normal, torch.log10(q).reshape(-1, 1)[i*batchsize:i*batchsize+batchsize].float().to(device)).detach().cpu()\n",
    "    nll_sample[i*batchsize:i*batchsize+batchsize] = get_negloglik(pi, normal, pred[i*batchsize:i*batchsize+batchsize, [2]].float().to(device)).detach().cpu()"
   ]
  },
  {
   "cell_type": "code",
   "execution_count": 10,
   "metadata": {},
   "outputs": [
    {
     "data": {
      "image/png": "[encoded data removed]",
      "text/plain": [
       "<Figure size 432x288 with 1 Axes>"
      ]
     },
     "metadata": {
      "needs_background": "light"
     },
     "output_type": "display_data"
    }
   ],
   "source": [
    "plt.hist(nll.numpy(), bins=100, density=True, cumulative=True)\n",
    "plt.show()"
   ]
  },
  {
   "cell_type": "code",
   "execution_count": 11,
   "metadata": {},
   "outputs": [
    {
     "data": {
      "image/png": "[encoded data removed]",
      "text/plain": [
       "<Figure size 432x288 with 1 Axes>"
      ]
     },
     "metadata": {
      "needs_background": "light"
     },
     "output_type": "display_data"
    }
   ],
   "source": [
    "plt.hist(nll_sample.numpy(), bins=100, density=True, cumulative=True)\n",
    "plt.show()"
   ]
  },
  {
   "cell_type": "code",
   "execution_count": 12,
   "metadata": {},
   "outputs": [
    {
     "data": {
      "text/plain": [
       "tensor([0.2233, 0.5503, 0.7227, 0.0516, 0.8873, 0.2766, 0.0853, 0.9497, 0.2732,\n",
       "        0.6765, 0.4931, 0.3306, 0.6217, 1.3432, 0.8163, 0.2721, 0.8210, 0.4572,\n",
       "        0.3108, 1.3931, 0.6883, 0.8096, 0.6480, 0.9356, 0.5826, 0.2879])"
      ]
     },
     "execution_count": 12,
     "metadata": {},
     "output_type": "execute_result"
    }
   ],
   "source": [
    "10**pred[:, 2]\n"
   ]
  },
  {
   "cell_type": "code",
   "execution_count": 13,
   "metadata": {},
   "outputs": [
    {
     "data": {
      "text/plain": [
       "tensor([0.4270, 0.2340, 0.0367, 0.0480, 0.1448, 0.3560, 0.5000, 0.0461, 0.4062,\n",
       "        0.3160, 0.5940, 0.3675, 0.5760, 0.4570, 0.0951, 0.3675, 0.3554, 0.7210,\n",
       "        0.1100, 0.8809, 0.7300, 0.1520, 0.9607, 0.0858, 0.7555, 0.6700])"
      ]
     },
     "execution_count": 13,
     "metadata": {},
     "output_type": "execute_result"
    }
   ],
   "source": [
    "q"
   ]
  },
  {
   "cell_type": "code",
   "execution_count": 14,
   "metadata": {},
   "outputs": [
    {
     "data": {
      "image/png": "[encoded data removed]",
      "text/plain": [
       "<Figure size 432x288 with 1 Axes>"
      ]
     },
     "metadata": {
      "needs_background": "light"
     },
     "output_type": "display_data"
    }
   ],
   "source": [
    "plt.hist(np.log10(np.abs(((pred[:, 2] - torch.log10(q))/torch.log10(q)).numpy())), bins=50)\n",
    "plt.show()"
   ]
  },
  {
   "cell_type": "code",
   "execution_count": 15,
   "metadata": {},
   "outputs": [
    {
     "data": {
      "image/png": "[encoded data removed]",
      "text/plain": [
       "<Figure size 432x288 with 1 Axes>"
      ]
     },
     "metadata": {
      "needs_background": "light"
     },
     "output_type": "display_data"
    }
   ],
   "source": [
    "plt.hist(np.log10(np.abs(((torch.rand(len(q))*(-2) - torch.log10(q))/torch.log10(q)).numpy())), bins=50)\n",
    "plt.hist(np.log10(np.abs(((pred[:, 2] - torch.log10(q))/torch.log10(q)).numpy())), bins=50)\n",
    "plt.show()"
   ]
  },
  {
   "cell_type": "code",
   "execution_count": 16,
   "metadata": {},
   "outputs": [
    {
     "data": {
      "text/plain": [
       "0.7692307692307693"
      ]
     },
     "execution_count": 16,
     "metadata": {},
     "output_type": "execute_result"
    }
   ],
   "source": [
    "np.sum(np.abs(((pred[:, 2] - torch.log10(q))/torch.log10(q))).numpy() < 1)/len(q)"
   ]
  },
  {
   "cell_type": "code",
   "execution_count": 17,
   "metadata": {},
   "outputs": [
    {
     "data": {
      "text/plain": [
       "0.4230769230769231"
      ]
     },
     "execution_count": 17,
     "metadata": {},
     "output_type": "execute_result"
    }
   ],
   "source": [
    "np.sum(np.abs(((torch.rand(len(q))*(-2) - torch.log10(q))/torch.log10(q))).numpy() < 1)/len(q)"
   ]
  },
  {
   "cell_type": "code",
   "execution_count": 18,
   "metadata": {},
   "outputs": [
    {
     "data": {
      "text/plain": [
       "tensor(0.3190)"
      ]
     },
     "execution_count": 18,
     "metadata": {},
     "output_type": "execute_result"
    }
   ],
   "source": [
    "torch.mean((pred[:, 2] - torch.log10(q))**2)"
   ]
  },
  {
   "cell_type": "code",
   "execution_count": 19,
   "metadata": {},
   "outputs": [
    {
     "data": {
      "image/png": "[encoded data removed]",
      "text/plain": [
       "<Figure size 432x288 with 2 Axes>"
      ]
     },
     "metadata": {
      "needs_background": "light"
     },
     "output_type": "display_data"
    },
    {
     "name": "stdout",
     "output_type": "stream",
     "text": [
      "tensor([-0.8182, -0.0174, -1.0665, -0.1218, -0.1739])\n",
      "[-0.09174901 -0.18842877 -0.0289301  -0.234631   -0.5406987 ]\n",
      "mse of log10q:  0.3189929723739624\n"
     ]
    }
   ],
   "source": [
    "import matplotlib.pyplot as plt\n",
    "%matplotlib inline\n",
    "# num=4096\n",
    "plt.axis('square')\n",
    "plt.xlim(-4, 0)\n",
    "plt.ylim(-4, 0)\n",
    "plt.xlabel(r'actual $\\log_{10}q$')\n",
    "plt.ylabel(r'predicted $\\log_{10}q$')\n",
    "plt.scatter(torch.log10(q), pred.numpy()[:, 2], s=5, c=-nll, cmap='Blues')\n",
    "plt.plot(np.linspace(-4, 0), np.linspace(-4, 0), color='b', linestyle='dashed')\n",
    "plt.colorbar()\n",
    "plt.show()\n",
    "print(torch.log10(q)[-5:])\n",
    "print(pred.numpy()[-5:, 2])\n",
    "print('mse of log10q: ', torch.mean((torch.log10(q) -  pred.numpy()[:, 2])**2, dim=0).detach().cpu().item())"
   ]
  },
  {
   "cell_type": "code",
   "execution_count": 20,
   "metadata": {},
   "outputs": [
    {
     "data": {
      "text/plain": [
       "(tensor(7), tensor(20))"
      ]
     },
     "execution_count": 20,
     "metadata": {},
     "output_type": "execute_result"
    }
   ],
   "source": [
    "((torch.log10(q) -  pred.numpy()[:, 2])**2).argmax(), ((torch.log10(q) -  pred.numpy()[:, 2])**2).argmin()"
   ]
  },
  {
   "cell_type": "code",
   "execution_count": 21,
   "metadata": {},
   "outputs": [
    {
     "data": {
      "image/png": "[encoded data removed]",
      "text/plain": [
       "<Figure size 432x288 with 2 Axes>"
      ]
     },
     "metadata": {
      "needs_background": "light"
     },
     "output_type": "display_data"
    },
    {
     "name": "stdout",
     "output_type": "stream",
     "text": [
      "tensor([-0.0101,  0.0326, -0.3145,  0.1609, -0.4789])\n",
      "[-0.17330465  0.25468883  0.3204114   0.294357   -0.17867768]\n",
      "mse of log10s:  0.17225457727909088\n"
     ]
    }
   ],
   "source": [
    "import matplotlib.pyplot as plt\n",
    "%matplotlib inline\n",
    "# num=4096\n",
    "plt.axis('square')\n",
    "plt.xlim(-0.6, 0.6)\n",
    "plt.ylim(-0.6, 0.6)\n",
    "plt.xlabel(r'actual $\\log_{10}s$')\n",
    "plt.ylabel(r'predicted $\\log_{10}s$')\n",
    "plt.scatter(torch.log10(s), pred.numpy()[:, 3], s=5, c=-nll, cmap='Blues')\n",
    "plt.plot(np.linspace(-0.6, 0.6), np.linspace(-0.6, 0.6), color='b', linestyle='dashed')\n",
    "plt.colorbar()\n",
    "plt.show()\n",
    "print(torch.log10(s)[-5:])\n",
    "print(pred.numpy()[-5:, 3])\n",
    "print('mse of log10s: ', torch.mean((torch.log10(s) -  pred.numpy()[:, 3])**2, dim=0).detach().cpu().item())"
   ]
  },
  {
   "cell_type": "code",
   "execution_count": 22,
   "metadata": {},
   "outputs": [
    {
     "data": {
      "image/png": "[encoded data removed]",
      "text/plain": [
       "<Figure size 432x288 with 2 Axes>"
      ]
     },
     "metadata": {
      "needs_background": "light"
     },
     "output_type": "display_data"
    },
    {
     "name": "stdout",
     "output_type": "stream",
     "text": [
      "tensor([-0.0101,  0.0326, -0.3145,  0.1609, -0.4789])\n",
      "[-0.17330465  0.25468883 -0.32041141  0.294357   -0.17867768]\n",
      "mse of log10s:  0.019067040839979878\n"
     ]
    }
   ],
   "source": [
    "import matplotlib.pyplot as plt\n",
    "%matplotlib inline\n",
    "# num=4096\n",
    "plt.axis('square')\n",
    "plt.xlim(-0.6, 0.6)\n",
    "plt.ylim(-0.6, 0.6)\n",
    "plt.xlabel(r'actual $\\log_{10}s$')\n",
    "plt.ylabel(r'predicted $\\log_{10}s$')\n",
    "plt.scatter(np.log10(s), pred.numpy()[:, 3] * (2 * (np.log10(s.numpy()) * (pred.numpy()[:, 3]) > 0) - 1), s=5, c=-nll, cmap='Blues')\n",
    "plt.plot(np.linspace(-0.6, 0.6), np.linspace(-0.6, 0.6), color='b', linestyle='dashed')\n",
    "plt.colorbar()\n",
    "plt.show()\n",
    "print(torch.log10(s)[-5:])\n",
    "print((pred.numpy()[:, 3] * (2 * (np.log10(s.numpy()) * (pred.numpy()[:, 3]) > 0) - 1))[-5:])\n",
    "print('mse of log10s: ', torch.mean((torch.log10(s) -  pred.numpy()[:, 3] * (2 * (np.log10(s.numpy()) * (pred.numpy()[:, 3]) > 0) - 1))**2, dim=0).detach().cpu().item())"
   ]
  },
  {
   "cell_type": "code",
   "execution_count": 60,
   "metadata": {},
   "outputs": [
    {
     "name": "stdout",
     "output_type": "stream",
     "text": [
      "0143\n",
      "tensor(0.0367) tensor(0.7227)\n",
      "tensor(0.9460) tensor(0.5962)\n"
     ]
    },
    {
     "data": {
      "image/png": "[encoded data removed]",
      "text/plain": [
       "<Figure size 432x288 with 1 Axes>"
      ]
     },
     "metadata": {
      "needs_background": "light"
     },
     "output_type": "display_data"
    }
   ],
   "source": [
    "num = 2\n",
    "print(eventid_list[num])\n",
    "print(q[num], 10**pred[num, 2])\n",
    "print(s[num], 10**pred[num, 3])\n",
    "plt.scatter(X_even[num, :, 0], X_even[num, :, 1])\n",
    "plt.show()"
   ]
  },
  {
   "cell_type": "code",
   "execution_count": 61,
   "metadata": {},
   "outputs": [],
   "source": [
    "# train_coeffs = torchcde.hermite_cubic_coefficients_with_backward_differences(X_even[[num], :-120])"
   ]
  },
  {
   "cell_type": "code",
   "execution_count": 62,
   "metadata": {},
   "outputs": [],
   "source": [
    "pi, normal = model(train_coeffs[[num]].float().to(device))"
   ]
  },
  {
   "cell_type": "code",
   "execution_count": 63,
   "metadata": {},
   "outputs": [
    {
     "name": "stdout",
     "output_type": "stream",
     "text": [
      "[[ 0.01193913 -2.7500365  -0.2967439  -0.16648473  1.0071276  -0.4469525 ]]\n",
      "tensor(-1.4353) tensor(-0.0241)\n"
     ]
    }
   ],
   "source": [
    "sample = model.sample(pi, normal).cpu().numpy()\n",
    "print(sample)\n",
    "print(torch.log10(q[num]), torch.log10(s[num]))"
   ]
  },
  {
   "cell_type": "code",
   "execution_count": 64,
   "metadata": {},
   "outputs": [
    {
     "data": {
      "application/vnd.jupyter.widget-view+json": {
       "model_id": "3a647869708c4cbe8ae38f1abf5f7a1e",
       "version_major": 2,
       "version_minor": 0
      },
      "text/plain": [
       "  0%|          | 0/10000 [00:00<?, ?it/s]"
      ]
     },
     "metadata": {},
     "output_type": "display_data"
    }
   ],
   "source": [
    "# qsnormal = torch.distributions.Normal(normal.loc[:, :, [0, 3]], normal.scale[:, :, [0, 3]])\n",
    "qsnormal = torch.distributions.Normal(normal.loc[:, :, [2, 3]], normal.scale[:, :, [2, 3]])\n",
    "grid = torch.stack(torch.meshgrid(torch.linspace(-4, 0, 100), torch.linspace(-0.6, 0.6, 100)), dim=-1).reshape(-1, 2)\n",
    "# grid = torch.stack(torch.meshgrid(torch.linspace(0, 1, 100), torch.linspace(-0.6, 0.6, 100)), dim=-1).reshape(-1, 2)\n",
    "prob = torch.zeros(10000, 1)\n",
    "# y = torch.tile(Y[[num]], [10000, 1])\n",
    "# y[:, 2:4] = grid\n",
    "for i in tqdm(range(10000)):\n",
    "    prob[i] = torch.exp(-model.mdn_loss(pi, qsnormal, grid[[i]].to(device)).detach().cpu())"
   ]
  },
  {
   "cell_type": "code",
   "execution_count": 65,
   "metadata": {},
   "outputs": [
    {
     "data": {
      "text/plain": [
       "(tensor([2.0101e-05]), tensor([0.9964]), tensor(1.7441))"
      ]
     },
     "execution_count": 65,
     "metadata": {},
     "output_type": "execute_result"
    }
   ],
   "source": [
    "torch.exp(-get_negloglik(pi, normal, torch.log10(q)[[num]].to(device))).detach().cpu(), \\\n",
    "torch.exp(-get_negloglik(pi, normal, model.sample(pi, normal)[:, 2].to(device)).detach().cpu()), \\\n",
    "torch.exp(-model.mdn_loss(pi, normal, model.sample(pi, normal).to(device)).detach().cpu())"
   ]
  },
  {
   "cell_type": "code",
   "execution_count": 66,
   "metadata": {},
   "outputs": [
    {
     "name": "stdout",
     "output_type": "stream",
     "text": [
      "tensor(-1.4353) tensor(-0.0241)\n",
      "[[ 0.03212756 -2.594217   -0.3789319  -0.15650192  0.9321375  -0.45932835]]\n"
     ]
    },
    {
     "data": {
      "image/png": "[encoded data removed]",
      "text/plain": [
       "<Figure size 432x288 with 2 Axes>"
      ]
     },
     "metadata": {
      "needs_background": "light"
     },
     "output_type": "display_data"
    }
   ],
   "source": [
    "sample = model.sample(pi, normal).detach().cpu().numpy()\n",
    "x, y = torch.meshgrid(torch.linspace(-4, 0, 100), torch.linspace(-0.6, 0.6, 100))\n",
    "plt.xlabel('lgq'); plt.ylabel('lgs')\n",
    "# x, y = torch.meshgrid(torch.linspace(0, 1, 100), torch.linspace(-0.6, 0.6, 100))\n",
    "plt.contourf(x, y, prob.reshape(100, 100))\n",
    "# plt.contourf(torch.linspace(0, 1, 100), torch.linspace(-0.6, 0.6, 100), prob.reshape(100, 100).T)\n",
    "plt.hlines(np.log10(s[num]), -4, 0, colors='red')\n",
    "plt.vlines(np.log10(q[num]), -0.6, 0.6, colors='red')\n",
    "# plt.hlines(sample[0, 3], 0, 1)\n",
    "# plt.vlines(sample[0, 0], -0.6, 0.6)\n",
    "plt.hlines(sample[0, 3], -4, 0)\n",
    "plt.vlines(sample[0, 2], -0.6, 0.6)\n",
    "plt.colorbar()\n",
    "print(torch.log10(q)[num], torch.log10(s)[num])\n",
    "print(sample)\n",
    "plt.hlines(torch.linspace(-0.6, 0.6, 100)[prob.argmax().item()%100], -4, 0, color='orange')\n",
    "plt.vlines(torch.linspace(-4, 0, 100)[prob.argmax().item()//100], -0.6, 0.6, color='orange')\n",
    "plt.show()"
   ]
  },
  {
   "cell_type": "code",
   "execution_count": 67,
   "metadata": {},
   "outputs": [
    {
     "data": {
      "application/vnd.jupyter.widget-view+json": {
       "model_id": "685cb4fc6e934b41b1e12f211c861287",
       "version_major": 2,
       "version_minor": 0
      },
      "text/plain": [
       "  0%|          | 0/10000 [00:00<?, ?it/s]"
      ]
     },
     "metadata": {},
     "output_type": "display_data"
    }
   ],
   "source": [
    "qsnormal = torch.distributions.Normal(normal.loc[:, :, [0, -2]], normal.scale[:, :, [0, -2]])\n",
    "grid = torch.stack(torch.meshgrid(torch.linspace(0, 1, 100), torch.linspace(0, 2, 100)), dim=-1).reshape(-1, 2)\n",
    "# grid = torch.stack(torch.meshgrid(torch.linspace(0, 1, 100), torch.linspace(-0.6, 0.6, 100)), dim=-1).reshape(-1, 2)\n",
    "prob = torch.zeros(10000, 1)\n",
    "# y = torch.tile(Y[[num]], [10000, 1])\n",
    "# y[:, 2:4] = grid\n",
    "for i in tqdm(range(10000)):\n",
    "    prob[i] = torch.exp(-model.mdn_loss(pi, qsnormal, grid[[i]].to(device)).detach().cpu())"
   ]
  },
  {
   "cell_type": "code",
   "execution_count": 68,
   "metadata": {},
   "outputs": [
    {
     "name": "stdout",
     "output_type": "stream",
     "text": [
      "[[ 0.03212756 -2.594217   -0.3789319  -0.15650192  0.9321375  -0.45932835]]\n"
     ]
    },
    {
     "data": {
      "image/png": "[encoded data removed]",
      "text/plain": [
       "<Figure size 432x288 with 2 Axes>"
      ]
     },
     "metadata": {
      "needs_background": "light"
     },
     "output_type": "display_data"
    }
   ],
   "source": [
    "# sample = model.sample(pi, normal).detach().cpu().numpy()\n",
    "x, y = torch.meshgrid(torch.linspace(0, 1, 100), torch.linspace(0, 2, 100))\n",
    "plt.xlabel('u0'); plt.ylabel('a')\n",
    "# x, y = torch.meshgrid(torch.linspace(0, 1, 100), torch.linspace(-0.6, 0.6, 100))\n",
    "plt.contourf(x, y, prob.reshape(100, 100))\n",
    "plt.hlines(sample[0, -2], 0, 1)\n",
    "plt.vlines(sample[0, 0], 0, 2)\n",
    "plt.colorbar()\n",
    "print(sample)\n",
    "plt.hlines(torch.linspace(0, 2, 100)[prob.argmax().item()%100], 0, 1, color='orange')\n",
    "plt.vlines(torch.linspace(0, 1, 100)[prob.argmax().item()//100], 0, 2, color='orange')\n",
    "plt.show()"
   ]
  },
  {
   "cell_type": "code",
   "execution_count": 69,
   "metadata": {},
   "outputs": [
    {
     "data": {
      "text/plain": [
       "(0.032127555,\n",
       " 0.0025455576554083478,\n",
       " 0.41789588068137806,\n",
       " 0.6974259151363653,\n",
       " 2.928396288579726,\n",
       " 0.3472735019834947)"
      ]
     },
     "execution_count": 69,
     "metadata": {},
     "output_type": "execute_result"
    }
   ],
   "source": [
    "sample[0, 0], 10**sample[0, 1], 10**sample[0, 2], 10**sample[0, 3], sample[0, 4]*np.pi, 10**sample[0, 5]"
   ]
  },
  {
   "cell_type": "code",
   "execution_count": 70,
   "metadata": {},
   "outputs": [],
   "source": [
    "import MulensModel as mm\n",
    "# sample = model.sample(pi, normal).detach().cpu().numpy()\n",
    "fs = 10**sample[0, 5]\n",
    "parameters = { # 0328\n",
    "        't_0': 0,\n",
    "        't_E': 1,\n",
    "        'u_0': 0.1823,\n",
    "        'rho': 10**sample[0, 1], \n",
    "        'q': 0.427, \n",
    "        's': 0.3325, \n",
    "        'alpha': 4.3029/np.pi*180,\n",
    "    }\n",
    "modelmm = mm.Model(parameters, coords=None)\n",
    "times = modelmm.set_times(t_start=parameters['t_0']-2*parameters['t_E'], t_stop=parameters['t_0']+2*parameters['t_E'], n_epochs=1000)\n",
    "modelmm.set_magnification_methods([parameters['t_0']-2*parameters['t_E'], 'VBBL', parameters['t_0']+2*parameters['t_E']])\n",
    "magnification = modelmm.get_magnification(times)\n",
    "mag = - 2.5 * np.log10(fs*magnification + 1-fs) / 0.2\n",
    "lc = np.stack([times, mag], axis=-1)"
   ]
  },
  {
   "cell_type": "code",
   "execution_count": 71,
   "metadata": {},
   "outputs": [],
   "source": [
    "sample = model.sample(pi, normal).detach().cpu().numpy()\n",
    "# fs = 1\n",
    "parameters = {\n",
    "        't_0': 0,\n",
    "        't_E': 1,\n",
    "        'u_0': sample[0, 0],\n",
    "        'rho': 10**sample[0, 1], \n",
    "        'q': 10**sample[0, 2], \n",
    "        's': 10**sample[0, 3], \n",
    "        'alpha': sample[0, 4]*180,\n",
    "    }\n",
    "modelmm = mm.Model(parameters, coords=None)\n",
    "times = modelmm.set_times(t_start=parameters['t_0']-2*parameters['t_E'], t_stop=parameters['t_0']+2*parameters['t_E'], n_epochs=1000)\n",
    "modelmm.set_magnification_methods([parameters['t_0']-2*parameters['t_E'], 'VBBL', parameters['t_0']+2*parameters['t_E']])\n",
    "magnification = modelmm.get_magnification(times)\n",
    "mag = -2.5 * np.log10(fs*magnification + 1-fs) / 0.2\n",
    "lc_pred = np.stack([times, mag], axis=-1)"
   ]
  },
  {
   "cell_type": "code",
   "execution_count": 39,
   "metadata": {},
   "outputs": [
    {
     "data": {
      "image/png": "[encoded data removed]",
      "text/plain": [
       "<Figure size 432x288 with 1 Axes>"
      ]
     },
     "metadata": {
      "needs_background": "light"
     },
     "output_type": "display_data"
    }
   ],
   "source": [
    "data = []\n",
    "mode = []\n",
    "num=11\n",
    "for root, dirs, files in os.walk(targetdir + 'KMT-2019-BLG-' + eventid_list[num]):\n",
    "    for f in files:\n",
    "        if 'V' not in f:\n",
    "            p = re.compile('___')\n",
    "            file = open(f'{targetdir}KMT-2019-BLG-{eventid_list[num]}/{f}', 'r+')\n",
    "            lines = [line for line in file.readlines() if p.search(line) is None]\n",
    "            file.seek(0)\n",
    "            file.truncate(0)\n",
    "            file.writelines(lines)\n",
    "            file.close()\n",
    "\n",
    "            data.append(np.loadtxt(f'{targetdir}KMT-2019-BLG-{eventid_list[num]}/{f}'))\n",
    "            mode.append(f[3])\n",
    "d = data\n",
    "data = np.vstack(data)\n",
    "data = data[np.argsort(data[:, 0])]\n",
    "params = np.loadtxt(targetdir + 'params.csv', delimiter=',', skiprows=1)\n",
    "params = params[params[:, 0]==int(eventid_list[num])].flatten()\n",
    "data[:, 0] = (data[:, 0] - params[1]) / params[2]\n",
    "data[:, 3] = (data[:, 3] - params[-1]) / 0.2\n",
    "# plt.scatter(data[:, 0], data[:, 3])\n",
    "plt.scatter(X_even[num, :, 0], X_even[num, :, 1])\n",
    "for i in range(len(mode)):\n",
    "    plt.scatter((d[i][:, 0] - params[1]) / params[2], (d[i][:, 3] - params[-1]) / 0.2, label=mode[i])\n",
    "plt.xlim(-1, 1)\n",
    "plt.legend()\n",
    "plt.show()"
   ]
  },
  {
   "cell_type": "code",
   "execution_count": 46,
   "metadata": {},
   "outputs": [
    {
     "name": "stdout",
     "output_type": "stream",
     "text": [
      "tensor(0.7300) 0.7701630920192232\n",
      "0.06582351515572459\n"
     ]
    },
    {
     "data": {
      "image/png": "[encoded data removed]",
      "text/plain": [
       "<Figure size 432x288 with 1 Axes>"
      ]
     },
     "metadata": {
      "needs_background": "light"
     },
     "output_type": "display_data"
    }
   ],
   "source": [
    "print(q[num], 10**sample[0, 2])\n",
    "print(10**sample[0, -1])\n",
    "plt.xlim(-2, 2)\n",
    "# plt.ylim(-15, 0)\n",
    "plt.scatter(X_even[num, :, 0], X_even[num, :, 1], marker='o')\n",
    "plt.scatter(data[:, 0], data[:, 3], marker='+')\n",
    "# plt.plot(lc[:, 0], lc[:, 1], label='actual', color='red')\n",
    "plt.plot(lc_pred[:, 0], lc_pred[:, 1], label='pred')\n",
    "plt.legend()\n",
    "plt.show()"
   ]
  },
  {
   "cell_type": "code",
   "execution_count": 290,
   "metadata": {},
   "outputs": [
    {
     "data": {
      "text/plain": [
       "0.17269388197455346"
      ]
     },
     "execution_count": 290,
     "metadata": {},
     "output_type": "execute_result"
    }
   ],
   "source": [
    "2.5*np.log(10)*0.03"
   ]
  },
  {
   "cell_type": "code",
   "execution_count": 346,
   "metadata": {},
   "outputs": [],
   "source": [
    "x_orig = np.loadtxt('./kb190371_aligned.csv', delimiter=',', skiprows=1, usecols=(2, 5, 6))\n",
    "order = np.argsort(x_orig[:, 0])\n",
    "x_orig = x_orig[order]\n",
    "err = x_orig[:, -1]\n",
    "x_orig = x_orig[:, :-1]\n",
    "t0 = 8592.392; tE = 6.55\n",
    "x_orig[:, 0] = (x_orig[:, 0] - t0)/tE\n",
    "ind = (x_orig[:, 0] > -2) * (x_orig[:, 0] < 2)\n",
    "mbase = x_orig[~ind, 1].mean()\n",
    "x_orig = x_orig[ind]\n",
    "err = err[ind]\n",
    "x = x_orig"
   ]
  },
  {
   "cell_type": "code",
   "execution_count": 347,
   "metadata": {},
   "outputs": [],
   "source": [
    "from scipy.signal import medfilt\n",
    "x[:, 1] = medfilt(x[:, 1], 5)\n",
    "# x[x[:, 0] < -0.1, 1] = medfilt(x[x[:, 0] < -0.1, 1], 5)\n",
    "# x[x[:, 0] > 0.1, 1] = medfilt(x[x[:, 0] > 0.1, 1], 5)"
   ]
  },
  {
   "cell_type": "code",
   "execution_count": 348,
   "metadata": {},
   "outputs": [
    {
     "data": {
      "text/plain": [
       "602"
      ]
     },
     "execution_count": 348,
     "metadata": {},
     "output_type": "execute_result"
    },
    {
     "data": {
      "image/png": "[encoded data removed]",
      "text/plain": [
       "<Figure size 432x288 with 1 Axes>"
      ]
     },
     "metadata": {
      "needs_background": "light"
     },
     "output_type": "display_data"
    }
   ],
   "source": [
    "threshold = 0.05\n",
    "plt.scatter(x[:, 0], x[:, 1])\n",
    "plt.scatter(x[err<threshold, 0], x[err<threshold, 1])\n",
    "# plt.xlim(-0.3, 0.3)\n",
    "len(x[err<threshold, 0])"
   ]
  },
  {
   "cell_type": "code",
   "execution_count": 349,
   "metadata": {},
   "outputs": [],
   "source": [
    "ind = err < threshold\n",
    "x = x[ind]\n",
    "err = err[ind]\n",
    "x[:, 1] = (x[:, 1] - mbase) / 0.2"
   ]
  },
  {
   "cell_type": "code",
   "execution_count": 350,
   "metadata": {},
   "outputs": [
    {
     "data": {
      "text/plain": [
       "(-0.3, 0.3)"
      ]
     },
     "execution_count": 350,
     "metadata": {},
     "output_type": "execute_result"
    },
    {
     "data": {
      "image/png": "[encoded data removed]",
      "text/plain": [
       "<Figure size 432x288 with 1 Axes>"
      ]
     },
     "metadata": {
      "needs_background": "light"
     },
     "output_type": "display_data"
    }
   ],
   "source": [
    "plt.scatter(x[:, 0], x[:, 1])\n",
    "plt.xlim(-0.3, 0.3)"
   ]
  },
  {
   "cell_type": "code",
   "execution_count": 351,
   "metadata": {},
   "outputs": [],
   "source": [
    "data = torch.tensor(x.reshape(1, *x.shape))\n",
    "depth = 3; window_length = 6\n",
    "data = torchcde.logsig_windows(data, depth, window_length=window_length)\n",
    "train_coeffs = torchcde.hermite_cubic_coefficients_with_backward_differences(data)"
   ]
  },
  {
   "cell_type": "code",
   "execution_count": 352,
   "metadata": {},
   "outputs": [
    {
     "data": {
      "text/plain": [
       "(torch.Size([1, 101, 20]), tensor(0.0006, dtype=torch.float64))"
      ]
     },
     "execution_count": 352,
     "metadata": {},
     "output_type": "execute_result"
    },
    {
     "data": {
      "image/png": "[encoded data removed]",
      "text/plain": [
       "<Figure size 432x288 with 1 Axes>"
      ]
     },
     "metadata": {
      "needs_background": "light"
     },
     "output_type": "display_data"
    }
   ],
   "source": [
    "plt.scatter(data[0, :, 0], data[0, :, 1])\n",
    "plt.scatter(data[0, :, 0], data[0, :, 2])\n",
    "plt.scatter(data[0, :, 0], data[0, :, 3])\n",
    "plt.scatter(data[0, :, 0], data[0, :, 4])\n",
    "train_coeffs.shape, data[:, :, 2:].mean()"
   ]
  },
  {
   "cell_type": "code",
   "execution_count": 353,
   "metadata": {},
   "outputs": [],
   "source": [
    "with torch.no_grad():\n",
    "    pi, normal = model(train_coeffs.float().to(device))"
   ]
  },
  {
   "cell_type": "code",
   "execution_count": 389,
   "metadata": {},
   "outputs": [
    {
     "data": {
      "image/png": "[encoded data removed]",
      "text/plain": [
       "<Figure size 849.6x849.6 with 25 Axes>"
      ]
     },
     "metadata": {
      "needs_background": "light"
     },
     "output_type": "display_data"
    }
   ],
   "source": [
    "import corner\n",
    "n = int(1e6)\n",
    "\n",
    "pi_ = pi.probs.cpu(); loc_ = normal.loc.cpu(); scale_ = normal.scale.cpu()\n",
    "pi_ = torch.tile(pi_, (n, 1)); loc_ = torch.tile(loc_, (n, 1, 1)); scale_ = torch.tile(scale_, (n, 1, 1))\n",
    "normal_dist = torch.distributions.Normal(loc_, scale_)\n",
    "pi_dist = torch.distributions.OneHotCategorical(probs=pi_)\n",
    "sample = model.sample(pi_dist, normal_dist).numpy()\n",
    "sample = np.delete(sample, 1, axis=1)\n",
    "# sample[:, -2] = 2-sample[:, -2]\n",
    "\n",
    "# pi = pis_gap[ind[:size]][i]; loc = locs_gap[ind[:size]][i]; scale = scales_gap[ind[:size]][i]\n",
    "# pi = torch.tile(pi, (n, 1)); loc = torch.tile(loc, (n, 1, 1)); scale = torch.tile(scale, (n, 1, 1))\n",
    "# normal = torch.distributions.Normal(loc, scale)\n",
    "# pi_dist = torch.distributions.OneHotCategorical(probs=pi)\n",
    "# sample_gap = model.sample(pi_dist, normal).numpy()\n",
    "# loglik = normal.log_prob(torch.tensor(sample_gap).unsqueeze(1).expand_as(normal.loc))\n",
    "# loglik = torch.sum(loglik, dim=2)\n",
    "# loglik = torch.logsumexp(torch.log(pi_dist.probs) + loglik, dim=1)\n",
    "# np.savetxt('samples.csv', np.hstack([sample_gap, loglik.reshape(-1, 1)]), fmt='%.5f', delimiter=',', header='u0, lgrho, lgq, lgs, alpha/180, lgfs, loglik')\n",
    "# sample_gap = np.delete(sample_gap, 1, axis=1)\n",
    "\n",
    "test_p = [[0.140, np.log10(6.46)-3, np.log10(0.079), np.log10(0.826), 2-1.542/np.pi, np.log10(0.190/(0.302+0.190))],\n",
    "        [0.141, np.log10(6.99)-3, np.log10(0.123), np.log10(1.575), 2-1.544/np.pi, np.log10(0.206/(0.329+0.206))]]\n",
    "truths_full = np.array(test_p)\n",
    "truths = np.delete(truths_full, 1, axis=-1)\n",
    "\n",
    "# range_p = [(0.8, 1.2), (-1.6, -1), (0.35, 0.45), (1.1, 1.2), (-0.2, 0.2)] # 53\n",
    "# range_p = [(0, 0.15), (-2, 0), (-0.4, 0.4), (0, 2), (-0.5, 0)] # 77\n",
    "range_p = [(0, 1), (-4, 0), (-0.6, 0.6), (0, 2), (-1, 0)]\n",
    "# range_p = None\n",
    "sigma_level = 1-np.exp(-0.5)\n",
    "fig = corner.corner(sample, labels=[r\"$u_0$\", r\"$\\lg q$\", r\"$\\lg s$\", r\"$\\alpha/180$\", r\"$\\lg f_s$\"],\n",
    "            # quantiles=[0.16, 0.5, 0.84], \n",
    "            smooth=1,\n",
    "            bins=50,\n",
    "            range=range_p,\n",
    "            show_titles=True, title_kwargs={\"fontsize\": 12},\n",
    "            truths=truths[0], truth_color='C1', \n",
    "            fill_contours=False, color='blue', no_fill_contours=True,\n",
    "            plot_datapoints=False, plot_density=False,\n",
    "            # levels=[sigma_level, 0.7],\n",
    "            )\n",
    "corner.overplot_lines(fig, truths[1], color=\"C2\")\n",
    "corner.overplot_points(fig, truths[1][None], marker=\"s\", color=\"C2\")\n",
    "# corner.corner(sample_gap, fig=fig, labels=[r\"$u_0$\", r\"$\\lg q$\", r\"$\\lg s$\", r\"$\\alpha/180$\", r\"$\\lg f_s$\"],\n",
    "#             # quantiles=[0.16, 0.5, 0.84], \n",
    "#             smooth=1,\n",
    "#             bins=50,\n",
    "#             range=range_p,\n",
    "#             show_titles=True, title_kwargs={\"fontsize\": 12},\n",
    "#             truths=truths, truth_color='black', \n",
    "#             fill_contours=False, color='red',  no_fill_contours=True,\n",
    "#             plot_datapoints=False, plot_density=False,\n",
    "#             # levels=[sigma_level, 0.7],\n",
    "#             )\n",
    "# plt.legend()\n",
    "plt.show()"
   ]
  },
  {
   "cell_type": "code",
   "execution_count": 357,
   "metadata": {},
   "outputs": [],
   "source": [
    "from scipy.signal import find_peaks\n",
    "import MulensModel as mm\n",
    "def get_loglik(pi, loc, scale, x, margin_dim, exp=False):\n",
    "    shape = x.shape\n",
    "    loc = loc[..., margin_dim]\n",
    "    scale = scale[..., margin_dim]\n",
    "    normal = torch.distributions.Normal(loc, scale)\n",
    "    x = x.reshape(-1, loc.shape[0], 1).tile(1, loc.shape[-1])\n",
    "    loglik = normal.log_prob(x).reshape(*shape[:-1], -1)\n",
    "    loglik = torch.logsumexp(torch.log(pi) + loglik, dim=-1)\n",
    "    if exp:\n",
    "        return torch.exp(loglik)\n",
    "    return loglik\n",
    "\n",
    "def get_peak_pred(pis, locs, scales, Y, n_step=1000, verbose=False):\n",
    "    num = len(pis); output_dim = locs.shape[-1]\n",
    "    pred_global = torch.zeros((num, output_dim))\n",
    "    pred_global_loglik = torch.zeros((num, output_dim))\n",
    "    pred_close = torch.zeros((num, output_dim))\n",
    "    pred_close_loglik = torch.zeros((num, output_dim))\n",
    "    grid = [torch.linspace(0, 1, n_step),\n",
    "            torch.linspace(-4, -2, n_step),\n",
    "            torch.linspace(-4, 0, n_step),\n",
    "            torch.linspace(-0.6, 0.6, n_step),\n",
    "            torch.linspace(0, 2, n_step),\n",
    "            torch.linspace(-1, 0, n_step)]\n",
    "    for dim in tqdm(range(output_dim)):\n",
    "        param_list = grid[dim].reshape(-1, 1, 1).tile(1, num, 1) \n",
    "        loglik = get_loglik(pis, locs, scales, param_list, margin_dim=dim, exp=False).transpose(1, 0)\n",
    "        for i in tqdm(range(num)):\n",
    "            peaks = find_peaks(loglik[i])[0]\n",
    "            if len(peaks) == 0:\n",
    "                pred_global[i, dim] = grid[dim][torch.argmax(loglik[i])]\n",
    "                pred_close[i, dim] = grid[dim][torch.argmax(loglik[i])]\n",
    "                pred_global_loglik[i, dim] = torch.max(loglik[i])\n",
    "                pred_close_loglik[i, dim] = torch.max(loglik[i])\n",
    "                if verbose:\n",
    "                    print('no peak found, use maximum instead')\n",
    "                    plt.plot(grid[dim], loglik[i])\n",
    "                    plt.vlines(Y[i, dim], 0, 10, color='red')\n",
    "                    plt.vlines(grid[dim][torch.argmax(loglik[i])], 0, 10, color='blue')\n",
    "                    print(Y[i, dim])\n",
    "                    plt.show()\n",
    "            else:\n",
    "                order = torch.argsort(loglik[i, peaks], descending=True)\n",
    "                global_peak = grid[dim][peaks[order[0]]]\n",
    "                close_peak = grid[dim][peaks][torch.argmin((grid[dim][peaks] - Y[i, dim])**2)]\n",
    "                pred_global[i, dim] = global_peak\n",
    "                pred_close[i, dim] = close_peak\n",
    "                pred_global_loglik[i, dim] = loglik[i][peaks[order[0]]]\n",
    "                pred_close_loglik[i, dim] = loglik[i][peaks][torch.argmin((grid[dim][peaks] - Y[i, dim])**2)]\n",
    "    return pred_global, pred_global_loglik, pred_close, pred_close_loglik\n",
    "\n",
    "def simulate_lc(t_0, t_E, u_0, lgrho, lgq, lgs, alpha_180, lgfs, relative_uncertainty=0, n_points=1000, orig=False):\n",
    "    fs = 10**lgfs\n",
    "    parameters = {\n",
    "            't_0': t_0,\n",
    "            't_E': t_E,\n",
    "            'u_0': u_0,\n",
    "            'rho': 10**lgrho, \n",
    "            'q': 10**lgq, \n",
    "            's': 10**lgs, \n",
    "            'alpha': alpha_180*180,\n",
    "        }\n",
    "    modelmm = mm.Model(parameters, coords=None)\n",
    "    times = modelmm.set_times(t_start=parameters['t_0']-2*parameters['t_E'], t_stop=parameters['t_0']+2*parameters['t_E'], n_epochs=n_points)\n",
    "    modelmm.set_magnification_methods([parameters['t_0']-2*parameters['t_E'], 'VBBL', parameters['t_0']+2*parameters['t_E']])\n",
    "    magnification = modelmm.get_magnification(times)\n",
    "    flux = 1000 * (magnification + (1-fs)/fs)\n",
    "    flux *= 1 + relative_uncertainty * np.random.randn(len(flux))\n",
    "    if orig:\n",
    "        mag = (22 - 2.5 * np.log10(flux) - 14.5 - 2.5*np.log10(fs))\n",
    "    else:\n",
    "        mag = (22 - 2.5 * np.log10(flux) - 14.5 - 2.5*np.log10(fs)) / 0.2\n",
    "    lc = np.stack([times, mag], axis=-1)\n",
    "    return lc\n",
    "\n"
   ]
  },
  {
   "cell_type": "code",
   "execution_count": 358,
   "metadata": {},
   "outputs": [
    {
     "data": {
      "text/plain": [
       "torch.Size([1, 12, 6])"
      ]
     },
     "execution_count": 358,
     "metadata": {},
     "output_type": "execute_result"
    }
   ],
   "source": [
    "normal.loc.shape"
   ]
  },
  {
   "cell_type": "code",
   "execution_count": 359,
   "metadata": {},
   "outputs": [
    {
     "data": {
      "application/vnd.jupyter.widget-view+json": {
       "model_id": "0ca3e4100579446d898ead400f1607b7",
       "version_major": 2,
       "version_minor": 0
      },
      "text/plain": [
       "  0%|          | 0/6 [00:00<?, ?it/s]"
      ]
     },
     "metadata": {},
     "output_type": "display_data"
    },
    {
     "data": {
      "application/vnd.jupyter.widget-view+json": {
       "model_id": "ca00a605bd3f47a7ad72c62be6ffdf1e",
       "version_major": 2,
       "version_minor": 0
      },
      "text/plain": [
       "  0%|          | 0/1 [00:00<?, ?it/s]"
      ]
     },
     "metadata": {},
     "output_type": "display_data"
    },
    {
     "data": {
      "application/vnd.jupyter.widget-view+json": {
       "model_id": "dbf0918935c445ff8895b9ffdd6e2d28",
       "version_major": 2,
       "version_minor": 0
      },
      "text/plain": [
       "  0%|          | 0/1 [00:00<?, ?it/s]"
      ]
     },
     "metadata": {},
     "output_type": "display_data"
    },
    {
     "data": {
      "application/vnd.jupyter.widget-view+json": {
       "model_id": "75671793e97a49c28e68fddb4295efe7",
       "version_major": 2,
       "version_minor": 0
      },
      "text/plain": [
       "  0%|          | 0/1 [00:00<?, ?it/s]"
      ]
     },
     "metadata": {},
     "output_type": "display_data"
    },
    {
     "data": {
      "application/vnd.jupyter.widget-view+json": {
       "model_id": "14a9ccd4e2ae4554b01f25b9c3b0b46f",
       "version_major": 2,
       "version_minor": 0
      },
      "text/plain": [
       "  0%|          | 0/1 [00:00<?, ?it/s]"
      ]
     },
     "metadata": {},
     "output_type": "display_data"
    },
    {
     "data": {
      "application/vnd.jupyter.widget-view+json": {
       "model_id": "9dde50df3d844d3fafb57a19e08fb43d",
       "version_major": 2,
       "version_minor": 0
      },
      "text/plain": [
       "  0%|          | 0/1 [00:00<?, ?it/s]"
      ]
     },
     "metadata": {},
     "output_type": "display_data"
    },
    {
     "data": {
      "application/vnd.jupyter.widget-view+json": {
       "model_id": "e0917da638474db4960358f6f8a2c8ff",
       "version_major": 2,
       "version_minor": 0
      },
      "text/plain": [
       "  0%|          | 0/1 [00:00<?, ?it/s]"
      ]
     },
     "metadata": {},
     "output_type": "display_data"
    }
   ],
   "source": [
    "pred = get_peak_pred(pi.probs.cpu(), normal.loc.cpu(), normal.scale.cpu(), truths_full[[0]])"
   ]
  },
  {
   "cell_type": "code",
   "execution_count": 394,
   "metadata": {},
   "outputs": [],
   "source": [
    "truths_full[:, -1] = -0.13"
   ]
  },
  {
   "cell_type": "code",
   "execution_count": 396,
   "metadata": {},
   "outputs": [
    {
     "name": "stdout",
     "output_type": "stream",
     "text": [
      "parameters: u0, lgrho, lgq, lgs, alpha, lgfs\n",
      "ground truth:  [[ 0.14       -2.18976748 -1.10237291 -0.08301995  1.50916616 -0.13      ]\n",
      " [ 0.141      -2.15552282 -0.91009489  0.19728056  1.50852954 -0.13      ]]\n",
      "pred global:  [[ 0.14714715 -3.0770772  -1.1251252   0.15555556  1.5055056  -0.13713714]] prob density:  120100.25\n",
      "pred close:  [[ 0.14714715 -3.0770772  -1.1251252  -0.06306307  1.5055056  -0.38338336]] prob density:  32.27833\n"
     ]
    },
    {
     "data": {
      "image/png": "[encoded data removed]",
      "text/plain": [
       "<Figure size 432x288 with 1 Axes>"
      ]
     },
     "metadata": {
      "needs_background": "light"
     },
     "output_type": "display_data"
    }
   ],
   "source": [
    "plt.xlabel(r'$(t - t_0)/t_E$')\n",
    "plt.ylabel(r'm - m_base')\n",
    "plt.xlim(-0.5, 0.5)\n",
    "plt.scatter(x_orig[:, 0], x_orig[:, 1]-mbase)\n",
    "lc_true_0 = simulate_lc(0, 1, *truths_full[0].tolist(), orig=True)\n",
    "lc_true_1 = simulate_lc(0, 1, *truths_full[1].tolist(), orig=True)\n",
    "lc_pred_g = simulate_lc(0, 1, *pred[0][0].tolist(), orig=True)\n",
    "lc_pred_c = simulate_lc(0, 1, *pred[2][0].tolist(), orig=True)\n",
    "plt.plot(lc_true_0[:, 0], lc_true_0[:, 1], color='black', linestyle='dashed', label='close')\n",
    "plt.plot(lc_true_1[:, 0], lc_true_1[:, 1], color='red', linestyle='dashed', label='wide')\n",
    "plt.plot(lc_pred_g[:, 0], lc_pred_g[:, 1], color='blue', label='global')\n",
    "plt.plot(lc_pred_c[:, 0], lc_pred_c[:, 1], color='orange', label='close')\n",
    "# plt.plot(lc_pred_gap_g[:, 0], lc_pred_gap_g[:, 1], color='orange', label='gap global')\n",
    "print('parameters: u0, lgrho, lgq, lgs, alpha, lgfs')\n",
    "print('ground truth: ', truths_full)\n",
    "print('pred global: ', pred[0].numpy(), 'prob density: ', np.exp(pred[1].numpy().sum()))\n",
    "print('pred close: ', pred[2].numpy(), 'prob density: ', np.exp(pred[3].numpy().sum()))\n",
    "# print('pred gap global: ', pred_gap[0][ind[:size]][i].numpy())\n",
    "plt.gca().invert_yaxis()\n",
    "plt.legend()\n",
    "plt.show()"
   ]
  },
  {
   "cell_type": "code",
   "execution_count": 404,
   "metadata": {},
   "outputs": [
    {
     "data": {
      "text/plain": [
       "-0.12264693982871515"
      ]
     },
     "execution_count": 404,
     "metadata": {},
     "output_type": "execute_result"
    }
   ],
   "source": [
    "np.log10(0.19/(0.302-0.05))"
   ]
  },
  {
   "cell_type": "code",
   "execution_count": null,
   "metadata": {},
   "outputs": [],
   "source": [
    "mbase"
   ]
  }
 ],
 "metadata": {
  "interpreter": {
   "hash": "274e8ed069bc503cc01fa1aa16068ccb03180744fbf761618fb0dbde6179c71c"
  },
  "kernelspec": {
   "display_name": "Python 3.9.7 ('ode-rnn')",
   "language": "python",
   "name": "python3"
  },
  "language_info": {
   "codemirror_mode": {
    "name": "ipython",
    "version": 3
   },
   "file_extension": ".py",
   "mimetype": "text/x-python",
   "name": "python",
   "nbconvert_exporter": "python",
   "pygments_lexer": "ipython3",
   "version": "3.9.7"
  },
  "orig_nbformat": 4
 },
 "nbformat": 4,
 "nbformat_minor": 2
}
