{
 "cells": [
  {
   "cell_type": "code",
   "execution_count": 1,
   "metadata": {},
   "outputs": [],
   "source": [
    "import os, sys, re\n",
    "import numpy as np\n",
    "import matplotlib.pyplot as plt\n",
    "from tqdm.notebook import tqdm\n",
    "import torch\n",
    "import torchcde\n",
    "import h5py\n",
    "sys.path.append(os.path.dirname(os.getcwd()))"
   ]
  },
  {
   "cell_type": "code",
   "execution_count": 2,
   "metadata": {},
   "outputs": [],
   "source": [
    "eventid_list = np.array([\n",
    "    # Planet/Binary\n",
    "    '0328', '0570', '1196', '1860', '1914', \n",
    "    # Binary/Plan\n",
    "    '0002', '0104', '0143', '0149', '0182',\n",
    "    '0308', '0681', '0724', '1187', '1713',\n",
    "    '2270', '2485', '3199', \n",
    "    # Binary\n",
    "    '0021', '0200', '0209', '0236', '0270',\n",
    "    '0325', '0335', '0342', '0343', '0386',\n",
    "    '0412', '0535', '0561', '0609', '0649',\n",
    "    '0651', '0787', '0819', '0967', '1182',\n",
    "    '1195', '1281', '1291', '1334', '1363',\n",
    "    '1524', '1576', '1679', '1686', '1689',\n",
    "    '1700', '1722', '1850', '1984', '2063',\n",
    "    '2142', '2279', '2286', '2298', '2309',\n",
    "    '2324', '2496', '2596', '2599', '2655',\n",
    "    '2667', '2769', '2840', '2842', '2888',\n",
    "    ])"
   ]
  },
  {
   "cell_type": "code",
   "execution_count": 3,
   "metadata": {},
   "outputs": [],
   "source": [
    "q = torch.tensor([\n",
    "    # Planet/Binary\n",
    "    0.4270, np.nan, 0.2342, np.nan, 0.234,\n",
    "    # Binary/Plan\n",
    "    np.nan, np.nan, 0.0367, 0.0480, np.nan,\n",
    "    np.nan, np.nan, 0.1448, 0.1284, np.nan,\n",
    "    0.1734, 0.4270, np.nan,\n",
    "    # Binary\n",
    "    0.234, 0.356, 0.0722, 0.50, 0.234, \n",
    "    0.169, 0.0461, 0.4062, 0.316, 0.19, \n",
    "    0.594, np.nan, np.nan, 0.3675, 0.2342,\n",
    "    0.945, 0.576, 0.532, np.nan, 0.457,\n",
    "    0.0951, 0.904, 0.3675, 0.3554, 0.721,\n",
    "    0.4962, 0.110, 0.7786, 0.4199, 0.4962,\n",
    "    0.8809, 0.730, 0.7357, 0.152, 0.5766,\n",
    "    0.1492, 0.4270, 0.9607, 0.0858, 0.7555,\n",
    "    np.nan, 0.6700, 0.693, 0.231, 0.55844,\n",
    "    0.4962, 0.081, 0.7405, 0.6700, 0.2015,\n",
    "])"
   ]
  },
  {
   "cell_type": "code",
   "execution_count": 4,
   "metadata": {},
   "outputs": [],
   "source": [
    "s = torch.tensor([\n",
    "    # Planet/Binary\n",
    "    0.3325, np.nan, 0.2084, np.nan, 0.434,\n",
    "    # Binary/Plan\n",
    "    np.nan, np.nan, 0.946, 0.496, np.nan,\n",
    "    np.nan, 1.010, 2.6540, 7.1626, np.nan,\n",
    "    4.799, 6.2676, np.nan,\n",
    "    # Binary\n",
    "    3.674, 0.419, 0.49, 0.61, 6.700,\n",
    "    1.086, 0.8625, 0.5430, 0.530, 1.10,\n",
    "    2.049, np.nan, np.nan, 0.4342, 3.6747,\n",
    "    1.304, 0.648, 1.9781, np.nan, 0.836,\n",
    "    1.6496, 3.007, 1.7635, 0.8117, 2.858,\n",
    "    3.2155, 2.015, 0.3554, 2.3031, 2.4621,\n",
    "    1.5649, 0.596, 1.3634, 0.977, 3.0079,\n",
    "    0.2084, 0.6480, 1.0780, 0.4847, 1.4483,\n",
    "    np.nan, 0.332, 1.010, 0.898, 0.6555,\n",
    "    1.1053, 0.406, 2.3733, 3.4374, 1.2887, \n",
    "])"
   ]
  },
  {
   "cell_type": "code",
   "execution_count": 5,
   "metadata": {},
   "outputs": [
    {
     "name": "stdout",
     "output_type": "stream",
     "text": [
      "43\n"
     ]
    }
   ],
   "source": [
    "targetdir = '/work/hmzhao/KMT_data/'\n",
    "with h5py.File(targetdir + 'processed_data.h5', mode='r') as dataset_file:\n",
    "    X_even = torch.tensor(dataset_file['X'][...]).float()\n",
    "nanind = torch.where(~torch.isnan(q))[0]\n",
    "eventid_list = eventid_list[nanind]\n",
    "q = q[nanind]\n",
    "s = s[nanind]\n",
    "X_even = X_even[nanind]\n",
    "nanind = torch.where(~torch.isnan(s))[0]\n",
    "eventid_list = eventid_list[nanind]\n",
    "q = q[nanind]\n",
    "s = s[nanind]\n",
    "X_even = X_even[nanind]\n",
    "nanind = torch.where(s > 0.3)[0]\n",
    "eventid_list = eventid_list[nanind]\n",
    "q = q[nanind]\n",
    "s = s[nanind]\n",
    "X_even = X_even[nanind]\n",
    "nanind = torch.where(s < 3)[0]\n",
    "eventid_list = eventid_list[nanind]\n",
    "q = q[nanind]\n",
    "s = s[nanind]\n",
    "X_even = X_even[nanind]\n",
    "# nanind = torch.where(torch.max(X_even[:, :, 1], dim=1).values - torch.min(X_even[:, :, 1], dim=1).values > 2)[0]\n",
    "# eventid_list = eventid_list[nanind]\n",
    "# q = q[nanind]\n",
    "# s = s[nanind]\n",
    "# X_even = X_even[nanind]\n",
    "# nanind = torch.where(torch.max(X_even[:, :, 0], dim=1).values > 1)[0]\n",
    "# eventid_list = eventid_list[nanind]\n",
    "# q = q[nanind]\n",
    "# s = s[nanind]\n",
    "# X_even = X_even[nanind]\n",
    "# nanind = torch.where(torch.min(X_even[:, :, 0], dim=1).values < - 1)[0]\n",
    "# eventid_list = eventid_list[nanind]\n",
    "# q = q[nanind]\n",
    "# s = s[nanind]\n",
    "# X_even = X_even[nanind]\n",
    "train_coeffs = torchcde.hermite_cubic_coefficients_with_backward_differences(X_even)\n",
    "print(len(train_coeffs))"
   ]
  },
  {
   "cell_type": "code",
   "execution_count": 6,
   "metadata": {},
   "outputs": [
    {
     "data": {
      "image/png": "[encoded data removed]",
      "text/plain": [
       "<Figure size 432x288 with 1 Axes>"
      ]
     },
     "metadata": {
      "needs_background": "light"
     },
     "output_type": "display_data"
    }
   ],
   "source": [
    "plt.hist((torch.max(X_even[:, :, 1], dim=1).values - torch.min(X_even[:, :, 1], dim=1).values).numpy())\n",
    "plt.show()"
   ]
  },
  {
   "cell_type": "code",
   "execution_count": 7,
   "metadata": {},
   "outputs": [
    {
     "data": {
      "text/plain": [
       "CDE_MDN(\n",
       "  (cde_func): CDEFunc(\n",
       "    (linear1): Linear(in_features=32, out_features=1024, bias=True)\n",
       "    (relu1): PReLU(num_parameters=1)\n",
       "    (resblocks): Sequential(\n",
       "      (0): ResBlock(\n",
       "        (linear1): Linear(in_features=1024, out_features=1024, bias=True)\n",
       "        (nonlinear1): PReLU(num_parameters=1)\n",
       "        (linear2): Linear(in_features=1024, out_features=1024, bias=True)\n",
       "      )\n",
       "      (1): ResBlock(\n",
       "        (linear1): Linear(in_features=1024, out_features=1024, bias=True)\n",
       "        (nonlinear1): PReLU(num_parameters=1)\n",
       "        (linear2): Linear(in_features=1024, out_features=1024, bias=True)\n",
       "      )\n",
       "      (2): ResBlock(\n",
       "        (linear1): Linear(in_features=1024, out_features=1024, bias=True)\n",
       "        (nonlinear1): PReLU(num_parameters=1)\n",
       "        (linear2): Linear(in_features=1024, out_features=1024, bias=True)\n",
       "      )\n",
       "    )\n",
       "    (relu2): PReLU(num_parameters=1)\n",
       "    (linear2): Linear(in_features=1024, out_features=160, bias=True)\n",
       "    (tanh): Tanh()\n",
       "    (linear3): Linear(in_features=160, out_features=160, bias=True)\n",
       "  )\n",
       "  (initial): Sequential(\n",
       "    (0): Sequential(\n",
       "      (0): Linear(in_features=5, out_features=1024, bias=True)\n",
       "      (1): ReLU()\n",
       "      (2): Linear(in_features=1024, out_features=1024, bias=True)\n",
       "    )\n",
       "    (1): ResBlock(\n",
       "      (linear1): Linear(in_features=1024, out_features=1024, bias=True)\n",
       "      (nonlinear1): ReLU()\n",
       "      (linear2): Linear(in_features=1024, out_features=1024, bias=True)\n",
       "    )\n",
       "    (2): ResBlock(\n",
       "      (linear1): Linear(in_features=1024, out_features=1024, bias=True)\n",
       "      (nonlinear1): ReLU()\n",
       "      (linear2): Linear(in_features=1024, out_features=1024, bias=True)\n",
       "    )\n",
       "    (3): ResBlock(\n",
       "      (linear1): Linear(in_features=1024, out_features=1024, bias=True)\n",
       "      (nonlinear1): ReLU()\n",
       "      (linear2): Linear(in_features=1024, out_features=1024, bias=True)\n",
       "    )\n",
       "    (4): Sequential(\n",
       "      (0): Linear(in_features=1024, out_features=1024, bias=True)\n",
       "      (1): ReLU()\n",
       "      (2): Linear(in_features=1024, out_features=32, bias=True)\n",
       "    )\n",
       "  )\n",
       "  (readout): Sequential(\n",
       "    (0): Sequential(\n",
       "      (0): Linear(in_features=32, out_features=1024, bias=True)\n",
       "      (1): ReLU()\n",
       "      (2): Linear(in_features=1024, out_features=1024, bias=True)\n",
       "    )\n",
       "    (1): ResBlock(\n",
       "      (linear1): Linear(in_features=1024, out_features=1024, bias=True)\n",
       "      (nonlinear1): ReLU()\n",
       "      (linear2): Linear(in_features=1024, out_features=1024, bias=True)\n",
       "    )\n",
       "    (2): ResBlock(\n",
       "      (linear1): Linear(in_features=1024, out_features=1024, bias=True)\n",
       "      (nonlinear1): ReLU()\n",
       "      (linear2): Linear(in_features=1024, out_features=1024, bias=True)\n",
       "    )\n",
       "    (3): ResBlock(\n",
       "      (linear1): Linear(in_features=1024, out_features=1024, bias=True)\n",
       "      (nonlinear1): ReLU()\n",
       "      (linear2): Linear(in_features=1024, out_features=1024, bias=True)\n",
       "    )\n",
       "    (4): Linear(in_features=1024, out_features=1024, bias=True)\n",
       "  )\n",
       "  (mdn): MixtureDensityNetwork(\n",
       "    (pi_network): CategoricalNetwork(\n",
       "      (network): Sequential(\n",
       "        (0): Linear(in_features=1024, out_features=1024, bias=True)\n",
       "        (1): ELU(alpha=1.0)\n",
       "        (2): Linear(in_features=1024, out_features=12, bias=True)\n",
       "      )\n",
       "    )\n",
       "    (normal_network): MixtureDiagNormalNetwork(\n",
       "      (network): Sequential(\n",
       "        (0): Linear(in_features=1024, out_features=1024, bias=True)\n",
       "        (1): ELU(alpha=1.0)\n",
       "        (2): Linear(in_features=1024, out_features=144, bias=True)\n",
       "      )\n",
       "    )\n",
       "  )\n",
       ")"
      ]
     },
     "execution_count": 7,
     "metadata": {},
     "output_type": "execute_result"
    }
   ],
   "source": [
    "from model.cde_mdn import CDE_MDN\n",
    "\n",
    "device = torch.device(\"cuda:7\" if torch.cuda.is_available() else \"cpu\")\n",
    "\n",
    "checkpt = torch.load('/work/hmzhao/experiments/cde_mdn/experiment_2.ckpt', map_location='cpu')\n",
    "ckpt_args = checkpt['args']\n",
    "state_dict = checkpt['state_dict']\n",
    "\n",
    "output_dim = 6\n",
    "input_dim = X_even.shape[-1]\n",
    "latent_dim = ckpt_args.latents\n",
    "\n",
    "model = CDE_MDN(input_dim, latent_dim, output_dim).to(device)\n",
    "model_dict = model.state_dict()\n",
    "\n",
    "# 1. filter out unnecessary keys\n",
    "state_dict = {k: v for k, v in state_dict.items() if k in model_dict}\n",
    "# 2. overwrite entries in the existing state dict\n",
    "model_dict.update(state_dict) \n",
    "# 3. load the new state dict\n",
    "model.load_state_dict(state_dict)\n",
    "model.to(device)"
   ]
  },
  {
   "cell_type": "code",
   "execution_count": 8,
   "metadata": {},
   "outputs": [
    {
     "data": {
      "application/vnd.jupyter.widget-view+json": {
       "model_id": "00966b543cff4525a6b17139166e7374",
       "version_major": 2,
       "version_minor": 0
      },
      "text/plain": [
       "  0%|          | 0/1 [00:00<?, ?it/s]"
      ]
     },
     "metadata": {},
     "output_type": "display_data"
    }
   ],
   "source": [
    "def get_negloglik(pi, normal, y):\n",
    "    normal = torch.distributions.Normal(normal.loc[:, :, [2]], normal.scale[:, :, [2]])\n",
    "    loglik = normal.log_prob(y.unsqueeze(1).expand_as(normal.loc))\n",
    "    loglik = torch.sum(loglik, dim=2)\n",
    "    loss = -torch.logsumexp(torch.log(pi.probs) + loglik, dim=1)\n",
    "    return loss\n",
    "\n",
    "\n",
    "num = len(X_even)\n",
    "batchsize = len(X_even)\n",
    "pred = torch.zeros((num, output_dim))\n",
    "nll = torch.zeros((num,))\n",
    "nll_sample = torch.zeros((num,))\n",
    "model.eval()\n",
    "for i in tqdm(range(num // batchsize)):\n",
    "    torch.cuda.empty_cache()\n",
    "    batch = train_coeffs[i*batchsize:i*batchsize+batchsize].float().to(device)\n",
    "    # pred[i*batchsize:i*batchsize+batchsize] = model(batch).detach().cpu()\n",
    "    pi, normal = model(batch)\n",
    "    pred[i*batchsize:i*batchsize+batchsize] = model.sample(pi, normal).detach().cpu()\n",
    "    nll[i*batchsize:i*batchsize+batchsize] = get_negloglik(pi, normal, torch.log10(q).reshape(-1, 1)[i*batchsize:i*batchsize+batchsize].float().to(device)).detach().cpu()\n",
    "    nll_sample[i*batchsize:i*batchsize+batchsize] = get_negloglik(pi, normal, pred[i*batchsize:i*batchsize+batchsize, [2]].float().to(device)).detach().cpu()"
   ]
  },
  {
   "cell_type": "code",
   "execution_count": 9,
   "metadata": {},
   "outputs": [
    {
     "data": {
      "image/png": "[encoded data removed]",
      "text/plain": [
       "<Figure size 432x288 with 1 Axes>"
      ]
     },
     "metadata": {
      "needs_background": "light"
     },
     "output_type": "display_data"
    }
   ],
   "source": [
    "plt.hist(nll.numpy(), bins=100, density=True, cumulative=True)\n",
    "plt.show()"
   ]
  },
  {
   "cell_type": "code",
   "execution_count": 10,
   "metadata": {},
   "outputs": [
    {
     "data": {
      "image/png": "[encoded data removed]",
      "text/plain": [
       "<Figure size 432x288 with 1 Axes>"
      ]
     },
     "metadata": {
      "needs_background": "light"
     },
     "output_type": "display_data"
    }
   ],
   "source": [
    "plt.hist(nll_sample.numpy(), bins=100, density=True, cumulative=True)\n",
    "plt.show()"
   ]
  },
  {
   "cell_type": "code",
   "execution_count": 11,
   "metadata": {},
   "outputs": [
    {
     "data": {
      "text/plain": [
       "tensor([0.1296, 0.3444, 0.3639, 0.0092, 0.7409, 0.2974, 0.4856, 0.3102, 0.5604,\n",
       "        0.5069, 0.2452, 0.6736, 0.3016, 0.2047, 0.2466, 0.2253, 1.7471, 0.5322,\n",
       "        0.8561, 0.2669, 0.4464, 0.3233, 0.5942, 0.2276, 1.8737, 0.5859, 0.6048,\n",
       "        1.5001, 0.3602, 0.9564, 0.5122, 0.3017, 0.6879, 0.4685, 0.6573, 0.4974,\n",
       "        0.1724, 0.6884, 0.8415, 0.6212, 0.8214, 0.3983, 0.0067])"
      ]
     },
     "execution_count": 11,
     "metadata": {},
     "output_type": "execute_result"
    }
   ],
   "source": [
    "10**pred[:, 2]\n"
   ]
  },
  {
   "cell_type": "code",
   "execution_count": 12,
   "metadata": {},
   "outputs": [
    {
     "data": {
      "text/plain": [
       "tensor([0.4270, 0.2340, 0.0367, 0.0480, 0.1448, 0.3560, 0.0722, 0.5000, 0.1690,\n",
       "        0.0461, 0.4062, 0.3160, 0.1900, 0.5940, 0.3675, 0.9450, 0.5760, 0.5320,\n",
       "        0.4570, 0.0951, 0.3675, 0.3554, 0.7210, 0.1100, 0.7786, 0.4199, 0.4962,\n",
       "        0.8809, 0.7300, 0.7357, 0.1520, 0.4270, 0.9607, 0.0858, 0.7555, 0.6700,\n",
       "        0.6930, 0.2310, 0.5584, 0.4962, 0.0810, 0.7405, 0.2015])"
      ]
     },
     "execution_count": 12,
     "metadata": {},
     "output_type": "execute_result"
    }
   ],
   "source": [
    "q"
   ]
  },
  {
   "cell_type": "code",
   "execution_count": 13,
   "metadata": {},
   "outputs": [
    {
     "data": {
      "image/png": "[encoded data removed]",
      "text/plain": [
       "<Figure size 432x288 with 1 Axes>"
      ]
     },
     "metadata": {
      "needs_background": "light"
     },
     "output_type": "display_data"
    }
   ],
   "source": [
    "plt.hist(np.log10(np.abs(((pred[:, 2] - torch.log10(q))/torch.log10(q)).numpy())), bins=50)\n",
    "plt.show()"
   ]
  },
  {
   "cell_type": "code",
   "execution_count": 14,
   "metadata": {},
   "outputs": [
    {
     "data": {
      "image/png": "[encoded data removed]",
      "text/plain": [
       "<Figure size 432x288 with 1 Axes>"
      ]
     },
     "metadata": {
      "needs_background": "light"
     },
     "output_type": "display_data"
    }
   ],
   "source": [
    "plt.hist(np.log10(np.abs(((torch.rand(len(q))*(-2) - torch.log10(q))/torch.log10(q)).numpy())), bins=50)\n",
    "plt.hist(np.log10(np.abs(((pred[:, 2] - torch.log10(q))/torch.log10(q)).numpy())), bins=50)\n",
    "plt.show()"
   ]
  },
  {
   "cell_type": "code",
   "execution_count": 15,
   "metadata": {},
   "outputs": [
    {
     "data": {
      "text/plain": [
       "0.7441860465116279"
      ]
     },
     "execution_count": 15,
     "metadata": {},
     "output_type": "execute_result"
    }
   ],
   "source": [
    "np.sum(np.abs(((pred[:, 2] - torch.log10(q))/torch.log10(q))).numpy() < 1)/len(q)"
   ]
  },
  {
   "cell_type": "code",
   "execution_count": 16,
   "metadata": {},
   "outputs": [
    {
     "data": {
      "text/plain": [
       "0.4418604651162791"
      ]
     },
     "execution_count": 16,
     "metadata": {},
     "output_type": "execute_result"
    }
   ],
   "source": [
    "np.sum(np.abs(((torch.rand(len(q))*(-2) - torch.log10(q))/torch.log10(q))).numpy() < 1)/len(q)"
   ]
  },
  {
   "cell_type": "code",
   "execution_count": 17,
   "metadata": {},
   "outputs": [
    {
     "data": {
      "text/plain": [
       "tensor(0.2548)"
      ]
     },
     "execution_count": 17,
     "metadata": {},
     "output_type": "execute_result"
    }
   ],
   "source": [
    "torch.mean((pred[:, 2] - torch.log10(q))**2)"
   ]
  },
  {
   "cell_type": "code",
   "execution_count": 18,
   "metadata": {},
   "outputs": [
    {
     "data": {
      "image/png": "[encoded data removed]",
      "text/plain": [
       "<Figure size 432x288 with 2 Axes>"
      ]
     },
     "metadata": {
      "needs_background": "light"
     },
     "output_type": "display_data"
    },
    {
     "name": "stdout",
     "output_type": "stream",
     "text": [
      "tensor([-0.2530, -0.3043, -1.0915, -0.1305, -0.6957])\n",
      "[-0.0749564  -0.20676664 -0.08545146 -0.39979324 -2.1713037 ]\n",
      "mse of log10q:  0.2548248767852783\n"
     ]
    }
   ],
   "source": [
    "import matplotlib.pyplot as plt\n",
    "%matplotlib inline\n",
    "# num=4096\n",
    "plt.axis('square')\n",
    "plt.xlim(-4, 0)\n",
    "plt.ylim(-4, 0)\n",
    "plt.xlabel(r'actual $\\log_{10}q$')\n",
    "plt.ylabel(r'predicted $\\log_{10}q$')\n",
    "plt.scatter(torch.log10(q), pred.numpy()[:, 2], s=5, c=-nll, cmap='Blues')\n",
    "plt.plot(np.linspace(-4, 0), np.linspace(-4, 0), color='b', linestyle='dashed')\n",
    "plt.colorbar()\n",
    "plt.show()\n",
    "print(torch.log10(q)[-5:])\n",
    "print(pred.numpy()[-5:, 2])\n",
    "print('mse of log10q: ', torch.mean((torch.log10(q) -  pred.numpy()[:, 2])**2, dim=0).detach().cpu().item())"
   ]
  },
  {
   "cell_type": "code",
   "execution_count": 19,
   "metadata": {},
   "outputs": [
    {
     "data": {
      "text/plain": [
       "tensor(42)"
      ]
     },
     "execution_count": 19,
     "metadata": {},
     "output_type": "execute_result"
    }
   ],
   "source": [
    "((torch.log10(q) -  pred.numpy()[:, 2])**2).argmax()"
   ]
  },
  {
   "cell_type": "code",
   "execution_count": 20,
   "metadata": {},
   "outputs": [
    {
     "data": {
      "image/png": "[encoded data removed]",
      "text/plain": [
       "<Figure size 432x288 with 2 Axes>"
      ]
     },
     "metadata": {
      "needs_background": "light"
     },
     "output_type": "display_data"
    },
    {
     "name": "stdout",
     "output_type": "stream",
     "text": [
      "tensor([-0.1834,  0.0435, -0.3915,  0.3754,  0.1102])\n",
      "[ 0.35500747 -0.32191297  0.32307005  0.26968333 -0.21733576]\n",
      "mse of log10s:  0.14461550116539001\n"
     ]
    }
   ],
   "source": [
    "import matplotlib.pyplot as plt\n",
    "%matplotlib inline\n",
    "# num=4096\n",
    "plt.axis('square')\n",
    "plt.xlim(-0.6, 0.6)\n",
    "plt.ylim(-0.6, 0.6)\n",
    "plt.xlabel(r'actual $\\log_{10}s$')\n",
    "plt.ylabel(r'predicted $\\log_{10}s$')\n",
    "plt.scatter(torch.log10(s), pred.numpy()[:, 3], s=5, c=-nll, cmap='Blues')\n",
    "plt.plot(np.linspace(-0.6, 0.6), np.linspace(-0.6, 0.6), color='b', linestyle='dashed')\n",
    "plt.colorbar()\n",
    "plt.show()\n",
    "print(torch.log10(s)[-5:])\n",
    "print(pred.numpy()[-5:, 3])\n",
    "print('mse of log10s: ', torch.mean((torch.log10(s) -  pred.numpy()[:, 3])**2, dim=0).detach().cpu().item())"
   ]
  },
  {
   "cell_type": "code",
   "execution_count": 21,
   "metadata": {},
   "outputs": [
    {
     "data": {
      "image/png": "[encoded data removed]",
      "text/plain": [
       "<Figure size 432x288 with 2 Axes>"
      ]
     },
     "metadata": {
      "needs_background": "light"
     },
     "output_type": "display_data"
    },
    {
     "name": "stdout",
     "output_type": "stream",
     "text": [
      "tensor([-0.1834,  0.0435, -0.3915,  0.3754,  0.1102])\n",
      "[-0.35500747  0.32191297 -0.32307005  0.26968333  0.21733576]\n",
      "mse of log10s:  0.03895598225715648\n"
     ]
    }
   ],
   "source": [
    "import matplotlib.pyplot as plt\n",
    "%matplotlib inline\n",
    "# num=4096\n",
    "plt.axis('square')\n",
    "plt.xlim(-0.6, 0.6)\n",
    "plt.ylim(-0.6, 0.6)\n",
    "plt.xlabel(r'actual $\\log_{10}s$')\n",
    "plt.ylabel(r'predicted $\\log_{10}s$')\n",
    "plt.scatter(np.log10(s), pred.numpy()[:, 3] * (2 * (np.log10(s.numpy()) * (pred.numpy()[:, 3]) > 0) - 1), s=5, c=-nll, cmap='Blues')\n",
    "plt.plot(np.linspace(-0.6, 0.6), np.linspace(-0.6, 0.6), color='b', linestyle='dashed')\n",
    "plt.colorbar()\n",
    "plt.show()\n",
    "print(torch.log10(s)[-5:])\n",
    "print((pred.numpy()[:, 3] * (2 * (np.log10(s.numpy()) * (pred.numpy()[:, 3]) > 0) - 1))[-5:])\n",
    "print('mse of log10s: ', torch.mean((torch.log10(s) -  pred.numpy()[:, 3] * (2 * (np.log10(s.numpy()) * (pred.numpy()[:, 3]) > 0) - 1))**2, dim=0).detach().cpu().item())"
   ]
  },
  {
   "cell_type": "code",
   "execution_count": 190,
   "metadata": {},
   "outputs": [
    {
     "name": "stdout",
     "output_type": "stream",
     "text": [
      "0236\n",
      "tensor(0.5000) tensor(0.3102)\n",
      "tensor(0.6100) tensor(0.6915)\n"
     ]
    },
    {
     "data": {
      "image/png": "[encoded data removed]",
      "text/plain": [
       "<Figure size 432x288 with 1 Axes>"
      ]
     },
     "metadata": {
      "needs_background": "light"
     },
     "output_type": "display_data"
    }
   ],
   "source": [
    "num = 7\n",
    "print(eventid_list[num])\n",
    "print(q[num], 10**pred[num, 2])\n",
    "print(s[num], 10**pred[num, 3])\n",
    "plt.scatter(X_even[num, :, 0], X_even[num, :, 1])\n",
    "plt.show()"
   ]
  },
  {
   "cell_type": "code",
   "execution_count": 191,
   "metadata": {},
   "outputs": [],
   "source": [
    "# train_coeffs = torchcde.hermite_cubic_coefficients_with_backward_differences(X_even[[num], :-120])"
   ]
  },
  {
   "cell_type": "code",
   "execution_count": 192,
   "metadata": {},
   "outputs": [],
   "source": [
    "pi, normal = model(train_coeffs[[num]].float().to(device))"
   ]
  },
  {
   "cell_type": "code",
   "execution_count": 193,
   "metadata": {},
   "outputs": [
    {
     "name": "stdout",
     "output_type": "stream",
     "text": [
      "[[ 0.41814035 -2.581552   -0.590317   -0.08289254  0.572801   -0.02817312]]\n",
      "tensor(-0.3010) tensor(-0.2147)\n"
     ]
    }
   ],
   "source": [
    "sample = model.sample(pi, normal).cpu().numpy()\n",
    "print(sample)\n",
    "print(torch.log10(q[num]), torch.log10(s[num]))"
   ]
  },
  {
   "cell_type": "code",
   "execution_count": 194,
   "metadata": {},
   "outputs": [
    {
     "data": {
      "application/vnd.jupyter.widget-view+json": {
       "model_id": "e90952612e2640fe95c0a4590dd085b9",
       "version_major": 2,
       "version_minor": 0
      },
      "text/plain": [
       "  0%|          | 0/10000 [00:00<?, ?it/s]"
      ]
     },
     "metadata": {},
     "output_type": "display_data"
    }
   ],
   "source": [
    "# qsnormal = torch.distributions.Normal(normal.loc[:, :, [0, 3]], normal.scale[:, :, [0, 3]])\n",
    "qsnormal = torch.distributions.Normal(normal.loc[:, :, [2, 3]], normal.scale[:, :, [2, 3]])\n",
    "grid = torch.stack(torch.meshgrid(torch.linspace(-4, 0, 100), torch.linspace(-0.6, 0.6, 100)), dim=-1).reshape(-1, 2)\n",
    "# grid = torch.stack(torch.meshgrid(torch.linspace(0, 1, 100), torch.linspace(-0.6, 0.6, 100)), dim=-1).reshape(-1, 2)\n",
    "prob = torch.zeros(10000, 1)\n",
    "# y = torch.tile(Y[[num]], [10000, 1])\n",
    "# y[:, 2:4] = grid\n",
    "for i in tqdm(range(10000)):\n",
    "    prob[i] = torch.exp(-model.mdn_loss(pi, qsnormal, grid[[i]].to(device)).detach().cpu())"
   ]
  },
  {
   "cell_type": "code",
   "execution_count": 195,
   "metadata": {},
   "outputs": [
    {
     "data": {
      "text/plain": [
       "(tensor([0.9405]), tensor([1.7739]), tensor(171.8517))"
      ]
     },
     "execution_count": 195,
     "metadata": {},
     "output_type": "execute_result"
    }
   ],
   "source": [
    "torch.exp(-get_negloglik(pi, normal, torch.log10(q)[[num]].to(device))).detach().cpu(), \\\n",
    "torch.exp(-get_negloglik(pi, normal, model.sample(pi, normal)[:, 2].to(device)).detach().cpu()), \\\n",
    "torch.exp(-model.mdn_loss(pi, normal, model.sample(pi, normal).to(device)).detach().cpu())"
   ]
  },
  {
   "cell_type": "code",
   "execution_count": 204,
   "metadata": {},
   "outputs": [
    {
     "name": "stdout",
     "output_type": "stream",
     "text": [
      "tensor(-0.3010) tensor(-0.2147)\n",
      "[[ 0.36005005 -3.403223   -0.4515778  -0.1540744   0.65722734 -0.0968851 ]]\n"
     ]
    },
    {
     "data": {
      "image/png": "[encoded data removed]",
      "text/plain": [
       "<Figure size 432x288 with 2 Axes>"
      ]
     },
     "metadata": {
      "needs_background": "light"
     },
     "output_type": "display_data"
    }
   ],
   "source": [
    "sample = model.sample(pi, normal).detach().cpu().numpy()\n",
    "x, y = torch.meshgrid(torch.linspace(-4, 0, 100), torch.linspace(-0.6, 0.6, 100))\n",
    "plt.xlabel('lgq'); plt.ylabel('lgs')\n",
    "# x, y = torch.meshgrid(torch.linspace(0, 1, 100), torch.linspace(-0.6, 0.6, 100))\n",
    "plt.contourf(x, y, prob.reshape(100, 100))\n",
    "# plt.contourf(torch.linspace(0, 1, 100), torch.linspace(-0.6, 0.6, 100), prob.reshape(100, 100).T)\n",
    "plt.hlines(np.log10(s[num]), -4, 0, colors='red')\n",
    "plt.vlines(np.log10(q[num]), -0.6, 0.6, colors='red')\n",
    "# plt.hlines(sample[0, 3], 0, 1)\n",
    "# plt.vlines(sample[0, 0], -0.6, 0.6)\n",
    "plt.hlines(sample[0, 3], -4, 0)\n",
    "plt.vlines(sample[0, 2], -0.6, 0.6)\n",
    "plt.colorbar()\n",
    "print(torch.log10(q)[num], torch.log10(s)[num])\n",
    "print(sample)\n",
    "plt.hlines(torch.linspace(-0.6, 0.6, 100)[prob.argmax().item()%100], -4, 0, color='orange')\n",
    "plt.vlines(torch.linspace(-4, 0, 100)[prob.argmax().item()//100], -0.6, 0.6, color='orange')\n",
    "plt.show()"
   ]
  },
  {
   "cell_type": "code",
   "execution_count": 210,
   "metadata": {},
   "outputs": [
    {
     "data": {
      "application/vnd.jupyter.widget-view+json": {
       "model_id": "fabd807d9844409d92b357bb58a28134",
       "version_major": 2,
       "version_minor": 0
      },
      "text/plain": [
       "  0%|          | 0/10000 [00:00<?, ?it/s]"
      ]
     },
     "metadata": {},
     "output_type": "display_data"
    }
   ],
   "source": [
    "qsnormal = torch.distributions.Normal(normal.loc[:, :, [0, -2]], normal.scale[:, :, [0, -2]])\n",
    "grid = torch.stack(torch.meshgrid(torch.linspace(0, 1, 100), torch.linspace(0, 2, 100)), dim=-1).reshape(-1, 2)\n",
    "# grid = torch.stack(torch.meshgrid(torch.linspace(0, 1, 100), torch.linspace(-0.6, 0.6, 100)), dim=-1).reshape(-1, 2)\n",
    "prob = torch.zeros(10000, 1)\n",
    "# y = torch.tile(Y[[num]], [10000, 1])\n",
    "# y[:, 2:4] = grid\n",
    "for i in tqdm(range(10000)):\n",
    "    prob[i] = torch.exp(-model.mdn_loss(pi, qsnormal, grid[[i]].to(device)).detach().cpu())"
   ]
  },
  {
   "cell_type": "code",
   "execution_count": 219,
   "metadata": {},
   "outputs": [
    {
     "name": "stdout",
     "output_type": "stream",
     "text": [
      "[[ 0.30490157 -3.6708117  -0.3183896  -0.13056085  0.68219906 -0.1285442 ]]\n"
     ]
    },
    {
     "data": {
      "image/png": "[encoded data removed]",
      "text/plain": [
       "<Figure size 432x288 with 2 Axes>"
      ]
     },
     "metadata": {
      "needs_background": "light"
     },
     "output_type": "display_data"
    }
   ],
   "source": [
    "sample = model.sample(pi, normal).detach().cpu().numpy()\n",
    "x, y = torch.meshgrid(torch.linspace(0, 1, 100), torch.linspace(0, 2, 100))\n",
    "plt.xlabel('u0'); plt.ylabel('a')\n",
    "# x, y = torch.meshgrid(torch.linspace(0, 1, 100), torch.linspace(-0.6, 0.6, 100))\n",
    "plt.contourf(x, y, prob.reshape(100, 100))\n",
    "plt.hlines(sample[0, -2], 0, 1)\n",
    "plt.vlines(sample[0, 0], 0, 2)\n",
    "plt.colorbar()\n",
    "print(sample)\n",
    "plt.hlines(torch.linspace(0, 2, 100)[prob.argmax().item()%100], 0, 1, color='orange')\n",
    "plt.vlines(torch.linspace(0, 1, 100)[prob.argmax().item()//100], 0, 2, color='orange')\n",
    "plt.show()"
   ]
  },
  {
   "cell_type": "code",
   "execution_count": 220,
   "metadata": {},
   "outputs": [
    {
     "data": {
      "text/plain": [
       "(0.30490157,\n",
       " 0.00021339701826672346,\n",
       " 0.48040819309479266,\n",
       " 0.7403535358364371,\n",
       " 2.143191558062391,\n",
       " 0.7437993654425611)"
      ]
     },
     "execution_count": 220,
     "metadata": {},
     "output_type": "execute_result"
    }
   ],
   "source": [
    "sample[0, 0], 10**sample[0, 1], 10**sample[0, 2], 10**sample[0, 3], sample[0, 4]*np.pi, 10**sample[0, 5]"
   ]
  },
  {
   "cell_type": "code",
   "execution_count": 221,
   "metadata": {},
   "outputs": [],
   "source": [
    "import MulensModel as mm\n",
    "# sample = model.sample(pi, normal).detach().cpu().numpy()\n",
    "fs = 10**sample[0, 5]\n",
    "parameters = { # 1196\n",
    "        't_0': 0,\n",
    "        't_E': 1,\n",
    "        'u_0': 0.1823,\n",
    "        'rho': 10**sample[0, 1], \n",
    "        'q': 0.427, \n",
    "        's': 0.3325, \n",
    "        'alpha': 4.3029/np.pi*180,\n",
    "    }\n",
    "modelmm = mm.Model(parameters, coords=None)\n",
    "times = modelmm.set_times(t_start=parameters['t_0']-2*parameters['t_E'], t_stop=parameters['t_0']+2*parameters['t_E'], n_epochs=1000)\n",
    "modelmm.set_magnification_methods([parameters['t_0']-2*parameters['t_E'], 'VBBL', parameters['t_0']+2*parameters['t_E']])\n",
    "magnification = modelmm.get_magnification(times)\n",
    "mag = - 2.5 * np.log10(fs*magnification + 1-fs) / 0.2\n",
    "lc = np.stack([times, mag], axis=-1)"
   ]
  },
  {
   "cell_type": "code",
   "execution_count": 222,
   "metadata": {},
   "outputs": [],
   "source": [
    "# sample = model.sample(pi, normal).detach().cpu().numpy()\n",
    "# fs = 1\n",
    "parameters = {\n",
    "        't_0': 0,\n",
    "        't_E': 1,\n",
    "        'u_0': sample[0, 0],\n",
    "        'rho': 10**sample[0, 1], \n",
    "        'q': 10**sample[0, 2], \n",
    "        's': 10**sample[0, 3], \n",
    "        'alpha': sample[0, 4]*180,\n",
    "    }\n",
    "modelmm = mm.Model(parameters, coords=None)\n",
    "times = modelmm.set_times(t_start=parameters['t_0']-2*parameters['t_E'], t_stop=parameters['t_0']+2*parameters['t_E'], n_epochs=1000)\n",
    "modelmm.set_magnification_methods([parameters['t_0']-2*parameters['t_E'], 'VBBL', parameters['t_0']+2*parameters['t_E']])\n",
    "magnification = modelmm.get_magnification(times)\n",
    "mag = -2.5 * np.log10(fs*magnification + 1-fs) / 0.2\n",
    "lc_pred = np.stack([times, mag], axis=-1)"
   ]
  },
  {
   "cell_type": "code",
   "execution_count": 223,
   "metadata": {},
   "outputs": [
    {
     "data": {
      "image/png": "[encoded data removed]",
      "text/plain": [
       "<Figure size 432x288 with 1 Axes>"
      ]
     },
     "metadata": {
      "needs_background": "light"
     },
     "output_type": "display_data"
    }
   ],
   "source": [
    "data = []\n",
    "for root, dirs, files in os.walk(targetdir + 'KMT-2019-BLG-' + eventid_list[num]):\n",
    "    for f in files:\n",
    "        if 'V' not in f:\n",
    "            p = re.compile('___')\n",
    "            file = open(f'{targetdir}KMT-2019-BLG-{eventid_list[num]}/{f}', 'r+')\n",
    "            lines = [line for line in file.readlines() if p.search(line) is None]\n",
    "            file.seek(0)\n",
    "            file.truncate(0)\n",
    "            file.writelines(lines)\n",
    "            file.close()\n",
    "\n",
    "            data.append(np.loadtxt(f'{targetdir}KMT-2019-BLG-{eventid_list[num]}/{f}'))\n",
    "data = np.vstack(data)\n",
    "data = data[np.argsort(data[:, 0])]\n",
    "params = np.loadtxt(targetdir + 'params.csv', delimiter=',', skiprows=1)\n",
    "params = params[params[:, 0]==int(eventid_list[num])].flatten()\n",
    "data[:, 0] = (data[:, 0] - params[1]) / params[2]\n",
    "data[:, 3] = (data[:, 3] - params[-1]) / 0.2\n",
    "plt.scatter(data[:, 0], data[:, 3])\n",
    "plt.show()"
   ]
  },
  {
   "cell_type": "code",
   "execution_count": 224,
   "metadata": {},
   "outputs": [
    {
     "name": "stdout",
     "output_type": "stream",
     "text": [
      "tensor(0.5000) 0.48040819309479266\n",
      "0.7437993654425611\n"
     ]
    },
    {
     "data": {
      "image/png": "[encoded data removed]",
      "text/plain": [
       "<Figure size 432x288 with 1 Axes>"
      ]
     },
     "metadata": {
      "needs_background": "light"
     },
     "output_type": "display_data"
    }
   ],
   "source": [
    "print(q[num], 10**sample[0, 2])\n",
    "print(10**sample[0, -1])\n",
    "plt.xlim(-2, 2)\n",
    "plt.ylim(-15, 0)\n",
    "plt.scatter(X_even[num, :, 0], X_even[num, :, 1], marker='o')\n",
    "plt.scatter(data[:, 0], data[:, 3], marker='+')\n",
    "# plt.plot(lc[:, 0], lc[:, 1], label='actual', color='red')\n",
    "plt.plot(lc_pred[:, 0], lc_pred[:, 1], label='pred')\n",
    "plt.legend()\n",
    "plt.show()"
   ]
  },
  {
   "cell_type": "code",
   "execution_count": null,
   "metadata": {},
   "outputs": [],
   "source": []
  }
 ],
 "metadata": {
  "interpreter": {
   "hash": "274e8ed069bc503cc01fa1aa16068ccb03180744fbf761618fb0dbde6179c71c"
  },
  "kernelspec": {
   "display_name": "Python 3.9.7 ('ode-rnn')",
   "language": "python",
   "name": "python3"
  },
  "language_info": {
   "codemirror_mode": {
    "name": "ipython",
    "version": 3
   },
   "file_extension": ".py",
   "mimetype": "text/x-python",
   "name": "python",
   "nbconvert_exporter": "python",
   "pygments_lexer": "ipython3",
   "version": "3.9.7"
  },
  "orig_nbformat": 4
 },
 "nbformat": 4,
 "nbformat_minor": 2
}
