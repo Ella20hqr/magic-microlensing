{
 "cells": [
  {
   "cell_type": "code",
   "execution_count": 1,
   "metadata": {},
   "outputs": [],
   "source": [
    "import os, sys\n",
    "import numpy as np\n",
    "import matplotlib.pyplot as plt\n",
    "from tqdm.notebook import tqdm\n",
    "import torch\n",
    "import torchcde\n",
    "import h5py\n",
    "sys.path.append(os.path.dirname(os.getcwd()))"
   ]
  },
  {
   "cell_type": "code",
   "execution_count": 2,
   "metadata": {},
   "outputs": [],
   "source": [
    "targetdir = '/work/hmzhao/KMT_data/'\n",
    "with h5py.File(targetdir + 'processed_data.h5', mode='r') as dataset_file:\n",
    "    X_even = torch.tensor(dataset_file['X'][...]).float()\n",
    "train_coeffs = torchcde.hermite_cubic_coefficients_with_backward_differences(X_even)"
   ]
  },
  {
   "cell_type": "code",
   "execution_count": 3,
   "metadata": {},
   "outputs": [],
   "source": [
    "q = torch.tensor([\n",
    "    # Planet/Binary\n",
    "    0.43, 0.10, 0.23, 0.045, 0.23,\n",
    "    # Binary/Plan\n",
    "    0.55, 0.18, 0.036, 0.048, 0.1,\n",
    "    0.14, 0.17, 0.14, 0.13, 0.034,\n",
    "    0.17, 0.43, 0.2,\n",
    "    # Binary\n",
    "    0.23, 0.356, 0.07, 0.50, 0.23, \n",
    "    0.17, 0.046, 0.4, 0.32, 0.19, \n",
    "    0.59, 0.86, 0.25, 0.37, 0.23,\n",
    "    0.95, 0.58, 0.53, 0.046, 0.46,\n",
    "    0.095, 0.90, 0.37, 0.36, 0.72,\n",
    "    0.50, 0.11, 0.78, 0.42, 0.50,\n",
    "    0.88, 0.73, 0.74, 0.15, 0.58,\n",
    "    0.15, 0.43, 0.96, 0.086, 0.76,\n",
    "    0.28, 0.67, 0.69, 0.23, 0.56,\n",
    "    0.50, 0.08, 0.74, 0.67, 0.20\n",
    "])"
   ]
  },
  {
   "cell_type": "code",
   "execution_count": 4,
   "metadata": {},
   "outputs": [
    {
     "data": {
      "text/plain": [
       "CDE_MDN(\n",
       "  (cde_func): CDEFunc(\n",
       "    (linear1): Linear(in_features=32, out_features=1024, bias=True)\n",
       "    (relu1): PReLU(num_parameters=1)\n",
       "    (resblocks): Sequential(\n",
       "      (0): ResBlock(\n",
       "        (linear1): Linear(in_features=1024, out_features=1024, bias=True)\n",
       "        (nonlinear1): PReLU(num_parameters=1)\n",
       "        (linear2): Linear(in_features=1024, out_features=1024, bias=True)\n",
       "      )\n",
       "      (1): ResBlock(\n",
       "        (linear1): Linear(in_features=1024, out_features=1024, bias=True)\n",
       "        (nonlinear1): PReLU(num_parameters=1)\n",
       "        (linear2): Linear(in_features=1024, out_features=1024, bias=True)\n",
       "      )\n",
       "      (2): ResBlock(\n",
       "        (linear1): Linear(in_features=1024, out_features=1024, bias=True)\n",
       "        (nonlinear1): PReLU(num_parameters=1)\n",
       "        (linear2): Linear(in_features=1024, out_features=1024, bias=True)\n",
       "      )\n",
       "    )\n",
       "    (relu2): PReLU(num_parameters=1)\n",
       "    (linear2): Linear(in_features=1024, out_features=160, bias=True)\n",
       "    (tanh): Tanh()\n",
       "    (linear3): Linear(in_features=160, out_features=160, bias=True)\n",
       "  )\n",
       "  (initial): Sequential(\n",
       "    (0): Sequential(\n",
       "      (0): Linear(in_features=5, out_features=1024, bias=True)\n",
       "      (1): ReLU()\n",
       "      (2): Linear(in_features=1024, out_features=1024, bias=True)\n",
       "    )\n",
       "    (1): ResBlock(\n",
       "      (linear1): Linear(in_features=1024, out_features=1024, bias=True)\n",
       "      (nonlinear1): ReLU()\n",
       "      (linear2): Linear(in_features=1024, out_features=1024, bias=True)\n",
       "    )\n",
       "    (2): ResBlock(\n",
       "      (linear1): Linear(in_features=1024, out_features=1024, bias=True)\n",
       "      (nonlinear1): ReLU()\n",
       "      (linear2): Linear(in_features=1024, out_features=1024, bias=True)\n",
       "    )\n",
       "    (3): ResBlock(\n",
       "      (linear1): Linear(in_features=1024, out_features=1024, bias=True)\n",
       "      (nonlinear1): ReLU()\n",
       "      (linear2): Linear(in_features=1024, out_features=1024, bias=True)\n",
       "    )\n",
       "    (4): Sequential(\n",
       "      (0): Linear(in_features=1024, out_features=1024, bias=True)\n",
       "      (1): ReLU()\n",
       "      (2): Linear(in_features=1024, out_features=32, bias=True)\n",
       "    )\n",
       "  )\n",
       "  (readout): Sequential(\n",
       "    (0): Sequential(\n",
       "      (0): Linear(in_features=32, out_features=1024, bias=True)\n",
       "      (1): ReLU()\n",
       "      (2): Linear(in_features=1024, out_features=1024, bias=True)\n",
       "    )\n",
       "    (1): ResBlock(\n",
       "      (linear1): Linear(in_features=1024, out_features=1024, bias=True)\n",
       "      (nonlinear1): ReLU()\n",
       "      (linear2): Linear(in_features=1024, out_features=1024, bias=True)\n",
       "    )\n",
       "    (2): ResBlock(\n",
       "      (linear1): Linear(in_features=1024, out_features=1024, bias=True)\n",
       "      (nonlinear1): ReLU()\n",
       "      (linear2): Linear(in_features=1024, out_features=1024, bias=True)\n",
       "    )\n",
       "    (3): ResBlock(\n",
       "      (linear1): Linear(in_features=1024, out_features=1024, bias=True)\n",
       "      (nonlinear1): ReLU()\n",
       "      (linear2): Linear(in_features=1024, out_features=1024, bias=True)\n",
       "    )\n",
       "    (4): Linear(in_features=1024, out_features=1024, bias=True)\n",
       "  )\n",
       "  (mdn): MixtureDensityNetwork(\n",
       "    (pi_network): CategoricalNetwork(\n",
       "      (network): Sequential(\n",
       "        (0): Linear(in_features=1024, out_features=1024, bias=True)\n",
       "        (1): ELU(alpha=1.0)\n",
       "        (2): Linear(in_features=1024, out_features=12, bias=True)\n",
       "      )\n",
       "    )\n",
       "    (normal_network): MixtureDiagNormalNetwork(\n",
       "      (network): Sequential(\n",
       "        (0): Linear(in_features=1024, out_features=1024, bias=True)\n",
       "        (1): ELU(alpha=1.0)\n",
       "        (2): Linear(in_features=1024, out_features=144, bias=True)\n",
       "      )\n",
       "    )\n",
       "  )\n",
       ")"
      ]
     },
     "execution_count": 4,
     "metadata": {},
     "output_type": "execute_result"
    }
   ],
   "source": [
    "from model.cde_mdn import CDE_MDN\n",
    "\n",
    "device = torch.device(\"cuda:7\" if torch.cuda.is_available() else \"cpu\")\n",
    "\n",
    "checkpt = torch.load('/work/hmzhao/experiments/cde_mdn/experiment_21160.ckpt', map_location='cpu')\n",
    "ckpt_args = checkpt['args']\n",
    "state_dict = checkpt['state_dict']\n",
    "\n",
    "output_dim = 6\n",
    "input_dim = X_even.shape[-1]\n",
    "latent_dim = ckpt_args.latents\n",
    "\n",
    "model = CDE_MDN(input_dim, latent_dim, output_dim).to(device)\n",
    "model_dict = model.state_dict()\n",
    "\n",
    "# 1. filter out unnecessary keys\n",
    "state_dict = {k: v for k, v in state_dict.items() if k in model_dict}\n",
    "# 2. overwrite entries in the existing state dict\n",
    "model_dict.update(state_dict) \n",
    "# 3. load the new state dict\n",
    "model.load_state_dict(state_dict)\n",
    "model.to(device)"
   ]
  },
  {
   "cell_type": "code",
   "execution_count": 5,
   "metadata": {},
   "outputs": [
    {
     "data": {
      "application/vnd.jupyter.widget-view+json": {
       "model_id": "202a2e6b76ad4e07966974347c63c192",
       "version_major": 2,
       "version_minor": 0
      },
      "text/plain": [
       "  0%|          | 0/1 [00:00<?, ?it/s]"
      ]
     },
     "metadata": {},
     "output_type": "display_data"
    }
   ],
   "source": [
    "def get_negloglik(pi, normal, y):\n",
    "    normal = torch.distributions.Normal(normal.loc[:, :, [2]], normal.scale[:, :, [2]])\n",
    "    loglik = normal.log_prob(y.unsqueeze(1).expand_as(normal.loc))\n",
    "    loglik = torch.sum(loglik, dim=2)\n",
    "    loss = -torch.logsumexp(torch.log(pi.probs) + loglik, dim=1)\n",
    "    return loss\n",
    "\n",
    "\n",
    "num = len(X_even)\n",
    "batchsize = len(X_even)\n",
    "pred = torch.zeros((num, 6))\n",
    "nll = torch.zeros((num,))\n",
    "nll_sample = torch.zeros((num,))\n",
    "model.eval()\n",
    "for i in tqdm(range(num // batchsize)):\n",
    "    torch.cuda.empty_cache()\n",
    "    batch = train_coeffs[i*batchsize:i*batchsize+batchsize].float().to(device)\n",
    "    # pred[i*batchsize:i*batchsize+batchsize] = model(batch).detach().cpu()\n",
    "    pi, normal = model(batch)\n",
    "    pred[i*batchsize:i*batchsize+batchsize] = model.sample(pi, normal).detach().cpu()\n",
    "    nll[i*batchsize:i*batchsize+batchsize] = get_negloglik(pi, normal, torch.log10(q).reshape(-1, 1)[i*batchsize:i*batchsize+batchsize].float().to(device)).detach().cpu()\n",
    "    nll_sample[i*batchsize:i*batchsize+batchsize] = get_negloglik(pi, normal, pred[i*batchsize:i*batchsize+batchsize, [2]].float().to(device)).detach().cpu()"
   ]
  },
  {
   "cell_type": "code",
   "execution_count": 8,
   "metadata": {},
   "outputs": [
    {
     "data": {
      "image/png": "[encoded data removed]",
      "text/plain": [
       "<Figure size 432x288 with 1 Axes>"
      ]
     },
     "metadata": {
      "needs_background": "light"
     },
     "output_type": "display_data"
    }
   ],
   "source": [
    "plt.hist(nll.numpy(), bins=100, density=True, cumulative=True)\n",
    "plt.show()"
   ]
  },
  {
   "cell_type": "code",
   "execution_count": 9,
   "metadata": {},
   "outputs": [
    {
     "data": {
      "image/png": "[encoded data removed]",
      "text/plain": [
       "<Figure size 432x288 with 1 Axes>"
      ]
     },
     "metadata": {
      "needs_background": "light"
     },
     "output_type": "display_data"
    }
   ],
   "source": [
    "plt.hist(nll_sample.numpy(), bins=100, density=True, cumulative=True)\n",
    "plt.show()"
   ]
  },
  {
   "cell_type": "code",
   "execution_count": 10,
   "metadata": {},
   "outputs": [
    {
     "data": {
      "text/plain": [
       "tensor([5.2120e-01, 1.8989e-01, 4.2358e-01, 2.9716e-01, 6.9447e-01, 1.2580e-01,\n",
       "        6.0711e-02, 1.5149e-01, 9.4857e-02, 2.5183e-01, 2.4101e-01, 5.2263e-01,\n",
       "        8.7861e-01, 2.4559e-01, 4.8635e-01, 3.4705e-01, 1.7028e-01, 4.4248e-01,\n",
       "        2.9676e-01, 6.7110e-01, 4.0676e-01, 8.9932e-01, 5.2913e-01, 3.3204e-01,\n",
       "        1.4305e-01, 2.2489e-01, 3.9194e-02, 3.1881e-01, 5.1666e-02, 8.1365e-01,\n",
       "        3.1529e-01, 3.4805e-01, 4.1559e-02, 4.4917e-01, 2.3925e-01, 5.9578e-01,\n",
       "        1.2835e-01, 5.4482e-01, 1.5987e-01, 7.5861e-01, 1.1958e-01, 3.3388e-01,\n",
       "        9.3100e-01, 1.4956e+00, 1.0681e-04, 1.6073e-01, 9.7631e-01, 3.5453e-01,\n",
       "        3.2887e-02, 7.1981e-01, 4.3109e-01, 2.6723e-01, 7.5507e-01, 5.9196e-01,\n",
       "        5.0912e-01, 8.3621e-01, 6.5295e-01, 3.8585e-03, 3.8088e-02, 7.9541e-02,\n",
       "        1.0031e-01, 8.1032e-01, 6.1764e-01, 3.5978e-01, 2.5486e-01, 6.6808e-01,\n",
       "        5.6653e-02, 2.7158e-02])"
      ]
     },
     "execution_count": 10,
     "metadata": {},
     "output_type": "execute_result"
    }
   ],
   "source": [
    "10**pred[:, 2]\n"
   ]
  },
  {
   "cell_type": "code",
   "execution_count": 11,
   "metadata": {},
   "outputs": [
    {
     "data": {
      "text/plain": [
       "tensor([0.4300, 0.1000, 0.2300, 0.0450, 0.2300, 0.5500, 0.1800, 0.0360, 0.0480,\n",
       "        0.1000, 0.1400, 0.1700, 0.1400, 0.1300, 0.0340, 0.1700, 0.4300, 0.2000,\n",
       "        0.2300, 0.3560, 0.0700, 0.5000, 0.2300, 0.1700, 0.0460, 0.4000, 0.3200,\n",
       "        0.1900, 0.5900, 0.8600, 0.2500, 0.3700, 0.2300, 0.9500, 0.5800, 0.5300,\n",
       "        0.0460, 0.4600, 0.0950, 0.9000, 0.3700, 0.3600, 0.7200, 0.5000, 0.1100,\n",
       "        0.7800, 0.4200, 0.5000, 0.8800, 0.7300, 0.7400, 0.1500, 0.5800, 0.1500,\n",
       "        0.4300, 0.9600, 0.0860, 0.7600, 0.2800, 0.6700, 0.6900, 0.2300, 0.5600,\n",
       "        0.5000, 0.0800, 0.7400, 0.6700, 0.2000])"
      ]
     },
     "execution_count": 11,
     "metadata": {},
     "output_type": "execute_result"
    }
   ],
   "source": [
    "q"
   ]
  },
  {
   "cell_type": "code",
   "execution_count": 12,
   "metadata": {},
   "outputs": [
    {
     "data": {
      "image/png": "[encoded data removed]",
      "text/plain": [
       "<Figure size 432x288 with 1 Axes>"
      ]
     },
     "metadata": {
      "needs_background": "light"
     },
     "output_type": "display_data"
    }
   ],
   "source": [
    "plt.hist(np.log10(np.abs(((pred[:, 2] - torch.log10(q))/torch.log10(q)).numpy())), bins=50)\n",
    "plt.show()"
   ]
  },
  {
   "cell_type": "code",
   "execution_count": 13,
   "metadata": {},
   "outputs": [
    {
     "data": {
      "image/png": "[encoded data removed]",
      "text/plain": [
       "<Figure size 432x288 with 1 Axes>"
      ]
     },
     "metadata": {
      "needs_background": "light"
     },
     "output_type": "display_data"
    }
   ],
   "source": [
    "plt.hist(np.log10(np.abs(((torch.rand(len(q))*(-2) - torch.log10(q))/torch.log10(q)).numpy())), bins=50)\n",
    "plt.hist(np.log10(np.abs(((pred[:, 2] - torch.log10(q))/torch.log10(q)).numpy())), bins=50)\n",
    "plt.show()"
   ]
  },
  {
   "cell_type": "code",
   "execution_count": 14,
   "metadata": {},
   "outputs": [
    {
     "data": {
      "text/plain": [
       "0.6911764705882353"
      ]
     },
     "execution_count": 14,
     "metadata": {},
     "output_type": "execute_result"
    }
   ],
   "source": [
    "np.sum(np.abs(((pred[:, 2] - torch.log10(q))/torch.log10(q))).numpy() < 1)/len(q)"
   ]
  },
  {
   "cell_type": "code",
   "execution_count": 15,
   "metadata": {},
   "outputs": [
    {
     "data": {
      "text/plain": [
       "0.5294117647058824"
      ]
     },
     "execution_count": 15,
     "metadata": {},
     "output_type": "execute_result"
    }
   ],
   "source": [
    "np.sum(np.abs(((torch.rand(len(q))*(-2) - torch.log10(q))/torch.log10(q))).numpy() < 1)/len(q)"
   ]
  },
  {
   "cell_type": "code",
   "execution_count": 16,
   "metadata": {},
   "outputs": [
    {
     "data": {
      "text/plain": [
       "tensor(0.4843)"
      ]
     },
     "execution_count": 16,
     "metadata": {},
     "output_type": "execute_result"
    }
   ],
   "source": [
    "torch.mean((pred[:, 2] - torch.log10(q))**2)"
   ]
  },
  {
   "cell_type": "code",
   "execution_count": 17,
   "metadata": {},
   "outputs": [
    {
     "data": {
      "image/png": "[encoded data removed]",
      "text/plain": [
       "<Figure size 432x288 with 2 Axes>"
      ]
     },
     "metadata": {
      "needs_background": "light"
     },
     "output_type": "display_data"
    },
    {
     "name": "stdout",
     "output_type": "stream",
     "text": [
      "tensor([-0.3010, -1.0969, -0.1308, -0.1739, -0.6990])\n",
      "[-0.4439674  -0.59369254 -0.17516942 -1.2467736  -1.5661093 ]\n",
      "mse of log10q:  0.4842740297317505\n"
     ]
    }
   ],
   "source": [
    "import matplotlib.pyplot as plt\n",
    "%matplotlib inline\n",
    "# num=4096\n",
    "plt.axis('square')\n",
    "plt.xlim(-4, 0)\n",
    "plt.ylim(-4, 0)\n",
    "plt.xlabel(r'actual $\\log_{10}q$')\n",
    "plt.ylabel(r'predicted $\\log_{10}q$')\n",
    "plt.scatter(torch.log10(q), pred.numpy()[:, 2], s=5, c=-nll, cmap='Blues')\n",
    "plt.plot(np.linspace(-4, 0), np.linspace(-4, 0), color='b', linestyle='dashed')\n",
    "plt.colorbar()\n",
    "plt.show()\n",
    "print(torch.log10(q)[-5:])\n",
    "print(pred.numpy()[-5:, 2])\n",
    "print('mse of log10q: ', torch.mean((torch.log10(q) -  pred.numpy()[:, 2])**2, dim=0).detach().cpu().item())"
   ]
  },
  {
   "cell_type": "code",
   "execution_count": 17,
   "metadata": {},
   "outputs": [
    {
     "name": "stdout",
     "output_type": "stream",
     "text": [
      "tensor(0.2300) tensor(0.4043)\n"
     ]
    },
    {
     "data": {
      "image/png": "[encoded data removed]",
      "text/plain": [
       "<Figure size 432x288 with 1 Axes>"
      ]
     },
     "metadata": {
      "needs_background": "light"
     },
     "output_type": "display_data"
    }
   ],
   "source": [
    "num = 18\n",
    "print(q[num], 10**pred[num, 2])\n",
    "plt.plot(X_even[num, :, 0], X_even[num, :, 1])\n",
    "plt.show()"
   ]
  },
  {
   "cell_type": "code",
   "execution_count": 17,
   "metadata": {},
   "outputs": [],
   "source": [
    "# train_coeffs = torchcde.hermite_cubic_coefficients_with_backward_differences(X_even[[num], :-120])"
   ]
  },
  {
   "cell_type": "code",
   "execution_count": 18,
   "metadata": {},
   "outputs": [],
   "source": [
    "pi, normal = model(train_coeffs[[num]].float().to(device))"
   ]
  },
  {
   "cell_type": "code",
   "execution_count": 19,
   "metadata": {},
   "outputs": [
    {
     "name": "stdout",
     "output_type": "stream",
     "text": [
      "[[ 0.9330627  -2.9082856  -0.7201545   0.45041746  3.272409   -0.1488139 ]]\n",
      "tensor(-1.1549)\n"
     ]
    }
   ],
   "source": [
    "sample = model.sample(pi, normal).cpu().numpy()\n",
    "print(sample)\n",
    "print(torch.log10(q[num]))"
   ]
  },
  {
   "cell_type": "code",
   "execution_count": 117,
   "metadata": {},
   "outputs": [
    {
     "data": {
      "application/vnd.jupyter.widget-view+json": {
       "model_id": "14cbd439a0e4496db06482edee62ce54",
       "version_major": 2,
       "version_minor": 0
      },
      "text/plain": [
       "  0%|          | 0/10000 [00:00<?, ?it/s]"
      ]
     },
     "metadata": {},
     "output_type": "display_data"
    }
   ],
   "source": [
    "# qsnormal = torch.distributions.Normal(normal.loc[:, :, [0, 3]], normal.scale[:, :, [0, 3]])\n",
    "qsnormal = torch.distributions.Normal(normal.loc[:, :, [2, 3]], normal.scale[:, :, [2, 3]])\n",
    "grid = torch.stack(torch.meshgrid(torch.linspace(-4, 0, 100), torch.linspace(-0.6, 0.6, 100)), dim=-1).reshape(-1, 2)\n",
    "# grid = torch.stack(torch.meshgrid(torch.linspace(0, 1, 100), torch.linspace(-0.6, 0.6, 100)), dim=-1).reshape(-1, 2)\n",
    "prob = torch.zeros(10000, 1)\n",
    "# y = torch.tile(Y[[num]], [10000, 1])\n",
    "# y[:, 2:4] = grid\n",
    "for i in tqdm(range(10000)):\n",
    "    prob[i] = torch.exp(-model.mdn_loss(pi, qsnormal, grid[[i]].to(device)).detach().cpu())"
   ]
  },
  {
   "cell_type": "code",
   "execution_count": 118,
   "metadata": {},
   "outputs": [
    {
     "data": {
      "text/plain": [
       "(tensor([0.0903]), tensor([0.4548]), tensor(15.4050))"
      ]
     },
     "execution_count": 118,
     "metadata": {},
     "output_type": "execute_result"
    }
   ],
   "source": [
    "torch.exp(-get_negloglik(pi, normal, torch.log10(q)[[num]].to(device))).detach().cpu(), \\\n",
    "torch.exp(-get_negloglik(pi, normal, model.sample(pi, normal)[:, 2].to(device)).detach().cpu()), \\\n",
    "torch.exp(-model.mdn_loss(pi, normal, model.sample(pi, normal).to(device)).detach().cpu())"
   ]
  },
  {
   "cell_type": "code",
   "execution_count": 135,
   "metadata": {},
   "outputs": [
    {
     "name": "stdout",
     "output_type": "stream",
     "text": [
      "tensor(-1.1549)\n",
      "[[ 2.8320417  -2.4294658  -3.2956717   0.40804076 -0.77100515 -0.91890925]]\n"
     ]
    },
    {
     "data": {
      "image/png": "[encoded data removed]",
      "text/plain": [
       "<Figure size 432x288 with 2 Axes>"
      ]
     },
     "metadata": {
      "needs_background": "light"
     },
     "output_type": "display_data"
    }
   ],
   "source": [
    "sample = model.sample(pi, normal).detach().cpu().numpy()\n",
    "x, y = torch.meshgrid(torch.linspace(-4, 0, 100), torch.linspace(-0.6, 0.6, 100))\n",
    "# x, y = torch.meshgrid(torch.linspace(0, 1, 100), torch.linspace(-0.6, 0.6, 100))\n",
    "plt.contourf(x, y, prob.reshape(100, 100))\n",
    "# plt.contourf(torch.linspace(0, 1, 100), torch.linspace(-0.6, 0.6, 100), prob.reshape(100, 100).T)\n",
    "# plt.hlines(Y[num, 3], 0, 1, colors='red')\n",
    "# plt.vlines(Y[num, 0], -0.6, 0.6, colors='red')\n",
    "# plt.hlines(sample[0, 3], 0, 1)\n",
    "# plt.vlines(sample[0, 0], -0.6, 0.6)\n",
    "plt.hlines(sample[0, 3], -4, 0)\n",
    "plt.vlines(sample[0, 2], -0.6, 0.6)\n",
    "plt.colorbar()\n",
    "print(torch.log10(q)[num])\n",
    "print(sample)"
   ]
  },
  {
   "cell_type": "code",
   "execution_count": 120,
   "metadata": {},
   "outputs": [],
   "source": [
    "import MulensModel as mm\n",
    "sample = model.sample(pi, normal).detach().cpu().numpy()\n",
    "fs = 0.05\n",
    "parameters = {\n",
    "        't_0': 8551.968,\n",
    "        't_E': 236.02,\n",
    "        'u_0': 0.0390,\n",
    "        'rho': 0.0028, \n",
    "        'q': 0.234, \n",
    "        's': 3.674, \n",
    "        'alpha': 3.105/np.pi*180,\n",
    "    }\n",
    "modelmm = mm.Model(parameters, coords=None)\n",
    "times = modelmm.set_times(t_start=parameters['t_0']-3*parameters['t_E'], t_stop=parameters['t_0']+2*parameters['t_E'], n_epochs=1000)\n",
    "modelmm.set_magnification_methods([parameters['t_0']-3*parameters['t_E'], 'VBBL', parameters['t_0']+2*parameters['t_E']])\n",
    "magnification = modelmm.get_magnification(times)\n",
    "mag = - 2.5 * np.log10(fs*magnification + 1-fs) / 0.2\n",
    "lc = np.stack([times, mag], axis=-1)"
   ]
  },
  {
   "cell_type": "code",
   "execution_count": 121,
   "metadata": {},
   "outputs": [],
   "source": [
    "sample = model.sample(pi, normal).detach().cpu().numpy()\n",
    "# fs = 1\n",
    "parameters = {\n",
    "        't_0': 8551.968,\n",
    "        't_E': 236.02,\n",
    "        'u_0': 0.039,\n",
    "        'rho': 0.0028, \n",
    "        'q': 10**sample[0, 2], \n",
    "        's': 10**sample[0, 3], \n",
    "        'alpha': 3.105/np.pi*180,\n",
    "    }\n",
    "modelmm = mm.Model(parameters, coords=None)\n",
    "times = modelmm.set_times(t_start=parameters['t_0']-3*parameters['t_E'], t_stop=parameters['t_0']+2*parameters['t_E'], n_epochs=1000)\n",
    "modelmm.set_magnification_methods([parameters['t_0']-3*parameters['t_E'], 'VBBL', parameters['t_0']+2*parameters['t_E']])\n",
    "magnification = modelmm.get_magnification(times)\n",
    "mag = -2.5 * np.log10(fs*magnification + 1-fs) / 0.2\n",
    "lc_pred = np.stack([times, mag], axis=-1)"
   ]
  },
  {
   "cell_type": "code",
   "execution_count": 122,
   "metadata": {},
   "outputs": [
    {
     "name": "stdout",
     "output_type": "stream",
     "text": [
      "tensor(0.0700) 0.0001233012999074869\n"
     ]
    },
    {
     "data": {
      "image/png": "[encoded data removed]",
      "text/plain": [
       "<Figure size 432x288 with 1 Axes>"
      ]
     },
     "metadata": {
      "needs_background": "light"
     },
     "output_type": "display_data"
    }
   ],
   "source": [
    "print(q[num], 10**sample[0, 2])\n",
    "plt.plot(X_even[num, :, 0] * 236.02 * 4 + 8551.968, X_even[num, :, 1])\n",
    "plt.plot(lc[:, 0], lc[:, 1], label='actual')\n",
    "plt.plot(lc_pred[:, 0], lc_pred[:, 1], label='pred')\n",
    "plt.legend()\n",
    "plt.show()"
   ]
  },
  {
   "cell_type": "code",
   "execution_count": 151,
   "metadata": {},
   "outputs": [
    {
     "data": {
      "text/plain": [
       "array([[ 0.8640887 , -2.8583016 , -0.60997146,  0.4036388 , -0.92372173,\n",
       "        -0.35998553]], dtype=float32)"
      ]
     },
     "execution_count": 151,
     "metadata": {},
     "output_type": "execute_result"
    }
   ],
   "source": [
    "sample"
   ]
  },
  {
   "cell_type": "code",
   "execution_count": 161,
   "metadata": {},
   "outputs": [
    {
     "name": "stdout",
     "output_type": "stream",
     "text": [
      "tensor([[ 0.0390, -2.5528, -0.6308,  0.5651, -0.9993,  0.0366]],\n",
      "       dtype=torch.float64)\n"
     ]
    }
   ],
   "source": [
    "Y = torch.tensor([0.039, np.log10(0.0028), np.log10(0.234), np.log10(3.674), np.cos(3.105), np.sin(3.105)]).reshape(1, -1)\n",
    "print(Y)"
   ]
  },
  {
   "cell_type": "code",
   "execution_count": null,
   "metadata": {},
   "outputs": [],
   "source": []
  }
 ],
 "metadata": {
  "interpreter": {
   "hash": "274e8ed069bc503cc01fa1aa16068ccb03180744fbf761618fb0dbde6179c71c"
  },
  "kernelspec": {
   "display_name": "Python 3.9.7 ('ode-rnn')",
   "language": "python",
   "name": "python3"
  },
  "language_info": {
   "codemirror_mode": {
    "name": "ipython",
    "version": 3
   },
   "file_extension": ".py",
   "mimetype": "text/x-python",
   "name": "python",
   "nbconvert_exporter": "python",
   "pygments_lexer": "ipython3",
   "version": "3.9.7"
  },
  "orig_nbformat": 4
 },
 "nbformat": 4,
 "nbformat_minor": 2
}
