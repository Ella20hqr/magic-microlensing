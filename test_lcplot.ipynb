{
 "cells": [
  {
   "cell_type": "code",
   "execution_count": 1,
   "metadata": {},
   "outputs": [],
   "source": [
    "import os\n",
    "import torch\n",
    "import numpy as np\n",
    "import matplotlib.pyplot as plt\n",
    "%matplotlib inline\n",
    "import h5py\n",
    "from tqdm.notebook import tqdm\n",
    "import torchcde\n",
    "from scipy.signal import find_peaks\n",
    "import MulensModel as mm\n",
    "import corner\n",
    "from model.utils import inference, get_loglik, get_peak_pred, plot_params, simulate_lc, infer_lgfs\n",
    "from matplotlib.offsetbox import AnchoredText\n",
    "\n",
    "torch.random.manual_seed(42)\n",
    "np.random.seed(42)\n",
    "plt.rcParams[\"font.family\"] = \"serif\"\n",
    "plt.rcParams['mathtext.fontset'] = 'cm'\n",
    "plt.rcParams['mathtext.rm'] = 'serif'"
   ]
  },
  {
   "cell_type": "code",
   "execution_count": 2,
   "metadata": {},
   "outputs": [
    {
     "name": "stdout",
     "output_type": "stream",
     "text": [
      "Shape of Y:  torch.Size([100000, 5])\n",
      "normalized X mean: -1.1743464469848672\n",
      "X std: 1.046597228312195\n"
     ]
    }
   ],
   "source": [
    "with h5py.File('/work/hmzhao/irregular-lc/KMT-fixrho-test.h5', mode='r') as dataset_file:\n",
    "    Y = torch.tensor(dataset_file['Y'][...])\n",
    "    X = torch.tensor(dataset_file['X'][...])\n",
    "\n",
    "# filter nan\n",
    "nanind = torch.where(~torch.isnan(X[:, 0, 1]))[0]\n",
    "Y = Y[nanind]\n",
    "X = X[nanind]\n",
    "nanind = torch.where(Y[:, 2]>0)[0]\n",
    "Y = Y[nanind]\n",
    "X = X[nanind]\n",
    "nanind = torch.where(Y[:, 2]<1)[0]\n",
    "Y = Y[nanind]\n",
    "X = X[nanind]\n",
    "\n",
    "Y[:, 3:6] = torch.log10(Y[:, 3:6])\n",
    "Y[:, -1] = torch.log10(Y[:, -1])\n",
    "Y[:, 6] = Y[:, 6] / 180\n",
    "# Y = Y[:, 2:]\n",
    "Y = Y[:, [2, 4, 5, 6, 7]]\n",
    "print('Shape of Y: ', Y.shape)\n",
    "\n",
    "X[:, :, 1] = (X[:, :, 1] - 14.5 - 2.5 * Y[:, [-1]]) / 0.2\n",
    "print(f'normalized X mean: {torch.mean(X[:, :, 1])}\\nX std: {torch.mean(torch.std(X[:, :, 1], axis=0))}')\n",
    "\n",
    "X = X[:, :, :2]\n",
    "    \n",
    "# CDE interpolation with log_sig\n",
    "depth = 3; window_length = 5\n",
    "logsig = torchcde.logsig_windows(X, depth, window_length=window_length)\n",
    "coeffs = torchcde.hermite_cubic_coefficients_with_backward_differences(logsig)"
   ]
  },
  {
   "cell_type": "code",
   "execution_count": 3,
   "metadata": {},
   "outputs": [
    {
     "data": {
      "text/plain": [
       "CDE_MDN(\n",
       "  (cde_func): CDEFunc(\n",
       "    (linear1): Linear(in_features=32, out_features=1024, bias=True)\n",
       "    (relu1): PReLU(num_parameters=1)\n",
       "    (resblocks): Sequential(\n",
       "      (0): ResBlock(\n",
       "        (linear1): Linear(in_features=1024, out_features=1024, bias=True)\n",
       "        (nonlinear1): PReLU(num_parameters=1)\n",
       "        (linear2): Linear(in_features=1024, out_features=1024, bias=True)\n",
       "      )\n",
       "      (1): ResBlock(\n",
       "        (linear1): Linear(in_features=1024, out_features=1024, bias=True)\n",
       "        (nonlinear1): PReLU(num_parameters=1)\n",
       "        (linear2): Linear(in_features=1024, out_features=1024, bias=True)\n",
       "      )\n",
       "      (2): ResBlock(\n",
       "        (linear1): Linear(in_features=1024, out_features=1024, bias=True)\n",
       "        (nonlinear1): PReLU(num_parameters=1)\n",
       "        (linear2): Linear(in_features=1024, out_features=1024, bias=True)\n",
       "      )\n",
       "    )\n",
       "    (relu2): PReLU(num_parameters=1)\n",
       "    (linear2): Linear(in_features=1024, out_features=160, bias=True)\n",
       "    (tanh): Tanh()\n",
       "    (linear3): Linear(in_features=160, out_features=160, bias=True)\n",
       "  )\n",
       "  (initial): Sequential(\n",
       "    (0): Sequential(\n",
       "      (0): Linear(in_features=5, out_features=1024, bias=True)\n",
       "      (1): ReLU()\n",
       "      (2): Linear(in_features=1024, out_features=1024, bias=True)\n",
       "    )\n",
       "    (1): ResBlock(\n",
       "      (linear1): Linear(in_features=1024, out_features=1024, bias=True)\n",
       "      (nonlinear1): ReLU()\n",
       "      (linear2): Linear(in_features=1024, out_features=1024, bias=True)\n",
       "    )\n",
       "    (2): ResBlock(\n",
       "      (linear1): Linear(in_features=1024, out_features=1024, bias=True)\n",
       "      (nonlinear1): ReLU()\n",
       "      (linear2): Linear(in_features=1024, out_features=1024, bias=True)\n",
       "    )\n",
       "    (3): ResBlock(\n",
       "      (linear1): Linear(in_features=1024, out_features=1024, bias=True)\n",
       "      (nonlinear1): ReLU()\n",
       "      (linear2): Linear(in_features=1024, out_features=1024, bias=True)\n",
       "    )\n",
       "    (4): Sequential(\n",
       "      (0): Linear(in_features=1024, out_features=1024, bias=True)\n",
       "      (1): ReLU()\n",
       "      (2): Linear(in_features=1024, out_features=32, bias=True)\n",
       "    )\n",
       "  )\n",
       "  (readout): Sequential(\n",
       "    (0): Sequential(\n",
       "      (0): Linear(in_features=32, out_features=1024, bias=True)\n",
       "      (1): ReLU()\n",
       "      (2): Linear(in_features=1024, out_features=1024, bias=True)\n",
       "    )\n",
       "    (1): ResBlock(\n",
       "      (linear1): Linear(in_features=1024, out_features=1024, bias=True)\n",
       "      (nonlinear1): ReLU()\n",
       "      (linear2): Linear(in_features=1024, out_features=1024, bias=True)\n",
       "    )\n",
       "    (2): ResBlock(\n",
       "      (linear1): Linear(in_features=1024, out_features=1024, bias=True)\n",
       "      (nonlinear1): ReLU()\n",
       "      (linear2): Linear(in_features=1024, out_features=1024, bias=True)\n",
       "    )\n",
       "    (3): ResBlock(\n",
       "      (linear1): Linear(in_features=1024, out_features=1024, bias=True)\n",
       "      (nonlinear1): ReLU()\n",
       "      (linear2): Linear(in_features=1024, out_features=1024, bias=True)\n",
       "    )\n",
       "    (4): Linear(in_features=1024, out_features=1024, bias=True)\n",
       "  )\n",
       "  (mdn): MixtureDensityNetwork(\n",
       "    (pi_network): CategoricalNetwork(\n",
       "      (network): Sequential(\n",
       "        (0): Linear(in_features=1024, out_features=1024, bias=True)\n",
       "        (1): ELU(alpha=1.0)\n",
       "        (2): Linear(in_features=1024, out_features=12, bias=True)\n",
       "      )\n",
       "    )\n",
       "    (normal_network): MixtureDiagNormalNetwork(\n",
       "      (network): Sequential(\n",
       "        (0): Linear(in_features=1024, out_features=1024, bias=True)\n",
       "        (1): ELU(alpha=1.0)\n",
       "        (2): Linear(in_features=1024, out_features=120, bias=True)\n",
       "      )\n",
       "    )\n",
       "  )\n",
       ")"
      ]
     },
     "execution_count": 3,
     "metadata": {},
     "output_type": "execute_result"
    }
   ],
   "source": [
    "from model.cde_mdn import CDE_MDN\n",
    "\n",
    "device = torch.device(\"cuda:2\" if torch.cuda.is_available() else \"cpu\")\n",
    "\n",
    "checkpt = torch.load('/work/hmzhao/experiments/cde_mdn/experiment_l32nG12diag.ckpt', map_location='cpu')\n",
    "ckpt_args = checkpt['args']\n",
    "state_dict = checkpt['state_dict']\n",
    "\n",
    "output_dim = Y.shape[-1]\n",
    "input_dim = logsig.shape[-1]\n",
    "latent_dim = ckpt_args.latents\n",
    "\n",
    "model = CDE_MDN(input_dim, latent_dim, output_dim).to(device)\n",
    "# model = CDE_MDN(input_dim, latent_dim, output_dim, 32).to(device)\n",
    "model_dict = model.state_dict()\n",
    "\n",
    "# 1. filter out unnecessary keys\n",
    "state_dict = {k: v for k, v in state_dict.items() if k in model_dict}\n",
    "# 2. overwrite entries in the existing state dict\n",
    "model_dict.update(state_dict) \n",
    "# 3. load the new state dict\n",
    "model.load_state_dict(state_dict)\n",
    "model.to(device)"
   ]
  },
  {
   "cell_type": "code",
   "execution_count": 7,
   "metadata": {},
   "outputs": [],
   "source": [
    "size = 4096 * 4"
   ]
  },
  {
   "cell_type": "code",
   "execution_count": null,
   "metadata": {},
   "outputs": [],
   "source": [
    "X_gap = torch.tensor(np.load('/work/hmzhao/X_gap.npy'))\n",
    "\n",
    "# CDE interpolation with log_sig\n",
    "depth = 3; window_length = max(X_gap.shape[1]//100, 1)\n",
    "logsig = torchcde.logsig_windows(X_gap, depth, window_length=window_length)\n",
    "coeffs = torchcde.hermite_cubic_coefficients_with_backward_differences(logsig)\n",
    "\n",
    "pis_gap, locs_gap, scales_gap = inference(model, size, 4096, coeffs, device, full_cov=False)\n",
    "\n",
    "pred_gap = get_peak_pred(pis_gap, locs_gap, scales_gap, Y)"
   ]
  },
  {
   "cell_type": "code",
   "execution_count": 9,
   "metadata": {},
   "outputs": [
    {
     "data": {
      "image/png": "[encoded data removed]",
      "text/plain": [
       "<Figure size 432x288 with 1 Axes>"
      ]
     },
     "metadata": {
      "needs_background": "light"
     },
     "output_type": "display_data"
    }
   ],
   "source": [
    "plt.hist((torch.mean(X[:size, :, 1], dim=1) - torch.mean(X_gap[:size, :, 1], dim=1)).numpy()**2, bins=100, log=True)\n",
    "plt.show()"
   ]
  },
  {
   "cell_type": "code",
   "execution_count": 10,
   "metadata": {},
   "outputs": [],
   "source": [
    "ind = (torch.mean(X[:, :, 1], dim=1) - torch.mean(X_gap[:, :, 1], dim=1)).numpy()**2 > 0.05\n",
    "ind[size:] = False"
   ]
  },
  {
   "cell_type": "code",
   "execution_count": 26,
   "metadata": {},
   "outputs": [
    {
     "name": "stdout",
     "output_type": "stream",
     "text": [
      "parameters: u0, lgrho, lgq, lgs, alpha, lgfs\n",
      "ground truth:  [ 0.24718131 -0.07421306  0.22684473  1.61797688 -0.09365742]\n",
      "pred gap close:  [0.2842842638492584, -3, -0.06406406313180923, 0.2132132202386856, 1.5915915966033936, -0.14014014601707458]\n",
      "pred gap global:  [0.2842842638492584, -3, -0.23623622953891754, 0.2132132202386856, 1.5915915966033936, -0.14014014601707458]\n",
      "30\n"
     ]
    },
    {
     "data": {
      "image/png": "[encoded data removed]",
      "text/plain": [
       "<Figure size 864x288 with 2 Axes>"
      ]
     },
     "metadata": {
      "needs_background": "light"
     },
     "output_type": "display_data"
    }
   ],
   "source": [
    "i = 30\n",
    "fig = plt.figure(1, (12, 4))\n",
    "plt.xlabel(r'$(t - t_0)/t_E$', fontsize=14)\n",
    "plt.ylabel(r'm - m_base', fontsize=14)\n",
    "# plt.gca().set_aspect(0.1)\n",
    "plt.xlim(-1, 1)\n",
    "# plt.ylim(-3, 1)\n",
    "# plt.scatter(X[ind][i, :, 0], X[ind][i, :, 1]*0.2, color='grey', marker='o', s=20, rasterized=True)\n",
    "gap_times = np.setdiff1d(np.floor(X[ind][i, :, 0]*1e3), np.floor(X_gap[ind][i, :, 0]*1e3))/1e3\n",
    "plt.axvspan(gap_times.min(), gap_times.max(), color='grey', alpha=0.2)\n",
    "plt.scatter(X_gap[ind][i, :, 0], X_gap[ind][i, :, 1]*0.2, color='black', marker='o', rasterized=True)\n",
    "param_true = Y[ind][i].tolist()\n",
    "param_true.insert(1, -3)\n",
    "# param_pred = pred_close[ind[:size]][i].tolist()\n",
    "# param_pred.insert(1, -3)\n",
    "param_pred_gap = pred_gap[2][ind[:size]][i].tolist()\n",
    "param_pred_gap.insert(1, -3)\n",
    "param_pred_gap_g = pred_gap[0][ind[:size]][i].tolist()\n",
    "param_pred_gap_g.insert(1, -3)\n",
    "lc_true = simulate_lc(0, 1, *param_true, orig=True)\n",
    "# lc_pred = simulate_lc(0, 1, *param_pred, orig=True)\n",
    "lc_pred_gap = simulate_lc(0, 1, *param_pred_gap, orig=True)\n",
    "lc_pred_gap_g = simulate_lc(0, 1, *param_pred_gap_g, orig=True)\n",
    "plt.plot(lc_true[:, 0], lc_true[:, 1], color='black', linestyle='dashed', label='truth')\n",
    "# plt.plot(lc_pred[:, 0], lc_pred[:, 1], color='blue', label='no gap')\n",
    "plt.plot(lc_pred_gap[:, 0], lc_pred_gap[:, 1], color='red', label='close')\n",
    "plt.plot(lc_pred_gap_g[:, 0], lc_pred_gap_g[:, 1], color='orange', label='global')\n",
    "param_gt_example = Y[ind][i].numpy()\n",
    "param_predgap_example = pred_gap[2][ind[:size]][i].numpy()\n",
    "print('parameters: u0, lgrho, lgq, lgs, alpha, lgfs')\n",
    "print('ground truth: ', Y[ind][i].numpy())\n",
    "# print('pred no gap: ', pred_global[ind[:size]][i].numpy())\n",
    "print('pred gap close: ', param_pred_gap)\n",
    "print('pred gap global: ', param_pred_gap_g)\n",
    "print(i)\n",
    "plt.gca().invert_yaxis()\n",
    "plt.legend()\n",
    "\n",
    "# plt.axes([0.7, 0.4, 0.2, 0.4])\n",
    "\n",
    "\n",
    "param_list = [param_true, param_pred_gap_g, param_pred_gap]\n",
    "# param_list = [Y[ind][i].tolist(), None, pred_gap[2][ind[:size]][i].tolist()]\n",
    "traj_color = ['black', 'orange', 'red']\n",
    "cau_color = ['black', 'orange', 'red']\n",
    "plt.axes([0.2, 0.4, 0.2, 0.4])\n",
    "plt.axis('equal')\n",
    "plt.xlim(-1, 1)\n",
    "plt.ylim(-0.3, 0.3)\n",
    "plt.yticks([-0.5, 0, 0.5])\n",
    "for j, params in enumerate(param_list):\n",
    "    if j != 10:\n",
    "        u_0, lgrho, lgq, lgs, alpha_180, lgfs = params\n",
    "        parameters = {\n",
    "                    't_0': 0,\n",
    "                    't_E': 1,\n",
    "                    'u_0': u_0,\n",
    "                    'rho': 10**lgrho, \n",
    "                    'q': 10**lgq, \n",
    "                    's': 10**lgs, \n",
    "                    'alpha': alpha_180*180,\n",
    "                }\n",
    "        modelmm = mm.Model(parameters, coords=None)\n",
    "        if j == 0:\n",
    "            modelmm.plot_trajectory(t_range=(-2, 2), caustics=False, arrow=False, color=traj_color[j], linestyle='dashed')\n",
    "        else:\n",
    "            modelmm.plot_trajectory(t_range=(-2, 2), caustics=False, arrow=False, color=traj_color[j])\n",
    "        modelmm.plot_caustics(color=cau_color[j], s=0.3)\n",
    "# plt.savefig('./lc.pdf')\n",
    "plt.show()"
   ]
  },
  {
   "cell_type": "code",
   "execution_count": null,
   "metadata": {},
   "outputs": [],
   "source": []
  }
 ],
 "metadata": {
  "interpreter": {
   "hash": "274e8ed069bc503cc01fa1aa16068ccb03180744fbf761618fb0dbde6179c71c"
  },
  "kernelspec": {
   "display_name": "Python 3.9.12 ('ode-rnn')",
   "language": "python",
   "name": "python3"
  },
  "language_info": {
   "codemirror_mode": {
    "name": "ipython",
    "version": 3
   },
   "file_extension": ".py",
   "mimetype": "text/x-python",
   "name": "python",
   "nbconvert_exporter": "python",
   "pygments_lexer": "ipython3",
   "version": "3.9.12"
  },
  "orig_nbformat": 4
 },
 "nbformat": 4,
 "nbformat_minor": 2
}
