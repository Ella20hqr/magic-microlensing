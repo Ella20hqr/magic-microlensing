{
 "cells": [
  {
   "cell_type": "code",
   "execution_count": 1,
   "id": "78cf55c6",
   "metadata": {},
   "outputs": [],
   "source": [
    "import torch\n",
    "import numpy as np\n",
    "import matplotlib.pyplot as plt\n",
    "%matplotlib inline\n",
    "import h5py"
   ]
  },
  {
   "cell_type": "code",
   "execution_count": 2,
   "id": "98fe9fe4",
   "metadata": {},
   "outputs": [],
   "source": [
    "with h5py.File('/work/hmzhao/irregular-lc/random-even-batch-1.h5', mode='r') as dataset_file:\n",
    "    Y = torch.tensor(dataset_file['Y'][...])\n",
    "    X_even = torch.tensor(dataset_file['X_even'][...])"
   ]
  },
  {
   "cell_type": "code",
   "execution_count": 3,
   "id": "f24df626",
   "metadata": {},
   "outputs": [
    {
     "name": "stdout",
     "output_type": "stream",
     "text": [
      "normalized Y mean: 7.889054489039284e-17\n",
      "Y std: 0.9999999999999991\n",
      "normalized X mean: -3.1350168683275113e-16\n",
      "X std: 1.0000000000000004\n"
     ]
    }
   ],
   "source": [
    "# normalize\n",
    "Y[:, 3:6] = torch.log(Y[:, 3:6])\n",
    "mean_y = torch.mean(Y, axis=0)\n",
    "std_y = torch.std(Y, axis=0)\n",
    "std_mask = (std_y==0)\n",
    "std_y[std_mask] = 1\n",
    "# print(f'Y mean: {mean_y}\\nY std: {std_y}')\n",
    "Y = (Y - mean_y) / std_y\n",
    "print(f'normalized Y mean: {torch.mean(Y)}\\nY std: {torch.mean(torch.std(Y, axis=0)[~std_mask])}')\n",
    "\n",
    "mean_x_even = torch.mean(X_even[:, :, 1], axis=0)\n",
    "std_x_even = torch.std(X_even[:, :, 1], axis=0)\n",
    "# print(f'X mean: {mean_x_even}\\nX std: {std_x_even}')\n",
    "X_even[:, :, 1] = (X_even[:, :, 1] - mean_x_even) / std_x_even\n",
    "print(f'normalized X mean: {torch.mean(X_even[:, :, 1])}\\nX std: {torch.mean(torch.std(X_even[:, :, 1], axis=0))}')\n",
    "    "
   ]
  },
  {
   "cell_type": "code",
   "execution_count": 4,
   "id": "cbb859dd",
   "metadata": {},
   "outputs": [
    {
     "name": "stdout",
     "output_type": "stream",
     "text": [
      "tensor([ 0.0000,  0.0000, -0.7064, -0.0059, -0.3697, -0.4295,  1.3718],\n",
      "       dtype=torch.float64)\n"
     ]
    },
    {
     "data": {
      "text/plain": [
       "[<matplotlib.lines.Line2D at 0x14cb0069e310>]"
      ]
     },
     "execution_count": 4,
     "metadata": {},
     "output_type": "execute_result"
    },
    {
     "data": {
      "image/png": "[encoded data removed]",
      "text/plain": [
       "<Figure size 432x288 with 1 Axes>"
      ]
     },
     "metadata": {
      "needs_background": "light"
     },
     "output_type": "display_data"
    }
   ],
   "source": [
    "print(Y[5])\n",
    "plt.plot(X_even[0, :, 0], X_even[5, :, 1])"
   ]
  },
  {
   "cell_type": "markdown",
   "id": "448938aa",
   "metadata": {},
   "source": [
    "# CDE Regression"
   ]
  },
  {
   "cell_type": "code",
   "execution_count": 5,
   "id": "59df14b9",
   "metadata": {},
   "outputs": [
    {
     "data": {
      "text/plain": [
       "CDEEncoder(\n",
       "  (cde_func): CDEFunc(\n",
       "    (linear1): Linear(in_features=65, out_features=1024, bias=True)\n",
       "    (relu1): PReLU(num_parameters=1)\n",
       "    (resblocks): Sequential(\n",
       "      (0): ResBlock(\n",
       "        (linear1): Linear(in_features=1024, out_features=1024, bias=True)\n",
       "        (nonlinear1): PReLU(num_parameters=1)\n",
       "        (linear2): Linear(in_features=1024, out_features=1024, bias=True)\n",
       "        (nonlinear2): PReLU(num_parameters=1)\n",
       "        (linear3): Linear(in_features=1024, out_features=1024, bias=True)\n",
       "      )\n",
       "      (1): ResBlock(\n",
       "        (linear1): Linear(in_features=1024, out_features=1024, bias=True)\n",
       "        (nonlinear1): PReLU(num_parameters=1)\n",
       "        (linear2): Linear(in_features=1024, out_features=1024, bias=True)\n",
       "        (nonlinear2): PReLU(num_parameters=1)\n",
       "        (linear3): Linear(in_features=1024, out_features=1024, bias=True)\n",
       "      )\n",
       "      (2): ResBlock(\n",
       "        (linear1): Linear(in_features=1024, out_features=1024, bias=True)\n",
       "        (nonlinear1): PReLU(num_parameters=1)\n",
       "        (linear2): Linear(in_features=1024, out_features=1024, bias=True)\n",
       "        (nonlinear2): PReLU(num_parameters=1)\n",
       "        (linear3): Linear(in_features=1024, out_features=1024, bias=True)\n",
       "      )\n",
       "    )\n",
       "    (relu2): PReLU(num_parameters=1)\n",
       "    (linear2): Linear(in_features=1024, out_features=128, bias=True)\n",
       "    (tanh): Tanh()\n",
       "  )\n",
       "  (initial): Sequential(\n",
       "    (0): Linear(in_features=2, out_features=1024, bias=True)\n",
       "    (1): PReLU(num_parameters=1)\n",
       "    (2): Linear(in_features=1024, out_features=1024, bias=True)\n",
       "    (3): PReLU(num_parameters=1)\n",
       "    (4): Linear(in_features=1024, out_features=1024, bias=True)\n",
       "    (5): PReLU(num_parameters=1)\n",
       "    (6): Linear(in_features=1024, out_features=1024, bias=True)\n",
       "    (7): PReLU(num_parameters=1)\n",
       "    (8): Linear(in_features=1024, out_features=64, bias=True)\n",
       "  )\n",
       "  (readout): Sequential(\n",
       "    (0): Linear(in_features=64, out_features=1024, bias=True)\n",
       "    (1): PReLU(num_parameters=1)\n",
       "    (2): Linear(in_features=1024, out_features=1024, bias=True)\n",
       "    (3): PReLU(num_parameters=1)\n",
       "    (4): Linear(in_features=1024, out_features=1024, bias=True)\n",
       "    (5): PReLU(num_parameters=1)\n",
       "    (6): Linear(in_features=1024, out_features=1024, bias=True)\n",
       "    (7): PReLU(num_parameters=1)\n",
       "    (8): Linear(in_features=1024, out_features=7, bias=True)\n",
       "  )\n",
       ")"
      ]
     },
     "execution_count": 5,
     "metadata": {},
     "output_type": "execute_result"
    }
   ],
   "source": [
    "from model.encoder_cde import CDEEncoder\n",
    "\n",
    "device = torch.device(\"cuda:3\" if torch.cuda.is_available() else \"cpu\")\n",
    "\n",
    "checkpt = torch.load('/work/hmzhao/experiments/experiment_38459.ckpt')\n",
    "ckpt_args = checkpt['args']\n",
    "state_dict = checkpt['state_dict']\n",
    "\n",
    "output_dim = Y.shape[-1]\n",
    "input_dim = X_even.shape[-1]\n",
    "latent_dim = ckpt_args.latents\n",
    "\n",
    "model = CDEEncoder(input_dim, latent_dim, output_dim).to(device)\n",
    "model_dict = model.state_dict()\n",
    "\n",
    "# 1. filter out unnecessary keys\n",
    "state_dict = {k: v for k, v in state_dict.items() if k in model_dict}\n",
    "# 2. overwrite entries in the existing state dict\n",
    "model_dict.update(state_dict) \n",
    "# 3. load the new state dict\n",
    "model.load_state_dict(state_dict)\n",
    "model.to(device)"
   ]
  },
  {
   "cell_type": "code",
   "execution_count": 6,
   "id": "fdd2e88c",
   "metadata": {},
   "outputs": [],
   "source": [
    "import torchcde\n",
    "# CDE interpolation\n",
    "num = 128\n",
    "coeffs = torchcde.hermite_cubic_coefficients_with_backward_differences(X_even[:num])"
   ]
  },
  {
   "cell_type": "code",
   "execution_count": 7,
   "id": "f4d47f4e",
   "metadata": {},
   "outputs": [],
   "source": [
    "model.eval()\n",
    "pred = model(coeffs.float().to(device))"
   ]
  },
  {
   "cell_type": "code",
   "execution_count": 8,
   "id": "0bb6c45d",
   "metadata": {},
   "outputs": [
    {
     "data": {
      "text/plain": [
       "[<matplotlib.lines.Line2D at 0x14caf6a76b50>]"
      ]
     },
     "execution_count": 8,
     "metadata": {},
     "output_type": "execute_result"
    },
    {
     "data": {
      "image/png": "[encoded data removed]",
      "text/plain": [
       "<Figure size 432x288 with 1 Axes>"
      ]
     },
     "metadata": {
      "needs_background": "light"
     },
     "output_type": "display_data"
    }
   ],
   "source": [
    "import matplotlib.pyplot as plt\n",
    "%matplotlib inline\n",
    "\n",
    "plt.scatter(Y[:num, 3], pred.detach().cpu().numpy()[:, 3])\n",
    "plt.plot(np.linspace(-4, 2), np.linspace(-4, 2))"
   ]
  },
  {
   "cell_type": "markdown",
   "id": "d12d47e0",
   "metadata": {},
   "source": [
    "# PROBLEM: cannot learn rho!"
   ]
  },
  {
   "cell_type": "code",
   "execution_count": 9,
   "id": "92fb153a",
   "metadata": {},
   "outputs": [],
   "source": [
    "orig_sample_Y = Y[:num] * std_y + mean_y\n",
    "orig_sample_pred = pred.detach().cpu() * std_y + mean_y"
   ]
  },
  {
   "cell_type": "code",
   "execution_count": 10,
   "id": "29ddd23f",
   "metadata": {},
   "outputs": [],
   "source": [
    "u0 = orig_sample_Y[:, 2]\n",
    "log10q = orig_sample_Y[:, 4] / np.log(10)\n",
    "log10s = orig_sample_Y[:, 5] / np.log(10)\n",
    "alpha = orig_sample_Y[:, 6]\n",
    "u0cosalpha = u0 * np.cos(alpha/180*np.pi)\n",
    "u0sinalpha = u0 * np.sin(alpha/180*np.pi)\n",
    "\n",
    "u0_pred = orig_sample_pred[:, 2]\n",
    "log10q_pred = orig_sample_pred[:, 4] / np.log(10)\n",
    "log10s_pred = orig_sample_pred[:, 5] / np.log(10)\n",
    "alpha_pred = orig_sample_pred[:, 6]\n",
    "u0cosalpha_pred = u0_pred * np.cos(alpha_pred/180*np.pi)\n",
    "u0sinalpha_pred = u0_pred * np.sin(alpha_pred/180*np.pi)"
   ]
  },
  {
   "cell_type": "code",
   "execution_count": 11,
   "id": "aeddf917",
   "metadata": {},
   "outputs": [
    {
     "data": {
      "text/plain": [
       "[<matplotlib.lines.Line2D at 0x14caf69fd610>]"
      ]
     },
     "execution_count": 11,
     "metadata": {},
     "output_type": "execute_result"
    },
    {
     "data": {
      "image/png": "[encoded data removed]",
      "text/plain": [
       "<Figure size 432x288 with 1 Axes>"
      ]
     },
     "metadata": {
      "needs_background": "light"
     },
     "output_type": "display_data"
    }
   ],
   "source": [
    "plt.scatter(log10q, log10q_pred)\n",
    "plt.plot(np.linspace(-4, 2), np.linspace(-4, 2))"
   ]
  },
  {
   "cell_type": "code",
   "execution_count": 12,
   "id": "11c875f2",
   "metadata": {},
   "outputs": [
    {
     "name": "stdout",
     "output_type": "stream",
     "text": [
      "mse of log10q: 0.09292322150780213, mse of log10s: 0.0099045380170362\n",
      "mse of u0cos_alpha: 0.08721122030166266, mse of u0sin_alpha: 0.05292903777860705\n",
      "mse of u0: 0.008846677667572895, mse of alpha: 5678.756110701233\n"
     ]
    }
   ],
   "source": [
    "mse_log10q = torch.mean((log10q - log10q_pred)**2)\n",
    "mse_log10s = torch.mean((log10s - log10s_pred)**2)\n",
    "mse_u0cos = torch.mean((u0cosalpha - u0cosalpha_pred)**2)\n",
    "mse_u0sin = torch.mean((u0sinalpha - u0sinalpha_pred)**2)\n",
    "mse_u0 = torch.mean((u0 - u0_pred)**2)\n",
    "mse_alpha = torch.mean((alpha - alpha_pred)**2)\n",
    "print(f\"mse of log10q: {mse_log10q}, mse of log10s: {mse_log10s}\")\n",
    "print(f\"mse of u0cos_alpha: {mse_u0cos}, mse of u0sin_alpha: {mse_u0sin}\")\n",
    "print(f\"mse of u0: {mse_u0}, mse of alpha: {mse_alpha}\")"
   ]
  },
  {
   "cell_type": "markdown",
   "id": "6c2dd2b2",
   "metadata": {},
   "source": [
    "## irregular"
   ]
  },
  {
   "cell_type": "code",
   "execution_count": 13,
   "id": "46513f58",
   "metadata": {},
   "outputs": [],
   "source": [
    "with h5py.File('/work/hmzhao/irregular-lc/random-even-batch-1.h5', mode='r') as dataset_file:\n",
    "    X_random = torch.tensor(dataset_file['X_random'][...])"
   ]
  },
  {
   "cell_type": "code",
   "execution_count": 23,
   "id": "9ec685a6",
   "metadata": {},
   "outputs": [
    {
     "data": {
      "text/plain": [
       "(tensor([-98.8878, -98.5669, -96.5894, -96.5225, -96.5054, -95.1785, -94.6283,\n",
       "         -94.1708, -93.8704, -93.8332, -92.2023, -91.5328, -89.6163, -87.8250,\n",
       "         -87.5787, -85.2611, -85.2376, -83.4697, -81.0786, -79.9748, -79.7728,\n",
       "         -79.4776, -78.5024, -78.0869, -77.7019, -76.2215, -75.7864, -75.1824,\n",
       "         -73.0589, -73.0524, -70.7636, -68.8748, -66.4395, -66.1442, -61.7052,\n",
       "         -61.3423, -60.4072, -59.6606, -56.6336, -56.1304, -55.3703, -55.2799,\n",
       "         -53.2585, -52.1765, -49.9582, -49.7890, -48.8333, -48.4216, -48.2845,\n",
       "         -46.4495, -45.9946, -42.8095, -41.1944, -40.7116, -40.5383, -38.9102,\n",
       "         -38.8834, -38.7956, -38.0931, -38.0221, -30.1594, -29.7635, -29.2892,\n",
       "         -28.9796, -28.2820, -27.7207, -26.8220, -24.4929, -21.2206, -20.8664,\n",
       "         -19.9174, -19.0392, -19.0135, -16.9068, -16.6177, -15.1526, -13.6297,\n",
       "         -12.3877, -10.4795, -10.1859,  -6.4125,  -6.4084,  -4.5009,  -1.7490,\n",
       "          -1.1061,   2.4782,   2.5651,   4.3120,   4.5542,   5.0156,   6.7416,\n",
       "           7.6432,   7.6621,   8.3594,   8.9195,  10.2792,  10.6095,  11.8147,\n",
       "          13.0018,  14.1687,  15.1708,  16.0145,  16.1899,  17.0220,  17.1756,\n",
       "          19.1805,  21.9153,  22.1222,  24.0988,  25.7162,  27.2845,  27.7579,\n",
       "          28.2850,  30.5745,  30.8610,  31.1023,  31.3967,  34.4448,  35.4239,\n",
       "          35.5970,  37.0545,  38.0736,  39.2307,  39.5148,  39.6205,  39.9713,\n",
       "          40.1315,  41.7729,  42.6588,  42.8271,  43.3246,  43.9459,  44.0942,\n",
       "          44.2296,  44.5693,  46.7103,  47.0283,  47.8167,  47.8512,  47.8972,\n",
       "          48.5888,  49.9354,  50.6061,  50.7517,  51.6796,  52.2045,  53.4498,\n",
       "          53.9792,  54.1091,  55.0589,  57.8004,  58.2743,  59.5466,  60.5173,\n",
       "          62.2478,  63.7347,  64.2179,  64.7856,  65.9167,  66.3422,  67.2266,\n",
       "          70.0824,  73.1571,  74.2287,  74.4704,  76.1176,  77.6011,  77.7402,\n",
       "          79.0955,  80.0538,  80.5125,  80.9062,  81.6825,  81.7068,  82.8272,\n",
       "          82.9124,  82.9416,  83.5037,  83.5314,  83.6203,  84.0383,  84.7609,\n",
       "          84.9516,  87.1346,  87.5617,  89.5740,  90.0516,  92.2351,  92.3173,\n",
       "          93.3995,  93.4403,  93.8065,  96.5722,  96.9620,  97.3609,  97.5099,\n",
       "          97.7292,  99.1988,  99.3309,  99.8846], dtype=torch.float64),\n",
       " tensor([-99.1992, -98.1982, -97.1972, -96.1962, -95.1952, -94.1942, -93.1932,\n",
       "         -92.1922, -91.1912, -90.1902, -89.1892, -88.1882, -87.1872, -86.1862,\n",
       "         -85.1852, -84.1842, -83.1832, -82.1822, -81.1812, -80.1802, -79.1792,\n",
       "         -78.1782, -77.1772, -76.1762, -75.1752, -74.1742, -73.1732, -72.1722,\n",
       "         -71.1712, -70.1702, -69.1692, -68.1682, -67.1672, -66.1662, -65.1652,\n",
       "         -64.1642, -63.1632, -62.1622, -61.1612, -60.1602, -59.1592, -58.1582,\n",
       "         -57.1572, -56.1562, -55.1552, -54.1542, -53.1532, -52.1522, -51.1512,\n",
       "         -50.1502, -49.1491, -48.1481, -47.1471, -46.1461, -45.1451, -44.1441,\n",
       "         -43.1431, -42.1421, -41.1411, -40.1401, -39.1391, -38.1381, -37.1371,\n",
       "         -36.1361, -35.1351, -34.1341, -33.1331, -32.1321, -31.1311, -30.1301,\n",
       "         -29.1291, -28.1281, -27.1271, -26.1261, -25.1251, -24.1241, -23.1231,\n",
       "         -22.1221, -21.1211, -20.1201, -19.1191, -18.1181, -17.1171, -16.1161,\n",
       "         -15.1151, -14.1141, -13.1131, -12.1121, -11.1111, -10.1101,  -9.1091,\n",
       "          -8.1081,  -7.1071,  -6.1061,  -5.1051,  -4.1041,  -3.1031,  -2.1021,\n",
       "          -1.1011,  -0.1001,   0.9009,   1.9019,   2.9029,   3.9039,   4.9049,\n",
       "           5.9059,   6.9069,   7.9079,   8.9089,   9.9099,  10.9109,  11.9119,\n",
       "          12.9129,  13.9139,  14.9149,  15.9159,  16.9169,  17.9179,  18.9189,\n",
       "          19.9199,  20.9209,  21.9219,  22.9229,  23.9239,  24.9249,  25.9259,\n",
       "          26.9269,  27.9279,  28.9289,  29.9299,  30.9309,  31.9319,  32.9329,\n",
       "          33.9339,  34.9349,  35.9359,  36.9369,  37.9379,  38.9389,  39.9399,\n",
       "          40.9409,  41.9419,  42.9429,  43.9439,  44.9449,  45.9459,  46.9469,\n",
       "          47.9479,  48.9489,  49.9499,  50.9510,  51.9520,  52.9530,  53.9540,\n",
       "          54.9550,  55.9560,  56.9570,  57.9580,  58.9590,  59.9600,  60.9610,\n",
       "          61.9620,  62.9630,  63.9640,  64.9650,  65.9660,  66.9670,  67.9680,\n",
       "          68.9690,  69.9700,  70.9710,  71.9720,  72.9730,  73.9740,  74.9750,\n",
       "          75.9760,  76.9770,  77.9780,  78.9790,  79.9800,  80.9810,  81.9820,\n",
       "          82.9830,  83.9840,  84.9850,  85.9860,  86.9870,  87.9880,  88.9890,\n",
       "          89.9900,  90.9910,  91.9920,  92.9930,  93.9940,  94.9950,  95.9960,\n",
       "          96.9970,  97.9980,  98.9990, 100.0000], dtype=torch.float64))"
      ]
     },
     "execution_count": 23,
     "metadata": {},
     "output_type": "execute_result"
    }
   ],
   "source": [
    "X_random[0, :, 0], X_even[0, 4::5, 0]"
   ]
  },
  {
   "cell_type": "code",
   "execution_count": 16,
   "id": "dc332935",
   "metadata": {},
   "outputs": [
    {
     "name": "stdout",
     "output_type": "stream",
     "text": [
      "normalized X mean: -1.0424031415823266e-15\n",
      "X std: 0.999999999999999\n"
     ]
    }
   ],
   "source": [
    "mean_x_ran = torch.mean(X_random[:, :, 1], axis=0)\n",
    "std_x_ran = torch.std(X_random[:, :, 1], axis=0)\n",
    "X_random[:, :, 1] = (X_random[:, :, 1] - mean_x_ran) / std_x_ran\n",
    "print(f'normalized X mean: {torch.mean(X_random[:, :, 1])}\\nX std: {torch.mean(torch.std(X_random[:, :, 1], axis=0))}')"
   ]
  },
  {
   "cell_type": "code",
   "execution_count": 57,
   "id": "2718041c",
   "metadata": {},
   "outputs": [
    {
     "name": "stdout",
     "output_type": "stream",
     "text": [
      "tensor([14.4388, 14.4384, 14.4380, 14.4376, 14.4373, 14.4369, 14.4366, 14.4362,\n",
      "        14.4359, 14.4355, 14.4351, 14.4347, 14.4343, 14.4340, 14.4335, 14.4331,\n",
      "        14.4327, 14.4323, 14.4319, 14.4315, 14.4311, 14.4307, 14.4303, 14.4299,\n",
      "        14.4295, 14.4291, 14.4288, 14.4284, 14.4280, 14.4276, 14.4271, 14.4267,\n",
      "        14.4263, 14.4258, 14.4254, 14.4250, 14.4245, 14.4240, 14.4236, 14.4231,\n",
      "        14.4226, 14.4222, 14.4217, 14.4213, 14.4209, 14.4204, 14.4199, 14.4194,\n",
      "        14.4190, 14.4185, 14.4181, 14.4176, 14.4171, 14.4166, 14.4162, 14.4157,\n",
      "        14.4151, 14.4146, 14.4142, 14.4137, 14.4131, 14.4126, 14.4121, 14.4116,\n",
      "        14.4111, 14.4106, 14.4101, 14.4094, 14.4089, 14.4084, 14.4079, 14.4073,\n",
      "        14.4068, 14.4062, 14.4057, 14.4051, 14.4045, 14.4040, 14.4034, 14.4029,\n",
      "        14.4022, 14.4017, 14.4011, 14.4006, 14.4000, 14.3995, 14.3989, 14.3983,\n",
      "        14.3977, 14.3970, 14.3964, 14.3958, 14.3952, 14.3946, 14.3940, 14.3933,\n",
      "        14.3928, 14.3922, 14.3915, 14.3909, 14.3902, 14.3895, 14.3888, 14.3881,\n",
      "        14.3874, 14.3867, 14.3860, 14.3854, 14.3847, 14.3840, 14.3833, 14.3826,\n",
      "        14.3818, 14.3811, 14.3804, 14.3796, 14.3789, 14.3782, 14.3775, 14.3768,\n",
      "        14.3760, 14.3753, 14.3745, 14.3738, 14.3730, 14.3722, 14.3716, 14.3708,\n",
      "        14.3700, 14.3692, 14.3683, 14.3674, 14.3666, 14.3658, 14.3650, 14.3642,\n",
      "        14.3634, 14.3625, 14.3616, 14.3607, 14.3598, 14.3590, 14.3580, 14.3571,\n",
      "        14.3562, 14.3554, 14.3544, 14.3535, 14.3526, 14.3516, 14.3507, 14.3498,\n",
      "        14.3488, 14.3480, 14.3471, 14.3461, 14.3451, 14.3441, 14.3431, 14.3422,\n",
      "        14.3412, 14.3402, 14.3392, 14.3382, 14.3372, 14.3363, 14.3352, 14.3340,\n",
      "        14.3329, 14.3319, 14.3308, 14.3298, 14.3287, 14.3275, 14.3265, 14.3253,\n",
      "        14.3242, 14.3230, 14.3219, 14.3208, 14.3197, 14.3186, 14.3175, 14.3163,\n",
      "        14.3151, 14.3140, 14.3127, 14.3116, 14.3105, 14.3093, 14.3082, 14.3070,\n",
      "        14.3058, 14.3046, 14.3033, 14.3020, 14.3008, 14.2997, 14.2983, 14.2969,\n",
      "        14.2956, 14.2943, 14.2930, 14.2918, 14.2904, 14.2890, 14.2878, 14.2864,\n",
      "        14.2851, 14.2837, 14.2824, 14.2810, 14.2796, 14.2783, 14.2769, 14.2754,\n",
      "        14.2739, 14.2725, 14.2710, 14.2696, 14.2682, 14.2668, 14.2655, 14.2638,\n",
      "        14.2623, 14.2607, 14.2592, 14.2575, 14.2560, 14.2546, 14.2531, 14.2516,\n",
      "        14.2500, 14.2482, 14.2465, 14.2449, 14.2432, 14.2415, 14.2398, 14.2381,\n",
      "        14.2365, 14.2348, 14.2331, 14.2312, 14.2296, 14.2279, 14.2261, 14.2244,\n",
      "        14.2228, 14.2211, 14.2193, 14.2174, 14.2157, 14.2139, 14.2121, 14.2103,\n",
      "        14.2086, 14.2068, 14.2049, 14.2030, 14.2010, 14.1992, 14.1972, 14.1950,\n",
      "        14.1932, 14.1911, 14.1890, 14.1871, 14.1850, 14.1830, 14.1809, 14.1788,\n",
      "        14.1766, 14.1745, 14.1723, 14.1703, 14.1680, 14.1661, 14.1641, 14.1618,\n",
      "        14.1597, 14.1576, 14.1554, 14.1530, 14.1509, 14.1487, 14.1464, 14.1442,\n",
      "        14.1417, 14.1394, 14.1372, 14.1349, 14.1324, 14.1302, 14.1277, 14.1252,\n",
      "        14.1228, 14.1206, 14.1181, 14.1157, 14.1133, 14.1108, 14.1083, 14.1058,\n",
      "        14.1033, 14.1008, 14.0982, 14.0955, 14.0930, 14.0905, 14.0878, 14.0851,\n",
      "        14.0824, 14.0798, 14.0772, 14.0743, 14.0717, 14.0690, 14.0662, 14.0633,\n",
      "        14.0604, 14.0577, 14.0547, 14.0519, 14.0490, 14.0461, 14.0433, 14.0401,\n",
      "        14.0371, 14.0342, 14.0313, 14.0281, 14.0250, 14.0220, 14.0190, 14.0158,\n",
      "        14.0128, 14.0096, 14.0064, 14.0033, 14.0000, 13.9969, 13.9940, 13.9907,\n",
      "        13.9876, 13.9843, 13.9811, 13.9780, 13.9743, 13.9708, 13.9676, 13.9641,\n",
      "        13.9608, 13.9569, 13.9536, 13.9503, 13.9468, 13.9433, 13.9398, 13.9363,\n",
      "        13.9328, 13.9292, 13.9255, 13.9220, 13.9183, 13.9145, 13.9110, 13.9072,\n",
      "        13.9033, 13.8994, 13.8953, 13.8917, 13.8878, 13.8837, 13.8800, 13.8761,\n",
      "        13.8724, 13.8687, 13.8649, 13.8607, 13.8565, 13.8523, 13.8481, 13.8439,\n",
      "        13.8395, 13.8353, 13.8312, 13.8274, 13.8231, 13.8189, 13.8147, 13.8103,\n",
      "        13.8064, 13.8019, 13.7975, 13.7929, 13.7887, 13.7842, 13.7798, 13.7753,\n",
      "        13.7709, 13.7660, 13.7611, 13.7565, 13.7521, 13.7475, 13.7424, 13.7377,\n",
      "        13.7332, 13.7280, 13.7231, 13.7185, 13.7139, 13.7089, 13.7041, 13.6994,\n",
      "        13.6944, 13.6887, 13.6836, 13.6783, 13.6738, 13.6685, 13.6633, 13.6582,\n",
      "        13.6529, 13.6472, 13.6417, 13.6362, 13.6309, 13.6250, 13.6194, 13.6139,\n",
      "        13.6086, 13.6032, 13.5973, 13.5919, 13.5860, 13.5802, 13.5742, 13.5682,\n",
      "        13.5623, 13.5561, 13.5506, 13.5446, 13.5384, 13.5329, 13.5269, 13.5213,\n",
      "        13.5154, 13.5094, 13.5035, 13.4973, 13.4912, 13.4847, 13.4780, 13.4720,\n",
      "        13.4661, 13.4601, 13.4527, 13.4460, 13.4400, 13.4337, 13.4268, 13.4198,\n",
      "        13.4129, 13.4066, 13.3994, 13.3927, 13.3863, 13.3797, 13.3734, 13.3665,\n",
      "        13.3600, 13.3529, 13.3459, 13.3390, 13.3326, 13.3257, 13.3184, 13.3115,\n",
      "        13.3046, 13.2976, 13.2903, 13.2826, 13.2754, 13.2688, 13.2622, 13.2555,\n",
      "        13.2486, 13.2411, 13.2347, 13.2285, 13.2214, 13.2149, 13.2090, 13.2027,\n",
      "        13.1974, 13.1921, 13.1872, 13.1842, 13.1845, 13.1881, 13.1923, 13.1977,\n",
      "        13.2033, 13.2093, 13.2148, 13.2217, 13.2290, 13.2355, 13.2422, 13.2494,\n",
      "        13.2561, 13.2632, 13.2704, 13.2768, 13.2841, 13.2907, 13.2973, 13.3036,\n",
      "        13.3107, 13.3178, 13.3244, 13.3314, 13.3384, 13.3453, 13.3522, 13.3589,\n",
      "        13.3657, 13.3725, 13.3799, 13.3862, 13.3924, 13.3991, 13.4062, 13.4125,\n",
      "        13.4193, 13.4258, 13.4322, 13.4389, 13.4449, 13.4515, 13.4581, 13.4642,\n",
      "        13.4708, 13.4770, 13.4832, 13.4901, 13.4966, 13.5023, 13.5081, 13.5141,\n",
      "        13.5202, 13.5263, 13.5324, 13.5384, 13.5438, 13.5503, 13.5559, 13.5621,\n",
      "        13.5687, 13.5744, 13.5799, 13.5859, 13.5913, 13.5972, 13.6028, 13.6084,\n",
      "        13.6138, 13.6195, 13.6249, 13.6305, 13.6359, 13.6414, 13.6467, 13.6521,\n",
      "        13.6575, 13.6626, 13.6679, 13.6729, 13.6786, 13.6836, 13.6886, 13.6935,\n",
      "        13.6987, 13.7039, 13.7086, 13.7134, 13.7190, 13.7240, 13.7288, 13.7338,\n",
      "        13.7385, 13.7433, 13.7481, 13.7526, 13.7572, 13.7619, 13.7667, 13.7718,\n",
      "        13.7762, 13.7810, 13.7856, 13.7898, 13.7941, 13.7984, 13.8027, 13.8070,\n",
      "        13.8114, 13.8155, 13.8197, 13.8243, 13.8286, 13.8324, 13.8365, 13.8406,\n",
      "        13.8445, 13.8486, 13.8528, 13.8567, 13.8606, 13.8646, 13.8687, 13.8727,\n",
      "        13.8763, 13.8803, 13.8844, 13.8884, 13.8924, 13.8962, 13.9001, 13.9037,\n",
      "        13.9074, 13.9115, 13.9149, 13.9186, 13.9223, 13.9261, 13.9296, 13.9329,\n",
      "        13.9366, 13.9403, 13.9440, 13.9472, 13.9504, 13.9541, 13.9575, 13.9609,\n",
      "        13.9643, 13.9677, 13.9711, 13.9742, 13.9775, 13.9807, 13.9841, 13.9874,\n",
      "        13.9906, 13.9938, 13.9968, 14.0003, 14.0034, 14.0069, 14.0099, 14.0131,\n",
      "        14.0162, 14.0192, 14.0224, 14.0255, 14.0287, 14.0318, 14.0346, 14.0374,\n",
      "        14.0403, 14.0432, 14.0461, 14.0490, 14.0518, 14.0545, 14.0575, 14.0603,\n",
      "        14.0631, 14.0657, 14.0686, 14.0713, 14.0739, 14.0768, 14.0796, 14.0823,\n",
      "        14.0852, 14.0878, 14.0905, 14.0930, 14.0956, 14.0981, 14.1006, 14.1032,\n",
      "        14.1056, 14.1081, 14.1106, 14.1131, 14.1156, 14.1181, 14.1206, 14.1231,\n",
      "        14.1255, 14.1279, 14.1304, 14.1327, 14.1352, 14.1375, 14.1398, 14.1420,\n",
      "        14.1442, 14.1463, 14.1489, 14.1513, 14.1535, 14.1556, 14.1578, 14.1600,\n",
      "        14.1623, 14.1645, 14.1667, 14.1687, 14.1709, 14.1731, 14.1751, 14.1772,\n",
      "        14.1793, 14.1815, 14.1833, 14.1852, 14.1872, 14.1894, 14.1915, 14.1935,\n",
      "        14.1953, 14.1972, 14.1992, 14.2012, 14.2031, 14.2051, 14.2070, 14.2089,\n",
      "        14.2108, 14.2125, 14.2141, 14.2160, 14.2179, 14.2196, 14.2214, 14.2231,\n",
      "        14.2248, 14.2267, 14.2285, 14.2301, 14.2319, 14.2335, 14.2352, 14.2367,\n",
      "        14.2384, 14.2402, 14.2417, 14.2433, 14.2449, 14.2466, 14.2481, 14.2498,\n",
      "        14.2514, 14.2528, 14.2544, 14.2558, 14.2574, 14.2589, 14.2605, 14.2620,\n",
      "        14.2636, 14.2650, 14.2665, 14.2681, 14.2695, 14.2711, 14.2726, 14.2740,\n",
      "        14.2754, 14.2767, 14.2781, 14.2795, 14.2809, 14.2823, 14.2835, 14.2849,\n",
      "        14.2863, 14.2877, 14.2891, 14.2904, 14.2918, 14.2931, 14.2944, 14.2956,\n",
      "        14.2969, 14.2983, 14.2994, 14.3006, 14.3018, 14.3031, 14.3044, 14.3056,\n",
      "        14.3069, 14.3080, 14.3092, 14.3104, 14.3116, 14.3127, 14.3138, 14.3150,\n",
      "        14.3162, 14.3173, 14.3184, 14.3195, 14.3206, 14.3217, 14.3227, 14.3238,\n",
      "        14.3250, 14.3261, 14.3271, 14.3282, 14.3292, 14.3303, 14.3314, 14.3324,\n",
      "        14.3334, 14.3345, 14.3356, 14.3366, 14.3377, 14.3386, 14.3397, 14.3406,\n",
      "        14.3415, 14.3425, 14.3436, 14.3445, 14.3454, 14.3464, 14.3474, 14.3484,\n",
      "        14.3493, 14.3502, 14.3511, 14.3521, 14.3530, 14.3539, 14.3547, 14.3556,\n",
      "        14.3566, 14.3575, 14.3583, 14.3592, 14.3601, 14.3610, 14.3618, 14.3626,\n",
      "        14.3635, 14.3643, 14.3652, 14.3660, 14.3669, 14.3677, 14.3685, 14.3692,\n",
      "        14.3700, 14.3709, 14.3716, 14.3724, 14.3732, 14.3741, 14.3749, 14.3756,\n",
      "        14.3764, 14.3771, 14.3778, 14.3785, 14.3793, 14.3799, 14.3807, 14.3814,\n",
      "        14.3821, 14.3828, 14.3835, 14.3841, 14.3849, 14.3856, 14.3863, 14.3869,\n",
      "        14.3877, 14.3884, 14.3891, 14.3898, 14.3903, 14.3910, 14.3917, 14.3924,\n",
      "        14.3930, 14.3936, 14.3942, 14.3948, 14.3954, 14.3961, 14.3967, 14.3973,\n",
      "        14.3980, 14.3986, 14.3992, 14.3997, 14.4004, 14.4009, 14.4015, 14.4022,\n",
      "        14.4028, 14.4034, 14.4040, 14.4046, 14.4051, 14.4057, 14.4062, 14.4067,\n",
      "        14.4072, 14.4079, 14.4083, 14.4089, 14.4095, 14.4100, 14.4105, 14.4111,\n",
      "        14.4116, 14.4121, 14.4126, 14.4131, 14.4136, 14.4141, 14.4146, 14.4151,\n",
      "        14.4156, 14.4161, 14.4166, 14.4171, 14.4176, 14.4181, 14.4185, 14.4190,\n",
      "        14.4194, 14.4199, 14.4204, 14.4208, 14.4213, 14.4217, 14.4221, 14.4227,\n",
      "        14.4231, 14.4235, 14.4240, 14.4245, 14.4249, 14.4253, 14.4257, 14.4261,\n",
      "        14.4265, 14.4270, 14.4274, 14.4278, 14.4282, 14.4286, 14.4290, 14.4294,\n",
      "        14.4298, 14.4303, 14.4307, 14.4312, 14.4316, 14.4319, 14.4324, 14.4328,\n",
      "        14.4332, 14.4336, 14.4339, 14.4343, 14.4347, 14.4351, 14.4355, 14.4359,\n",
      "        14.4363, 14.4366, 14.4370, 14.4374, 14.4377, 14.4381, 14.4385, 14.4389],\n",
      "       dtype=torch.float64) tensor([0.0577, 0.0571, 0.0578, 0.0586, 0.0576, 0.0586, 0.0570, 0.0572, 0.0566,\n",
      "        0.0576, 0.0581, 0.0592, 0.0588, 0.0589, 0.0600, 0.0618, 0.0620, 0.0632,\n",
      "        0.0637, 0.0633, 0.0647, 0.0638, 0.0634, 0.0641, 0.0634, 0.0639, 0.0619,\n",
      "        0.0626, 0.0614, 0.0618, 0.0637, 0.0651, 0.0646, 0.0643, 0.0640, 0.0641,\n",
      "        0.0662, 0.0683, 0.0672, 0.0689, 0.0707, 0.0705, 0.0701, 0.0709, 0.0692,\n",
      "        0.0707, 0.0714, 0.0717, 0.0721, 0.0706, 0.0704, 0.0721, 0.0719, 0.0714,\n",
      "        0.0709, 0.0715, 0.0721, 0.0722, 0.0722, 0.0718, 0.0729, 0.0760, 0.0743,\n",
      "        0.0733, 0.0741, 0.0731, 0.0736, 0.0770, 0.0762, 0.0756, 0.0755, 0.0760,\n",
      "        0.0768, 0.0766, 0.0767, 0.0767, 0.0778, 0.0781, 0.0777, 0.0779, 0.0811,\n",
      "        0.0801, 0.0786, 0.0777, 0.0794, 0.0777, 0.0773, 0.0773, 0.0783, 0.0786,\n",
      "        0.0799, 0.0804, 0.0799, 0.0790, 0.0798, 0.0800, 0.0789, 0.0781, 0.0780,\n",
      "        0.0787, 0.0789, 0.0797, 0.0807, 0.0821, 0.0833, 0.0839, 0.0832, 0.0827,\n",
      "        0.0820, 0.0831, 0.0836, 0.0851, 0.0879, 0.0874, 0.0859, 0.0878, 0.0869,\n",
      "        0.0867, 0.0879, 0.0861, 0.0873, 0.0876, 0.0877, 0.0870, 0.0886, 0.0880,\n",
      "        0.0864, 0.0863, 0.0870, 0.0872, 0.0901, 0.0908, 0.0912, 0.0922, 0.0915,\n",
      "        0.0914, 0.0907, 0.0910, 0.0923, 0.0939, 0.0953, 0.0948, 0.0967, 0.0983,\n",
      "        0.0981, 0.0967, 0.0981, 0.0991, 0.1001, 0.1017, 0.1003, 0.1002, 0.1026,\n",
      "        0.1013, 0.1002, 0.1014, 0.1029, 0.1032, 0.1036, 0.1042, 0.1036, 0.1045,\n",
      "        0.1051, 0.1055, 0.1053, 0.1049, 0.1074, 0.1096, 0.1110, 0.1112, 0.1114,\n",
      "        0.1112, 0.1124, 0.1136, 0.1138, 0.1152, 0.1159, 0.1172, 0.1173, 0.1173,\n",
      "        0.1181, 0.1168, 0.1176, 0.1178, 0.1186, 0.1196, 0.1217, 0.1206, 0.1203,\n",
      "        0.1203, 0.1203, 0.1196, 0.1198, 0.1209, 0.1215, 0.1231, 0.1231, 0.1217,\n",
      "        0.1226, 0.1261, 0.1262, 0.1258, 0.1279, 0.1272, 0.1286, 0.1296, 0.1279,\n",
      "        0.1282, 0.1287, 0.1291, 0.1289, 0.1291, 0.1305, 0.1299, 0.1310, 0.1317,\n",
      "        0.1347, 0.1332, 0.1347, 0.1351, 0.1354, 0.1341, 0.1331, 0.1357, 0.1370,\n",
      "        0.1379, 0.1393, 0.1408, 0.1410, 0.1396, 0.1395, 0.1392, 0.1409, 0.1440,\n",
      "        0.1452, 0.1445, 0.1462, 0.1481, 0.1480, 0.1491, 0.1496, 0.1511, 0.1514,\n",
      "        0.1525, 0.1519, 0.1523, 0.1528, 0.1547, 0.1537, 0.1538, 0.1547, 0.1558,\n",
      "        0.1557, 0.1556, 0.1563, 0.1561, 0.1553, 0.1563, 0.1580, 0.1581, 0.1603,\n",
      "        0.1601, 0.1614, 0.1643, 0.1634, 0.1655, 0.1672, 0.1670, 0.1689, 0.1687,\n",
      "        0.1697, 0.1707, 0.1723, 0.1733, 0.1751, 0.1749, 0.1774, 0.1757, 0.1760,\n",
      "        0.1782, 0.1784, 0.1785, 0.1801, 0.1828, 0.1816, 0.1824, 0.1830, 0.1838,\n",
      "        0.1867, 0.1879, 0.1875, 0.1888, 0.1906, 0.1895, 0.1916, 0.1940, 0.1955,\n",
      "        0.1949, 0.1951, 0.1962, 0.1964, 0.1975, 0.1990, 0.1996, 0.2002, 0.2007,\n",
      "        0.2021, 0.2044, 0.2042, 0.2050, 0.2066, 0.2083, 0.2103, 0.2108, 0.2113,\n",
      "        0.2141, 0.2147, 0.2145, 0.2160, 0.2175, 0.2195, 0.2204, 0.2223, 0.2234,\n",
      "        0.2249, 0.2262, 0.2258, 0.2295, 0.2311, 0.2317, 0.2325, 0.2353, 0.2363,\n",
      "        0.2374, 0.2385, 0.2411, 0.2414, 0.2439, 0.2464, 0.2477, 0.2509, 0.2518,\n",
      "        0.2513, 0.2537, 0.2540, 0.2557, 0.2573, 0.2578, 0.2611, 0.2640, 0.2644,\n",
      "        0.2664, 0.2679, 0.2728, 0.2730, 0.2739, 0.2755, 0.2773, 0.2786, 0.2799,\n",
      "        0.2813, 0.2826, 0.2850, 0.2867, 0.2891, 0.2917, 0.2921, 0.2947, 0.2971,\n",
      "        0.2997, 0.3030, 0.3042, 0.3058, 0.3094, 0.3108, 0.3128, 0.3139, 0.3149,\n",
      "        0.3166, 0.3200, 0.3224, 0.3251, 0.3274, 0.3297, 0.3336, 0.3354, 0.3379,\n",
      "        0.3380, 0.3411, 0.3429, 0.3452, 0.3488, 0.3496, 0.3533, 0.3559, 0.3590,\n",
      "        0.3607, 0.3636, 0.3657, 0.3688, 0.3710, 0.3747, 0.3779, 0.3807, 0.3829,\n",
      "        0.3856, 0.3889, 0.3924, 0.3939, 0.3987, 0.4018, 0.4039, 0.4063, 0.4102,\n",
      "        0.4135, 0.4147, 0.4177, 0.4237, 0.4268, 0.4317, 0.4327, 0.4367, 0.4402,\n",
      "        0.4427, 0.4462, 0.4507, 0.4549, 0.4591, 0.4627, 0.4671, 0.4715, 0.4757,\n",
      "        0.4786, 0.4827, 0.4874, 0.4913, 0.4957, 0.5003, 0.5059, 0.5112, 0.5159,\n",
      "        0.5211, 0.5253, 0.5300, 0.5355, 0.5386, 0.5435, 0.5478, 0.5523, 0.5579,\n",
      "        0.5627, 0.5681, 0.5730, 0.5794, 0.5865, 0.5916, 0.5965, 0.6015, 0.6100,\n",
      "        0.6167, 0.6219, 0.6276, 0.6345, 0.6424, 0.6499, 0.6556, 0.6633, 0.6712,\n",
      "        0.6779, 0.6857, 0.6922, 0.7005, 0.7078, 0.7168, 0.7253, 0.7337, 0.7418,\n",
      "        0.7504, 0.7606, 0.7706, 0.7789, 0.7879, 0.7992, 0.8103, 0.8211, 0.8317,\n",
      "        0.8418, 0.8527, 0.8643, 0.8778, 0.8893, 0.9009, 0.9155, 0.9293, 0.9420,\n",
      "        0.9562, 0.9689, 0.9821, 0.9964, 1.0065, 1.0057, 0.9936, 0.9810, 0.9671,\n",
      "        0.9534, 0.9400, 0.9282, 0.9145, 0.8999, 0.8869, 0.8748, 0.8616, 0.8512,\n",
      "        0.8404, 0.8285, 0.8186, 0.8079, 0.7984, 0.7891, 0.7806, 0.7709, 0.7609,\n",
      "        0.7525, 0.7432, 0.7345, 0.7266, 0.7181, 0.7100, 0.7025, 0.6944, 0.6858,\n",
      "        0.6788, 0.6731, 0.6651, 0.6564, 0.6505, 0.6433, 0.6364, 0.6295, 0.6230,\n",
      "        0.6176, 0.6111, 0.6043, 0.5990, 0.5924, 0.5876, 0.5819, 0.5748, 0.5682,\n",
      "        0.5639, 0.5595, 0.5551, 0.5499, 0.5447, 0.5399, 0.5351, 0.5309, 0.5243,\n",
      "        0.5203, 0.5152, 0.5090, 0.5049, 0.5014, 0.4961, 0.4927, 0.4871, 0.4827,\n",
      "        0.4777, 0.4738, 0.4696, 0.4662, 0.4614, 0.4575, 0.4539, 0.4507, 0.4460,\n",
      "        0.4424, 0.4393, 0.4355, 0.4328, 0.4274, 0.4249, 0.4216, 0.4194, 0.4152,\n",
      "        0.4112, 0.4092, 0.4057, 0.3999, 0.3972, 0.3941, 0.3905, 0.3874, 0.3843,\n",
      "        0.3814, 0.3794, 0.3764, 0.3741, 0.3708, 0.3661, 0.3650, 0.3610, 0.3573,\n",
      "        0.3562, 0.3534, 0.3516, 0.3497, 0.3466, 0.3438, 0.3423, 0.3405, 0.3359,\n",
      "        0.3330, 0.3318, 0.3300, 0.3275, 0.3260, 0.3247, 0.3215, 0.3196, 0.3187,\n",
      "        0.3155, 0.3127, 0.3106, 0.3096, 0.3076, 0.3047, 0.3014, 0.2987, 0.2967,\n",
      "        0.2948, 0.2930, 0.2912, 0.2875, 0.2877, 0.2856, 0.2832, 0.2809, 0.2802,\n",
      "        0.2793, 0.2770, 0.2739, 0.2713, 0.2714, 0.2717, 0.2684, 0.2668, 0.2652,\n",
      "        0.2633, 0.2624, 0.2595, 0.2592, 0.2568, 0.2562, 0.2542, 0.2527, 0.2507,\n",
      "        0.2494, 0.2496, 0.2464, 0.2459, 0.2422, 0.2419, 0.2402, 0.2383, 0.2369,\n",
      "        0.2349, 0.2331, 0.2302, 0.2276, 0.2279, 0.2273, 0.2276, 0.2258, 0.2244,\n",
      "        0.2229, 0.2220, 0.2213, 0.2192, 0.2179, 0.2167, 0.2166, 0.2149, 0.2142,\n",
      "        0.2147, 0.2127, 0.2104, 0.2102, 0.2073, 0.2068, 0.2049, 0.2044, 0.2031,\n",
      "        0.2029, 0.2026, 0.2014, 0.2013, 0.2006, 0.1987, 0.1976, 0.1972, 0.1956,\n",
      "        0.1946, 0.1917, 0.1911, 0.1903, 0.1885, 0.1881, 0.1856, 0.1849, 0.1838,\n",
      "        0.1847, 0.1850, 0.1847, 0.1810, 0.1787, 0.1789, 0.1788, 0.1782, 0.1763,\n",
      "        0.1746, 0.1734, 0.1729, 0.1730, 0.1716, 0.1697, 0.1692, 0.1688, 0.1669,\n",
      "        0.1654, 0.1674, 0.1677, 0.1662, 0.1638, 0.1620, 0.1606, 0.1618, 0.1611,\n",
      "        0.1595, 0.1585, 0.1569, 0.1558, 0.1547, 0.1529, 0.1523, 0.1520, 0.1531,\n",
      "        0.1516, 0.1505, 0.1508, 0.1498, 0.1496, 0.1500, 0.1479, 0.1466, 0.1465,\n",
      "        0.1451, 0.1453, 0.1451, 0.1462, 0.1450, 0.1430, 0.1438, 0.1433, 0.1429,\n",
      "        0.1421, 0.1430, 0.1409, 0.1392, 0.1423, 0.1402, 0.1416, 0.1396, 0.1388,\n",
      "        0.1376, 0.1372, 0.1364, 0.1362, 0.1357, 0.1345, 0.1343, 0.1324, 0.1313,\n",
      "        0.1300, 0.1303, 0.1316, 0.1307, 0.1305, 0.1301, 0.1298, 0.1313, 0.1313,\n",
      "        0.1292, 0.1282, 0.1262, 0.1259, 0.1246, 0.1245, 0.1237, 0.1236, 0.1231,\n",
      "        0.1217, 0.1234, 0.1243, 0.1258, 0.1238, 0.1230, 0.1227, 0.1199, 0.1206,\n",
      "        0.1206, 0.1195, 0.1191, 0.1194, 0.1186, 0.1176, 0.1173, 0.1187, 0.1180,\n",
      "        0.1185, 0.1176, 0.1178, 0.1191, 0.1184, 0.1164, 0.1163, 0.1156, 0.1155,\n",
      "        0.1166, 0.1155, 0.1139, 0.1136, 0.1150, 0.1144, 0.1117, 0.1122, 0.1111,\n",
      "        0.1115, 0.1097, 0.1110, 0.1114, 0.1102, 0.1082, 0.1081, 0.1098, 0.1080,\n",
      "        0.1054, 0.1047, 0.1053, 0.1061, 0.1058, 0.1031, 0.1029, 0.1046, 0.1054,\n",
      "        0.1036, 0.1021, 0.1013, 0.1007, 0.1004, 0.0993, 0.0970, 0.0985, 0.0987,\n",
      "        0.0975, 0.0965, 0.0963, 0.0955, 0.0931, 0.0936, 0.0932, 0.0940, 0.0936,\n",
      "        0.0911, 0.0917, 0.0908, 0.0916, 0.0884, 0.0875, 0.0890, 0.0872, 0.0878,\n",
      "        0.0885, 0.0879, 0.0879, 0.0891, 0.0877, 0.0875, 0.0880, 0.0879, 0.0880,\n",
      "        0.0890, 0.0883, 0.0863, 0.0869, 0.0868, 0.0832, 0.0826, 0.0825, 0.0817,\n",
      "        0.0830, 0.0813, 0.0817, 0.0809, 0.0813, 0.0821, 0.0822, 0.0830, 0.0837,\n",
      "        0.0813, 0.0802, 0.0794, 0.0783, 0.0781, 0.0785, 0.0794, 0.0781, 0.0794,\n",
      "        0.0783, 0.0780, 0.0763, 0.0756, 0.0746, 0.0723, 0.0741, 0.0733, 0.0731,\n",
      "        0.0738, 0.0750, 0.0719, 0.0741, 0.0723, 0.0720, 0.0709, 0.0706, 0.0702,\n",
      "        0.0699, 0.0700, 0.0693, 0.0693, 0.0692, 0.0701, 0.0694, 0.0695, 0.0690,\n",
      "        0.0692, 0.0678, 0.0677, 0.0674, 0.0679, 0.0687, 0.0696, 0.0711, 0.0685,\n",
      "        0.0671, 0.0681, 0.0688, 0.0693, 0.0698, 0.0672, 0.0670, 0.0673, 0.0664,\n",
      "        0.0652, 0.0652, 0.0657, 0.0658, 0.0665, 0.0691, 0.0671, 0.0665, 0.0670,\n",
      "        0.0667, 0.0662, 0.0661, 0.0671, 0.0659, 0.0647, 0.0637, 0.0618, 0.0613,\n",
      "        0.0616, 0.0615, 0.0590, 0.0590, 0.0584, 0.0588, 0.0596, 0.0575, 0.0572,\n",
      "        0.0580, 0.0572, 0.0546, 0.0569, 0.0551, 0.0544, 0.0542, 0.0534, 0.0533,\n",
      "        0.0527], dtype=torch.float64)\n",
      "tensor([14.4371, 14.4350, 14.4331, 14.4312, 14.4291, 14.4269, 14.4247, 14.4223,\n",
      "        14.4201, 14.4178, 14.4153, 14.4127, 14.4102, 14.4076, 14.4049, 14.4020,\n",
      "        14.3989, 14.3959, 14.3927, 14.3895, 14.3862, 14.3825, 14.3789, 14.3752,\n",
      "        14.3712, 14.3673, 14.3628, 14.3584, 14.3540, 14.3493, 14.3447, 14.3398,\n",
      "        14.3345, 14.3292, 14.3237, 14.3180, 14.3122, 14.3062, 14.2999, 14.2935,\n",
      "        14.2870, 14.2801, 14.2730, 14.2655, 14.2578, 14.2501, 14.2419, 14.2335,\n",
      "        14.2247, 14.2157, 14.2064, 14.1970, 14.1870, 14.1770, 14.1663, 14.1555,\n",
      "        14.1444, 14.1330, 14.1210, 14.1087, 14.0959, 14.0830, 14.0693, 14.0557,\n",
      "        14.0414, 14.0261, 14.0109, 13.9948, 13.9783, 13.9615, 13.9446, 13.9269,\n",
      "        13.9083, 13.8895, 13.8700, 13.8498, 13.8295, 13.8078, 13.7858, 13.7646,\n",
      "        13.7413, 13.7165, 13.6917, 13.6669, 13.6415, 13.6158, 13.5902, 13.5637,\n",
      "        13.5388, 13.5149, 13.4905, 13.4665, 13.4448, 13.4255, 13.4074, 13.3916,\n",
      "        13.3785, 13.3677, 13.3605, 13.3582, 13.3586, 13.3604, 13.3684, 13.3794,\n",
      "        13.3925, 13.4082, 13.4273, 13.4466, 13.4678, 13.4921, 13.5173, 13.5423,\n",
      "        13.5669, 13.5925, 13.6179, 13.6435, 13.6685, 13.6931, 13.7179, 13.7424,\n",
      "        13.7654, 13.7876, 13.8097, 13.8306, 13.8516, 13.8718, 13.8906, 13.9093,\n",
      "        13.9276, 13.9454, 13.9621, 13.9790, 13.9959, 14.0114, 14.0267, 14.0415,\n",
      "        14.0562, 14.0701, 14.0837, 14.0966, 14.1092, 14.1214, 14.1329, 14.1442,\n",
      "        14.1556, 14.1663, 14.1767, 14.1872, 14.1975, 14.2070, 14.2165, 14.2254,\n",
      "        14.2338, 14.2424, 14.2504, 14.2581, 14.2657, 14.2730, 14.2802, 14.2870,\n",
      "        14.2934, 14.2997, 14.3063, 14.3124, 14.3180, 14.3238, 14.3292, 14.3344,\n",
      "        14.3393, 14.3443, 14.3492, 14.3539, 14.3584, 14.3627, 14.3668, 14.3708,\n",
      "        14.3748, 14.3786, 14.3821, 14.3857, 14.3893, 14.3926, 14.3956, 14.3988,\n",
      "        14.4018, 14.4046, 14.4075, 14.4101, 14.4129, 14.4155, 14.4179, 14.4202,\n",
      "        14.4225, 14.4247, 14.4269, 14.4292, 14.4312, 14.4331, 14.4352, 14.4370],\n",
      "       dtype=torch.float64) tensor([0.0581, 0.0618, 0.0622, 0.0618, 0.0630, 0.0649, 0.0664, 0.0732, 0.0725,\n",
      "        0.0744, 0.0746, 0.0762, 0.0768, 0.0749, 0.0766, 0.0772, 0.0803, 0.0813,\n",
      "        0.0812, 0.0806, 0.0823, 0.0864, 0.0879, 0.0896, 0.0916, 0.0931, 0.1000,\n",
      "        0.1026, 0.1019, 0.1052, 0.1058, 0.1093, 0.1111, 0.1137, 0.1189, 0.1214,\n",
      "        0.1215, 0.1253, 0.1289, 0.1320, 0.1350, 0.1368, 0.1408, 0.1455, 0.1503,\n",
      "        0.1520, 0.1566, 0.1605, 0.1663, 0.1708, 0.1744, 0.1786, 0.1834, 0.1862,\n",
      "        0.1925, 0.1968, 0.2028, 0.2066, 0.2133, 0.2200, 0.2259, 0.2322, 0.2398,\n",
      "        0.2446, 0.2535, 0.2638, 0.2715, 0.2826, 0.2916, 0.3006, 0.3096, 0.3210,\n",
      "        0.3335, 0.3453, 0.3588, 0.3734, 0.3855, 0.4029, 0.4183, 0.4305, 0.4483,\n",
      "        0.4683, 0.4885, 0.5092, 0.5308, 0.5513, 0.5729, 0.5965, 0.6166, 0.6355,\n",
      "        0.6575, 0.6796, 0.6961, 0.7128, 0.7277, 0.7421, 0.7520, 0.7613, 0.7666,\n",
      "        0.7670, 0.7669, 0.7678, 0.7609, 0.7517, 0.7416, 0.7277, 0.7106, 0.6947,\n",
      "        0.6780, 0.6553, 0.6326, 0.6115, 0.5901, 0.5684, 0.5474, 0.5260, 0.5059,\n",
      "        0.4866, 0.4658, 0.4469, 0.4299, 0.4132, 0.3969, 0.3830, 0.3682, 0.3534,\n",
      "        0.3428, 0.3314, 0.3198, 0.3095, 0.3006, 0.2916, 0.2793, 0.2708, 0.2625,\n",
      "        0.2543, 0.2444, 0.2376, 0.2306, 0.2242, 0.2174, 0.2113, 0.2082, 0.2048,\n",
      "        0.1981, 0.1930, 0.1886, 0.1821, 0.1745, 0.1697, 0.1635, 0.1603, 0.1574,\n",
      "        0.1525, 0.1501, 0.1474, 0.1431, 0.1397, 0.1364, 0.1323, 0.1332, 0.1323,\n",
      "        0.1241, 0.1212, 0.1221, 0.1184, 0.1141, 0.1139, 0.1130, 0.1112, 0.1079,\n",
      "        0.1054, 0.1019, 0.0994, 0.0981, 0.0969, 0.0921, 0.0908, 0.0906, 0.0882,\n",
      "        0.0830, 0.0816, 0.0826, 0.0796, 0.0773, 0.0782, 0.0764, 0.0744, 0.0698,\n",
      "        0.0700, 0.0691, 0.0686, 0.0679, 0.0674, 0.0680, 0.0638, 0.0618, 0.0622,\n",
      "        0.0568, 0.0569], dtype=torch.float64)\n"
     ]
    }
   ],
   "source": [
    "print(mean_x_even, std_x_even)\n",
    "print(mean_x_ran, std_x_ran)"
   ]
  },
  {
   "cell_type": "code",
   "execution_count": 56,
   "id": "be5dc20a",
   "metadata": {},
   "outputs": [
    {
     "name": "stdout",
     "output_type": "stream",
     "text": [
      "tensor([ 0.0000,  0.0000,  0.3197,  1.6100, -0.3334,  1.6951,  0.3585],\n",
      "       dtype=torch.float64)\n"
     ]
    },
    {
     "data": {
      "text/plain": [
       "[<matplotlib.lines.Line2D at 0x147011895550>]"
      ]
     },
     "execution_count": 56,
     "metadata": {},
     "output_type": "execute_result"
    },
    {
     "data": {
      "image/png": "[encoded data removed]",
      "text/plain": [
       "<Figure size 432x288 with 1 Axes>"
      ]
     },
     "metadata": {
      "needs_background": "light"
     },
     "output_type": "display_data"
    }
   ],
   "source": [
    "num = 0\n",
    "print(Y[num])\n",
    "plt.scatter(X_random[0, :, 0], X_random[num, :, 1])\n",
    "plt.plot(X_even[0, :, 0], X_even[num, :, 1])"
   ]
  },
  {
   "cell_type": "markdown",
   "id": "ed9428fe",
   "metadata": {},
   "source": [
    "# Already checked dataset!"
   ]
  },
  {
   "cell_type": "markdown",
   "id": "99ce8c31",
   "metadata": {},
   "source": [
    "# PROBLEM: normalization differs dramatically!"
   ]
  },
  {
   "cell_type": "code",
   "execution_count": 60,
   "id": "bee4957e",
   "metadata": {},
   "outputs": [],
   "source": [
    "num = 128\n",
    "coeffs_ir = torchcde.hermite_cubic_coefficients_with_backward_differences(X_random[:num, :, :-1])\n",
    "pred_ir = model(coeffs_ir.float().to(device))"
   ]
  },
  {
   "cell_type": "code",
   "execution_count": 64,
   "id": "0236c36f",
   "metadata": {},
   "outputs": [
    {
     "data": {
      "text/plain": [
       "[<matplotlib.lines.Line2D at 0x147011532040>]"
      ]
     },
     "execution_count": 64,
     "metadata": {},
     "output_type": "execute_result"
    },
    {
     "data": {
      "image/png": "[encoded data removed]",
      "text/plain": [
       "<Figure size 432x288 with 1 Axes>"
      ]
     },
     "metadata": {
      "needs_background": "light"
     },
     "output_type": "display_data"
    }
   ],
   "source": [
    "plt.scatter(Y[:num, 5], pred_ir.detach().cpu().numpy()[:, 5])\n",
    "plt.scatter(Y[:num, 5], pred.detach().cpu().numpy()[:, 5])\n",
    "plt.plot(np.linspace(-4, 2), np.linspace(-4, 2))"
   ]
  },
  {
   "cell_type": "code",
   "execution_count": 65,
   "id": "7983b6c2",
   "metadata": {},
   "outputs": [],
   "source": [
    "orig_sample_pred_ir = pred_ir.detach().cpu() * std_y + mean_y\n",
    "\n",
    "u0_pred_ir = orig_sample_pred_ir[:, 2]\n",
    "log10q_pred_ir = orig_sample_pred_ir[:, 4] / np.log(10)\n",
    "log10s_pred_ir = orig_sample_pred_ir[:, 5] / np.log(10)\n",
    "alpha_pred_ir = orig_sample_pred_ir[:, 6]\n",
    "u0cosalpha_pred_ir = u0_pred_ir * np.cos(alpha_pred_ir/180*np.pi)\n",
    "u0sinalpha_pred_ir = u0_pred_ir * np.sin(alpha_pred_ir/180*np.pi)"
   ]
  },
  {
   "cell_type": "code",
   "execution_count": 68,
   "id": "473de075",
   "metadata": {},
   "outputs": [
    {
     "name": "stdout",
     "output_type": "stream",
     "text": [
      "regular:\n",
      "mse of log10q: 0.09456826441867255, mse of log10s: 0.01136330205871436\n",
      "mse of u0cos_alpha: 0.10250329839118404, mse of u0sin_alpha: 0.04535324242175581\n",
      "mse of u0: 0.007649190333710417, mse of alpha: 5291.237012837681\n",
      "irregular:\n",
      "mse of log10q: 0.37727056262032344, mse of log10s: 0.060835727569925016\n",
      "mse of u0cos_alpha: 0.14766450861044864, mse of u0sin_alpha: 0.11260937469276258\n",
      "mse of u0: 0.024535698894573126, mse of alpha: 10650.82378549783\n"
     ]
    }
   ],
   "source": [
    "mse_log10q_ir = torch.mean((log10q - log10q_pred_ir)**2)\n",
    "mse_log10s_ir = torch.mean((log10s - log10s_pred_ir)**2)\n",
    "mse_u0cos_ir = torch.mean((u0cosalpha - u0cosalpha_pred_ir)**2)\n",
    "mse_u0sin_ir = torch.mean((u0sinalpha - u0sinalpha_pred_ir)**2)\n",
    "mse_u0_ir = torch.mean((u0 - u0_pred_ir)**2)\n",
    "mse_alpha_ir = torch.mean((alpha - alpha_pred_ir)**2)\n",
    "print('regular:')\n",
    "print(f\"mse of log10q: {mse_log10q}, mse of log10s: {mse_log10s}\")\n",
    "print(f\"mse of u0cos_alpha: {mse_u0cos}, mse of u0sin_alpha: {mse_u0sin}\")\n",
    "print(f\"mse of u0: {mse_u0}, mse of alpha: {mse_alpha}\")\n",
    "print('irregular:')\n",
    "print(f\"mse of log10q: {mse_log10q_ir}, mse of log10s: {mse_log10s_ir}\")\n",
    "print(f\"mse of u0cos_alpha: {mse_u0cos_ir}, mse of u0sin_alpha: {mse_u0sin_ir}\")\n",
    "print(f\"mse of u0: {mse_u0_ir}, mse of alpha: {mse_alpha_ir}\")"
   ]
  },
  {
   "cell_type": "markdown",
   "id": "9e58af12",
   "metadata": {},
   "source": [
    "# LZR's results\n",
    "## mse on ideal\n",
    "\n",
    "loss(mse): 0.1\n",
    "\n",
    "log10q: 0.3^2=0.09, log10s: 0.18^2=0.0324\n",
    "\n",
    "## mse on realistic\n",
    "\n",
    "loss(mse): 0.1\n",
    "\n",
    "log10q: 0.0846, log10s: 0.0176\n",
    "\n",
    "u0cos: 0.037, u0sin: 0.040\n",
    "\n",
    "u0: 0.0176, alpha: 7441.306"
   ]
  },
  {
   "cell_type": "markdown",
   "id": "be352fd5",
   "metadata": {},
   "source": [
    "# Generative ODE"
   ]
  },
  {
   "cell_type": "code",
   "execution_count": 5,
   "id": "1c18538a",
   "metadata": {},
   "outputs": [
    {
     "data": {
      "text/plain": [
       "GenODE(\n",
       "  (aug_net): Sequential(\n",
       "    (0): Sequential(\n",
       "      (0): Linear(in_features=7, out_features=256, bias=True)\n",
       "      (1): Tanh()\n",
       "      (2): Linear(in_features=256, out_features=256, bias=True)\n",
       "    )\n",
       "    (1): ResBlock(\n",
       "      (linear1): Linear(in_features=256, out_features=1024, bias=True)\n",
       "      (nonlinear1): Tanh()\n",
       "      (linear2): Linear(in_features=1024, out_features=256, bias=True)\n",
       "      (nonlinear2): Tanh()\n",
       "      (linear3): Linear(in_features=256, out_features=256, bias=True)\n",
       "    )\n",
       "    (2): ResBlock(\n",
       "      (linear1): Linear(in_features=256, out_features=1024, bias=True)\n",
       "      (nonlinear1): Tanh()\n",
       "      (linear2): Linear(in_features=1024, out_features=256, bias=True)\n",
       "      (nonlinear2): Tanh()\n",
       "      (linear3): Linear(in_features=256, out_features=256, bias=True)\n",
       "    )\n",
       "    (3): ResBlock(\n",
       "      (linear1): Linear(in_features=256, out_features=1024, bias=True)\n",
       "      (nonlinear1): Tanh()\n",
       "      (linear2): Linear(in_features=1024, out_features=256, bias=True)\n",
       "      (nonlinear2): Tanh()\n",
       "      (linear3): Linear(in_features=256, out_features=256, bias=True)\n",
       "    )\n",
       "    (4): Linear(in_features=256, out_features=32, bias=True)\n",
       "    (5): Tanh()\n",
       "  )\n",
       "  (ode_func_net): Sequential(\n",
       "    (0): Sequential(\n",
       "      (0): Linear(in_features=33, out_features=1024, bias=True)\n",
       "      (1): Tanh()\n",
       "      (2): Linear(in_features=1024, out_features=1024, bias=True)\n",
       "    )\n",
       "    (1): ResBlock(\n",
       "      (linear1): Linear(in_features=1024, out_features=1024, bias=True)\n",
       "      (nonlinear1): Tanh()\n",
       "      (linear2): Linear(in_features=1024, out_features=1024, bias=True)\n",
       "      (nonlinear2): Tanh()\n",
       "      (linear3): Linear(in_features=1024, out_features=1024, bias=True)\n",
       "    )\n",
       "    (2): ResBlock(\n",
       "      (linear1): Linear(in_features=1024, out_features=1024, bias=True)\n",
       "      (nonlinear1): Tanh()\n",
       "      (linear2): Linear(in_features=1024, out_features=1024, bias=True)\n",
       "      (nonlinear2): Tanh()\n",
       "      (linear3): Linear(in_features=1024, out_features=1024, bias=True)\n",
       "    )\n",
       "    (3): ResBlock(\n",
       "      (linear1): Linear(in_features=1024, out_features=1024, bias=True)\n",
       "      (nonlinear1): Tanh()\n",
       "      (linear2): Linear(in_features=1024, out_features=1024, bias=True)\n",
       "      (nonlinear2): Tanh()\n",
       "      (linear3): Linear(in_features=1024, out_features=1024, bias=True)\n",
       "    )\n",
       "    (4): ResBlock(\n",
       "      (linear1): Linear(in_features=1024, out_features=1024, bias=True)\n",
       "      (nonlinear1): Tanh()\n",
       "      (linear2): Linear(in_features=1024, out_features=1024, bias=True)\n",
       "      (nonlinear2): Tanh()\n",
       "      (linear3): Linear(in_features=1024, out_features=1024, bias=True)\n",
       "    )\n",
       "    (5): ResBlock(\n",
       "      (linear1): Linear(in_features=1024, out_features=1024, bias=True)\n",
       "      (nonlinear1): Tanh()\n",
       "      (linear2): Linear(in_features=1024, out_features=1024, bias=True)\n",
       "      (nonlinear2): Tanh()\n",
       "      (linear3): Linear(in_features=1024, out_features=1024, bias=True)\n",
       "    )\n",
       "    (6): Linear(in_features=1024, out_features=32, bias=True)\n",
       "    (7): Tanh()\n",
       "  )\n",
       "  (ode_func): ODEFunc(\n",
       "    (gradient_net): Sequential(\n",
       "      (0): Sequential(\n",
       "        (0): Linear(in_features=33, out_features=1024, bias=True)\n",
       "        (1): Tanh()\n",
       "        (2): Linear(in_features=1024, out_features=1024, bias=True)\n",
       "      )\n",
       "      (1): ResBlock(\n",
       "        (linear1): Linear(in_features=1024, out_features=1024, bias=True)\n",
       "        (nonlinear1): Tanh()\n",
       "        (linear2): Linear(in_features=1024, out_features=1024, bias=True)\n",
       "        (nonlinear2): Tanh()\n",
       "        (linear3): Linear(in_features=1024, out_features=1024, bias=True)\n",
       "      )\n",
       "      (2): ResBlock(\n",
       "        (linear1): Linear(in_features=1024, out_features=1024, bias=True)\n",
       "        (nonlinear1): Tanh()\n",
       "        (linear2): Linear(in_features=1024, out_features=1024, bias=True)\n",
       "        (nonlinear2): Tanh()\n",
       "        (linear3): Linear(in_features=1024, out_features=1024, bias=True)\n",
       "      )\n",
       "      (3): ResBlock(\n",
       "        (linear1): Linear(in_features=1024, out_features=1024, bias=True)\n",
       "        (nonlinear1): Tanh()\n",
       "        (linear2): Linear(in_features=1024, out_features=1024, bias=True)\n",
       "        (nonlinear2): Tanh()\n",
       "        (linear3): Linear(in_features=1024, out_features=1024, bias=True)\n",
       "      )\n",
       "      (4): ResBlock(\n",
       "        (linear1): Linear(in_features=1024, out_features=1024, bias=True)\n",
       "        (nonlinear1): Tanh()\n",
       "        (linear2): Linear(in_features=1024, out_features=1024, bias=True)\n",
       "        (nonlinear2): Tanh()\n",
       "        (linear3): Linear(in_features=1024, out_features=1024, bias=True)\n",
       "      )\n",
       "      (5): ResBlock(\n",
       "        (linear1): Linear(in_features=1024, out_features=1024, bias=True)\n",
       "        (nonlinear1): Tanh()\n",
       "        (linear2): Linear(in_features=1024, out_features=1024, bias=True)\n",
       "        (nonlinear2): Tanh()\n",
       "        (linear3): Linear(in_features=1024, out_features=1024, bias=True)\n",
       "      )\n",
       "      (6): Linear(in_features=1024, out_features=32, bias=True)\n",
       "      (7): Tanh()\n",
       "    )\n",
       "  )\n",
       "  (sol_normalize): LayerNorm((32,), eps=1e-05, elementwise_affine=True)\n",
       "  (decoder): Sequential(\n",
       "    (0): Linear(in_features=32, out_features=256, bias=True)\n",
       "    (1): Tanh()\n",
       "    (2): ResBlock(\n",
       "      (linear1): Linear(in_features=256, out_features=1024, bias=True)\n",
       "      (nonlinear1): Tanh()\n",
       "      (linear2): Linear(in_features=1024, out_features=256, bias=True)\n",
       "      (nonlinear2): Tanh()\n",
       "      (linear3): Linear(in_features=256, out_features=256, bias=True)\n",
       "    )\n",
       "    (3): ResBlock(\n",
       "      (linear1): Linear(in_features=256, out_features=1024, bias=True)\n",
       "      (nonlinear1): Tanh()\n",
       "      (linear2): Linear(in_features=1024, out_features=256, bias=True)\n",
       "      (nonlinear2): Tanh()\n",
       "      (linear3): Linear(in_features=256, out_features=256, bias=True)\n",
       "    )\n",
       "    (4): ResBlock(\n",
       "      (linear1): Linear(in_features=256, out_features=1024, bias=True)\n",
       "      (nonlinear1): Tanh()\n",
       "      (linear2): Linear(in_features=1024, out_features=256, bias=True)\n",
       "      (nonlinear2): Tanh()\n",
       "      (linear3): Linear(in_features=256, out_features=256, bias=True)\n",
       "    )\n",
       "    (5): Linear(in_features=256, out_features=1, bias=True)\n",
       "  )\n",
       ")"
      ]
     },
     "execution_count": 5,
     "metadata": {},
     "output_type": "execute_result"
    }
   ],
   "source": [
    "from model.gen_ode import GenODE\n",
    "\n",
    "device = torch.device(\"cuda:2\" if torch.cuda.is_available() else \"cpu\")\n",
    "input_dim = Y.shape[-1]\n",
    "output_dim = X_even.shape[-1] - 1\n",
    "\n",
    "checkpt = torch.load('/work/hmzhao/experiments/experiment_91672.ckpt')\n",
    "ckpt_args = checkpt['args']\n",
    "state_dict = checkpt['state_dict']\n",
    "\n",
    "model = GenODE(ckpt_args, input_dim, output_dim, device).to(device)\n",
    "model_dict = model.state_dict()\n",
    "\n",
    "# 1. filter out unnecessary keys\n",
    "state_dict = {k: v for k, v in state_dict.items() if k in model_dict}\n",
    "# 2. overwrite entries in the existing state dict\n",
    "model_dict.update(state_dict) \n",
    "# 3. load the new state dict\n",
    "model.load_state_dict(state_dict)\n",
    "model.to(device)"
   ]
  },
  {
   "cell_type": "code",
   "execution_count": 24,
   "id": "ed3f01bc",
   "metadata": {},
   "outputs": [
    {
     "name": "stderr",
     "output_type": "stream",
     "text": [
      "/var/tmp/pbs.76146.metis/ipykernel_2237054/2281277329.py:3: UserWarning: To copy construct from a tensor, it is recommended to use sourceTensor.clone().detach() or sourceTensor.clone().detach().requires_grad_(True), rather than torch.tensor(sourceTensor).\n",
      "  pred = model(torch.tensor(Y[num].reshape(1, -1)).float().to(device), torch.tensor(X_even[0, :, 0]).float().to(device))\n"
     ]
    }
   ],
   "source": [
    "model.eval()\n",
    "num = 9\n",
    "pred = model(torch.tensor(Y[num].reshape(1, -1)).float().to(device), torch.tensor(X_even[0, :, 0]).float().to(device))"
   ]
  },
  {
   "cell_type": "code",
   "execution_count": 25,
   "id": "b12fa01e",
   "metadata": {},
   "outputs": [
    {
     "name": "stdout",
     "output_type": "stream",
     "text": [
      "tensor([ 0.0000, 50.0000,  1.8059, -0.8079,  0.0583,  0.9828, -1.4816],\n",
      "       dtype=torch.float64)\n"
     ]
    },
    {
     "data": {
      "text/plain": [
       "[<matplotlib.lines.Line2D at 0x147b07538730>]"
      ]
     },
     "execution_count": 25,
     "metadata": {},
     "output_type": "execute_result"
    },
    {
     "data": {
      "image/png": "[encoded data removed]",
      "text/plain": [
       "<Figure size 432x288 with 1 Axes>"
      ]
     },
     "metadata": {
      "needs_background": "light"
     },
     "output_type": "display_data"
    }
   ],
   "source": [
    "print(Y[num])\n",
    "plt.plot(X_even[num, :, 0], X_even[num, :, 1])\n",
    "plt.plot(X_even[num, :, 0], pred.detach().cpu().numpy().flatten())"
   ]
  },
  {
   "cell_type": "code",
   "execution_count": 26,
   "id": "1b19441a",
   "metadata": {},
   "outputs": [
    {
     "name": "stdout",
     "output_type": "stream",
     "text": [
      "tensor([[ 0.3719,  0.5745, -0.5689, -0.7571, -0.3540, -0.3572, -0.5003,  0.0472,\n",
      "         -0.4456, -0.8231,  0.0650, -0.1645, -0.0868, -0.0801,  0.0713,  0.4275,\n",
      "          0.1516,  0.3267, -0.3136, -0.2969,  0.2027, -0.5207, -0.5530,  0.4291,\n",
      "          0.1795,  0.7403,  0.0014,  0.6046, -0.4481, -0.0197,  0.3870,  0.1702]],\n",
      "       device='cuda:2', grad_fn=<TanhBackward>)\n"
     ]
    },
    {
     "name": "stderr",
     "output_type": "stream",
     "text": [
      "/var/tmp/pbs.76146.metis/ipykernel_2237054/3264624822.py:1: UserWarning: To copy construct from a tensor, it is recommended to use sourceTensor.clone().detach() or sourceTensor.clone().detach().requires_grad_(True), rather than torch.tensor(sourceTensor).\n",
      "  latent = model.aug_net(torch.tensor(Y[num].reshape(1, -1)).float().to(device))\n"
     ]
    }
   ],
   "source": [
    "latent = model.aug_net(torch.tensor(Y[num].reshape(1, -1)).float().to(device))\n",
    "print(latent)"
   ]
  },
  {
   "cell_type": "code",
   "execution_count": 27,
   "id": "f7e31fbd",
   "metadata": {},
   "outputs": [
    {
     "name": "stdout",
     "output_type": "stream",
     "text": [
      "tensor([[ 0.6530, -0.0379, -0.8157, -0.6468, -0.0016,  0.4780, -0.6244,  0.7381,\n",
      "         -0.3112, -0.7349, -0.6113, -0.1776,  0.2895,  0.5952,  0.1046, -0.0942,\n",
      "          0.5388,  0.1250, -0.4205, -0.4357,  0.1152, -0.4637,  0.3835, -0.2316,\n",
      "         -0.0043,  0.0744,  0.5310, -0.1046,  0.2542,  0.4332, -0.1092,  0.8952]],\n",
      "       device='cuda:2', grad_fn=<TanhBackward>)\n"
     ]
    },
    {
     "name": "stderr",
     "output_type": "stream",
     "text": [
      "/var/tmp/pbs.76146.metis/ipykernel_2237054/837117711.py:1: UserWarning: To copy construct from a tensor, it is recommended to use sourceTensor.clone().detach() or sourceTensor.clone().detach().requires_grad_(True), rather than torch.tensor(sourceTensor).\n",
      "  initial_grad = model.ode_func(torch.tensor(-100).to(device), model.aug_net(torch.tensor(Y[num].reshape(1, -1)).float().to(device)))\n"
     ]
    }
   ],
   "source": [
    "initial_grad = model.ode_func(torch.tensor(-100).to(device), model.aug_net(torch.tensor(Y[num].reshape(1, -1)).float().to(device)))\n",
    "print(initial_grad)"
   ]
  },
  {
   "cell_type": "code",
   "execution_count": 28,
   "id": "75f423dd",
   "metadata": {},
   "outputs": [
    {
     "name": "stderr",
     "output_type": "stream",
     "text": [
      "/var/tmp/pbs.76146.metis/ipykernel_2237054/3534019619.py:2: UserWarning: To copy construct from a tensor, it is recommended to use sourceTensor.clone().detach() or sourceTensor.clone().detach().requires_grad_(True), rather than torch.tensor(sourceTensor).\n",
      "  sol = odeint(model.ode_func, latent, torch.tensor(X_even[0, :, 0]).float().to(device), method=\"dopri5\",\n"
     ]
    }
   ],
   "source": [
    "from torchdiffeq import odeint\n",
    "sol = odeint(model.ode_func, latent, torch.tensor(X_even[0, :, 0]).float().to(device), method=\"dopri5\",\n",
    "            rtol=1e-7, atol=1e-9)"
   ]
  },
  {
   "cell_type": "code",
   "execution_count": 29,
   "id": "36d0f09c",
   "metadata": {},
   "outputs": [
    {
     "data": {
      "image/png": "[encoded data removed]",
      "text/plain": [
       "<Figure size 432x288 with 1 Axes>"
      ]
     },
     "metadata": {
      "needs_background": "light"
     },
     "output_type": "display_data"
    }
   ],
   "source": [
    "plt.plot(X_even[0, :, 0], sol.squeeze(1).detach().cpu())\n",
    "plt.show()"
   ]
  },
  {
   "cell_type": "code",
   "execution_count": null,
   "id": "23aaaca7",
   "metadata": {},
   "outputs": [],
   "source": []
  }
 ],
 "metadata": {
  "kernelspec": {
   "display_name": "Python 3 (ipykernel)",
   "language": "python",
   "name": "python3"
  },
  "language_info": {
   "codemirror_mode": {
    "name": "ipython",
    "version": 3
   },
   "file_extension": ".py",
   "mimetype": "text/x-python",
   "name": "python",
   "nbconvert_exporter": "python",
   "pygments_lexer": "ipython3",
   "version": "3.9.7"
  }
 },
 "nbformat": 4,
 "nbformat_minor": 5
}
